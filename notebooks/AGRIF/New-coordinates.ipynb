{
 "cells": [
  {
   "cell_type": "markdown",
   "metadata": {},
   "source": [
    "New coordinates for tide points for Baynes Sound 2 and Haro Strait 1"
   ]
  },
  {
   "cell_type": "code",
   "execution_count": 19,
   "metadata": {
    "collapsed": false
   },
   "outputs": [],
   "source": [
    "from salishsea_tools import (geo_tools,tidetools)\n",
    "import netCDF4 as nc\n",
    "import numpy as np\n",
    "import numpy.ma as ma"
   ]
  },
  {
   "cell_type": "markdown",
   "metadata": {},
   "source": [
    "# BS2"
   ]
  },
  {
   "cell_type": "code",
   "execution_count": 25,
   "metadata": {
    "collapsed": false
   },
   "outputs": [],
   "source": [
    "new_grid = nc.Dataset('/home/vdo/MEOPAR/NEMO-forcing-BS2/1_bathymetry_201702.nc')\n",
    "Bathy, lon, lats = tidetools.get_bathy_data(new_grid)\n",
    "masked_Bathy = ma.masked_equal(Bathy,0)"
   ]
  },
  {
   "cell_type": "code",
   "execution_count": 8,
   "metadata": {
    "collapsed": true
   },
   "outputs": [],
   "source": [
    "big_grid = nc.Dataset('/data/vdo/MEOPAR/NEMO-forcing/grid/bathymetry_201702.nc')"
   ]
  },
  {
   "cell_type": "code",
   "execution_count": 36,
   "metadata": {
    "collapsed": false
   },
   "outputs": [
    {
     "name": "stdout",
     "output_type": "stream",
     "text": [
      "-123.414810181\n",
      "48.824016571\n"
     ]
    },
    {
     "data": {
      "text/plain": [
       "(nan, nan)"
      ]
     },
     "execution_count": 36,
     "metadata": {},
     "output_type": "execute_result"
    }
   ],
   "source": [
    "y = 381\n",
    "x = 241\n",
    "a = big_grid.variables['nav_lon'][y,x]\n",
    "b = big_grid.variables['nav_lat'][y,x]\n",
    "print(big_grid.variables['nav_lon'][y,x])\n",
    "print(big_grid.variables['nav_lat'][y,x])\n",
    "\n",
    "geo_tools.find_closest_model_point( a,b, lon, lats, land_mask = masked_Bathy.mask)"
   ]
  },
  {
   "cell_type": "markdown",
   "metadata": {},
   "source": [
    "# HS1"
   ]
  },
  {
   "cell_type": "code",
   "execution_count": 37,
   "metadata": {
    "collapsed": true
   },
   "outputs": [],
   "source": [
    "new_grid = nc.Dataset('/home/vdo/MEOPAR/NEMO-forcing-HS1//1_bathymetry_201702.nc')\n",
    "Bathy, lon, lats = tidetools.get_bathy_data(new_grid)\n",
    "masked_Bathy = ma.masked_equal(Bathy,0)"
   ]
  },
  {
   "cell_type": "code",
   "execution_count": 52,
   "metadata": {
    "collapsed": false
   },
   "outputs": [
    {
     "name": "stdout",
     "output_type": "stream",
     "text": [
      "-123.369903564\n",
      "48.4157447815\n"
     ]
    },
    {
     "data": {
      "text/plain": [
       "(225, 62)"
      ]
     },
     "execution_count": 52,
     "metadata": {},
     "output_type": "execute_result"
    }
   ],
   "source": [
    "y = 299\n",
    "x = 197\n",
    "a = big_grid.variables['nav_lon'][y,x]\n",
    "b = big_grid.variables['nav_lat'][y,x]\n",
    "print(big_grid.variables['nav_lon'][y,x])\n",
    "print(big_grid.variables['nav_lat'][y,x])\n",
    "\n",
    "geo_tools.find_closest_model_point( a,b, lon, lats, land_mask = masked_Bathy.mask)"
   ]
  },
  {
   "cell_type": "code",
   "execution_count": null,
   "metadata": {
    "collapsed": true
   },
   "outputs": [],
   "source": []
  }
 ],
 "metadata": {
  "kernelspec": {
   "display_name": "Python 3",
   "language": "python",
   "name": "python3"
  },
  "language_info": {
   "codemirror_mode": {
    "name": "ipython",
    "version": 3
   },
   "file_extension": ".py",
   "mimetype": "text/x-python",
   "name": "python",
   "nbconvert_exporter": "python",
   "pygments_lexer": "ipython3",
   "version": "3.6.0"
  }
 },
 "nbformat": 4,
 "nbformat_minor": 2
}
