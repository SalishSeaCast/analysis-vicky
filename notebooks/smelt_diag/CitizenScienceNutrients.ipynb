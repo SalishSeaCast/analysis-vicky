{
 "cells": [
  {
   "cell_type": "code",
   "execution_count": 232,
   "metadata": {
    "collapsed": false
   },
   "outputs": [],
   "source": [
    "import numpy as np\n",
    "import netCDF4 as nc\n",
    "import matplotlib.pyplot as plt\n",
    "import scipy.io as sio\n",
    "import pandas as pd\n",
    "import datetime\n",
    "import xarray as xr\n",
    "from salishsea_tools import tidetools, geo_tools\n",
    "%matplotlib inline"
   ]
  },
  {
   "cell_type": "code",
   "execution_count": 233,
   "metadata": {
    "collapsed": false
   },
   "outputs": [],
   "source": [
    "grid = nc.Dataset('/data/vdo/MEOPAR/NEMO-forcing/grid/bathymetry_201702.nc')\n",
    "bathy, X, Y = tidetools.get_bathy_data(grid)"
   ]
  },
  {
   "cell_type": "code",
   "execution_count": 2,
   "metadata": {
    "collapsed": true
   },
   "outputs": [],
   "source": [
    "nutrients_2015 = sio.loadmat('/ocean/rich/home/metro/venus_adcp/matlabPSF/PSFbottledata.mat')"
   ]
  },
  {
   "cell_type": "code",
   "execution_count": 3,
   "metadata": {
    "collapsed": true
   },
   "outputs": [],
   "source": [
    "ctd_2015 = sio.loadmat('/ocean/rich/home/metro/venus_adcp/matlabPSF/CitSci_Final.mat')"
   ]
  },
  {
   "cell_type": "code",
   "execution_count": 4,
   "metadata": {
    "collapsed": false
   },
   "outputs": [
    {
     "name": "stdout",
     "output_type": "stream",
     "text": [
      "dict_keys(['__header__', '__version__', '__globals__', 'PSFbottle'])\n",
      "dict_keys(['__header__', '__version__', '__globals__', 'PSFc'])\n"
     ]
    }
   ],
   "source": [
    "print(nutrients_2015.keys())\n",
    "print(ctd_2015.keys())"
   ]
  },
  {
   "cell_type": "code",
   "execution_count": 5,
   "metadata": {
    "collapsed": false
   },
   "outputs": [],
   "source": [
    "ctd_data = ctd_2015[list(ctd_2015.keys())[3]]\n",
    "nutrients_data = nutrients_2015[list(nutrients_2015.keys())[3]]"
   ]
  },
  {
   "cell_type": "code",
   "execution_count": 6,
   "metadata": {
    "collapsed": false
   },
   "outputs": [],
   "source": [
    "ctd_dtype = ctd_data.dtype\n",
    "n_dtype = nutrients_data.dtype"
   ]
  },
  {
   "cell_type": "code",
   "execution_count": 7,
   "metadata": {
    "collapsed": true
   },
   "outputs": [],
   "source": [
    "ctddata = {n: ctd_data[n][0, 0] for n in ctd_dtype.names}\n",
    "n_data = {n: nutrients_data[n][0, 0] for n in n_dtype.names}"
   ]
  },
  {
   "cell_type": "code",
   "execution_count": 8,
   "metadata": {
    "collapsed": false
   },
   "outputs": [
    {
     "name": "stdout",
     "output_type": "stream",
     "text": [
      "dict_keys(['patrol', 'ID', 'stn', 'mtime', 'lat', 'long', 'pr', 'mtimes', 'temp', 'sal', 'cond', 'depth', 'stnN', 'o2', 'chl', 'comment'])\n",
      "dict_keys(['num', 'depth', 'mtime', 'station', 'lat', 'lon', 'no23', 'si', 'po4'])\n"
     ]
    }
   ],
   "source": [
    "print(ctddata.keys())\n",
    "print(n_data.keys())"
   ]
  },
  {
   "cell_type": "code",
   "execution_count": 74,
   "metadata": {
    "collapsed": false
   },
   "outputs": [
    {
     "name": "stdout",
     "output_type": "stream",
     "text": [
      "(2142,)\n",
      "(896,)\n"
     ]
    }
   ],
   "source": [
    "ctd_times = ctd_data['mtime'][0,0][0,:]\n",
    "print(ctd_times.shape)\n",
    "n_times = n_data['mtime'][:,0]\n",
    "print(n_times.shape)"
   ]
  },
  {
   "cell_type": "code",
   "execution_count": 235,
   "metadata": {
    "collapsed": false
   },
   "outputs": [],
   "source": [
    "ctd_lons = ctd_data['long'][0,0][0,:]\n",
    "ctd_lats = ctd_data['lat'][0,0][0,:]\n",
    "n_lons = n_data['lon'][:,0]\n",
    "n_lats = n_data['lat'][:,0]\n",
    "n_si = n_data['si'][:,0]\n",
    "n_no23 = n_data['no23'][:,0]\n",
    "n_depths = n_data['depth'][:,0]"
   ]
  },
  {
   "cell_type": "code",
   "execution_count": 140,
   "metadata": {
    "collapsed": false
   },
   "outputs": [
    {
     "name": "stdout",
     "output_type": "stream",
     "text": [
      "(2142,)\n"
     ]
    }
   ],
   "source": [
    "base = datetime.datetime(2000, 1, 1)\n",
    "py_ctd_times = np.array([base for i in range(2142)])\n",
    "print(py_ctd_times.shape)\n",
    "for n in range(2142):\n",
    "    py_ctd_times[n] = ((datetime.datetime.fromordinal(int(ctd_times[n])))\n",
    "                       + datetime.timedelta(days=ctd_times[n]%1)\n",
    "                       - datetime.timedelta(days = 366))"
   ]
  },
  {
   "cell_type": "code",
   "execution_count": 173,
   "metadata": {
    "collapsed": false
   },
   "outputs": [
    {
     "name": "stdout",
     "output_type": "stream",
     "text": [
      "(896,)\n"
     ]
    }
   ],
   "source": [
    "py_n_times = np.array([base for i in range(896)])\n",
    "print(py_n_times.shape)\n",
    "for m in range(896):\n",
    "    a  =  (datetime.datetime.fromordinal(int(n_times[m])) \n",
    "           + datetime.timedelta(days=int(n_times[m])%1) \n",
    "           - datetime.timedelta(days = 366))\n",
    "    py_n_times[m] = a"
   ]
  },
  {
   "cell_type": "code",
   "execution_count": 146,
   "metadata": {
    "collapsed": false
   },
   "outputs": [],
   "source": [
    "nowcast = xr.open_dataset(\n",
    "    'https://salishsea.eos.ubc.ca/erddap/griddap/ubcSSg3DBiologyFields1hV17-02')"
   ]
  },
  {
   "cell_type": "code",
   "execution_count": 238,
   "metadata": {
    "collapsed": false
   },
   "outputs": [
    {
     "name": "stderr",
     "output_type": "stream",
     "text": [
      "/home/vdo/anaconda3/lib/python3.6/site-packages/ipykernel/__main__.py:14: VisibleDeprecationWarning: using a non-integer number instead of an integer will result in an error in the future\n",
      "/home/vdo/anaconda3/lib/python3.6/site-packages/ipykernel/__main__.py:15: VisibleDeprecationWarning: using a non-integer number instead of an integer will result in an error in the future\n",
      "/home/vdo/anaconda3/lib/python3.6/site-packages/ipykernel/__main__.py:16: VisibleDeprecationWarning: using a non-integer number instead of an integer will result in an error in the future\n"
     ]
    }
   ],
   "source": [
    "times_to_use = np.array([])\n",
    "lats_to_use = np.array([])\n",
    "lons_to_use = np.array([])\n",
    "si_to_use = np.array([])\n",
    "ni_to_use = np.array([])\n",
    "depth_to_use = np.array([])\n",
    "for i in range(896):\n",
    "    same_day_index = np.array([])\n",
    "    for n in range(2142):\n",
    "        if ((py_ctd_times[n].day == py_n_times[i].day) \n",
    "            and (py_ctd_times[n].month == py_n_times[i].month)):\n",
    "            same_day_index = np.append(same_day_index, n)\n",
    "    if len(same_day_index) != 0:\n",
    "        same_day_times = np.array([py_ctd_times[p] for p in same_day_index])\n",
    "        same_day_lons = np.array([ctd_lons[m] for m in same_day_index])\n",
    "        same_day_lats = np.array([ctd_lats[l] for l in same_day_index])\n",
    "        a = np.argmin(np.abs(same_day_lats - n_lats[i]))\n",
    "        b = np.argmin(np.abs(same_day_lons - n_lons[i]))\n",
    "        if (a-b) == 0:\n",
    "            times_to_use = np.append(times_to_use, same_day_times[a])\n",
    "            lats_to_use = np.append(lats_to_use, n_lats[i])\n",
    "            lons_to_use = np.append(lons_to_use, n_lons[i])\n",
    "            si_to_use = np.append(si_to_use, n_si[i])\n",
    "            ni_to_use = np.append(ni_to_use, n_no23[i])\n",
    "            depth_to_use = np.append(depth_to_use, n_depths[i])"
   ]
  },
  {
   "cell_type": "code",
   "execution_count": 229,
   "metadata": {
    "collapsed": false
   },
   "outputs": [
    {
     "name": "stdout",
     "output_type": "stream",
     "text": [
      "(460,)\n",
      "(460,)\n"
     ]
    }
   ],
   "source": [
    "print(times_to_use.shape)\n",
    "print(si_to_use.shape)"
   ]
  },
  {
   "cell_type": "code",
   "execution_count": 234,
   "metadata": {
    "collapsed": false
   },
   "outputs": [
    {
     "data": {
      "text/plain": [
       "datetime.datetime(2015, 8, 5, 21, 10, 24, 941179)"
      ]
     },
     "execution_count": 234,
     "metadata": {},
     "output_type": "execute_result"
    }
   ],
   "source": [
    "times_to_use[9]"
   ]
  },
  {
   "cell_type": "code",
   "execution_count": 227,
   "metadata": {
    "collapsed": true
   },
   "outputs": [],
   "source": [
    "nowcast_si = nowcast.silicon\n",
    "nowcast_nitrate = nowcast.nitrate"
   ]
  },
  {
   "cell_type": "code",
   "execution_count": 241,
   "metadata": {
    "collapsed": false
   },
   "outputs": [],
   "source": [
    "depth_to_use[depth_to_use == 2] = 0.5"
   ]
  },
  {
   "cell_type": "code",
   "execution_count": 248,
   "metadata": {
    "collapsed": false
   },
   "outputs": [],
   "source": [
    "list_of_model_si = np.array([])\n",
    "list_of_model_ni = np.array([])\n",
    "for n in range(460):\n",
    "    Yind, Xind = geo_tools.find_closest_model_point(lons_to_use[n], \n",
    "                                                    lats_to_use[n], \n",
    "                                                    X, Y, land_mask = bathy.mask)\n",
    "    date = times_to_use[n]\n",
    "    if date.minute < 30:\n",
    "        before = datetime.datetime(year = date.year, month = date.month, day = date.day, \n",
    "                           hour = (date.hour), minute = 30) - datetime.timedelta(hours=1)\n",
    "        delta = (date - before).seconds / 3600\n",
    "        si_val = (delta * ((nowcast_si\n",
    "               .sel(time = before, depth = depth_to_use[n], method = 'nearest')\n",
    "               .isel(gridY = Yind, gridX = Xind)).values) + \n",
    "               (1- delta)*((nowcast_si\n",
    "               .sel(time = before + datetime.timedelta(hours=1), \n",
    "                    depth = depth_to_use[n], method = 'nearest')\n",
    "               .isel(gridY = Yind, gridX = Xind)).values))\n",
    "        ni_val = (delta * ((nowcast_nitrate\n",
    "               .sel(time = before, depth = depth_to_use[n], method = 'nearest')\n",
    "               .isel(gridY = Yind, gridX = Xind)).values) + \n",
    "               (1- delta)*((nowcast_nitrate\n",
    "               .sel(time = before + datetime.timedelta(hours=1), \n",
    "                    depth = depth_to_use[n], method = 'nearest')\n",
    "               .isel(gridY = Yind, gridX = Xind)).values))\n",
    "    if date.minute >= 30:\n",
    "        before = datetime.datetime(year = date.year, month = date.month, day = date.day, \n",
    "                               hour = (date.hour), minute = 30)\n",
    "        delta = (date - before).seconds / 3600\n",
    "        si_val = (delta * ((nowcast_si\n",
    "               .sel(time = before, depth = depth_to_use[n], method = 'nearest')\n",
    "               .isel(gridY = Yind, gridX = Xind)).values) + \n",
    "               (1- delta)*((nowcast_si\n",
    "               .sel(time = before + datetime.timedelta(hours=1), \n",
    "                    depth = depth_to_use[n], method = 'nearest')\n",
    "               .isel(gridY = Yind, gridX = Xind)).values))\n",
    "        ni_val = (delta * ((nowcast_nitrate\n",
    "               .sel(time = before, depth = depth_to_use[n], method = 'nearest')\n",
    "               .isel(gridY = Yind, gridX = Xind)).values) + \n",
    "               (1- delta)*((nowcast_si\n",
    "               .sel(time = before + datetime.timedelta(hours=1), \n",
    "                    depth = depth_to_use[n], method = 'nearest')\n",
    "               .isel(gridY = Yind, gridX = Xind)).values))\n",
    "    list_of_model_si = np.append(list_of_model_si, si_val)\n",
    "    list_of_model_ni = np.append(list_of_model_ni, ni_val)"
   ]
  },
  {
   "cell_type": "code",
   "execution_count": 263,
   "metadata": {
    "collapsed": false
   },
   "outputs": [
    {
     "data": {
      "image/png": "[encoded data removed]",
      "text/plain": [
       "<matplotlib.figure.Figure at 0x7f8dbd481e48>"
      ]
     },
     "metadata": {},
     "output_type": "display_data"
    }
   ],
   "source": [
    "fig, ax = plt.subplots(figsize = (8,8))\n",
    "ax.plot(ni_to_use, list_of_model_ni, 'r.')\n",
    "ax.plot(np.arange(0,38), np.arange(0,38), 'b-')\n",
    "ax.grid('on')\n",
    "ax.set_title('Citizen Science Data vs Nowcast-green: Nitrate')\n",
    "ax.set_xlabel('Citizen Science')\n",
    "ax.set_ylabel('Nowcast-green');"
   ]
  },
  {
   "cell_type": "code",
   "execution_count": 267,
   "metadata": {
    "collapsed": false
   },
   "outputs": [
    {
     "name": "stdout",
     "output_type": "stream",
     "text": [
      "bias =  2.41711940087\n",
      "RMSE = 8.6476578678\n",
      "Willmott = 0.834773510232\n"
     ]
    }
   ],
   "source": [
    "print('bias =  ' + str(-np.mean(ni_to_use) + np.mean(list_of_model_ni)))\n",
    "print('RMSE = ' + str(np.sqrt(np.sum((list_of_model_ni - ni_to_use)**2) /\n",
    "                              len(list_of_model_ni))))\n",
    "xbar = np.mean(ni_to_use)\n",
    "print('Willmott = ' + str(1-(np.sum((list_of_model_ni - ni_to_use)**2)  / \n",
    "                             np.sum((np.abs(list_of_model_ni - xbar) \n",
    "                                     + np.abs(ni_to_use - xbar))**2))))"
   ]
  },
  {
   "cell_type": "code",
   "execution_count": 266,
   "metadata": {
    "collapsed": false
   },
   "outputs": [
    {
     "data": {
      "image/png": "[encoded data removed]",
      "text/plain": [
       "<matplotlib.figure.Figure at 0x7f8dbd276588>"
      ]
     },
     "metadata": {},
     "output_type": "display_data"
    }
   ],
   "source": [
    "fig, ax = plt.subplots(figsize = (8,8))\n",
    "ax.plot(si_to_use, list_of_model_si, 'r.')\n",
    "ax.plot(np.arange(0,56), np.arange(0,56), 'b-')\n",
    "ax.grid('on')\n",
    "ax.set_title('Citizen Science Data vs Nowcast-green: Si')\n",
    "ax.set_xlabel('Citizen Science')\n",
    "ax.set_ylabel('Nowcast-green');"
   ]
  },
  {
   "cell_type": "code",
   "execution_count": 268,
   "metadata": {
    "collapsed": false
   },
   "outputs": [
    {
     "name": "stdout",
     "output_type": "stream",
     "text": [
      "bias =  -8.68815881594\n",
      "RMSE = 14.8026979194\n",
      "Willmott = 0.779597988194\n"
     ]
    }
   ],
   "source": [
    "print('bias =  ' + str(-np.mean(si_to_use) + np.mean(list_of_model_si)))\n",
    "print('RMSE = ' + str(np.sqrt(np.sum((list_of_model_si - si_to_use)**2) /\n",
    "                              len(list_of_model_si))))\n",
    "xbar = np.mean(si_to_use)\n",
    "print('Willmott = ' + str(1-(np.sum((list_of_model_si - si_to_use)**2)  / \n",
    "                             np.sum((np.abs(list_of_model_si - xbar) \n",
    "                                     + np.abs(si_to_use - xbar))**2))))"
   ]
  },
  {
   "cell_type": "code",
   "execution_count": null,
   "metadata": {
    "collapsed": true
   },
   "outputs": [],
   "source": []
  }
 ],
 "metadata": {
  "kernelspec": {
   "display_name": "Python 3",
   "language": "python",
   "name": "python3"
  },
  "language_info": {
   "codemirror_mode": {
    "name": "ipython",
    "version": 3
   },
   "file_extension": ".py",
   "mimetype": "text/x-python",
   "name": "python",
   "nbconvert_exporter": "python",
   "pygments_lexer": "ipython3",
   "version": "3.6.0"
  }
 },
 "nbformat": 4,
 "nbformat_minor": 2
}
