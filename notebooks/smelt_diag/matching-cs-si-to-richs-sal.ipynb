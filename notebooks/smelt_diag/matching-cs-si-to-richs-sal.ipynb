{
 "cells": [
  {
   "cell_type": "markdown",
   "metadata": {},
   "source": [
    "Matching Colin's  Si values to Rich's salinity values"
   ]
  },
  {
   "cell_type": "code",
   "execution_count": 1,
   "metadata": {
    "collapsed": false
   },
   "outputs": [],
   "source": [
    "import numpy as np\n",
    "import netCDF4 as nc\n",
    "import matplotlib.pyplot as plt\n",
    "import scipy.io as sio\n",
    "import pandas as pd\n",
    "import datetime\n",
    "import xarray as xr\n",
    "from salishsea_tools import tidetools, geo_tools, viz_tools\n",
    "from matplotlib.colors import LinearSegmentedColormap\n",
    "%matplotlib inline"
   ]
  },
  {
   "cell_type": "code",
   "execution_count": 60,
   "metadata": {
    "collapsed": false
   },
   "outputs": [
    {
     "data": {
      "text/html": [
       "<script>\n",
       "code_show=true; \n",
       "function code_toggle() {\n",
       " if (code_show){\n",
       " $('div.input').hide();\n",
       " } else {\n",
       " $('div.input').show();\n",
       " }\n",
       " code_show = !code_show\n",
       "} \n",
       "$( document ).ready(code_toggle);\n",
       "</script>\n",
       "<form action=\"javascript:code_toggle()\"><input type=\"submit\" value=\"Click here to toggle on/off the raw code.\"></form>"
      ],
      "text/plain": [
       "<IPython.core.display.HTML object>"
      ]
     },
     "execution_count": 60,
     "metadata": {},
     "output_type": "execute_result"
    }
   ],
   "source": [
    "from IPython.display import HTML\n",
    "\n",
    "HTML('''<script>\n",
    "code_show=true; \n",
    "function code_toggle() {\n",
    " if (code_show){\n",
    " $('div.input').hide();\n",
    " } else {\n",
    " $('div.input').show();\n",
    " }\n",
    " code_show = !code_show\n",
    "} \n",
    "$( document ).ready(code_toggle);\n",
    "</script>\n",
    "<form action=\"javascript:code_toggle()\"><input type=\"submit\" value=\"Click here to toggle on/off the raw code.\"></form>''')\n"
   ]
  },
  {
   "cell_type": "code",
   "execution_count": 2,
   "metadata": {
    "collapsed": false
   },
   "outputs": [],
   "source": [
    "grid = nc.Dataset('/data/vdo/MEOPAR/NEMO-forcing/grid/bathymetry_201702.nc')\n",
    "bathy, X, Y = tidetools.get_bathy_data(grid)"
   ]
  },
  {
   "cell_type": "code",
   "execution_count": 3,
   "metadata": {
    "collapsed": true
   },
   "outputs": [],
   "source": [
    "nutrients_2015 = pd.read_excel('/home/eolson/Desktop/PSFbottledata_CN_edits_EOCor.xlsx')"
   ]
  },
  {
   "cell_type": "code",
   "execution_count": 4,
   "metadata": {
    "collapsed": true
   },
   "outputs": [],
   "source": [
    "ctd_2015 = sio.loadmat('/ocean/rich/home/metro/venus_adcp/matlabPSF/CitSci_Final.mat')"
   ]
  },
  {
   "cell_type": "code",
   "execution_count": 6,
   "metadata": {
    "collapsed": false
   },
   "outputs": [
    {
     "name": "stdout",
     "output_type": "stream",
     "text": [
      "(2142,)\n"
     ]
    }
   ],
   "source": [
    "ctd_data = ctd_2015[list(ctd_2015.keys())[3]]\n",
    "ctd_dtype = ctd_data.dtype\n",
    "ctddata = {n: ctd_data[n][0, 0] for n in ctd_dtype.names}\n",
    "ctd_times = ctd_data['mtime'][0,0][0,:]\n",
    "print(ctd_times.shape)"
   ]
  },
  {
   "cell_type": "code",
   "execution_count": 7,
   "metadata": {
    "collapsed": false
   },
   "outputs": [],
   "source": [
    "ctd_sals = ctd_data['sal'][0,0][:,:]\n",
    "ctd_depths = ctd_data['depth'][0,0][:,:]\n",
    "ctd_lons = ctd_data['long'][0,0][0,:]\n",
    "ctd_lats = ctd_data['lat'][0,0][0,:]"
   ]
  },
  {
   "cell_type": "code",
   "execution_count": 8,
   "metadata": {
    "collapsed": false
   },
   "outputs": [
    {
     "name": "stdout",
     "output_type": "stream",
     "text": [
      "(2142,)\n"
     ]
    }
   ],
   "source": [
    "base = datetime.datetime(2000, 1, 1)\n",
    "py_ctd_times = np.array([base for i in range(2142)])\n",
    "print(py_ctd_times.shape)\n",
    "for n in range(2142):\n",
    "    py_ctd_times[n] = ((datetime.datetime.fromordinal(int(ctd_times[n])))\n",
    "                       + datetime.timedelta(days=ctd_times[n]%1)\n",
    "                       - datetime.timedelta(days = 366))"
   ]
  },
  {
   "cell_type": "code",
   "execution_count": 44,
   "metadata": {
    "collapsed": false
   },
   "outputs": [],
   "source": [
    "stations = nutrients_2015['station'].values\n",
    "days = np.array([pd.to_datetime(pd.Timestamp(d)) for d in nutrients_2015['date'].values])\n",
    "depths = nutrients_2015['depth'].values\n",
    "si = nutrients_2015['si'].values\n",
    "lons = nutrients_2015['lon'].values\n",
    "lats = nutrients_2015['lat'].values"
   ]
  },
  {
   "cell_type": "code",
   "execution_count": 39,
   "metadata": {
    "collapsed": true
   },
   "outputs": [],
   "source": [
    "import pandas as pd"
   ]
  },
  {
   "cell_type": "code",
   "execution_count": 26,
   "metadata": {
    "collapsed": false
   },
   "outputs": [
    {
     "data": {
      "text/plain": [
       "True"
      ]
     },
     "execution_count": 26,
     "metadata": {},
     "output_type": "execute_result"
    }
   ],
   "source": [
    "False == 0"
   ]
  },
  {
   "cell_type": "code",
   "execution_count": 48,
   "metadata": {
    "collapsed": false
   },
   "outputs": [],
   "source": [
    "stations = np.ma.masked_array(stations, mask = np.zeros((896)))\n",
    "for n in range(896):\n",
    "    if stations[n][:2] != 'CB':\n",
    "        stations.mask[n] = True"
   ]
  },
  {
   "cell_type": "code",
   "execution_count": 49,
   "metadata": {
    "collapsed": false
   },
   "outputs": [],
   "source": [
    "days = np.ma.masked_array(days, mask = stations.mask)\n",
    "depths = np.ma.masked_array(depths, mask = stations.mask)\n",
    "si = np.ma.masked_array(si, mask = stations.mask)\n",
    "lons = np.ma.masked_array(lons, stations.mask)\n",
    "lats = np.ma.masked_array(lats, mask = stations.mask)"
   ]
  },
  {
   "cell_type": "code",
   "execution_count": 55,
   "metadata": {
    "collapsed": false
   },
   "outputs": [
    {
     "data": {
      "text/plain": [
       "(2142,)"
      ]
     },
     "execution_count": 55,
     "metadata": {},
     "output_type": "execute_result"
    }
   ],
   "source": [
    "py_ctd_times.shape"
   ]
  },
  {
   "cell_type": "code",
   "execution_count": 56,
   "metadata": {
    "collapsed": false
   },
   "outputs": [
    {
     "data": {
      "text/plain": [
       "masked_array(data = [2 20 20 20 --],\n",
       "             mask = [False False False False  True],\n",
       "       fill_value = 999999)"
      ]
     },
     "execution_count": 56,
     "metadata": {},
     "output_type": "execute_result"
    }
   ],
   "source": [
    "depths[:5]"
   ]
  },
  {
   "cell_type": "code",
   "execution_count": 74,
   "metadata": {
    "collapsed": false
   },
   "outputs": [
    {
     "name": "stderr",
     "output_type": "stream",
     "text": [
      "/home/vdo/anaconda3/lib/python3.6/site-packages/ipykernel/__main__.py:11: VisibleDeprecationWarning: using a non-integer number instead of an integer will result in an error in the future\n",
      "/home/vdo/anaconda3/lib/python3.6/site-packages/ipykernel/__main__.py:12: VisibleDeprecationWarning: using a non-integer number instead of an integer will result in an error in the future\n",
      "/home/vdo/anaconda3/lib/python3.6/site-packages/ipykernel/__main__.py:13: VisibleDeprecationWarning: using a non-integer number instead of an integer will result in an error in the future\n"
     ]
    },
    {
     "ename": "IndexError",
     "evalue": "index 2141 is out of bounds for axis 0 with size 896",
     "output_type": "error",
     "traceback": [
      "\u001b[0;31m---------------------------------------------------------------------------\u001b[0m",
      "\u001b[0;31mIndexError\u001b[0m                                Traceback (most recent call last)",
      "\u001b[0;32m<ipython-input-74-40bb9c83b1f3>\u001b[0m in \u001b[0;36m<module>\u001b[0;34m()\u001b[0m\n\u001b[1;32m     12\u001b[0m             \u001b[0msame_day_lons\u001b[0m \u001b[0;34m=\u001b[0m \u001b[0mnp\u001b[0m\u001b[0;34m.\u001b[0m\u001b[0marray\u001b[0m\u001b[0;34m(\u001b[0m\u001b[0;34m[\u001b[0m\u001b[0mctd_lons\u001b[0m\u001b[0;34m[\u001b[0m\u001b[0mm\u001b[0m\u001b[0;34m]\u001b[0m \u001b[0;32mfor\u001b[0m \u001b[0mm\u001b[0m \u001b[0;32min\u001b[0m \u001b[0msame_day_index\u001b[0m\u001b[0;34m]\u001b[0m\u001b[0;34m)\u001b[0m\u001b[0;34m\u001b[0m\u001b[0m\n\u001b[1;32m     13\u001b[0m             \u001b[0msame_day_lats\u001b[0m \u001b[0;34m=\u001b[0m \u001b[0mnp\u001b[0m\u001b[0;34m.\u001b[0m\u001b[0marray\u001b[0m\u001b[0;34m(\u001b[0m\u001b[0;34m[\u001b[0m\u001b[0mctd_lats\u001b[0m\u001b[0;34m[\u001b[0m\u001b[0ml\u001b[0m\u001b[0;34m]\u001b[0m \u001b[0;32mfor\u001b[0m \u001b[0ml\u001b[0m \u001b[0;32min\u001b[0m \u001b[0msame_day_index\u001b[0m\u001b[0;34m]\u001b[0m\u001b[0;34m)\u001b[0m\u001b[0;34m\u001b[0m\u001b[0m\n\u001b[0;32m---> 14\u001b[0;31m             \u001b[0;32mif\u001b[0m \u001b[0mdepths\u001b[0m\u001b[0;34m[\u001b[0m\u001b[0mn\u001b[0m\u001b[0;34m]\u001b[0m \u001b[0;34m==\u001b[0m \u001b[0;36m2\u001b[0m\u001b[0;34m:\u001b[0m\u001b[0;34m\u001b[0m\u001b[0m\n\u001b[0m\u001b[1;32m     15\u001b[0m                 \u001b[0msame_day_sals\u001b[0m \u001b[0;34m=\u001b[0m \u001b[0mnp\u001b[0m\u001b[0;34m.\u001b[0m\u001b[0marray\u001b[0m\u001b[0;34m(\u001b[0m\u001b[0;34m[\u001b[0m\u001b[0mctd_sals\u001b[0m\u001b[0;34m[\u001b[0m\u001b[0;36m0\u001b[0m\u001b[0;34m,\u001b[0m \u001b[0ml\u001b[0m\u001b[0;34m]\u001b[0m \u001b[0;32mfor\u001b[0m \u001b[0ml\u001b[0m \u001b[0;32min\u001b[0m \u001b[0msame_day_index\u001b[0m\u001b[0;34m]\u001b[0m\u001b[0;34m)\u001b[0m\u001b[0;34m\u001b[0m\u001b[0m\n\u001b[1;32m     16\u001b[0m             \u001b[0;32melse\u001b[0m\u001b[0;34m:\u001b[0m\u001b[0;34m\u001b[0m\u001b[0m\n",
      "\u001b[0;32m/home/vdo/anaconda3/lib/python3.6/site-packages/numpy/ma/core.py\u001b[0m in \u001b[0;36m__getitem__\u001b[0;34m(self, indx)\u001b[0m\n\u001b[1;32m   3156\u001b[0m \u001b[0;34m\u001b[0m\u001b[0m\n\u001b[1;32m   3157\u001b[0m         \"\"\"\n\u001b[0;32m-> 3158\u001b[0;31m         \u001b[0mdout\u001b[0m \u001b[0;34m=\u001b[0m \u001b[0mself\u001b[0m\u001b[0;34m.\u001b[0m\u001b[0mdata\u001b[0m\u001b[0;34m[\u001b[0m\u001b[0mindx\u001b[0m\u001b[0;34m]\u001b[0m\u001b[0;34m\u001b[0m\u001b[0m\n\u001b[0m\u001b[1;32m   3159\u001b[0m         \u001b[0;31m# We could directly use ndarray.__getitem__ on self.\u001b[0m\u001b[0;34m\u001b[0m\u001b[0;34m\u001b[0m\u001b[0m\n\u001b[1;32m   3160\u001b[0m         \u001b[0;31m# But then we would have to modify __array_finalize__ to prevent the\u001b[0m\u001b[0;34m\u001b[0m\u001b[0;34m\u001b[0m\u001b[0m\n",
      "\u001b[0;31mIndexError\u001b[0m: index 2141 is out of bounds for axis 0 with size 896"
     ]
    }
   ],
   "source": [
    "si_to_use = np.array([])\n",
    "sal_to_use = np.array([])\n",
    "for i in range(896):\n",
    "    same_day_index = np.array([])\n",
    "    if days.mask[i] == False:\n",
    "        for n in range(2142):\n",
    "            if ((py_ctd_times[n].day == days[i].day) \n",
    "                and (py_ctd_times[n].month == days[i].month)):\n",
    "                same_day_index = np.append(same_day_index, n)\n",
    "        if len(same_day_index) != 0:\n",
    "            same_day_times = np.array([py_ctd_times[p] for p in same_day_index])\n",
    "            same_day_lons = np.array([ctd_lons[m] for m in same_day_index])\n",
    "            same_day_lats = np.array([ctd_lats[l] for l in same_day_index])\n",
    "            if depths[n] == 2:\n",
    "                same_day_sals = np.array([ctd_sals[0, l] for l in same_day_index])\n",
    "            else:\n",
    "                same_day_sals = np.array([ctd_sals[19, l] for l in same_day_index])\n",
    "            a = np.argmin(np.abs(same_day_lats - lats[i]))\n",
    "            b = np.argmin(np.abs(same_day_lons - lons[i]))\n",
    "            if (a-b) == 0:\n",
    "                si_to_use = np.append(si_to_use, n_si[i])\n",
    "                depth_to_use = np.append(depth_to_use, n_depths[i])\n",
    "                sal_to_use = np.append(sal_to_use, same_day_sals[a])"
   ]
  },
  {
   "cell_type": "code",
   "execution_count": 82,
   "metadata": {
    "collapsed": false
   },
   "outputs": [
    {
     "name": "stderr",
     "output_type": "stream",
     "text": [
      "/home/vdo/anaconda3/lib/python3.6/site-packages/ipykernel/__main__.py:12: VisibleDeprecationWarning: using a non-integer number instead of an integer will result in an error in the future\n",
      "/home/vdo/anaconda3/lib/python3.6/site-packages/ipykernel/__main__.py:13: VisibleDeprecationWarning: using a non-integer number instead of an integer will result in an error in the future\n",
      "/home/vdo/anaconda3/lib/python3.6/site-packages/ipykernel/__main__.py:14: VisibleDeprecationWarning: using a non-integer number instead of an integer will result in an error in the future\n",
      "/home/vdo/anaconda3/lib/python3.6/site-packages/ipykernel/__main__.py:16: VisibleDeprecationWarning: using a non-integer number instead of an integer will result in an error in the future\n",
      "/home/vdo/anaconda3/lib/python3.6/site-packages/ipykernel/__main__.py:18: VisibleDeprecationWarning: using a non-integer number instead of an integer will result in an error in the future\n"
     ]
    }
   ],
   "source": [
    "si_to_use = np.array([])\n",
    "sal_to_use = np.array([])\n",
    "depth_to_use = np.array([])\n",
    "for i in range(896):\n",
    "    same_day_index = np.array([])\n",
    "    if days.mask[i] == False:\n",
    "        for n in range(2142):\n",
    "            if ((py_ctd_times[n].day == days[i].day) \n",
    "                and (py_ctd_times[n].month == days[i].month)):\n",
    "                same_day_index = np.append(same_day_index, n)\n",
    "        if len(same_day_index) != 0:\n",
    "            same_day_times = np.array([py_ctd_times[p] for p in same_day_index])\n",
    "            same_day_lons = np.array([ctd_lons[m] for m in same_day_index])\n",
    "            same_day_lats = np.array([ctd_lats[l] for l in same_day_index])\n",
    "            if depths[i] == 2:\n",
    "                same_day_sals = np.array([ctd_sals[0, l] for l in same_day_index])\n",
    "            else:\n",
    "                same_day_sals = np.array([ctd_sals[19, l] for l in same_day_index])\n",
    "            a = np.argmin(np.abs(same_day_lats - lats[i]))\n",
    "            b = np.argmin(np.abs(same_day_lons - lons[i]))\n",
    "            if (a-b) == 0:\n",
    "                si_to_use = np.append(si_to_use, si[i])\n",
    "                depth_to_use = np.append(depth_to_use, depths[i])\n",
    "                sal_to_use = np.append(sal_to_use, same_day_sals[a])"
   ]
  },
  {
   "cell_type": "code",
   "execution_count": 85,
   "metadata": {
    "collapsed": false
   },
   "outputs": [
    {
     "data": {
      "text/plain": [
       "<matplotlib.text.Text at 0x7fcb6e0ab748>"
      ]
     },
     "execution_count": 85,
     "metadata": {},
     "output_type": "execute_result"
    },
    {
     "data": {
      "image/png": "[encoded data removed]",
      "text/plain": [
       "<matplotlib.figure.Figure at 0x7fcb739cd828>"
      ]
     },
     "metadata": {},
     "output_type": "display_data"
    }
   ],
   "source": [
    "fig, ax = plt.subplots(figsize = (8,8))\n",
    "ax.plot(si_to_use, sal_to_use, 'b.')\n",
    "ax.grid('on')\n",
    "ax.set_xlabel('Si')\n",
    "ax.set_ylabel('Salinity')"
   ]
  },
  {
   "cell_type": "code",
   "execution_count": null,
   "metadata": {
    "collapsed": true
   },
   "outputs": [],
   "source": []
  }
 ],
 "metadata": {
  "kernelspec": {
   "display_name": "Python 3",
   "language": "python",
   "name": "python3"
  },
  "language_info": {
   "codemirror_mode": {
    "name": "ipython",
    "version": 3
   },
   "file_extension": ".py",
   "mimetype": "text/x-python",
   "name": "python",
   "nbconvert_exporter": "python",
   "pygments_lexer": "ipython3",
   "version": "3.6.0"
  }
 },
 "nbformat": 4,
 "nbformat_minor": 2
}
