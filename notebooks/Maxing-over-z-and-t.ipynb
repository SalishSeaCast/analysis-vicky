{
 "cells": [
  {
   "cell_type": "markdown",
   "metadata": {},
   "source": [
    "## Maxing over $z$ and $t$\n",
    "### May 9, 2017"
   ]
  },
  {
   "cell_type": "code",
   "execution_count": 1,
   "metadata": {
    "collapsed": true
   },
   "outputs": [],
   "source": [
    "import numpy as np\n",
    "import xarray as xr\n",
    "%matplotlib inline"
   ]
  },
  {
   "cell_type": "code",
   "execution_count": 2,
   "metadata": {
    "collapsed": true
   },
   "outputs": [],
   "source": [
    "mesh_mask = xr.open_dataset('/home/vdo/MEOPAR/NEMO-forcing/grid/mesh_mask201702.nc')"
   ]
  },
  {
   "cell_type": "code",
   "execution_count": 3,
   "metadata": {
    "collapsed": false
   },
   "outputs": [
    {
     "data": {
      "text/plain": [
       "<xarray.Dataset>\n",
       "Dimensions:       (t: 1, x: 398, y: 898, z: 40)\n",
       "Dimensions without coordinates: t, x, y, z\n",
       "Data variables:\n",
       "    nav_lon       (y, x) float32 0.0 0.0 0.0 0.0 0.0 0.0 0.0 0.0 0.0 0.0 0.0 ...\n",
       "    nav_lat       (y, x) float32 0.0 0.0 0.0 0.0 0.0 0.0 0.0 0.0 0.0 0.0 0.0 ...\n",
       "    nav_lev       (z) float32 0.5 1.5 2.50001 3.50003 4.50007 5.50015 ...\n",
       "    time_counter  (t) float64 0.0\n",
       "    tmask         (t, z, y, x) int8 0 0 0 0 0 0 0 0 0 0 0 0 0 0 0 0 0 0 0 0 ...\n",
       "    umask         (t, z, y, x) int8 0 0 0 0 0 0 0 0 0 0 0 0 0 0 0 0 0 0 0 0 ...\n",
       "    vmask         (t, z, y, x) int8 0 0 0 0 0 0 0 0 0 0 0 0 0 0 0 0 0 0 0 0 ...\n",
       "    fmask         (t, z, y, x) int8 0 0 0 0 0 0 0 0 0 0 0 0 0 0 0 0 0 0 0 0 ...\n",
       "    tmaskutil     (t, y, x) int8 0 0 0 0 0 0 0 0 0 0 0 0 0 0 0 0 0 0 0 0 0 0 ...\n",
       "    umaskutil     (t, y, x) int8 0 0 0 0 0 0 0 0 0 0 0 0 0 0 0 0 0 0 0 0 0 0 ...\n",
       "    vmaskutil     (t, y, x) int8 0 0 0 0 0 0 0 0 0 0 0 0 0 0 0 0 0 0 0 0 0 0 ...\n",
       "    fmaskutil     (t, y, x) int8 0 0 0 0 0 0 0 0 0 0 0 0 0 0 0 0 0 0 0 0 0 0 ...\n",
       "    glamt         (t, y, x) float32 0.0 0.0 0.0 0.0 0.0 0.0 0.0 0.0 0.0 0.0 ...\n",
       "    glamu         (t, y, x) float32 0.0 0.0 0.0 0.0 0.0 0.0 0.0 0.0 0.0 0.0 ...\n",
       "    glamv         (t, y, x) float32 0.0 0.0 0.0 0.0 0.0 0.0 0.0 0.0 0.0 0.0 ...\n",
       "    glamf         (t, y, x) float32 0.0 0.0 0.0 0.0 0.0 0.0 0.0 0.0 0.0 0.0 ...\n",
       "    gphit         (t, y, x) float32 0.0 0.0 0.0 0.0 0.0 0.0 0.0 0.0 0.0 0.0 ...\n",
       "    gphiu         (t, y, x) float32 0.0 0.0 0.0 0.0 0.0 0.0 0.0 0.0 0.0 0.0 ...\n",
       "    gphiv         (t, y, x) float32 0.0 0.0 0.0 0.0 0.0 0.0 0.0 0.0 0.0 0.0 ...\n",
       "    gphif         (t, y, x) float32 0.0 0.0 0.0 0.0 0.0 0.0 0.0 0.0 0.0 0.0 ...\n",
       "    e1t           (t, y, x) float64 0.0 0.0 0.0 0.0 0.0 0.0 0.0 0.0 0.0 0.0 ...\n",
       "    e1u           (t, y, x) float64 0.0 0.0 0.0 0.0 0.0 0.0 0.0 0.0 0.0 0.0 ...\n",
       "    e1v           (t, y, x) float64 0.0 0.0 0.0 0.0 0.0 0.0 0.0 0.0 0.0 0.0 ...\n",
       "    e1f           (t, y, x) float64 0.0 0.0 0.0 0.0 0.0 0.0 0.0 0.0 0.0 0.0 ...\n",
       "    e2t           (t, y, x) float64 0.0 0.0 0.0 0.0 0.0 0.0 0.0 0.0 0.0 0.0 ...\n",
       "    e2u           (t, y, x) float64 0.0 0.0 0.0 0.0 0.0 0.0 0.0 0.0 0.0 0.0 ...\n",
       "    e2v           (t, y, x) float64 0.0 0.0 0.0 0.0 0.0 0.0 0.0 0.0 0.0 0.0 ...\n",
       "    e2f           (t, y, x) float64 0.0 0.0 0.0 0.0 0.0 0.0 0.0 0.0 0.0 0.0 ...\n",
       "    ff            (t, y, x) float64 0.0 0.0 0.0 0.0 0.0 0.0 0.0 0.0 0.0 0.0 ...\n",
       "    mbathy        (t, y, x) int16 0 0 0 0 0 0 0 0 0 0 0 0 0 0 0 0 0 0 0 0 0 ...\n",
       "    misf          (t, y, x) int16 0 0 0 0 0 0 0 0 0 0 0 0 0 0 0 0 0 0 0 0 0 ...\n",
       "    isfdraft      (t, y, x) float32 0.0 0.0 0.0 0.0 0.0 0.0 0.0 0.0 0.0 0.0 ...\n",
       "    e3t_0         (t, z, y, x) float64 0.0 0.0 0.0 0.0 0.0 0.0 0.0 0.0 0.0 ...\n",
       "    e3u_0         (t, z, y, x) float64 0.0 0.0 0.0 0.0 0.0 0.0 0.0 0.0 0.0 ...\n",
       "    e3v_0         (t, z, y, x) float64 0.0 0.0 0.0 0.0 0.0 0.0 0.0 0.0 0.0 ...\n",
       "    e3w_0         (t, z, y, x) float64 0.0 0.0 0.0 0.0 0.0 0.0 0.0 0.0 0.0 ...\n",
       "    gdept_0       (t, z, y, x) float32 0.0 0.0 0.0 0.0 0.0 0.0 0.0 0.0 0.0 ...\n",
       "    gdepu         (t, z, y, x) float32 0.0 0.0 0.0 0.0 0.0 0.0 0.0 0.0 0.0 ...\n",
       "    gdepv         (t, z, y, x) float32 0.0 0.0 0.0 0.0 0.0 0.0 0.0 0.0 0.0 ...\n",
       "    gdepw_0       (t, z, y, x) float32 0.0 0.0 0.0 0.0 0.0 0.0 0.0 0.0 0.0 ...\n",
       "    gdept_1d      (t, z) float64 0.5 1.5 2.5 3.5 4.5 5.5 6.5 7.501 8.501 ...\n",
       "    gdepw_1d      (t, z) float64 0.0 1.0 2.0 3.0 4.0 5.0 6.0 7.0 8.001 9.002 ...\n",
       "    e3t_1d        (t, z) float64 1.0 1.0 1.0 1.0 1.0 1.0 1.0 1.0 1.001 1.002 ...\n",
       "    e3w_1d        (t, z) float64 1.0 1.0 1.0 1.0 1.0 1.0 1.0 1.0 1.001 1.001 ...\n",
       "Attributes:\n",
       "    file_name:  mesh_mask.nc\n",
       "    TimeStamp:  13/04/2017 22:37:31 -0700"
      ]
     },
     "execution_count": 3,
     "metadata": {},
     "output_type": "execute_result"
    }
   ],
   "source": [
    "mesh_mask"
   ]
  },
  {
   "cell_type": "code",
   "execution_count": 9,
   "metadata": {
    "collapsed": false
   },
   "outputs": [],
   "source": [
    "delta_x = mesh_mask.e1u\n"
   ]
  },
  {
   "cell_type": "code",
   "execution_count": 6,
   "metadata": {
    "collapsed": false
   },
   "outputs": [
    {
     "data": {
      "text/plain": [
       "<xarray.DataArray 'e2v' (t: 1, y: 898, x: 398)>\n",
       "[357404 values with dtype=float64]\n",
       "Dimensions without coordinates: t, y, x"
      ]
     },
     "execution_count": 6,
     "metadata": {},
     "output_type": "execute_result"
    }
   ],
   "source": [
    "delta_y = mesh_mask.e2v\n",
    "delta_y"
   ]
  },
  {
   "cell_type": "code",
   "execution_count": 7,
   "metadata": {
    "collapsed": false
   },
   "outputs": [
    {
     "data": {
      "text/plain": [
       "<xarray.DataArray 'e3w_1d' (t: 1, z: 40)>\n",
       "array([[  1.      ,   1.000003,   1.000008,   1.000019,   1.000039,   1.000079,\n",
       "          1.000156,   1.000307,   1.000602,   1.001174,   1.00229 ,   1.004463,\n",
       "          1.008694,   1.016931,   1.032959,   1.06412 ,   1.1246  ,   1.24159 ,\n",
       "          1.466437,   1.893272,   2.684857,   4.091313,   6.409889,   9.797678,\n",
       "         13.966609,  18.13554 ,  21.523329,  23.841905,  25.248361,  26.039946,\n",
       "         26.46678 ,  26.691628,  26.808618,  26.869097,  26.900259,  26.916287,\n",
       "         26.924524,  26.928755,  26.930928,  26.932043]])\n",
       "Dimensions without coordinates: t, z"
      ]
     },
     "execution_count": 7,
     "metadata": {},
     "output_type": "execute_result"
    }
   ],
   "source": [
    "delta_z = mesh_mask.e3w_1d\n",
    "delta_z"
   ]
  },
  {
   "cell_type": "code",
   "execution_count": 17,
   "metadata": {
    "collapsed": false
   },
   "outputs": [
    {
     "data": {
      "text/plain": [
       "<xarray.Dataset>\n",
       "Dimensions:               (axis_nbounds: 2, depthw: 40, nvertex: 4, time_counter: 24, x: 398, y: 898)\n",
       "Coordinates:\n",
       "  * depthw                (depthw) float32 0.0 1.0 2.00001 3.00002 4.00005 ...\n",
       "    nav_lat               (y, x) float32 0.0 0.0 0.0 0.0 0.0 0.0 0.0 0.0 0.0 ...\n",
       "    nav_lon               (y, x) float32 0.0 0.0 0.0 0.0 0.0 0.0 0.0 0.0 0.0 ...\n",
       "    time_centered         (time_counter) datetime64[ns] 2014-12-25T00:30:00 ...\n",
       "  * time_counter          (time_counter) datetime64[ns] 2014-12-25T00:30:00 ...\n",
       "Dimensions without coordinates: axis_nbounds, nvertex, x, y\n",
       "Data variables:\n",
       "    area                  (y, x) float32 0.0 0.0 0.0 0.0 0.0 0.0 0.0 0.0 0.0 ...\n",
       "    bounds_lat            (y, x, nvertex) float32 0.0 0.0 0.0 0.0 0.0 0.0 ...\n",
       "    bounds_lon            (y, x, nvertex) float32 0.0 0.0 0.0 0.0 0.0 0.0 ...\n",
       "    depthw_bounds         (depthw, axis_nbounds) float32 -0.5 0.5 0.5 1.5 ...\n",
       "    dissipation           (time_counter, depthw, y, x) float64 nan nan nan ...\n",
       "    time_centered_bounds  (time_counter, axis_nbounds) float64 3.628e+09 ...\n",
       "    time_counter_bounds   (time_counter, axis_nbounds) float64 3.628e+09 ...\n",
       "    vert_eddy_diff        (time_counter, depthw, y, x) float64 nan nan nan ...\n",
       "    vert_eddy_visc        (time_counter, depthw, y, x) float64 nan nan nan ...\n",
       "    vovecrtz              (time_counter, depthw, y, x) float64 nan nan nan ...\n",
       "Attributes:\n",
       "    name:         SalishSea_1h_20141218_20141225\n",
       "    description:  ocean W grid variables\n",
       "    title:        ocean W grid variables\n",
       "    Conventions:  CF-1.6\n",
       "    timeStamp:    2017-May-09 03:40:39 GMT\n",
       "    uuid:         1d726eca-557f-4783-abc1-26d581eed8fa\n",
       "    history:      Mon May  8 21:21:04 2017: ncks -4 -L4 -O SalishSea_1h_20141...\n",
       "    NCO:          \"4.5.2\""
      ]
     },
     "execution_count": 17,
     "metadata": {},
     "output_type": "execute_result"
    }
   ],
   "source": [
    "file1 = xr.open_dataset('/home/vdo/MEOPAR/completed-runs/18dec14/SalishSea_1h_20141218_20141225_grid_W_20141225-20141225.nc')\n",
    "file1"
   ]
  },
  {
   "cell_type": "code",
   "execution_count": null,
   "metadata": {
    "collapsed": true
   },
   "outputs": [],
   "source": []
  }
 ],
 "metadata": {
  "kernelspec": {
   "display_name": "Python 3",
   "language": "python",
   "name": "python3"
  },
  "language_info": {
   "codemirror_mode": {
    "name": "ipython",
    "version": 3
   },
   "file_extension": ".py",
   "mimetype": "text/x-python",
   "name": "python",
   "nbconvert_exporter": "python",
   "pygments_lexer": "ipython3",
   "version": "3.6.0"
  }
 },
 "nbformat": 4,
 "nbformat_minor": 2
}
