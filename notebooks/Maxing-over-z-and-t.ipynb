{
 "cells": [
  {
   "cell_type": "markdown",
   "metadata": {},
   "source": [
    "## Maxing over $z$ and $t$\n",
    "### May 9, 2017"
   ]
  },
  {
   "cell_type": "code",
   "execution_count": 1,
   "metadata": {
    "collapsed": true
   },
   "outputs": [],
   "source": [
    "import numpy as np\n",
    "import xarray as xr\n",
    "%matplotlib inline"
   ]
  },
  {
   "cell_type": "code",
   "execution_count": 2,
   "metadata": {
    "collapsed": true
   },
   "outputs": [],
   "source": [
    "mesh_mask = xr.open_dataset('/home/vdo/MEOPAR/NEMO-forcing/grid/mesh_mask201702.nc')"
   ]
  },
  {
   "cell_type": "code",
   "execution_count": 3,
   "metadata": {
    "collapsed": false
   },
   "outputs": [
    {
     "data": {
      "text/plain": [
       "<xarray.Dataset>\n",
       "Dimensions:       (t: 1, x: 398, y: 898, z: 40)\n",
       "Dimensions without coordinates: t, x, y, z\n",
       "Data variables:\n",
       "    nav_lon       (y, x) float32 0.0 0.0 0.0 0.0 0.0 0.0 0.0 0.0 0.0 0.0 0.0 ...\n",
       "    nav_lat       (y, x) float32 0.0 0.0 0.0 0.0 0.0 0.0 0.0 0.0 0.0 0.0 0.0 ...\n",
       "    nav_lev       (z) float32 0.5 1.5 2.50001 3.50003 4.50007 5.50015 ...\n",
       "    time_counter  (t) float64 0.0\n",
       "    tmask         (t, z, y, x) int8 0 0 0 0 0 0 0 0 0 0 0 0 0 0 0 0 0 0 0 0 ...\n",
       "    umask         (t, z, y, x) int8 0 0 0 0 0 0 0 0 0 0 0 0 0 0 0 0 0 0 0 0 ...\n",
       "    vmask         (t, z, y, x) int8 0 0 0 0 0 0 0 0 0 0 0 0 0 0 0 0 0 0 0 0 ...\n",
       "    fmask         (t, z, y, x) int8 0 0 0 0 0 0 0 0 0 0 0 0 0 0 0 0 0 0 0 0 ...\n",
       "    tmaskutil     (t, y, x) int8 0 0 0 0 0 0 0 0 0 0 0 0 0 0 0 0 0 0 0 0 0 0 ...\n",
       "    umaskutil     (t, y, x) int8 0 0 0 0 0 0 0 0 0 0 0 0 0 0 0 0 0 0 0 0 0 0 ...\n",
       "    vmaskutil     (t, y, x) int8 0 0 0 0 0 0 0 0 0 0 0 0 0 0 0 0 0 0 0 0 0 0 ...\n",
       "    fmaskutil     (t, y, x) int8 0 0 0 0 0 0 0 0 0 0 0 0 0 0 0 0 0 0 0 0 0 0 ...\n",
       "    glamt         (t, y, x) float32 0.0 0.0 0.0 0.0 0.0 0.0 0.0 0.0 0.0 0.0 ...\n",
       "    glamu         (t, y, x) float32 0.0 0.0 0.0 0.0 0.0 0.0 0.0 0.0 0.0 0.0 ...\n",
       "    glamv         (t, y, x) float32 0.0 0.0 0.0 0.0 0.0 0.0 0.0 0.0 0.0 0.0 ...\n",
       "    glamf         (t, y, x) float32 0.0 0.0 0.0 0.0 0.0 0.0 0.0 0.0 0.0 0.0 ...\n",
       "    gphit         (t, y, x) float32 0.0 0.0 0.0 0.0 0.0 0.0 0.0 0.0 0.0 0.0 ...\n",
       "    gphiu         (t, y, x) float32 0.0 0.0 0.0 0.0 0.0 0.0 0.0 0.0 0.0 0.0 ...\n",
       "    gphiv         (t, y, x) float32 0.0 0.0 0.0 0.0 0.0 0.0 0.0 0.0 0.0 0.0 ...\n",
       "    gphif         (t, y, x) float32 0.0 0.0 0.0 0.0 0.0 0.0 0.0 0.0 0.0 0.0 ...\n",
       "    e1t           (t, y, x) float64 0.0 0.0 0.0 0.0 0.0 0.0 0.0 0.0 0.0 0.0 ...\n",
       "    e1u           (t, y, x) float64 0.0 0.0 0.0 0.0 0.0 0.0 0.0 0.0 0.0 0.0 ...\n",
       "    e1v           (t, y, x) float64 0.0 0.0 0.0 0.0 0.0 0.0 0.0 0.0 0.0 0.0 ...\n",
       "    e1f           (t, y, x) float64 0.0 0.0 0.0 0.0 0.0 0.0 0.0 0.0 0.0 0.0 ...\n",
       "    e2t           (t, y, x) float64 0.0 0.0 0.0 0.0 0.0 0.0 0.0 0.0 0.0 0.0 ...\n",
       "    e2u           (t, y, x) float64 0.0 0.0 0.0 0.0 0.0 0.0 0.0 0.0 0.0 0.0 ...\n",
       "    e2v           (t, y, x) float64 0.0 0.0 0.0 0.0 0.0 0.0 0.0 0.0 0.0 0.0 ...\n",
       "    e2f           (t, y, x) float64 0.0 0.0 0.0 0.0 0.0 0.0 0.0 0.0 0.0 0.0 ...\n",
       "    ff            (t, y, x) float64 0.0 0.0 0.0 0.0 0.0 0.0 0.0 0.0 0.0 0.0 ...\n",
       "    mbathy        (t, y, x) int16 0 0 0 0 0 0 0 0 0 0 0 0 0 0 0 0 0 0 0 0 0 ...\n",
       "    misf          (t, y, x) int16 0 0 0 0 0 0 0 0 0 0 0 0 0 0 0 0 0 0 0 0 0 ...\n",
       "    isfdraft      (t, y, x) float32 0.0 0.0 0.0 0.0 0.0 0.0 0.0 0.0 0.0 0.0 ...\n",
       "    e3t_0         (t, z, y, x) float64 0.0 0.0 0.0 0.0 0.0 0.0 0.0 0.0 0.0 ...\n",
       "    e3u_0         (t, z, y, x) float64 0.0 0.0 0.0 0.0 0.0 0.0 0.0 0.0 0.0 ...\n",
       "    e3v_0         (t, z, y, x) float64 0.0 0.0 0.0 0.0 0.0 0.0 0.0 0.0 0.0 ...\n",
       "    e3w_0         (t, z, y, x) float64 0.0 0.0 0.0 0.0 0.0 0.0 0.0 0.0 0.0 ...\n",
       "    gdept_0       (t, z, y, x) float32 0.0 0.0 0.0 0.0 0.0 0.0 0.0 0.0 0.0 ...\n",
       "    gdepu         (t, z, y, x) float32 0.0 0.0 0.0 0.0 0.0 0.0 0.0 0.0 0.0 ...\n",
       "    gdepv         (t, z, y, x) float32 0.0 0.0 0.0 0.0 0.0 0.0 0.0 0.0 0.0 ...\n",
       "    gdepw_0       (t, z, y, x) float32 0.0 0.0 0.0 0.0 0.0 0.0 0.0 0.0 0.0 ...\n",
       "    gdept_1d      (t, z) float64 0.5 1.5 2.5 3.5 4.5 5.5 6.5 7.501 8.501 ...\n",
       "    gdepw_1d      (t, z) float64 0.0 1.0 2.0 3.0 4.0 5.0 6.0 7.0 8.001 9.002 ...\n",
       "    e3t_1d        (t, z) float64 1.0 1.0 1.0 1.0 1.0 1.0 1.0 1.0 1.001 1.002 ...\n",
       "    e3w_1d        (t, z) float64 1.0 1.0 1.0 1.0 1.0 1.0 1.0 1.0 1.001 1.001 ...\n",
       "Attributes:\n",
       "    file_name:  mesh_mask.nc\n",
       "    TimeStamp:  13/04/2017 22:37:31 -0700"
      ]
     },
     "execution_count": 3,
     "metadata": {},
     "output_type": "execute_result"
    }
   ],
   "source": [
    "mesh_mask"
   ]
  },
  {
   "cell_type": "code",
   "execution_count": 69,
   "metadata": {
    "collapsed": false
   },
   "outputs": [
    {
     "data": {
      "text/plain": [
       "<xarray.DataArray 'umask' (t: 1, z: 40, y: 898, x: 398)>\n",
       "[14296160 values with dtype=int8]\n",
       "Dimensions without coordinates: t, z, y, x"
      ]
     },
     "execution_count": 69,
     "metadata": {},
     "output_type": "execute_result"
    }
   ],
   "source": [
    "t_mask = mesh_mask.tmask\n",
    "u_mask = mesh_mask.umask\n",
    "v_mask = mesh_mask.vmask\n",
    "u_mask"
   ]
  },
  {
   "cell_type": "code",
   "execution_count": 42,
   "metadata": {
    "collapsed": false
   },
   "outputs": [
    {
     "data": {
      "text/plain": [
       "<xarray.DataArray 'e1u' (t: 1, y: 898, x: 398)>\n",
       "array([[[   0.      ,    0.      , ...,    0.      ,    0.      ],\n",
       "        [   0.      ,    0.      , ...,    0.      ,    0.      ],\n",
       "        ..., \n",
       "        [ 464.063552,  463.358206, ...,    0.      ,    0.      ],\n",
       "        [ 467.052857,  465.852574, ...,    0.      ,    0.      ]]])\n",
       "Dimensions without coordinates: t, y, x"
      ]
     },
     "execution_count": 42,
     "metadata": {},
     "output_type": "execute_result"
    }
   ],
   "source": [
    "delta_x = mesh_mask.e1u\n",
    "delta_x"
   ]
  },
  {
   "cell_type": "code",
   "execution_count": 5,
   "metadata": {
    "collapsed": false
   },
   "outputs": [
    {
     "data": {
      "text/plain": [
       "<xarray.DataArray 'e2v' (t: 1, y: 898, x: 398)>\n",
       "[357404 values with dtype=float64]\n",
       "Dimensions without coordinates: t, y, x"
      ]
     },
     "execution_count": 5,
     "metadata": {},
     "output_type": "execute_result"
    }
   ],
   "source": [
    "delta_y = mesh_mask.e2v\n",
    "delta_y"
   ]
  },
  {
   "cell_type": "code",
   "execution_count": 15,
   "metadata": {
    "collapsed": false
   },
   "outputs": [
    {
     "data": {
      "text/plain": [
       "<xarray.DataArray 'e3w_1d' (t: 1)>\n",
       "array([ 26.932043])\n",
       "Dimensions without coordinates: t"
      ]
     },
     "execution_count": 15,
     "metadata": {},
     "output_type": "execute_result"
    }
   ],
   "source": [
    "delta_z = mesh_mask.e3w_1d\n",
    "delta_z.max(dim ='z')"
   ]
  },
  {
   "cell_type": "code",
   "execution_count": 19,
   "metadata": {
    "collapsed": false
   },
   "outputs": [
    {
     "data": {
      "text/plain": [
       "<xarray.DataArray 'e2v' (t: 1, y: 898, x: 398)>\n",
       "array([[[   0.      ,    0.      , ...,    0.      ,    0.      ],\n",
       "        [   0.      ,    0.      , ...,    0.      ,    0.      ],\n",
       "        ..., \n",
       "        [ 510.000316,  509.775776, ...,    0.      ,    0.      ],\n",
       "        [ 511.836224,  511.358482, ...,    0.      ,    0.      ]]])\n",
       "Dimensions without coordinates: t, y, x"
      ]
     },
     "execution_count": 19,
     "metadata": {},
     "output_type": "execute_result"
    }
   ],
   "source": [
    "delta_y"
   ]
  },
  {
   "cell_type": "code",
   "execution_count": 23,
   "metadata": {
    "collapsed": false
   },
   "outputs": [
    {
     "data": {
      "text/plain": [
       "<xarray.DataArray 'e1u' (t: 1, y: 898, x: 398)>\n",
       "array([[[   0.      ,    0.      , ...,    0.      ,    0.      ],\n",
       "        [   0.      ,    0.      , ...,    0.      ,    0.      ],\n",
       "        ..., \n",
       "        [ 464.063552,  463.358206, ...,    0.      ,    0.      ],\n",
       "        [ 467.052857,  465.852574, ...,    0.      ,    0.      ]]])\n",
       "Dimensions without coordinates: t, y, x"
      ]
     },
     "execution_count": 23,
     "metadata": {},
     "output_type": "execute_result"
    }
   ],
   "source": [
    "delta_x"
   ]
  },
  {
   "cell_type": "code",
   "execution_count": 25,
   "metadata": {
    "collapsed": false
   },
   "outputs": [],
   "source": [
    "day1u = xr.open_dataset('/home/vdo/MEOPAR/completed-runs/18dec14/SalishSea_1h_20141218_20141225_grid_U_20141218-20141218.nc')\n",
    "day2u = xr.open_dataset('/home/vdo/MEOPAR/completed-runs/18dec14/SalishSea_1h_20141218_20141225_grid_U_20141219-20141219.nc')\n",
    "day3u = xr.open_dataset('/home/vdo/MEOPAR/completed-runs/18dec14/SalishSea_1h_20141218_20141225_grid_U_20141220-20141220.nc')\n",
    "day4u = xr.open_dataset('/home/vdo/MEOPAR/completed-runs/18dec14/SalishSea_1h_20141218_20141225_grid_U_20141221-20141221.nc')\n",
    "day5u = xr.open_dataset('/home/vdo/MEOPAR/completed-runs/18dec14/SalishSea_1h_20141218_20141225_grid_U_20141222-20141222.nc')\n",
    "day6u = xr.open_dataset('/home/vdo/MEOPAR/completed-runs/18dec14/SalishSea_1h_20141218_20141225_grid_U_20141223-20141223.nc')\n",
    "day7u = xr.open_dataset('/home/vdo/MEOPAR/completed-runs/18dec14/SalishSea_1h_20141218_20141225_grid_U_20141224-20141224.nc')                      \n",
    "day8u = xr.open_dataset('/home/vdo/MEOPAR/completed-runs/18dec14/SalishSea_1h_20141218_20141225_grid_U_20141225-20141225.nc')"
   ]
  },
  {
   "cell_type": "code",
   "execution_count": 30,
   "metadata": {
    "collapsed": false
   },
   "outputs": [
    {
     "data": {
      "text/plain": [
       "<xarray.DataArray 'vozocrtx' ()>\n",
       "array(3.8961966037750244)"
      ]
     },
     "execution_count": 30,
     "metadata": {},
     "output_type": "execute_result"
    }
   ],
   "source": [
    "day1u.vozocrtx.max()"
   ]
  },
  {
   "cell_type": "code",
   "execution_count": 31,
   "metadata": {
    "collapsed": false
   },
   "outputs": [
    {
     "data": {
      "text/plain": [
       "<xarray.DataArray 'vozocrtx' ()>\n",
       "array(4.170475959777832)"
      ]
     },
     "execution_count": 31,
     "metadata": {},
     "output_type": "execute_result"
    }
   ],
   "source": [
    "day2u.vozocrtx.max()"
   ]
  },
  {
   "cell_type": "code",
   "execution_count": 32,
   "metadata": {
    "collapsed": false
   },
   "outputs": [
    {
     "name": "stdout",
     "output_type": "stream",
     "text": [
      "<xarray.DataArray 'vozocrtx' ()>\n",
      "array(4.646048069000244)\n",
      "<xarray.DataArray 'vozocrtx' ()>\n",
      "array(4.824367046356201)\n",
      "<xarray.DataArray 'vozocrtx' ()>\n",
      "array(5.15034294128418)\n",
      "<xarray.DataArray 'vozocrtx' ()>\n",
      "array(5.489227294921875)\n",
      "<xarray.DataArray 'vozocrtx' ()>\n",
      "array(5.432424545288086)\n"
     ]
    },
    {
     "data": {
      "text/plain": [
       "<xarray.DataArray 'vozocrtx' ()>\n",
       "array(5.360359191894531)"
      ]
     },
     "execution_count": 32,
     "metadata": {},
     "output_type": "execute_result"
    }
   ],
   "source": [
    "print(day3u.vozocrtx.max())\n",
    "print(day4u.vozocrtx.max())\n",
    "print(day5u.vozocrtx.max())\n",
    "print(day6u.vozocrtx.max())\n",
    "print(day7u.vozocrtx.max())\n",
    "day8u.vozocrtx.max()"
   ]
  },
  {
   "cell_type": "code",
   "execution_count": 33,
   "metadata": {
    "collapsed": true
   },
   "outputs": [],
   "source": [
    "day1v = xr.open_dataset('/home/vdo/MEOPAR/completed-runs/18dec14/SalishSea_1h_20141218_20141225_grid_V_20141218-20141218.nc')\n",
    "day2v = xr.open_dataset('/home/vdo/MEOPAR/completed-runs/18dec14/SalishSea_1h_20141218_20141225_grid_V_20141219-20141219.nc')\n",
    "day3v = xr.open_dataset('/home/vdo/MEOPAR/completed-runs/18dec14/SalishSea_1h_20141218_20141225_grid_V_20141220-20141220.nc')\n",
    "day4v = xr.open_dataset('/home/vdo/MEOPAR/completed-runs/18dec14/SalishSea_1h_20141218_20141225_grid_V_20141221-20141221.nc')\n",
    "day5v = xr.open_dataset('/home/vdo/MEOPAR/completed-runs/18dec14/SalishSea_1h_20141218_20141225_grid_V_20141222-20141222.nc')\n",
    "day6v = xr.open_dataset('/home/vdo/MEOPAR/completed-runs/18dec14/SalishSea_1h_20141218_20141225_grid_V_20141223-20141223.nc')\n",
    "day7v = xr.open_dataset('/home/vdo/MEOPAR/completed-runs/18dec14/SalishSea_1h_20141218_20141225_grid_V_20141224-20141224.nc')\n",
    "day8v = xr.open_dataset('/home/vdo/MEOPAR/completed-runs/18dec14/SalishSea_1h_20141218_20141225_grid_V_20141225-20141225.nc')"
   ]
  },
  {
   "cell_type": "code",
   "execution_count": 36,
   "metadata": {
    "collapsed": false
   },
   "outputs": [
    {
     "name": "stdout",
     "output_type": "stream",
     "text": [
      "<xarray.DataArray 'vomecrty' ()>\n",
      "array(3.225706100463867)\n",
      "<xarray.DataArray 'vomecrty' ()>\n",
      "array(3.4456632137298584)\n",
      "<xarray.DataArray 'vomecrty' ()>\n",
      "array(3.508251905441284)\n",
      "<xarray.DataArray 'vomecrty' ()>\n",
      "array(3.7685163021087646)\n",
      "<xarray.DataArray 'vomecrty' ()>\n",
      "array(3.799029588699341)\n",
      "<xarray.DataArray 'vomecrty' ()>\n",
      "array(3.836238145828247)\n",
      "<xarray.DataArray 'vomecrty' ()>\n",
      "array(3.8642184734344482)\n"
     ]
    },
    {
     "data": {
      "text/plain": [
       "<xarray.DataArray 'vomecrty' ()>\n",
       "array(3.7620952129364014)"
      ]
     },
     "execution_count": 36,
     "metadata": {},
     "output_type": "execute_result"
    }
   ],
   "source": [
    "print(day1v.vomecrty.max())\n",
    "print(day2v.vomecrty.max())\n",
    "print(day3v.vomecrty.max())\n",
    "print(day4v.vomecrty.max())\n",
    "print(day5v.vomecrty.max())\n",
    "print(day6v.vomecrty.max())\n",
    "print(day7v.vomecrty.max())\n",
    "day8v.vomecrty.max()"
   ]
  },
  {
   "cell_type": "code",
   "execution_count": 37,
   "metadata": {
    "collapsed": true
   },
   "outputs": [],
   "source": [
    "day1w = xr.open_dataset('/home/vdo/MEOPAR/completed-runs/18dec14/SalishSea_1h_20141218_20141225_grid_W_20141218-20141218.nc')\n",
    "day2w = xr.open_dataset('/home/vdo/MEOPAR/completed-runs/18dec14/SalishSea_1h_20141218_20141225_grid_W_20141219-20141219.nc')\n",
    "day3w = xr.open_dataset('/home/vdo/MEOPAR/completed-runs/18dec14/SalishSea_1h_20141218_20141225_grid_W_20141220-20141220.nc')\n",
    "day4w = xr.open_dataset('/home/vdo/MEOPAR/completed-runs/18dec14/SalishSea_1h_20141218_20141225_grid_W_20141221-20141221.nc')\n",
    "day5w = xr.open_dataset('/home/vdo/MEOPAR/completed-runs/18dec14/SalishSea_1h_20141218_20141225_grid_W_20141222-20141222.nc')\n",
    "day6w = xr.open_dataset('/home/vdo/MEOPAR/completed-runs/18dec14/SalishSea_1h_20141218_20141225_grid_W_20141223-20141223.nc')\n",
    "day7w = xr.open_dataset('/home/vdo/MEOPAR/completed-runs/18dec14/SalishSea_1h_20141218_20141225_grid_W_20141224-20141224.nc')\n",
    "day8w = xr.open_dataset('/home/vdo/MEOPAR/completed-runs/18dec14/SalishSea_1h_20141218_20141225_grid_W_20141225-20141225.nc')"
   ]
  },
  {
   "cell_type": "code",
   "execution_count": 40,
   "metadata": {
    "collapsed": false,
    "scrolled": true
   },
   "outputs": [
    {
     "name": "stdout",
     "output_type": "stream",
     "text": [
      "<xarray.DataArray 'vovecrtz' ()>\n",
      "array(0.26176151633262634)\n",
      "<xarray.DataArray 'vovecrtz' ()>\n",
      "array(0.29542315006256104)\n",
      "<xarray.DataArray 'vovecrtz' ()>\n",
      "array(0.31952086091041565)\n",
      "<xarray.DataArray 'vovecrtz' ()>\n",
      "array(0.34712982177734375)\n",
      "<xarray.DataArray 'vovecrtz' ()>\n",
      "array(0.3278588056564331)\n",
      "<xarray.DataArray 'vovecrtz' ()>\n",
      "array(0.3569972515106201)\n",
      "<xarray.DataArray 'vovecrtz' ()>\n",
      "array(0.3380794823169708)\n"
     ]
    },
    {
     "data": {
      "text/plain": [
       "<xarray.DataArray 'vovecrtz' ()>\n",
       "array(0.32365018129348755)"
      ]
     },
     "execution_count": 40,
     "metadata": {},
     "output_type": "execute_result"
    }
   ],
   "source": [
    "print(day1w.vovecrtz.max())\n",
    "print(day2w.vovecrtz.max())\n",
    "print(day3w.vovecrtz.max())\n",
    "print(day4w.vovecrtz.max())\n",
    "print(day5w.vovecrtz.max())\n",
    "print(day6w.vovecrtz.max())\n",
    "print(day7w.vovecrtz.max())\n",
    "day8w.vovecrtz.max()"
   ]
  },
  {
   "cell_type": "code",
   "execution_count": 71,
   "metadata": {
    "collapsed": false
   },
   "outputs": [
    {
     "name": "stderr",
     "output_type": "stream",
     "text": [
      "/home/vdo/anaconda3/lib/python3.6/site-packages/xarray/core/variable.py:1143: RuntimeWarning: invalid value encountered in true_divide\n",
      "  if not reflexive\n"
     ]
    },
    {
     "data": {
      "text/plain": [
       "<xarray.DataArray ()>\n",
       "array(0.009276557508167233)"
      ]
     },
     "execution_count": 71,
     "metadata": {},
     "output_type": "execute_result"
    }
   ],
   "source": [
    "ans1 = day1u.vozocrtx / delta_x\n",
    "ans1.max()"
   ]
  },
  {
   "cell_type": "code",
   "execution_count": 72,
   "metadata": {
    "collapsed": false
   },
   "outputs": [
    {
     "data": {
      "text/plain": [
       "3.0625"
      ]
     },
     "execution_count": 72,
     "metadata": {},
     "output_type": "execute_result"
    }
   ],
   "source": [
    "3.5/8*7"
   ]
  },
  {
   "cell_type": "code",
   "execution_count": 73,
   "metadata": {
    "collapsed": false
   },
   "outputs": [
    {
     "data": {
      "text/plain": [
       "<xarray.DataArray 'vozocrtx' (time_counter: 24, depthu: 40, y: 898, x: 398)>\n",
       "array([[[[ nan, ...,  nan],\n",
       "         ..., \n",
       "         [  0., ...,  nan]],\n",
       "\n",
       "        ..., \n",
       "        [[ nan, ...,  nan],\n",
       "         ..., \n",
       "         [  0., ...,  nan]]],\n",
       "\n",
       "\n",
       "       ..., \n",
       "       [[[ nan, ...,  nan],\n",
       "         ..., \n",
       "         [  0., ...,  nan]],\n",
       "\n",
       "        ..., \n",
       "        [[ nan, ...,  nan],\n",
       "         ..., \n",
       "         [  0., ...,  nan]]]])\n",
       "Coordinates:\n",
       "  * depthu         (depthu) float32 0.5 1.5 2.50001 3.50003 4.50007 5.50015 ...\n",
       "    nav_lat        (y, x) float32 0.0 0.0 0.0 0.0 0.0 0.0 0.0 0.0 0.0 0.0 ...\n",
       "    nav_lon        (y, x) float32 0.0 0.0 0.0 0.0 0.0 0.0 0.0 0.0 0.0 0.0 ...\n",
       "    time_centered  (time_counter) datetime64[ns] 2014-12-18T00:30:00 ...\n",
       "  * time_counter   (time_counter) datetime64[ns] 2014-12-18T00:30:00 ...\n",
       "Dimensions without coordinates: y, x\n",
       "Attributes:\n",
       "    standard_name:       sea_water_x_velocity\n",
       "    long_name:           ocean current along i-axis\n",
       "    units:               m/s\n",
       "    online_operation:    average\n",
       "    interval_operation:  40 s\n",
       "    interval_write:      1 h\n",
       "    cell_methods:        time: mean (interval: 40 s)\n",
       "    cell_measures:       area: area"
      ]
     },
     "execution_count": 73,
     "metadata": {},
     "output_type": "execute_result"
    }
   ],
   "source": [
    "day1u.vozocrtx"
   ]
  },
  {
   "cell_type": "code",
   "execution_count": 74,
   "metadata": {
    "collapsed": false
   },
   "outputs": [
    {
     "data": {
      "text/plain": [
       "<xarray.DataArray 'e1u' (t: 1, y: 898, x: 398)>\n",
       "array([[[   0.      ,    0.      , ...,    0.      ,    0.      ],\n",
       "        [   0.      ,    0.      , ...,    0.      ,    0.      ],\n",
       "        ..., \n",
       "        [ 464.063552,  463.358206, ...,    0.      ,    0.      ],\n",
       "        [ 467.052857,  465.852574, ...,    0.      ,    0.      ]]])\n",
       "Dimensions without coordinates: t, y, x"
      ]
     },
     "execution_count": 74,
     "metadata": {},
     "output_type": "execute_result"
    }
   ],
   "source": [
    "delta_x"
   ]
  },
  {
   "cell_type": "code",
   "execution_count": 79,
   "metadata": {
    "collapsed": false
   },
   "outputs": [
    {
     "name": "stderr",
     "output_type": "stream",
     "text": [
      "/home/vdo/anaconda3/lib/python3.6/site-packages/xarray/core/variable.py:1143: RuntimeWarning: invalid value encountered in true_divide\n",
      "  if not reflexive\n"
     ]
    },
    {
     "data": {
      "text/plain": [
       "xarray.core.dataarray.DataArray"
      ]
     },
     "execution_count": 79,
     "metadata": {},
     "output_type": "execute_result"
    }
   ],
   "source": [
    "ans1 = day1u.vozocrtx / delta_x \n",
    "type(ans1)"
   ]
  },
  {
   "cell_type": "code",
   "execution_count": 81,
   "metadata": {
    "collapsed": false
   },
   "outputs": [
    {
     "name": "stderr",
     "output_type": "stream",
     "text": [
      "/home/vdo/anaconda3/lib/python3.6/site-packages/xarray/core/variable.py:1143: RuntimeWarning: invalid value encountered in true_divide\n",
      "  if not reflexive\n"
     ]
    },
    {
     "data": {
      "text/plain": [
       "<xarray.DataArray (depthu: 40, y: 898, x: 398, t: 1)>\n",
       "array([[[[ nan],\n",
       "         ..., \n",
       "         [ nan]],\n",
       "\n",
       "        ..., \n",
       "        [[  0.],\n",
       "         ..., \n",
       "         [ nan]]],\n",
       "\n",
       "\n",
       "       ..., \n",
       "       [[[ nan],\n",
       "         ..., \n",
       "         [ nan]],\n",
       "\n",
       "        ..., \n",
       "        [[  0.],\n",
       "         ..., \n",
       "         [ nan]]]])\n",
       "Coordinates:\n",
       "  * depthu         (depthu) float32 0.5 1.5 2.50001 3.50003 4.50007 5.50015 ...\n",
       "    nav_lat        (y, x) float32 0.0 0.0 0.0 0.0 0.0 0.0 0.0 0.0 0.0 0.0 ...\n",
       "    nav_lon        (y, x) float32 0.0 0.0 0.0 0.0 0.0 0.0 0.0 0.0 0.0 0.0 ...\n",
       "    time_centered  datetime64[ns] 2014-12-18T01:30:00\n",
       "    time_counter   datetime64[ns] 2014-12-18T01:30:00\n",
       "Dimensions without coordinates: y, x, t"
      ]
     },
     "execution_count": 81,
     "metadata": {},
     "output_type": "execute_result"
    }
   ],
   "source": [
    "day1u.vozocrtx.isel(time_counter=1) / delta_x"
   ]
  },
  {
   "cell_type": "code",
   "execution_count": 85,
   "metadata": {
    "collapsed": false
   },
   "outputs": [
    {
     "data": {
      "text/plain": [
       "522001"
      ]
     },
     "execution_count": 85,
     "metadata": {},
     "output_type": "execute_result"
    }
   ],
   "source": [
    "24*60*7 + 511921\n"
   ]
  },
  {
   "cell_type": "code",
   "execution_count": 86,
   "metadata": {
    "collapsed": false
   },
   "outputs": [
    {
     "data": {
      "text/plain": [
       "2.333333333333333"
      ]
     },
     "execution_count": 86,
     "metadata": {},
     "output_type": "execute_result"
    }
   ],
   "source": [
    "2/6*7"
   ]
  },
  {
   "cell_type": "code",
   "execution_count": 87,
   "metadata": {
    "collapsed": false
   },
   "outputs": [
    {
     "data": {
      "text/plain": [
       "3.0625"
      ]
     },
     "execution_count": 87,
     "metadata": {},
     "output_type": "execute_result"
    }
   ],
   "source": [
    "3.5/8*7"
   ]
  },
  {
   "cell_type": "code",
   "execution_count": null,
   "metadata": {
    "collapsed": true
   },
   "outputs": [],
   "source": []
  }
 ],
 "metadata": {
  "kernelspec": {
   "display_name": "Python 3",
   "language": "python",
   "name": "python3"
  },
  "language_info": {
   "codemirror_mode": {
    "name": "ipython",
    "version": 3
   },
   "file_extension": ".py",
   "mimetype": "text/x-python",
   "name": "python",
   "nbconvert_exporter": "python",
   "pygments_lexer": "ipython3",
   "version": "3.6.0"
  }
 },
 "nbformat": 4,
 "nbformat_minor": 2
}
