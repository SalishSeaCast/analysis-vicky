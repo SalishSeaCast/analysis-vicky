{
 "cells": [
  {
   "cell_type": "code",
   "execution_count": 1,
   "metadata": {},
   "outputs": [],
   "source": [
    "import os\n",
    "import rasterio as rio\n",
    "import numpy as np\n",
    "import matplotlib.pyplot as plt\n",
    "from rasterio.plot import show\n",
    "from numpy.random import choice\n",
    "import geopandas as gpd\n",
    "import earthpy as et\n",
    "import datetime as dt"
   ]
  },
  {
   "cell_type": "code",
   "execution_count": 2,
   "metadata": {},
   "outputs": [
    {
     "data": {
      "text/html": [
       "<script>\n",
       "code_show=true; \n",
       "function code_toggle() {\n",
       " if (code_show){\n",
       " $('div.input').hide();\n",
       " } else {\n",
       " $('div.input').show();\n",
       " }\n",
       " code_show = !code_show\n",
       "} \n",
       "$( document ).ready(code_toggle);\n",
       "</script>\n",
       "\n",
       "<form action=\"javascript:code_toggle()\"><input type=\"submit\" value=\"Click here to toggle on/off the raw code.\"></form>"
      ],
      "text/plain": [
       "<IPython.core.display.HTML object>"
      ]
     },
     "execution_count": 2,
     "metadata": {},
     "output_type": "execute_result"
    }
   ],
   "source": [
    "from IPython.display import HTML\n",
    "\n",
    "HTML('''<script>\n",
    "code_show=true; \n",
    "function code_toggle() {\n",
    " if (code_show){\n",
    " $('div.input').hide();\n",
    " } else {\n",
    " $('div.input').show();\n",
    " }\n",
    " code_show = !code_show\n",
    "} \n",
    "$( document ).ready(code_toggle);\n",
    "</script>\n",
    "\n",
    "<form action=\"javascript:code_toggle()\"><input type=\"submit\" value=\"Click here to toggle on/off the raw code.\"></form>''')\n"
   ]
  },
  {
   "cell_type": "code",
   "execution_count": 3,
   "metadata": {},
   "outputs": [],
   "source": [
    "sjer_plot_locations = gpd.read_file('/home/vdo/Downloads/September_2018_Cargo_Tracks.shp')"
   ]
  },
  {
   "cell_type": "code",
   "execution_count": 4,
   "metadata": {},
   "outputs": [
    {
     "data": {
      "text/plain": [
       "(533577, 28)"
      ]
     },
     "execution_count": 4,
     "metadata": {},
     "output_type": "execute_result"
    }
   ],
   "source": [
    "sjer_plot_locations.shape"
   ]
  },
  {
   "cell_type": "code",
   "execution_count": 5,
   "metadata": {},
   "outputs": [
    {
     "data": {
      "text/html": [
       "<div>\n",
       "<style scoped>\n",
       "    .dataframe tbody tr th:only-of-type {\n",
       "        vertical-align: middle;\n",
       "    }\n",
       "\n",
       "    .dataframe tbody tr th {\n",
       "        vertical-align: top;\n",
       "    }\n",
       "\n",
       "    .dataframe thead th {\n",
       "        text-align: right;\n",
       "    }\n",
       "</style>\n",
       "<table border=\"1\" class=\"dataframe\">\n",
       "  <thead>\n",
       "    <tr style=\"text-align: right;\">\n",
       "      <th></th>\n",
       "      <th>OBJECTID</th>\n",
       "      <th>TRACKID</th>\n",
       "      <th>MMSI</th>\n",
       "      <th>ELP_SEC</th>\n",
       "      <th>ST_DATE</th>\n",
       "      <th>EN_DATE</th>\n",
       "      <th>SOGPT1</th>\n",
       "      <th>SOGPT2</th>\n",
       "      <th>AVG_SOG</th>\n",
       "      <th>DISTSPDKTS</th>\n",
       "      <th>...</th>\n",
       "      <th>Fuel_Type</th>\n",
       "      <th>Fuel_Categ</th>\n",
       "      <th>Oil_Cargo_</th>\n",
       "      <th>Oil_Cargo1</th>\n",
       "      <th>Fuel_Capac</th>\n",
       "      <th>Oil_Carg_1</th>\n",
       "      <th>F9</th>\n",
       "      <th>Shape_Leng</th>\n",
       "      <th>DISTSPDKM</th>\n",
       "      <th>geometry</th>\n",
       "    </tr>\n",
       "  </thead>\n",
       "  <tbody>\n",
       "    <tr>\n",
       "      <td>0</td>\n",
       "      <td>1</td>\n",
       "      <td>0.0</td>\n",
       "      <td>209109000</td>\n",
       "      <td>5.0</td>\n",
       "      <td>2018-09-10 22:42:23</td>\n",
       "      <td>2018-09-10 22:42:28</td>\n",
       "      <td>11.7</td>\n",
       "      <td>11.8</td>\n",
       "      <td>11.8</td>\n",
       "      <td>7.2</td>\n",
       "      <td>...</td>\n",
       "      <td>Low Sulfur Fuel Oil</td>\n",
       "      <td>Heavy Floater</td>\n",
       "      <td>N/A</td>\n",
       "      <td>N/A</td>\n",
       "      <td>=1.81*10^6+(-5713*Length)+(5.92*Length)^2'</td>\n",
       "      <td>N/A</td>\n",
       "      <td>None</td>\n",
       "      <td>18.510487</td>\n",
       "      <td>22</td>\n",
       "      <td>LINESTRING (1009186.073899999 331727.304199999...</td>\n",
       "    </tr>\n",
       "    <tr>\n",
       "      <td>1</td>\n",
       "      <td>2</td>\n",
       "      <td>1.0</td>\n",
       "      <td>209109000</td>\n",
       "      <td>53.0</td>\n",
       "      <td>2018-09-10 22:42:28</td>\n",
       "      <td>2018-09-10 22:43:21</td>\n",
       "      <td>11.8</td>\n",
       "      <td>11.9</td>\n",
       "      <td>11.9</td>\n",
       "      <td>11.9</td>\n",
       "      <td>...</td>\n",
       "      <td>Low Sulfur Fuel Oil</td>\n",
       "      <td>Heavy Floater</td>\n",
       "      <td>N/A</td>\n",
       "      <td>N/A</td>\n",
       "      <td>=1.81*10^6+(-5713*Length)+(5.92*Length)^2'</td>\n",
       "      <td>N/A</td>\n",
       "      <td>None</td>\n",
       "      <td>324.508015</td>\n",
       "      <td>22</td>\n",
       "      <td>LINESTRING (1009201.6467 331737.3104999997, 10...</td>\n",
       "    </tr>\n",
       "    <tr>\n",
       "      <td>2</td>\n",
       "      <td>3</td>\n",
       "      <td>2.0</td>\n",
       "      <td>209109000</td>\n",
       "      <td>169.0</td>\n",
       "      <td>2018-09-10 22:43:21</td>\n",
       "      <td>2018-09-10 22:46:10</td>\n",
       "      <td>11.9</td>\n",
       "      <td>11.9</td>\n",
       "      <td>11.9</td>\n",
       "      <td>12.1</td>\n",
       "      <td>...</td>\n",
       "      <td>Low Sulfur Fuel Oil</td>\n",
       "      <td>Heavy Floater</td>\n",
       "      <td>N/A</td>\n",
       "      <td>N/A</td>\n",
       "      <td>=1.81*10^6+(-5713*Length)+(5.92*Length)^2'</td>\n",
       "      <td>N/A</td>\n",
       "      <td>None</td>\n",
       "      <td>1048.430250</td>\n",
       "      <td>22</td>\n",
       "      <td>LINESTRING (1009483.9781 331897.2930999994, 10...</td>\n",
       "    </tr>\n",
       "    <tr>\n",
       "      <td>3</td>\n",
       "      <td>4</td>\n",
       "      <td>3.0</td>\n",
       "      <td>209109000</td>\n",
       "      <td>46.0</td>\n",
       "      <td>2018-09-10 22:46:10</td>\n",
       "      <td>2018-09-10 22:46:56</td>\n",
       "      <td>11.9</td>\n",
       "      <td>12.1</td>\n",
       "      <td>12.0</td>\n",
       "      <td>12.1</td>\n",
       "      <td>...</td>\n",
       "      <td>Low Sulfur Fuel Oil</td>\n",
       "      <td>Heavy Floater</td>\n",
       "      <td>N/A</td>\n",
       "      <td>N/A</td>\n",
       "      <td>=1.81*10^6+(-5713*Length)+(5.92*Length)^2'</td>\n",
       "      <td>N/A</td>\n",
       "      <td>None</td>\n",
       "      <td>285.784024</td>\n",
       "      <td>22</td>\n",
       "      <td>LINESTRING (1010401.274499999 332405.006899999...</td>\n",
       "    </tr>\n",
       "    <tr>\n",
       "      <td>4</td>\n",
       "      <td>5</td>\n",
       "      <td>4.0</td>\n",
       "      <td>209109000</td>\n",
       "      <td>9.0</td>\n",
       "      <td>2018-09-10 22:46:56</td>\n",
       "      <td>2018-09-10 22:47:05</td>\n",
       "      <td>12.1</td>\n",
       "      <td>12.0</td>\n",
       "      <td>12.1</td>\n",
       "      <td>10.7</td>\n",
       "      <td>...</td>\n",
       "      <td>Low Sulfur Fuel Oil</td>\n",
       "      <td>Heavy Floater</td>\n",
       "      <td>N/A</td>\n",
       "      <td>N/A</td>\n",
       "      <td>=1.81*10^6+(-5713*Length)+(5.92*Length)^2'</td>\n",
       "      <td>N/A</td>\n",
       "      <td>None</td>\n",
       "      <td>49.516635</td>\n",
       "      <td>22</td>\n",
       "      <td>LINESTRING (1010648.4014 332548.5366999991, 10...</td>\n",
       "    </tr>\n",
       "  </tbody>\n",
       "</table>\n",
       "<p>5 rows × 28 columns</p>\n",
       "</div>"
      ],
      "text/plain": [
       "   OBJECTID  TRACKID       MMSI  ELP_SEC              ST_DATE  \\\n",
       "0         1      0.0  209109000      5.0  2018-09-10 22:42:23   \n",
       "1         2      1.0  209109000     53.0  2018-09-10 22:42:28   \n",
       "2         3      2.0  209109000    169.0  2018-09-10 22:43:21   \n",
       "3         4      3.0  209109000     46.0  2018-09-10 22:46:10   \n",
       "4         5      4.0  209109000      9.0  2018-09-10 22:46:56   \n",
       "\n",
       "               EN_DATE  SOGPT1  SOGPT2  AVG_SOG  DISTSPDKTS  ...  \\\n",
       "0  2018-09-10 22:42:28    11.7    11.8     11.8         7.2  ...   \n",
       "1  2018-09-10 22:43:21    11.8    11.9     11.9        11.9  ...   \n",
       "2  2018-09-10 22:46:10    11.9    11.9     11.9        12.1  ...   \n",
       "3  2018-09-10 22:46:56    11.9    12.1     12.0        12.1  ...   \n",
       "4  2018-09-10 22:47:05    12.1    12.0     12.1        10.7  ...   \n",
       "\n",
       "             Fuel_Type     Fuel_Categ Oil_Cargo_  Oil_Cargo1  \\\n",
       "0  Low Sulfur Fuel Oil  Heavy Floater        N/A         N/A   \n",
       "1  Low Sulfur Fuel Oil  Heavy Floater        N/A         N/A   \n",
       "2  Low Sulfur Fuel Oil  Heavy Floater        N/A         N/A   \n",
       "3  Low Sulfur Fuel Oil  Heavy Floater        N/A         N/A   \n",
       "4  Low Sulfur Fuel Oil  Heavy Floater        N/A         N/A   \n",
       "\n",
       "                                   Fuel_Capac  Oil_Carg_1    F9   Shape_Leng  \\\n",
       "0  =1.81*10^6+(-5713*Length)+(5.92*Length)^2'         N/A  None    18.510487   \n",
       "1  =1.81*10^6+(-5713*Length)+(5.92*Length)^2'         N/A  None   324.508015   \n",
       "2  =1.81*10^6+(-5713*Length)+(5.92*Length)^2'         N/A  None  1048.430250   \n",
       "3  =1.81*10^6+(-5713*Length)+(5.92*Length)^2'         N/A  None   285.784024   \n",
       "4  =1.81*10^6+(-5713*Length)+(5.92*Length)^2'         N/A  None    49.516635   \n",
       "\n",
       "  DISTSPDKM                                           geometry  \n",
       "0        22  LINESTRING (1009186.073899999 331727.304199999...  \n",
       "1        22  LINESTRING (1009201.6467 331737.3104999997, 10...  \n",
       "2        22  LINESTRING (1009483.9781 331897.2930999994, 10...  \n",
       "3        22  LINESTRING (1010401.274499999 332405.006899999...  \n",
       "4        22  LINESTRING (1010648.4014 332548.5366999991, 10...  \n",
       "\n",
       "[5 rows x 28 columns]"
      ]
     },
     "execution_count": 5,
     "metadata": {},
     "output_type": "execute_result"
    }
   ],
   "source": [
    "sjer_plot_locations.head()"
   ]
  },
  {
   "cell_type": "code",
   "execution_count": 6,
   "metadata": {},
   "outputs": [
    {
     "name": "stdout",
     "output_type": "stream",
     "text": [
      "OBJECTID\n",
      "TRACKID\n",
      "MMSI\n",
      "ELP_SEC\n",
      "ST_DATE\n",
      "EN_DATE\n",
      "SOGPT1\n",
      "SOGPT2\n",
      "AVG_SOG\n",
      "DISTSPDKTS\n",
      "SEG_LEN_KM\n",
      "COARSE_TYP\n",
      "SIMPLE_TYP\n",
      "IMO\n",
      "LENGTH\n",
      "OBJECTID_1\n",
      "AIS_Numeri\n",
      "AIS_Shipty\n",
      "Fuel_Type\n",
      "Fuel_Categ\n",
      "Oil_Cargo_\n",
      "Oil_Cargo1\n",
      "Fuel_Capac\n",
      "Oil_Carg_1\n",
      "F9\n",
      "Shape_Leng\n",
      "DISTSPDKM\n",
      "geometry\n"
     ]
    }
   ],
   "source": [
    "for c in sjer_plot_locations.columns:\n",
    "    print(c)"
   ]
  },
  {
   "cell_type": "code",
   "execution_count": 7,
   "metadata": {},
   "outputs": [
    {
     "data": {
      "text/plain": [
       "0         LINESTRING (1009186.073899999 331727.304199999...\n",
       "1         LINESTRING (1009201.6467 331737.3104999997, 10...\n",
       "2         LINESTRING (1009483.9781 331897.2930999994, 10...\n",
       "3         LINESTRING (1010401.274499999 332405.006899999...\n",
       "4         LINESTRING (1010648.4014 332548.5366999991, 10...\n",
       "                                ...                        \n",
       "533572    LINESTRING (1240605.2652 356043.8478999995, 12...\n",
       "533573    LINESTRING (1240771.4081 355933.5546000004, 12...\n",
       "533574    LINESTRING (1242768.457699999 354447.005799999...\n",
       "533575    LINESTRING (1244290.4827 353259.1302000005, 12...\n",
       "533576    LINESTRING (1247415.304400001 350791.126800000...\n",
       "Name: geometry, Length: 533577, dtype: object"
      ]
     },
     "execution_count": 7,
     "metadata": {},
     "output_type": "execute_result"
    }
   ],
   "source": [
    "sjer_plot_locations.geometry"
   ]
  },
  {
   "cell_type": "code",
   "execution_count": 8,
   "metadata": {},
   "outputs": [
    {
     "data": {
      "image/svg+xml": [
       "<svg xmlns=\"http://www.w3.org/2000/svg\" xmlns:xlink=\"http://www.w3.org/1999/xlink\" width=\"100.0\" height=\"100.0\" viewBox=\"1009185.4509879992 331726.68128799915 16.818624001229182 11.25212400057353\" preserveAspectRatio=\"xMinYMin meet\"><g transform=\"matrix(1,0,0,-1,0,663464.6146999989)\"><polyline fill=\"none\" stroke=\"#66cc99\" stroke-width=\"0.33637248002458364\" points=\"1009186.0738999993,331727.3041999992 1009201.6467000004,331737.3104999997\" opacity=\"0.8\" /></g></svg>"
      ],
      "text/plain": [
       "<shapely.geometry.linestring.LineString at 0x7f136fdbea90>"
      ]
     },
     "execution_count": 8,
     "metadata": {},
     "output_type": "execute_result"
    }
   ],
   "source": [
    "sjer_plot_locations.geometry[0]"
   ]
  },
  {
   "cell_type": "code",
   "execution_count": 10,
   "metadata": {},
   "outputs": [
    {
     "data": {
      "text/plain": [
       "shapely.geometry.linestring.LineString"
      ]
     },
     "execution_count": 10,
     "metadata": {},
     "output_type": "execute_result"
    }
   ],
   "source": [
    "type(sjer_plot_locations.geometry[0])"
   ]
  },
  {
   "cell_type": "code",
   "execution_count": 9,
   "metadata": {},
   "outputs": [
    {
     "data": {
      "text/plain": [
       "[(1009186.0738999993, 331727.3041999992),\n",
       " (1009201.6467000004, 331737.3104999997)]"
      ]
     },
     "execution_count": 9,
     "metadata": {},
     "output_type": "execute_result"
    }
   ],
   "source": [
    "sjer_plot_locations.geometry[0].coords[:]"
   ]
  },
  {
   "cell_type": "code",
   "execution_count": null,
   "metadata": {},
   "outputs": [],
   "source": []
  }
 ],
 "metadata": {
  "kernelspec": {
   "display_name": "Python 3",
   "language": "python",
   "name": "python3"
  },
  "language_info": {
   "codemirror_mode": {
    "name": "ipython",
    "version": 3
   },
   "file_extension": ".py",
   "mimetype": "text/x-python",
   "name": "python",
   "nbconvert_exporter": "python",
   "pygments_lexer": "ipython3",
   "version": "3.7.3"
  }
 },
 "nbformat": 4,
 "nbformat_minor": 4
}
