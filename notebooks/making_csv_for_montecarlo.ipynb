{
 "cells": [
  {
   "cell_type": "code",
   "execution_count": 1,
   "metadata": {},
   "outputs": [
    {
     "data": {
      "text/html": [
       "<style>.container { width:90% !important; }</style>"
      ],
      "text/plain": [
       "<IPython.core.display.HTML object>"
      ]
     },
     "metadata": {},
     "output_type": "display_data"
    }
   ],
   "source": [
    "import netCDF4 as nc\n",
    "import numpy as np\n",
    "import matplotlib.pyplot as plt\n",
    "from salishsea_tools import geo_tools, nc_tools, tidetools, viz_tools\n",
    "import xarray as xr\n",
    "import datetime\n",
    "import pandas as pd\n",
    "import datetime as dt\n",
    "#import h5py\n",
    "import matplotlib.patches as patches\n",
    "from IPython.core.display import display, HTML\n",
    "display(HTML(\"<style>.container { width:90% !important; }</style>\"))\n",
    "\n",
    "%matplotlib inline"
   ]
  },
  {
   "cell_type": "code",
   "execution_count": 2,
   "metadata": {},
   "outputs": [
    {
     "data": {
      "text/html": [
       "<script>\n",
       "code_show=true; \n",
       "function code_toggle() {\n",
       " if (code_show){\n",
       " $('div.input').hide();\n",
       " } else {\n",
       " $('div.input').show();\n",
       " }\n",
       " code_show = !code_show\n",
       "} \n",
       "$( document ).ready(code_toggle);\n",
       "</script>\n",
       "<form action=\"javascript:code_toggle()\"><input type=\"submit\" value=\"Click here to toggle on/off the raw code.\"></form>"
      ],
      "text/plain": [
       "<IPython.core.display.HTML object>"
      ]
     },
     "execution_count": 2,
     "metadata": {},
     "output_type": "execute_result"
    }
   ],
   "source": [
    "from IPython.display import HTML\n",
    "\n",
    "HTML('''<script>\n",
    "code_show=true; \n",
    "function code_toggle() {\n",
    " if (code_show){\n",
    " $('div.input').hide();\n",
    " } else {\n",
    " $('div.input').show();\n",
    " }\n",
    " code_show = !code_show\n",
    "} \n",
    "$( document ).ready(code_toggle);\n",
    "</script>\n",
    "<form action=\"javascript:code_toggle()\"><input type=\"submit\" value=\"Click here to toggle on/off the raw code.\"></form>''')\n"
   ]
  },
  {
   "cell_type": "code",
   "execution_count": null,
   "metadata": {},
   "outputs": [],
   "source": []
  },
  {
   "cell_type": "code",
   "execution_count": null,
   "metadata": {},
   "outputs": [],
   "source": []
  },
  {
   "cell_type": "code",
   "execution_count": 3,
   "metadata": {},
   "outputs": [],
   "source": [
    "setup = pd.DataFrame(columns = ['spill_date_hour', 'run_days', 'spill_lon', \n",
    "                                'spill_lat', 'Lagranian_template'])"
   ]
  },
  {
   "cell_type": "code",
   "execution_count": 4,
   "metadata": {},
   "outputs": [],
   "source": [
    "lons = np.array([-123.235, -123.238, -123.241, -123.240, -123.243])\n",
    "lats = np.array([48.670, 48.700, 48.691, 48.694, 48.698])"
   ]
  },
  {
   "cell_type": "code",
   "execution_count": 5,
   "metadata": {},
   "outputs": [],
   "source": [
    "setup.spill_lat = lats\n",
    "setup.spill_lon = lons"
   ]
  },
  {
   "cell_type": "code",
   "execution_count": 6,
   "metadata": {},
   "outputs": [],
   "source": [
    "day = datetime.datetime(2017, 11, 21, 2)"
   ]
  },
  {
   "cell_type": "code",
   "execution_count": 7,
   "metadata": {},
   "outputs": [],
   "source": [
    "setup = setup.assign(run_days = '7')\n",
    "setup = setup.assign(Lagranian_template = 'Lagrangian_AKNS_crude.dat')\n",
    "setup = setup.assign(spill_date_hour = day.strftime(\"%Y-%m-%d %H:00\"))"
   ]
  },
  {
   "cell_type": "code",
   "execution_count": 8,
   "metadata": {},
   "outputs": [
    {
     "data": {
      "text/html": [
       "<div>\n",
       "<style scoped>\n",
       "    .dataframe tbody tr th:only-of-type {\n",
       "        vertical-align: middle;\n",
       "    }\n",
       "\n",
       "    .dataframe tbody tr th {\n",
       "        vertical-align: top;\n",
       "    }\n",
       "\n",
       "    .dataframe thead th {\n",
       "        text-align: right;\n",
       "    }\n",
       "</style>\n",
       "<table border=\"1\" class=\"dataframe\">\n",
       "  <thead>\n",
       "    <tr style=\"text-align: right;\">\n",
       "      <th></th>\n",
       "      <th>spill_date_hour</th>\n",
       "      <th>run_days</th>\n",
       "      <th>spill_lon</th>\n",
       "      <th>spill_lat</th>\n",
       "      <th>Lagranian_template</th>\n",
       "    </tr>\n",
       "  </thead>\n",
       "  <tbody>\n",
       "    <tr>\n",
       "      <td>0</td>\n",
       "      <td>2017-11-21 02:00</td>\n",
       "      <td>7</td>\n",
       "      <td>-123.235</td>\n",
       "      <td>48.670</td>\n",
       "      <td>Lagrangian_AKNS_crude.dat</td>\n",
       "    </tr>\n",
       "    <tr>\n",
       "      <td>1</td>\n",
       "      <td>2017-11-21 02:00</td>\n",
       "      <td>7</td>\n",
       "      <td>-123.238</td>\n",
       "      <td>48.700</td>\n",
       "      <td>Lagrangian_AKNS_crude.dat</td>\n",
       "    </tr>\n",
       "    <tr>\n",
       "      <td>2</td>\n",
       "      <td>2017-11-21 02:00</td>\n",
       "      <td>7</td>\n",
       "      <td>-123.241</td>\n",
       "      <td>48.691</td>\n",
       "      <td>Lagrangian_AKNS_crude.dat</td>\n",
       "    </tr>\n",
       "    <tr>\n",
       "      <td>3</td>\n",
       "      <td>2017-11-21 02:00</td>\n",
       "      <td>7</td>\n",
       "      <td>-123.240</td>\n",
       "      <td>48.694</td>\n",
       "      <td>Lagrangian_AKNS_crude.dat</td>\n",
       "    </tr>\n",
       "    <tr>\n",
       "      <td>4</td>\n",
       "      <td>2017-11-21 02:00</td>\n",
       "      <td>7</td>\n",
       "      <td>-123.243</td>\n",
       "      <td>48.698</td>\n",
       "      <td>Lagrangian_AKNS_crude.dat</td>\n",
       "    </tr>\n",
       "  </tbody>\n",
       "</table>\n",
       "</div>"
      ],
      "text/plain": [
       "    spill_date_hour run_days  spill_lon  spill_lat         Lagranian_template\n",
       "0  2017-11-21 02:00        7   -123.235     48.670  Lagrangian_AKNS_crude.dat\n",
       "1  2017-11-21 02:00        7   -123.238     48.700  Lagrangian_AKNS_crude.dat\n",
       "2  2017-11-21 02:00        7   -123.241     48.691  Lagrangian_AKNS_crude.dat\n",
       "3  2017-11-21 02:00        7   -123.240     48.694  Lagrangian_AKNS_crude.dat\n",
       "4  2017-11-21 02:00        7   -123.243     48.698  Lagrangian_AKNS_crude.dat"
      ]
     },
     "execution_count": 8,
     "metadata": {},
     "output_type": "execute_result"
    }
   ],
   "source": [
    "setup"
   ]
  },
  {
   "cell_type": "code",
   "execution_count": 9,
   "metadata": {},
   "outputs": [],
   "source": [
    "setup.to_csv('/ocean/vdo/MIDOSS/InOneSSGrid3.csv', index=False)"
   ]
  },
  {
   "cell_type": "code",
   "execution_count": null,
   "metadata": {},
   "outputs": [],
   "source": []
  }
 ],
 "metadata": {
  "kernelspec": {
   "display_name": "Python 3",
   "language": "python",
   "name": "python3"
  },
  "language_info": {
   "codemirror_mode": {
    "name": "ipython",
    "version": 3
   },
   "file_extension": ".py",
   "mimetype": "text/x-python",
   "name": "python",
   "nbconvert_exporter": "python",
   "pygments_lexer": "ipython3",
   "version": "3.6.8"
  }
 },
 "nbformat": 4,
 "nbformat_minor": 2
}
