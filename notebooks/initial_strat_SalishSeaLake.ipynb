{
 "cells": [
  {
   "cell_type": "markdown",
   "metadata": {},
   "source": [
    "## Initial Strat Files for SalishSeaLake\n",
    "### May 17, 2017"
   ]
  },
  {
   "cell_type": "code",
   "execution_count": 1,
   "metadata": {
    "collapsed": true
   },
   "outputs": [],
   "source": [
    "import xarray as xr\n",
    "import numpy as np\n",
    "import matplotlib.pyplot as plt\n",
    "%matplotlib inline\n",
    "from salishsea_tools import timeseries_tools"
   ]
  },
  {
   "cell_type": "code",
   "execution_count": 8,
   "metadata": {
    "collapsed": true
   },
   "outputs": [],
   "source": [
    "dropped_variables = ['area','bounds_lon','bounds_lat','deptht_bounds','sossheig',\n",
    "                     'time_centered_bounds','time_counter_bounds','buoy_n2','mixed_depth']\n",
    "insert_number_here = 3\n",
    "ones = np.ones((40,898,398))"
   ]
  },
  {
   "cell_type": "markdown",
   "metadata": {},
   "source": [
    "### January data"
   ]
  },
  {
   "cell_type": "code",
   "execution_count": 22,
   "metadata": {
    "collapsed": false
   },
   "outputs": [
    {
     "name": "stderr",
     "output_type": "stream",
     "text": [
      "/home/vdo/anaconda3/lib/python3.6/site-packages/dask/array/numpy_compat.py:45: RuntimeWarning: invalid value encountered in true_divide\n",
      "  x = np.divide(x1, x2, out)\n"
     ]
    },
    {
     "data": {
      "text/plain": [
       "<xarray.Dataset>\n",
       "Dimensions:       (deptht: 40, x: 398, y: 898)\n",
       "Coordinates:\n",
       "  * deptht        (deptht) float32 0.5 1.5 2.50001 3.50003 4.50007 5.50015 ...\n",
       "    nav_lat       (y, x) float32 46.8597 46.8615 46.8634 46.8653 46.8672 ...\n",
       "    nav_lon       (y, x) float32 -123.429 -123.424 -123.419 -123.413 ...\n",
       "    time_counter  int64 3\n",
       "Dimensions without coordinates: x, y\n",
       "Data variables:\n",
       "    vosaline      (deptht, y, x) float64 26.97 26.97 26.97 26.97 26.97 26.97 ...\n",
       "    votemper      (deptht, y, x) float64 6.055 6.055 6.055 6.055 6.055 6.055 ..."
      ]
     },
     "execution_count": 22,
     "metadata": {},
     "output_type": "execute_result"
    }
   ],
   "source": [
    "timerange1 = ['2017-01-01','2017-02-01']\n",
    "Jan_time_series = timeseries_tools.make_filename_list(timerange1,'T',model = 'nowcast-green',resolution='d')\n",
    "Jan_data = xr.open_mfdataset(Jan_time_series)\n",
    "averaged_in_time_Jan = Jan_data.mean(dim='time_counter')\n",
    "new1 = averaged_in_time_Jan.drop(dropped_variables)\n",
    "new3 = new1.assign_coords(time_counter = insert_number_here).expand_dims('time_counter',1)\n",
    "new4 = new3.squeeze('time_counter')\n",
    "new5 = new4.where(new4.vosaline != 0).mean(['x','y'],skipna = True)\n",
    "\n",
    "saline = new5.vosaline.values\n",
    "saline = np.expand_dims(saline,axis=1)\n",
    "saline = np.expand_dims(saline,axis=2)\n",
    "saline = saline*ones\n",
    "\n",
    "temp = new5.votemper.values\n",
    "temp= np.expand_dims(temp,axis=1)\n",
    "temp = np.expand_dims(temp,axis=2)\n",
    "temp = temp*ones\n",
    "\n",
    "nav_lon2 = new4.nav_lon.values\n",
    "nav_lat2 = new4.nav_lat.values\n",
    "deptht2 = new4.deptht.values\n",
    "\n",
    "new_winter = xr.Dataset({'vosaline':(['deptht','y','x'], saline),\n",
    "                         'votemper':(['deptht','y','x'],temp)},\n",
    "                        coords={'deptht':(['deptht'], deptht2), \n",
    "                                'nav_lat':(['y','x'], nav_lat2),\n",
    "                                'nav_lon':(['y','x'], nav_lon2),\n",
    "                                'time_counter': 3})\n",
    "\n",
    "new_winter"
   ]
  },
  {
   "cell_type": "code",
   "execution_count": 23,
   "metadata": {
    "collapsed": false
   },
   "outputs": [
    {
     "name": "stdout",
     "output_type": "stream",
     "text": [
      "syncing\n"
     ]
    }
   ],
   "source": [
    "new_winter.to_netcdf('/home/vdo/MEOPAR/NEMO-forcing/initial_strat/winter2017_notmasked.nc')"
   ]
  },
  {
   "cell_type": "markdown",
   "metadata": {},
   "source": [
    "### June data"
   ]
  },
  {
   "cell_type": "code",
   "execution_count": null,
   "metadata": {
    "collapsed": false
   },
   "outputs": [],
   "source": [
    "timerange2 = ['2016-06-01','2016-07-01']\n",
    "Jun_time_series = timeseries_tools.make_filename_list(timerange2,'T',model='nowcast-green',resolution='d')\n",
    "Jun_data = xr.open_mfdataset(Jun_time_series)\n",
    "averaged_in_time_Jun = Jun_data.mean(dim='time_counter')\n",
    "newa = averaged_in_time_Jan.drop(dropped_variables)\n",
    "newb = newa.assign_coords(time_counter = insert_number_here).expand_dims('time_counter',1)\n",
    "newc = newb.squeeze('time_counter')\n",
    "newd = newc.where(new4.vosaline != 0).mean(['x','y'],skipna = True)\n",
    "\n",
    "saline_Jun = newd.vosaline.values\n",
    "saline_Jun = np.expand_dims(saline_Jun,axis=1)\n",
    "saline_Jun = np.expand_dims(saline_Jun,axis=2)\n",
    "saline_Jun = saline_Jun*ones\n",
    "\n",
    "temp_Jun = newd.votemper.values\n",
    "temp_Jun = np.expand_dims(temp_Jun,axis=1)\n",
    "temp_Jun = np.expand_dims(temp_Jun,axis=2)\n",
    "temp_Jun = temp_Jun*ones\n",
    "\n",
    "nav_lon_Jun = newc.nav_lon.values\n",
    "nav_lat_Jun = newc.nav_lat.values\n",
    "deptht_Jun = newc.deptht.values\n",
    "\n",
    "new_summer = xr.Dataset({'vosaline':(['deptht','y','x'], saline_Jun),\n",
    "                         'votemper':(['deptht','y','x'],temp_Jun)},\n",
    "                        coords={'deptht':(['deptht'], deptht_Jun), \n",
    "                                'nav_lat':(['y','x'], nav_lat_Jun),\n",
    "                                'nav_lon':(['y','x'], nav_lon_Jun),\n",
    "                                'time_counter': 3})\n",
    "\n",
    "new_summer"
   ]
  },
  {
   "cell_type": "code",
   "execution_count": null,
   "metadata": {
    "collapsed": true
   },
   "outputs": [],
   "source": []
  }
 ],
 "metadata": {
  "kernelspec": {
   "display_name": "Python 3",
   "language": "python",
   "name": "python3"
  },
  "language_info": {
   "codemirror_mode": {
    "name": "ipython",
    "version": 3
   },
   "file_extension": ".py",
   "mimetype": "text/x-python",
   "name": "python",
   "nbconvert_exporter": "python",
   "pygments_lexer": "ipython3",
   "version": "3.6.0"
  }
 },
 "nbformat": 4,
 "nbformat_minor": 2
}
