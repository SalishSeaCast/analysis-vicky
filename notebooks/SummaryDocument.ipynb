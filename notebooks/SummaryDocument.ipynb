{
 "cells": [
  {
   "cell_type": "markdown",
   "metadata": {},
   "source": [
    "# Big List of Things\n",
    "##  VAT tests \n",
    "* Lots of model runs with varying horizontal and vertical time steps were done. It was decided to have the horizontal time step at 40s and veritcal time step at 2s [spreadsheet](https://docs.google.com/spreadsheets/d/1WqElPNd6KNrRubxgBGumVZ3DDPo6x8SE0uec44fLRKI/edit#gid=0)\n",
    "\n",
    "## surface wave mixing tests\n",
    "    \n",
    "| Test       | rn_crban | rn_charn | nn+z0_met | rn_avm0 | rn_avt0 |\n",
    "|------------|----------|----------|-----------|---------|---------|\n",
    "| base case  |  100     | 70 000   |     2     | 1e-6    |  1e-6   |\n",
    "| Test A     |  150     | 20 000   |      1    | 1e-6    |  1e-6   |\n",
    "| Test B     |  100     | 70 000   |       1   | 1e-6    |  1e-6   |\n",
    "| base case2 |  100     | 70 000   |        2  | 1e-5    |  1e-5   |\n",
    "| Test A2    |  150     | 20 000   |    1      | 1e-5    |  1e-5   |\n",
    "|   Test B2  |  100     | 70 000   |     1     | 1e-5    |  1e-5   |\n",
    "\n",
    "* Three month model runs were done with different parametrization of surface wave mixing on the Salish Sea configuration from Mar 7 to June 4, 2017. \n",
    "\n",
    "* ferry comparisons [notebook 1](https://nbviewer.jupyter.org/urls/bitbucket.org/salishsea/analysis-vicky/raw/tip/notebooks/surfacewavemixingferry-Copy1.ipynb) [notebook 2](https://nbviewer.jupyter.org/urls/bitbucket.org/salishsea/analysis-vicky/raw/tip/notebooks/surfacewavemixingferry-Copy2.ipynb)\n",
    "* Fraser River CTD comparison [notebook 1](https://nbviewer.jupyter.org/urls/bitbucket.org/salishsea/analysis-vicky/raw/tip/notebooks/util/CTDvsSurfaceWaveMixingTests.ipynb) [notebook 2](https://nbviewer.jupyter.org/urls/bitbucket.org/salishsea/analysis-vicky/raw/tip/notebooks/util/CTDvsSurfaceWaveMixingTests-Copy1.ipynb)\n",
    "* looking at haloclines [notebook 1](https://nbviewer.jupyter.org/urls/bitbucket.org/salishsea/analysis-vicky/raw/tip/notebooks/surface-wave-mixing-haloclines.ipynb) [notebook 2](https://nbviewer.jupyter.org/urls/bitbucket.org/salishsea/analysis-vicky/raw/tip/notebooks/surface-wave-mixing-haloclines-2.ipynb)\n",
    "## climatology\n",
    "* seasonal averages were made for top 30m temperature, salinity, sumdfc, sumgrme, and sumpp. Temperature and salinity also has climatology for the deepest cell. Available at `/results/SalishSea/climatology`. \n",
    "* made by editing [this](https://nbviewer.jupyter.org/urls/bitbucket.org/salishsea/analysis-vicky/raw/tip/notebooks/NCO-3monDeepMeans-NowcastGreen-2017.ipynb)\n",
    "## current predictions\n",
    "* SalishSeaAGRIF was run with the Haro Strait child grid with\n",
    "    * no winds\n",
    "    * climatology for tides\n",
    "    * climatology for rivers\n",
    "* results [notebook](https://nbviewer.jupyter.org/urls/bitbucket.org/salishsea/analysis-vicky/raw/tip/notebooks/swiftsureAGRIF-zoomed-SEA.ipynb)\n",
    "## Ariane experiments\n",
    "* Ariane experiments were done in hopes of validating the residence time stated in the Carrying Capacity Report. A select number of particles were released at the same time and left to wander for a month. Experiments were done for four different months[notebook](https://nbviewer.jupyter.org/urls/bitbucket.org/salishsea/analysis-vicky/raw/142f3e60a2fc919222f4d3d3e0453a021c04090b/notebooks/Ariane/BaynesSoundParticles.ipynb)\n",
    "* Particles were released in Campbell River and left to wander for a month. We then counted where the particles ended up [notebook](https://nbviewer.jupyter.org/urls/bitbucket.org/salishsea/analysis-vicky/raw/142f3e60a2fc919222f4d3d3e0453a021c04090b/notebooks/CampbellRiverParticlesMore.ipynb)\n",
    "## Model Evaluation\n",
    "* refer to [documentation](http://salishsea-meopar-docs.readthedocs.io/en/latest/NEMO36ModelEvaluation201702/index.html)\n",
    "## SMELT diagnostic\n",
    "* Si vs N plots done for whole domain seperated by month for 2015 [notebook](https://nbviewer.jupyter.org/urls/bitbucket.org/salishsea/analysis-vicky/raw/tip/notebooks/smelt_diag/SiVsN.ipynb)\n",
    "* time series of depth profiles were done for a location in Central Strait, Northern Strait, and Juan de Fuca for silicon, biogenic silicon, ammonium, nitrate, PON, DON, meesozooplankton, ciliates, diatoms, and flagellates [notebook](https://nbviewer.jupyter.org/urls/bitbucket.org/salishsea/analysis-vicky/raw/tip/notebooks/smelt_diag/depth-profile-time-series.ipynb)\n",
    "* thalweg plots of ammonium, nitrate, excess Si, and limiting variables and rate limiting variable for diatoms, $Mesodinium$, and flagellates.  \n",
    "  * 2015 [notebook](https://nbviewer.jupyter.org/urls/bitbucket.org/salishsea/analysis-vicky/raw/tip/notebooks/smelt_diag/LimitationAlongThalweg2015_w_NLim.NO.NH.ipynb)\n",
    "  * 2016 [notebook](https://nbviewer.jupyter.org/urls/bitbucket.org/salishsea/analysis-vicky/raw/tip/notebooks/smelt_diag/LimitationsAlongThalweg2016_w_NLim.NO.NH.ipynb)\n",
    "  * 2017 [notebook](https://nbviewer.jupyter.org/urls/bitbucket.org/salishsea/analysis-vicky/raw/tip/notebooks/smelt_diag/LimitationAlongThalweg2017_w_NLim.NO.NH.ipynb)\n",
    "  * video [notebook](https://nbviewer.jupyter.org/urls/bitbucket.org/salishsea/analysis-vicky/raw/tip/notebooks/smelt_diag/LimitingVariableVideo.ipynb)\n",
    "* playing with rates [spreadsheet](https://docs.google.com/spreadsheets/d/1ZNkdVeFlW1hLMzBN0szDCwUNQjDsMLBnRdou52bdYcQ/edit#gid=1482259918)\n",
    "  * base [notebook](https://nbviewer.jupyter.org/urls/bitbucket.org/salishsea/analysis-vicky/raw/tip/notebooks/smelt_diag/CitizenScienceNutrients-surface-01feb-02may.ipynb)\n",
    "  * SiRatio1 [notebook](https://nbviewer.jupyter.org/urls/bitbucket.org/salishsea/analysis-vicky/raw/tip/notebooks/smelt_diag/CitizenScienceNutrients-SiRatio1.ipynb)\n",
    "  * SiRatio1.5 [notebook](https://nbviewer.jupyter.org/urls/bitbucket.org/salishsea/analysis-vicky/raw/tip/notebooks/smelt_diag/CitizenScienceNutrients-SiRatio1_5.ipynb)\n",
    "  * SiRatio2.2 [notebook](https://nbviewer.jupyter.org/urls/bitbucket.org/salishsea/analysis-vicky/raw/tip/notebooks/smelt_diag/CitizenScienceNutrients-SiRatio2_2.ipynb)\n",
    "  * SlowDiat [notebook](https://nbviewer.jupyter.org/urls/bitbucket.org/salishsea/analysis-vicky/raw/tip/notebooks/smelt_diag/CitizenScienceNutrients-slowdiat.ipynb)\n",
    "  * NewRiverSi [notebook](https://nbviewer.jupyter.org/urls/bitbucket.org/salishsea/analysis-vicky/raw/tip/notebooks/smelt_diag/CitizenScienceNutrients-NewRiverSi.ipynb)\n",
    "  * HalfSat [notebook](https://nbviewer.jupyter.org/urls/bitbucket.org/salishsea/analysis-vicky/raw/tip/notebooks/smelt_diag/CitizenScienceNutrients-HalfSat.ipynb)\n",
    "  * RateAndHalfSat [notebook](https://nbviewer.jupyter.org/urls/bitbucket.org/salishsea/analysis-vicky/raw/tip/notebooks/smelt_diag/CitizenScienceNutrients-RateAndHalfSat.ipynb)\n",
    "## SalishSeaLake\n",
    "* constant analytical wind tests [notebook](https://nbviewer.jupyter.org/urls/bitbucket.org/salishsea/analysis-vicky/raw/tip/notebooks/SalishSeaLake//density-over-different-winds.ipynb)\n",
    "* varying analytical winds tests 24-48-70 [notebook](https://nbviewer.jupyter.org/urls/bitbucket.org/salishsea/analysis-vicky/raw/tip/notebooks/SalishSeaLake//24-48-70-winds.ipynb)\n",
    "* tracking density 1023.3 in nowcast [notebook](https://nbviewer.jupyter.org/urls/bitbucket.org/salishsea/analysis-vicky/raw/tip/notebooks/SalishSeaLake//nowcast-1023.3-animations.ipynb)\n",
    "* added passive tracer with features\n",
    "  * Big Three thalweg videos [notebook](https://nbviewer.jupyter.org/urls/bitbucket.org/salishsea/analysis-vicky/raw/tip/notebooks/SalishSeaLake//BigThreeThalweg.ipynb)\n",
    "  * surface videos, pretty plots, and statistical analysis [notebook](https://nbviewer.jupyter.org/urls/bitbucket.org/salishsea/analysis-vicky/raw/tip/notebooks/SalishSeaLake//SUMMARY.ipynb)\n"
   ]
  },
  {
   "cell_type": "code",
   "execution_count": null,
   "metadata": {},
   "outputs": [],
   "source": []
  }
 ],
 "metadata": {
  "kernelspec": {
   "display_name": "Python 3",
   "language": "python",
   "name": "python3"
  },
  "language_info": {
   "codemirror_mode": {
    "name": "ipython",
    "version": 3
   },
   "file_extension": ".py",
   "mimetype": "text/x-python",
   "name": "python",
   "nbconvert_exporter": "python",
   "pygments_lexer": "ipython3",
   "version": "3.6.0"
  }
 },
 "nbformat": 4,
 "nbformat_minor": 2
}
