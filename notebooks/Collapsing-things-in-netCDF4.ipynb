{
 "cells": [
  {
   "cell_type": "markdown",
   "metadata": {},
   "source": [
    "# Collapsing Things in netCDF4\n",
    "# May 19, 2017"
   ]
  },
  {
   "cell_type": "code",
   "execution_count": 1,
   "metadata": {
    "collapsed": true
   },
   "outputs": [],
   "source": [
    "import numpy as np\n",
    "import numpy.ma as ma\n",
    "import netCDF4 as nc\n",
    "import matplotlib.pyplot as plt\n",
    "%matplotlib inline "
   ]
  },
  {
   "cell_type": "code",
   "execution_count": 2,
   "metadata": {
    "collapsed": true
   },
   "outputs": [],
   "source": [
    "day1u = nc.Dataset('/home/vdo/MEOPAR/completed-runs/VAT19/SalishSea_1h_20141218_20141225_grid_U_20141218-20141218.nc')\n",
    "day2u = nc.Dataset('/home/vdo/MEOPAR/completed-runs/VAT19/SalishSea_1h_20141218_20141225_grid_U_20141219-20141219.nc')\n",
    "day3u = nc.Dataset('/home/vdo/MEOPAR/completed-runs/VAT19/SalishSea_1h_20141218_20141225_grid_U_20141220-20141220.nc')\n",
    "day4u = nc.Dataset('/home/vdo/MEOPAR/completed-runs/VAT19/SalishSea_1h_20141218_20141225_grid_U_20141221-20141221.nc')\n",
    "day5u = nc.Dataset('/home/vdo/MEOPAR/completed-runs/VAT19/SalishSea_1h_20141218_20141225_grid_U_20141222-20141222.nc')\n",
    "day6u = nc.Dataset('/home/vdo/MEOPAR/completed-runs/VAT19/SalishSea_1h_20141218_20141225_grid_U_20141223-20141223.nc')\n",
    "day7u = nc.Dataset('/home/vdo/MEOPAR/completed-runs/VAT19/SalishSea_1h_20141218_20141225_grid_U_20141224-20141224.nc')                      \n",
    "day8u = nc.Dataset('/home/vdo/MEOPAR/completed-runs/VAT19/SalishSea_1h_20141218_20141225_grid_U_20141225-20141225.nc')\n",
    "\n",
    "day1v = nc.Dataset('/home/vdo/MEOPAR/completed-runs/VAT19/SalishSea_1h_20141218_20141225_grid_V_20141218-20141218.nc')\n",
    "day2v = nc.Dataset('/home/vdo/MEOPAR/completed-runs/VAT19/SalishSea_1h_20141218_20141225_grid_V_20141219-20141219.nc')\n",
    "day3v = nc.Dataset('/home/vdo/MEOPAR/completed-runs/VAT19/SalishSea_1h_20141218_20141225_grid_V_20141220-20141220.nc')\n",
    "day4v = nc.Dataset('/home/vdo/MEOPAR/completed-runs/VAT19/SalishSea_1h_20141218_20141225_grid_V_20141221-20141221.nc')\n",
    "day5v = nc.Dataset('/home/vdo/MEOPAR/completed-runs/VAT19/SalishSea_1h_20141218_20141225_grid_V_20141222-20141222.nc')\n",
    "day6v = nc.Dataset('/home/vdo/MEOPAR/completed-runs/VAT19/SalishSea_1h_20141218_20141225_grid_V_20141223-20141223.nc')\n",
    "day7v = nc.Dataset('/home/vdo/MEOPAR/completed-runs/VAT19/SalishSea_1h_20141218_20141225_grid_V_20141224-20141224.nc')\n",
    "day8v = nc.Dataset('/home/vdo/MEOPAR/completed-runs/VAT19/SalishSea_1h_20141218_20141225_grid_V_20141225-20141225.nc')\n",
    "\n",
    "day1w = nc.Dataset('/home/vdo/MEOPAR/completed-runs/VAT19/SalishSea_1h_20141218_20141225_grid_W_20141218-20141218.nc')\n",
    "day2w = nc.Dataset('/home/vdo/MEOPAR/completed-runs/VAT19/SalishSea_1h_20141218_20141225_grid_W_20141219-20141219.nc')\n",
    "day3w = nc.Dataset('/home/vdo/MEOPAR/completed-runs/VAT19/SalishSea_1h_20141218_20141225_grid_W_20141220-20141220.nc')\n",
    "day4w = nc.Dataset('/home/vdo/MEOPAR/completed-runs/VAT19/SalishSea_1h_20141218_20141225_grid_W_20141221-20141221.nc')\n",
    "day5w = nc.Dataset('/home/vdo/MEOPAR/completed-runs/VAT19/SalishSea_1h_20141218_20141225_grid_W_20141222-20141222.nc')\n",
    "day6w = nc.Dataset('/home/vdo/MEOPAR/completed-runs/VAT19/SalishSea_1h_20141218_20141225_grid_W_20141223-20141223.nc')\n",
    "day7w = nc.Dataset('/home/vdo/MEOPAR/completed-runs/VAT19/SalishSea_1h_20141218_20141225_grid_W_20141224-20141224.nc')\n",
    "day8w = nc.Dataset('/home/vdo/MEOPAR/completed-runs/VAT19/SalishSea_1h_20141218_20141225_grid_W_20141225-20141225.nc')\n",
    "\n",
    "u_files = [day1u,day2u,day3u,day4u,day5u,day6u,day7u,day8u]\n",
    "v_files = [day1v,day2v,day3v,day4v,day5v,day6v,day7v,day8v]\n",
    "w_files = [day1w,day2w,day3w,day4w,day5w,day6w,day7w,day8w]\n",
    "\n",
    "mesh_mask = nc.Dataset('/home/vdo/MEOPAR/NEMO-forcing/grid/mesh_mask201702.nc')\n",
    "delta_x = mesh_mask['e1u']\n",
    "delta_y = mesh_mask['e2v']\n",
    "delta_z = mesh_mask['e3w_1d']\n",
    "t_mask = mesh_mask['tmask']\n",
    "u_mask = mesh_mask['umask']\n",
    "v_mask = mesh_mask['vmask']                 "
   ]
  },
  {
   "cell_type": "code",
   "execution_count": 53,
   "metadata": {
    "collapsed": false
   },
   "outputs": [],
   "source": [
    "def pcourantu(files,meshmask):\n",
    "    \"\"\"Given a list of U files and a mask mask, returns an array with the unscaled Counrant numbers.\n",
    "    \n",
    "    :arg files: list of U files\n",
    "    \n",
    "    :arg meshmask: mesh mask \n",
    "    :type mashmask: :py:class:'netCDF4.Dataset'\n",
    "    \n",
    "    :returns: Numpy MaskedArray with unscaled Courant numbers.\n",
    "    :rtype: :py:class: 'numpy.ma.core.MaskedArray'\n",
    "    \"\"\"\n",
    "    \n",
    "    ubdx = np.zeros((40,898,398))\n",
    "    delta_x = meshmask['e1u']\n",
    "    for file in files:\n",
    "        for n in range(0,24):\n",
    "            u = np.abs(file['vozocrtx'][n,:,:,:] / delta_x)\n",
    "            ubdx = np.maximum(u,ubdx)     #taking maximum over time\n",
    "    new_u = np.zeros((898,398))\n",
    "    for m in range(0,40):\n",
    "        u = ubdx[m,:,:]\n",
    "        new_u = np.maximum(u,new_u)    #taking maximum over depth\n",
    "    \n",
    "    return new_u"
   ]
  },
  {
   "cell_type": "code",
   "execution_count": 67,
   "metadata": {
    "collapsed": false
   },
   "outputs": [
    {
     "data": {
      "text/plain": [
       "netCDF4._netCDF4.Dataset"
      ]
     },
     "execution_count": 67,
     "metadata": {},
     "output_type": "execute_result"
    }
   ],
   "source": [
    "type(mesh_mask)"
   ]
  },
  {
   "cell_type": "code",
   "execution_count": 65,
   "metadata": {
    "collapsed": false
   },
   "outputs": [
    {
     "data": {
      "text/plain": [
       "masked_array(data =\n",
       " [[-- -- -- ..., -- -- --]\n",
       " [-- -- -- ..., -- -- --]\n",
       " [-- -- -- ..., -- -- --]\n",
       " ..., \n",
       " [0.0 0.0 0.0 ..., -- -- --]\n",
       " [0.0 0.0 0.0 ..., -- -- --]\n",
       " [0.0 0.0 0.0 ..., -- -- --]],\n",
       "             mask =\n",
       " [[ True  True  True ...,  True  True  True]\n",
       " [ True  True  True ...,  True  True  True]\n",
       " [ True  True  True ...,  True  True  True]\n",
       " ..., \n",
       " [False False False ...,  True  True  True]\n",
       " [False False False ...,  True  True  True]\n",
       " [False False False ...,  True  True  True]],\n",
       "       fill_value = 1e+20)"
      ]
     },
     "execution_count": 65,
     "metadata": {},
     "output_type": "execute_result"
    }
   ],
   "source": [
    "pcourantu(u_files,mesh_mask)"
   ]
  },
  {
   "cell_type": "code",
   "execution_count": 55,
   "metadata": {
    "collapsed": false
   },
   "outputs": [],
   "source": [
    "def pcourantv(files,meshmask):\n",
    "    \"\"\"Given a list of V files and a mesh mask, returns an array with the unscaled Courant numbers.\n",
    "    \n",
    "    :arg files: list of U files\n",
    "    \n",
    "    :arg meshmask: mesh mask \n",
    "    :type mashmask: :py:class:'netCDF4.Dataset'\n",
    "    \n",
    "    :returns: Numpy MaskedArray with unscaled Courant numbers.\n",
    "    :rtype: :py:class: 'numpy.ma.core.MaskedArray' \n",
    "    \"\"\"\n",
    "\n",
    "    vbdx = np.zeros((40,898,398))\n",
    "    delta_y = meshmask['e2v']\n",
    "    for file in files:\n",
    "        for n in range(0,24):\n",
    "            v = np.abs(file['vomecrty'][n,:,:,:] / delta_y)\n",
    "            vbdx = np.maximum(v,vbdx)   #taking maximum over time\n",
    "\n",
    "    new_v = np.zeros((898,398))\n",
    "    for m in range(0,40):\n",
    "        v = vbdx[m,:,:]\n",
    "        new_v = np.maximum(v,new_v)  #taking maximum over depth\n",
    "\n",
    "    return new_v"
   ]
  },
  {
   "cell_type": "code",
   "execution_count": 56,
   "metadata": {
    "collapsed": false
   },
   "outputs": [
    {
     "data": {
      "text/plain": [
       "masked_array(data =\n",
       " [[-- -- -- ..., -- -- --]\n",
       " [-- -- -- ..., -- -- --]\n",
       " [-- -- -- ..., -- -- --]\n",
       " ..., \n",
       " [0.0 0.0 0.0 ..., -- -- --]\n",
       " [0.0 0.0 0.0 ..., -- -- --]\n",
       " [0.0 0.0 0.0 ..., -- -- --]],\n",
       "             mask =\n",
       " [[ True  True  True ...,  True  True  True]\n",
       " [ True  True  True ...,  True  True  True]\n",
       " [ True  True  True ...,  True  True  True]\n",
       " ..., \n",
       " [False False False ...,  True  True  True]\n",
       " [False False False ...,  True  True  True]\n",
       " [False False False ...,  True  True  True]],\n",
       "       fill_value = 1e+20)"
      ]
     },
     "execution_count": 56,
     "metadata": {},
     "output_type": "execute_result"
    }
   ],
   "source": [
    "pcourantv(v_files,mesh_mask)"
   ]
  },
  {
   "cell_type": "code",
   "execution_count": 61,
   "metadata": {
    "collapsed": false
   },
   "outputs": [],
   "source": [
    "def pcounrantw(files,meshmask):\n",
    "    \"\"\"Given a list of W files and a mesh mask, returns an array with the unscaled Courant numbers.\n",
    "    \n",
    "    :arg files: list of U files\n",
    "    \n",
    "    :arg meshmask: mesh mask \n",
    "    :type mashmask: :py:class:'netCDF4.Dataset'\n",
    "    \n",
    "    :returns: Numpy MaskedArray with unscaled Courant numbers.\n",
    "    :rtype: :py:class: 'numpy.ma.core.MaskedArray'\n",
    "    \"\"\"\n",
    "\n",
    "    wbdx = np.zeros((40,898,398))\n",
    "    delta_z = meshmask['e3w_1d']\n",
    "    new_z1 = np.expand_dims(delta_z[:],axis=2)\n",
    "    new_z2 = np.swapaxes(new_z,0,1)\n",
    "    ones = np.ones((40,898,398))\n",
    "    new_z3 = ones*new_z2\n",
    "    \n",
    "    for file in files:\n",
    "        for n in range(0,24):\n",
    "            w = np.abs(file['vovecrtz'][n,:,:,:] / new_z3)   \n",
    "            wbdx = np.maximum(w,wbdx)   #taking maximum over time\n",
    "\n",
    "    new_w = np.zeros((898,398))\n",
    "    for m in range(0,40):\n",
    "        w = wbdx[m,:,:]\n",
    "        new_w = np.maximum(w,new_w)  #taking maximum over depth\n",
    "    \n",
    "    return new_w"
   ]
  },
  {
   "cell_type": "code",
   "execution_count": 62,
   "metadata": {
    "collapsed": false
   },
   "outputs": [
    {
     "data": {
      "text/plain": [
       "masked_array(data =\n",
       " [[-- -- -- ..., -- -- --]\n",
       " [-- -- -- ..., -- -- --]\n",
       " [-- -- -- ..., -- -- --]\n",
       " ..., \n",
       " [0.0 0.0 0.0 ..., -- -- --]\n",
       " [0.0 0.0 0.0 ..., -- -- --]\n",
       " [0.0 0.0 0.0 ..., -- -- --]],\n",
       "             mask =\n",
       " [[ True  True  True ...,  True  True  True]\n",
       " [ True  True  True ...,  True  True  True]\n",
       " [ True  True  True ...,  True  True  True]\n",
       " ..., \n",
       " [False False False ...,  True  True  True]\n",
       " [False False False ...,  True  True  True]\n",
       " [False False False ...,  True  True  True]],\n",
       "       fill_value = 1e+20)"
      ]
     },
     "execution_count": 62,
     "metadata": {},
     "output_type": "execute_result"
    }
   ],
   "source": [
    "pcounrantw(w_files,mesh_mask)"
   ]
  },
  {
   "cell_type": "code",
   "execution_count": null,
   "metadata": {
    "collapsed": true
   },
   "outputs": [],
   "source": []
  }
 ],
 "metadata": {
  "kernelspec": {
   "display_name": "Python 3",
   "language": "python",
   "name": "python3"
  },
  "language_info": {
   "codemirror_mode": {
    "name": "ipython",
    "version": 3
   },
   "file_extension": ".py",
   "mimetype": "text/x-python",
   "name": "python",
   "nbconvert_exporter": "python",
   "pygments_lexer": "ipython3",
   "version": "3.6.0"
  }
 },
 "nbformat": 4,
 "nbformat_minor": 2
}
