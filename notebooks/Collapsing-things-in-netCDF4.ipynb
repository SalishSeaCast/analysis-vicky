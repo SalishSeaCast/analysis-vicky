{
 "cells": [
  {
   "cell_type": "markdown",
   "metadata": {},
   "source": [
    "# Collapsing Things in netCDF4\n",
    "# May 19, 2017"
   ]
  },
  {
   "cell_type": "code",
   "execution_count": 98,
   "metadata": {
    "collapsed": true
   },
   "outputs": [],
   "source": [
    "import numpy as np\n",
    "import numpy.ma as ma\n",
    "import netCDF4 as nc\n",
    "import matplotlib.pyplot as plt\n",
    "%matplotlib inline \n",
    "from salishsea_tools import nc_tools\n",
    "import glob"
   ]
  },
  {
   "cell_type": "code",
   "execution_count": 99,
   "metadata": {
    "collapsed": false
   },
   "outputs": [],
   "source": [
    "mesh_mask = nc.Dataset('/home/vdo/MEOPAR/NEMO-forcing/grid/mesh_mask201702.nc')    \n",
    "\n",
    "test_u = glob.glob('/home/vdo/MEOPAR/completed-runs/VAT19/SalishSea_1h*U*')\n",
    "test_v = glob.glob('/home/vdo/MEOPAR/completed-runs/VAT19/SalishSea_1h*V*')\n",
    "test_w = glob.glob('/home/vdo/MEOPAR/completed-runs/VAT19/SalishSea_1h*W*')"
   ]
  },
  {
   "cell_type": "code",
   "execution_count": 1,
   "metadata": {
    "collapsed": true
   },
   "outputs": [],
   "source": [
    "def pcourantu(files,meshmask):\n",
    "    \"\"\"Given a list of U filenames and a mesh mask, returns an array with the unscaled Courant numbers.\n",
    "    \n",
    "    :arg files: list of U filenames\n",
    "    \n",
    "    :arg meshmask: mesh mask \n",
    "    :type meshmask: :py:class:'netCDF4.Dataset'\n",
    "    \n",
    "    :returns: Numpy MaskedArray with unscaled Courant numbers.\n",
    "    :rtype: :py:class: 'numpy.ma.core.MaskedArray'\n",
    "    \"\"\"\n",
    "    \n",
    "    delta_x = meshmask['e1u']\n",
    "    with nc_tools.scDataset(files) as f:   #merging files\n",
    "        nt,nz,ny,nx = f.variables['vozocrtx'].shape\n",
    "        ubdx = np.zeros((nz,ny,nx))\n",
    "        for n in range (nt):\n",
    "            u = np.abs(f.variables['vozocrtx'][n,:,:,:] / delta_x)\n",
    "            ubdx = np.maximum(u,ubdx)    #taking maximum over time\n",
    "        new_u = np.zeros((ny,nx))\n",
    "        for m in range(0,nz):\n",
    "            u = ubdx[m,:,:]\n",
    "            new_u = np.maximum(u,new_u)  #taking maximum over deptht\n",
    "            \n",
    "    return new_u"
   ]
  },
  {
   "cell_type": "code",
   "execution_count": 101,
   "metadata": {
    "collapsed": false
   },
   "outputs": [
    {
     "data": {
      "text/plain": [
       "masked_array(data =\n",
       " [[-- -- -- ..., -- -- --]\n",
       " [-- -- -- ..., -- -- --]\n",
       " [-- -- -- ..., -- -- --]\n",
       " ..., \n",
       " [0.0 0.0 0.0 ..., -- -- --]\n",
       " [0.0 0.0 0.0 ..., -- -- --]\n",
       " [0.0 0.0 0.0 ..., -- -- --]],\n",
       "             mask =\n",
       " [[ True  True  True ...,  True  True  True]\n",
       " [ True  True  True ...,  True  True  True]\n",
       " [ True  True  True ...,  True  True  True]\n",
       " ..., \n",
       " [False False False ...,  True  True  True]\n",
       " [False False False ...,  True  True  True]\n",
       " [False False False ...,  True  True  True]],\n",
       "       fill_value = 1e+20)"
      ]
     },
     "execution_count": 101,
     "metadata": {},
     "output_type": "execute_result"
    }
   ],
   "source": [
    "pcourantu(test_u,mesh_mask)"
   ]
  },
  {
   "cell_type": "code",
   "execution_count": 2,
   "metadata": {
    "collapsed": true
   },
   "outputs": [],
   "source": [
    "def pcourantv(files,meshmask):\n",
    "    \"\"\"Given a list of V filenames and a mesh mask, returns an array with the unscaled Courant numbers.\n",
    "    \n",
    "    :arg files: list of V filenames\n",
    "    \n",
    "    :arg meshmask: mesh mask \n",
    "    :type meshmask: :py:class:'netCDF4.Dataset'\n",
    "    \n",
    "    :returns: Numpy MaskedArray with unscaled Courant numbers.\n",
    "    :rtype: :py:class: 'numpy.ma.core.MaskedArray'\n",
    "    \"\"\"\n",
    "    \n",
    "    delta_y = meshmask['e2v']\n",
    "    with nc_tools.scDataset(files) as f:    #merging files\n",
    "        nt,nz,ny,nx = f.variables['vomecrty'].shape\n",
    "        vbdx = np.zeros((nz,ny,nx))\n",
    "        for n in range (nt):\n",
    "            v = np.abs(f.variables['vomecrty'][n,:,:,:] / delta_y)\n",
    "            vbdx = np.maximum(v,vbdx)   #taking maximum over time\n",
    "        new_v = np.zeros((ny,nx))\n",
    "        for m in range(0,nz):\n",
    "            v = vbdx[m,:,:]\n",
    "            new_v = np.maximum(v,new_v)   #taking maximum over deptht\n",
    "            \n",
    "    return new_v"
   ]
  },
  {
   "cell_type": "code",
   "execution_count": 107,
   "metadata": {
    "collapsed": false
   },
   "outputs": [
    {
     "data": {
      "text/plain": [
       "masked_array(data =\n",
       " [[-- -- -- ..., -- -- --]\n",
       " [-- -- -- ..., -- -- --]\n",
       " [-- -- -- ..., -- -- --]\n",
       " ..., \n",
       " [0.0 0.0 0.0 ..., -- -- --]\n",
       " [0.0 0.0 0.0 ..., -- -- --]\n",
       " [0.0 0.0 0.0 ..., -- -- --]],\n",
       "             mask =\n",
       " [[ True  True  True ...,  True  True  True]\n",
       " [ True  True  True ...,  True  True  True]\n",
       " [ True  True  True ...,  True  True  True]\n",
       " ..., \n",
       " [False False False ...,  True  True  True]\n",
       " [False False False ...,  True  True  True]\n",
       " [False False False ...,  True  True  True]],\n",
       "       fill_value = 1e+20)"
      ]
     },
     "execution_count": 107,
     "metadata": {},
     "output_type": "execute_result"
    }
   ],
   "source": [
    "pcourantv(test_v,mesh_mask)"
   ]
  },
  {
   "cell_type": "code",
   "execution_count": 3,
   "metadata": {
    "collapsed": true
   },
   "outputs": [],
   "source": [
    "def pcourantw(files,meshmask):\n",
    "    \"\"\"Given a list of W filenames and a mesh mask, returns an array with the unscaled Courant numbers.\n",
    "    \n",
    "    :arg files: list of W filenames\n",
    "    \n",
    "    :arg meshmask: mesh mask \n",
    "    :type meshmask: :py:class:'netCDF4.Dataset'\n",
    "    \n",
    "    :returns: Numpy MaskedArray with unscaled Courant numbers.\n",
    "    :rtype: :py:class: 'numpy.ma.core.MaskedArray'\n",
    "    \"\"\"\n",
    "    \n",
    "    with nc_tools.scDataset(files) as f:    #merging files\n",
    "        nt,nz,ny,nx = f.variables['vovecrtz'].shape\n",
    "        wbdx = np.zeros((nz,ny,nx))\n",
    "        delta_z = meshmask['e3w_1d']\n",
    "        new_z1 = np.expand_dims(delta_z[:],axis=2)\n",
    "        new_z2 = np.swapaxes(new_z1,0,1)\n",
    "        ones = np.ones((nz,ny,nx))\n",
    "        new_z3 = ones*new_z2\n",
    "        for n in range (nt):\n",
    "            w = np.abs(f.variables['vovecrtz'][n,:,:,:] / new_z3)\n",
    "            wbdx = np.maximum(w,wbdx)    #taking maximum over time\n",
    "        new_w = np.zeros((ny,nx))\n",
    "        for m in range(0,nz):\n",
    "            w = wbdx[m,:,:]\n",
    "            new_w = np.maximum(w,new_w)  #taking maximum over deptht\n",
    "            \n",
    "    return new_w"
   ]
  },
  {
   "cell_type": "code",
   "execution_count": 109,
   "metadata": {
    "collapsed": false
   },
   "outputs": [
    {
     "data": {
      "text/plain": [
       "masked_array(data =\n",
       " [[-- -- -- ..., -- -- --]\n",
       " [-- -- -- ..., -- -- --]\n",
       " [-- -- -- ..., -- -- --]\n",
       " ..., \n",
       " [0.0 0.0 0.0 ..., -- -- --]\n",
       " [0.0 0.0 0.0 ..., -- -- --]\n",
       " [0.0 0.0 0.0 ..., -- -- --]],\n",
       "             mask =\n",
       " [[ True  True  True ...,  True  True  True]\n",
       " [ True  True  True ...,  True  True  True]\n",
       " [ True  True  True ...,  True  True  True]\n",
       " ..., \n",
       " [False False False ...,  True  True  True]\n",
       " [False False False ...,  True  True  True]\n",
       " [False False False ...,  True  True  True]],\n",
       "       fill_value = 1e+20)"
      ]
     },
     "execution_count": 109,
     "metadata": {},
     "output_type": "execute_result"
    }
   ],
   "source": [
    "pcourantw(test_w,mesh_mask)"
   ]
  },
  {
   "cell_type": "code",
   "execution_count": null,
   "metadata": {
    "collapsed": true
   },
   "outputs": [],
   "source": []
  }
 ],
 "metadata": {
  "kernelspec": {
   "display_name": "Python 3",
   "language": "python",
   "name": "python3"
  },
  "language_info": {
   "codemirror_mode": {
    "name": "ipython",
    "version": 3
   },
   "file_extension": ".py",
   "mimetype": "text/x-python",
   "name": "python",
   "nbconvert_exporter": "python",
   "pygments_lexer": "ipython3",
   "version": "3.6.0"
  }
 },
 "nbformat": 4,
 "nbformat_minor": 2
}
