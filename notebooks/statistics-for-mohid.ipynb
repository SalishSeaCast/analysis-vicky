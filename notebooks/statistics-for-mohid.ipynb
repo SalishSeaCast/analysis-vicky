{
 "cells": [
  {
   "cell_type": "code",
   "execution_count": 1,
   "metadata": {},
   "outputs": [
    {
     "data": {
      "text/html": [
       "<style>.container { width:90% !important; }</style>"
      ],
      "text/plain": [
       "<IPython.core.display.HTML object>"
      ]
     },
     "metadata": {},
     "output_type": "display_data"
    }
   ],
   "source": [
    "import netCDF4 as nc\n",
    "import numpy as np\n",
    "import matplotlib.pyplot as plt\n",
    "from salishsea_tools import geo_tools, nc_tools, tidetools, viz_tools\n",
    "import xarray as xr\n",
    "from IPython.core.display import display, HTML\n",
    "import scipy.signal as signal\n",
    "import glob\n",
    "import matplotlib.cm as cm\n",
    "import datetime\n",
    "display(HTML(\"<style>.container { width:90% !important; }</style>\"))\n",
    "\n",
    "%matplotlib inline"
   ]
  },
  {
   "cell_type": "code",
   "execution_count": null,
   "metadata": {},
   "outputs": [],
   "source": [
    "from IPython.display import HTML\n",
    "\n",
    "HTML('''<script>\n",
    "code_show=true; \n",
    "function code_toggle() {\n",
    " if (code_show){\n",
    " $('div.input').hide();\n",
    " } else {\n",
    " $('div.input').show();\n",
    " }\n",
    " code_show = !code_show\n",
    "} \n",
    "$( document ).ready(code_toggle);\n",
    "</script>\n",
    "<form action=\"javascript:code_toggle()\"><input type=\"submit\" value=\"Click here to toggle on/off the raw code.\"></form>''')\n"
   ]
  },
  {
   "cell_type": "code",
   "execution_count": 2,
   "metadata": {},
   "outputs": [],
   "source": [
    "winds_data = xr.open_dataset(\n",
    "    'https://salishsea.eos.ubc.ca/erddap/griddap/ubcSSaSurfaceAtmosphereFieldsV1')"
   ]
  },
  {
   "cell_type": "code",
   "execution_count": 3,
   "metadata": {},
   "outputs": [],
   "source": [
    "winds_geo = xr.open_dataset(\n",
    "    'https://salishsea.eos.ubc.ca/erddap/griddap/ubcSSaAtmosphereGridV1')"
   ]
  },
  {
   "cell_type": "code",
   "execution_count": 14,
   "metadata": {},
   "outputs": [],
   "source": [
    "grid = xr.open_dataset('https://salishsea.eos.ubc.ca/erddap/griddap/ubcSSnBathymetryV17-02')"
   ]
  },
  {
   "cell_type": "code",
   "execution_count": 21,
   "metadata": {},
   "outputs": [],
   "source": [
    "tracers = xr.open_dataset('https://salishsea.eos.ubc.ca/erddap/griddap/ubcSSg3DTracerFields1hV18-12')"
   ]
  },
  {
   "cell_type": "code",
   "execution_count": 23,
   "metadata": {},
   "outputs": [],
   "source": [
    "from pandas.plotting import register_matplotlib_converters\n",
    "register_matplotlib_converters()"
   ]
  },
  {
   "cell_type": "code",
   "execution_count": 35,
   "metadata": {},
   "outputs": [],
   "source": [
    "ssh = xr.open_dataset('https://salishsea.eos.ubc.ca/erddap/griddap/ubcSSgSurfaceTracerFields1hV18-12')"
   ]
  },
  {
   "cell_type": "code",
   "execution_count": 38,
   "metadata": {},
   "outputs": [],
   "source": [
    "winds = xr.open_dataset('https://salishsea.eos.ubc.ca/erddap/griddap/ubcSSaSurfaceAtmosphereFieldsV1')"
   ]
  },
  {
   "cell_type": "code",
   "execution_count": 75,
   "metadata": {},
   "outputs": [],
   "source": [
    "def make_stats(time_slce, location, graph = False):\n",
    "    if location == 'salmon':\n",
    "        ss_coords = [256,268]\n",
    "        wind_coords = [99,159]\n",
    "    if location == 'turn':\n",
    "        ss_coords = [343,250]\n",
    "        wind_coords = [116,150]\n",
    "    if location == 'sog':\n",
    "        ss_coords = [474,252]\n",
    "        wind_coords = [143,141]\n",
    "    sst_ts = (\n",
    "    tracers.salinity\n",
    "    .sel(depth=0.5, method='nearest')\n",
    "    .isel(gridY=ss_coords[0], gridX=ss_coords[1])\n",
    "    .sel(time=time_slice)\n",
    "    )\n",
    "    ssh_ts = (\n",
    "    ssh.ssh\n",
    "    .isel(gridY=ss_coords[0], gridX=ss_coords[1])\n",
    "    .sel(time=time_slice)\n",
    "    )\n",
    "    u_winds = (\n",
    "    winds.u_wind\n",
    "    .isel(gridY=wind_coords[0], gridX=wind_coords[1])\n",
    "    .sel(time=time_slice)\n",
    "    )\n",
    "    v_winds = (\n",
    "    winds.v_wind\n",
    "    .isel(gridY=wind_coords[0], gridX=wind_coords[1])\n",
    "    .sel(time=time_slice)\n",
    "    )\n",
    "    wind_speed = np.sqrt(u_winds**2 + v_winds**2)\n",
    "    \n",
    "    print('surface salinity mean = ' + str(sst_ts.values.mean()))\n",
    "    print('surface salinity min = ' + str(sst_ts.values.min()))\n",
    "    print('surface salinity max = ' + str(sst_ts.values.max()))\n",
    "    print('surface salinity std = ' + str(sst_ts.values.std()))\n",
    "    \n",
    "    print('ssh mean = ' + str(ssh_ts.values.mean()))\n",
    "    print('ssh min = ' + str(ssh_ts.values.min()))\n",
    "    print('ssh max = ' + str(ssh_ts.values.max()))\n",
    "    print('ssh std = ' + str(ssh_ts.values.std()))\n",
    "    \n",
    "    print('wind speed mean = ' + str(wind_speed.values.mean()))\n",
    "    print('wind speed min = ' + str(wind_speed.values.min()))\n",
    "    print('wind speed max = ' + str(wind_speed.values.max()))\n",
    "    print('wind speed std = ' + str(wind_speed.values.std()))\n",
    "    \n",
    "    if graph == True:\n",
    "        fig, ax = plt.subplots(3,1,figsize=(18, 10))\n",
    "        sst_ts.plot(ax=ax[0])\n",
    "        ax[0].grid(axis='x')\n",
    "        ax[0].set_title('Surface Salinity')\n",
    "        ax[0].set_xticklabels([])\n",
    "\n",
    "        ssh_ts.plot(ax=ax[1])\n",
    "        ax[1].grid(axis='x')\n",
    "        ax[1].set_title('Sea Surface Height')\n",
    "        ax[1].set_xticklabels([])\n",
    "\n",
    "        wind_speed.plot(ax=ax[2])\n",
    "        ax[2].grid(axis='x')\n",
    "        ax[2].set_title('Wind Speed')"
   ]
  },
  {
   "cell_type": "code",
   "execution_count": null,
   "metadata": {},
   "outputs": [],
   "source": [
    "make_stats(slice('2017-08-01 00:00:00', '2017-08-09 00:00:00'), 'salmon', graph = True)"
   ]
  },
  {
   "cell_type": "code",
   "execution_count": null,
   "metadata": {},
   "outputs": [],
   "source": []
  }
 ],
 "metadata": {
  "kernelspec": {
   "display_name": "Python 3",
   "language": "python",
   "name": "python3"
  },
  "language_info": {
   "codemirror_mode": {
    "name": "ipython",
    "version": 3
   },
   "file_extension": ".py",
   "mimetype": "text/x-python",
   "name": "python",
   "nbconvert_exporter": "python",
   "pygments_lexer": "ipython3",
   "version": "3.6.8"
  }
 },
 "nbformat": 4,
 "nbformat_minor": 2
}
