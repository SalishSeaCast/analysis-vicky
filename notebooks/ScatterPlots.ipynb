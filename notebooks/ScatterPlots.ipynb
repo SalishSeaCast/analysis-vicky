{
 "cells": [
  {
   "cell_type": "code",
   "execution_count": 1,
   "metadata": {},
   "outputs": [
    {
     "data": {
      "text/html": [
       "<style>.container { width:100% !important; }</style>"
      ],
      "text/plain": [
       "<IPython.core.display.HTML object>"
      ]
     },
     "metadata": {},
     "output_type": "display_data"
    }
   ],
   "source": [
    "import matplotlib.pyplot as plt\n",
    "import numpy as np\n",
    "import pandas as pd\n",
    "import netCDF4 as nc\n",
    "import seaborn as sns\n",
    "import matplotlib.colors as mcolors\n",
    "import glob\n",
    "import os\n",
    "import xarray as xr\n",
    "import datetime\n",
    "from salishsea_tools import viz_tools, tidetools, geo_tools, gsw_calls, wind_tools\n",
    "import pickle\n",
    "from matplotlib.colors import LinearSegmentedColormap\n",
    "import matplotlib.patches as mpatches\n",
    "import h5py\n",
    "from IPython.core.display import display, HTML\n",
    "display(HTML(\"<style>.container { width:100% !important; }</style>\"))\n",
    "\n",
    "%matplotlib inline"
   ]
  },
  {
   "cell_type": "code",
   "execution_count": 25,
   "metadata": {},
   "outputs": [],
   "source": [
    "from pandas.plotting import register_matplotlib_converters\n",
    "register_matplotlib_converters()"
   ]
  },
  {
   "cell_type": "code",
   "execution_count": 26,
   "metadata": {},
   "outputs": [
    {
     "data": {
      "text/html": [
       "<script>\n",
       "code_show=true; \n",
       "function code_toggle() {\n",
       " if (code_show){\n",
       " $('div.input').hide();\n",
       " } else {\n",
       " $('div.input').show();\n",
       " }\n",
       " code_show = !code_show\n",
       "} \n",
       "$( document ).ready(code_toggle);\n",
       "</script>\n",
       "\n",
       "<form action=\"javascript:code_toggle()\"><input type=\"submit\" value=\"Click here to toggle on/off the raw code.\"></form>"
      ],
      "text/plain": [
       "<IPython.core.display.HTML object>"
      ]
     },
     "execution_count": 26,
     "metadata": {},
     "output_type": "execute_result"
    }
   ],
   "source": [
    "from IPython.display import HTML\n",
    "\n",
    "HTML('''<script>\n",
    "code_show=true; \n",
    "function code_toggle() {\n",
    " if (code_show){\n",
    " $('div.input').hide();\n",
    " } else {\n",
    " $('div.input').show();\n",
    " }\n",
    " code_show = !code_show\n",
    "} \n",
    "$( document ).ready(code_toggle);\n",
    "</script>\n",
    "\n",
    "<form action=\"javascript:code_toggle()\"><input type=\"submit\" value=\"Click here to toggle on/off the raw code.\"></form>''')"
   ]
  },
  {
   "cell_type": "code",
   "execution_count": 8,
   "metadata": {},
   "outputs": [],
   "source": [
    "SOG350high = nc.Dataset('/ocean/vdo/MIDOSS/results/fakewinds/SOG/Lagrangian_AKNS_crude_fakewinds_04may16.nc', 'r')\n",
    "SOG350low = nc.Dataset('/ocean/vdo/MIDOSS/results/fakewinds/SOG/Lagrangian_AKNS_crude_fakewinds_05aug17.nc', 'r')\n",
    "SOG150high = nc.Dataset('/ocean/vdo/MIDOSS/results/fakewinds/SOG/Lagrangian_AKNS_crude_fakewinds_11may17.nc', 'r')\n",
    "SOG150low = nc.Dataset('/ocean/vdo/MIDOSS/results/fakewinds/SOG/Lagrangian_AKNS_crude_fakewinds_13nov17.nc', 'r')"
   ]
  },
  {
   "cell_type": "code",
   "execution_count": 2,
   "metadata": {},
   "outputs": [],
   "source": [
    "SOG350highw = h5py.File('/ocean/vdo/MIDOSS/mohid-forcing/SOG/fakewinds_01may16/04jan20-11jan20/winds.hdf5', 'r')\n",
    "SOG350loww = h5py.File('/ocean/vdo/MIDOSS/mohid-forcing/SOG/fakewinds_02aug17/04jan20-11jan20/winds.hdf5', 'r')\n",
    "SOG150highw = h5py.File('/ocean/vdo/MIDOSS/mohid-forcing/SOG/fakewinds_08may17/04jan20-11jan20/winds.hdf5', 'r')\n",
    "SOG150loww = h5py.File('/ocean/vdo/MIDOSS/mohid-forcing/SOG/fakewinds_10nov17/04jan20-11jan20/winds.hdf5', 'r')"
   ]
  },
  {
   "cell_type": "code",
   "execution_count": 27,
   "metadata": {},
   "outputs": [],
   "source": [
    "TP350high = nc.Dataset('/ocean/vdo/MIDOSS/results/fakewinds/TP/Lagrangian_AKNS_crude_fakewinds_TP_20nov17.nc', 'r')\n",
    "TP350low = nc.Dataset('/ocean/vdo/MIDOSS/results/fakewinds/TP/Lagrangian_AKNS_crude_fakewinds_TP_31may18.nc', 'r')\n",
    "TP150high = nc.Dataset('/ocean/vdo/MIDOSS/results/fakewinds/TP/Lagrangian_AKNS_crude_fakewinds_TP_17nov15.nc', 'r')\n",
    "TP150low = nc.Dataset('/ocean/vdo/MIDOSS/results/fakewinds/TP/Lagrangian_AKNS_crude_fakewinds_TP_13oct18.nc', 'r')"
   ]
  },
  {
   "cell_type": "code",
   "execution_count": 28,
   "metadata": {},
   "outputs": [],
   "source": [
    "TP350highw = h5py.File('/ocean/vdo/MIDOSS/mohid-forcing/TP/fakewinds_20nov17/04jan20-11jan20/winds.hdf5', 'r')\n",
    "TP350loww = h5py.File('/ocean/vdo/MIDOSS/mohid-forcing/TP/fakewinds_31may18/04jan20-11jan20/winds.hdf5', 'r')\n",
    "TP150highw = h5py.File('/ocean/vdo/MIDOSS/mohid-forcing/TP/fakewinds_17nov15/04jan20-11jan20/winds.hdf5', 'r')\n",
    "TP150loww = h5py.File('/ocean/vdo/MIDOSS/mohid-forcing/TP/fakewinds_13oct18/04jan20-11jan20/winds.hdf5', 'r')"
   ]
  },
  {
   "cell_type": "code",
   "execution_count": 29,
   "metadata": {},
   "outputs": [],
   "source": [
    "SB350high = nc.Dataset('/ocean/vdo/MIDOSS/results/fakewinds/SB/Lagrangian_AKNS_crude_fakewinds_SB_26dec16.nc', 'r')\n",
    "SB350low = nc.Dataset('/ocean/vdo/MIDOSS/results/fakewinds/SB/Lagrangian_AKNS_crude_fakewinds_SB_13oct18.nc', 'r')\n",
    "SB150high = nc.Dataset('/ocean/vdo/MIDOSS/results/fakewinds/SB/Lagrangian_AKNS_crude_fakewinds_SB_26jun16.nc', 'r')\n",
    "SB150low = nc.Dataset('/ocean/vdo/MIDOSS/results/fakewinds/SB/Lagrangian_AKNS_crude_fakewinds_SB_02aug18.nc', 'r')"
   ]
  },
  {
   "cell_type": "code",
   "execution_count": 30,
   "metadata": {},
   "outputs": [],
   "source": [
    "SB350highw = h5py.File('/ocean/vdo/MIDOSS/mohid-forcing/SB/fakewinds_26dec16/04jan20-11jan20/winds.hdf5', 'r')\n",
    "## reusing TP forcing files because for wind event\n",
    "SB350loww = h5py.File('/ocean/vdo/MIDOSS/mohid-forcing/TP/fakewinds_13oct18/04jan20-11jan20/winds.hdf5', 'r')\n",
    "SB150highw = h5py.File('/ocean/vdo/MIDOSS/mohid-forcing/SB/fakewinds_26jun16/04jan20-11jan20/winds.hdf5', 'r')\n",
    "SB150loww = h5py.File('/ocean/vdo/MIDOSS/mohid-forcing/SB/fakewinds_02aug18/04jan20-11jan20/winds.hdf5', 'r')"
   ]
  },
  {
   "cell_type": "code",
   "execution_count": 31,
   "metadata": {},
   "outputs": [],
   "source": [
    "BP350high = nc.Dataset('/ocean/vdo/MIDOSS/results/fakewinds/BP/Lagrangian_AKNS_crude_fakewinds_BP_01may16.nc', 'r')\n",
    "BP350low = nc.Dataset('/ocean/vdo/MIDOSS/results/fakewinds/BP/Lagrangian_AKNS_crude_fakewinds_BP_13oct18.nc', 'r')\n",
    "BP150high = nc.Dataset('/ocean/vdo/MIDOSS/results/fakewinds/BP/Lagrangian_AKNS_crude_fakewinds_BP_20nov17.nc', 'r')\n",
    "BP150low = nc.Dataset('/ocean/vdo/MIDOSS/results/fakewinds/BP/Lagrangian_AKNS_crude_fakewinds_BP_19jul15.nc', 'r')"
   ]
  },
  {
   "cell_type": "code",
   "execution_count": 32,
   "metadata": {},
   "outputs": [],
   "source": [
    "## reusing TP and SOG forcing files because for wind events\n",
    "BP350highw = h5py.File('/ocean/vdo/MIDOSS/mohid-forcing/SOG/fakewinds_01may16/04jan20-11jan20/winds.hdf5', 'r')\n",
    "BP350loww = h5py.File('/ocean/vdo/MIDOSS/mohid-forcing/TP/fakewinds_13oct18/04jan20-11jan20/winds.hdf5', 'r')\n",
    "BP150highw = h5py.File('/ocean/vdo/MIDOSS/mohid-forcing/TP/fakewinds_20nov17/04jan20-11jan20/winds.hdf5', 'r')\n",
    "BP150loww = h5py.File('/ocean/vdo/MIDOSS/mohid-forcing/BP/fakewinds_19jul15/04jan20-11jan20/winds.hdf5', 'r')"
   ]
  },
  {
   "cell_type": "code",
   "execution_count": 9,
   "metadata": {},
   "outputs": [],
   "source": [
    "SOGzero = nc.Dataset('/ocean/vdo/MIDOSS/results/fakewinds/zerowinds/Lagrangian_AKNS_crude_fakewinds_zerowinds_SOG.nc')\n",
    "TPzero = nc.Dataset('/ocean/vdo/MIDOSS/results/fakewinds/zerowinds/Lagrangian_AKNS_crude_fakewinds_zerowinds_TP.nc')\n",
    "SBzero = nc.Dataset('/ocean/vdo/MIDOSS/results/fakewinds/zerowinds/Lagrangian_AKNS_crude_fakewinds_zerowinds_SB.nc')\n",
    "BPzero = nc.Dataset('/ocean/vdo/MIDOSS/results/fakewinds/zerowinds/Lagrangian_AKNS_crude_fakewinds_zerowinds_BP.nc')"
   ]
  },
  {
   "cell_type": "code",
   "execution_count": 5,
   "metadata": {},
   "outputs": [],
   "source": [
    "zerow = h5py.File('/ocean/vdo/MIDOSS/mohid-forcing/zero_winds/04jan20-11jan20/winds.hdf5', 'r')"
   ]
  },
  {
   "cell_type": "code",
   "execution_count": 7,
   "metadata": {},
   "outputs": [],
   "source": [
    "SOGs0 = np.array([])\n",
    "SOGs1 = np.array([])\n",
    "SOGs2 = np.array([])\n",
    "SOGs3 = np.array([])\n",
    "SOGs4 = np.array([])\n",
    "\n",
    "SOGd0 = np.array([])\n",
    "SOGd1 = np.array([])\n",
    "SOGd2 = np.array([])\n",
    "SOGd3 = np.array([])\n",
    "SOGd4 = np.array([])\n",
    "\n",
    "for keyX, keyY in zip(list(SOG350highw['Results']['wind velocity X'].keys())[:24], list(SOG150highw['Results']['wind velocity Y'].keys())[:24]):\n",
    "    s, d = wind_tools.wind_speed_dir(SOG350highw['Results']['wind velocity X'][keyX][251, 473], \n",
    "                                     SOG350highw['Results']['wind velocity Y'][keyY][251,473])\n",
    "    SOGs0 = np.append(SOGs0, s)\n",
    "    SOGd0 = np.append(SOGd0, d)\n",
    "    \n",
    "    s, d = wind_tools.wind_speed_dir(SOG350loww['Results']['wind velocity X'][keyX][251, 473], \n",
    "                                     SOG350loww['Results']['wind velocity Y'][keyY][251,473])\n",
    "    SOGs1 = np.append(SOGs1, s)\n",
    "    SOGd1 = np.append(SOGd1, d)\n",
    "    \n",
    "    s, d = wind_tools.wind_speed_dir(SOG150highw['Results']['wind velocity X'][keyX][251, 473], \n",
    "                                     SOG150highw['Results']['wind velocity Y'][keyY][251,473])\n",
    "    SOGs2 = np.append(SOGs2, s)\n",
    "    SOGd2 = np.append(SOGd2, d)\n",
    "    \n",
    "    s, d = wind_tools.wind_speed_dir(SOG150loww['Results']['wind velocity X'][keyX][251, 473], \n",
    "                                     SOG150loww['Results']['wind velocity Y'][keyY][251,473])\n",
    "    SOGs3 = np.append(SOGs3, s)\n",
    "    SOGd3 = np.append(SOGd3, d)\n",
    "    \n",
    "    s, d = wind_tools.wind_speed_dir(zerow['Results']['wind velocity X'][keyX][251, 473], \n",
    "                                     zerow['Results']['wind velocity Y'][keyY][251,473])\n",
    "    SOGs4 = np.append(SOGs4, s)\n",
    "    SOGd4 = np.append(SOGd4, d)"
   ]
  },
  {
   "cell_type": "markdown",
   "metadata": {},
   "source": [
    "# SOG"
   ]
  },
  {
   "cell_type": "code",
   "execution_count": 38,
   "metadata": {},
   "outputs": [
    {
     "data": {
      "image/png": "[encoded data removed]",
      "text/plain": [
       "<Figure size 720x360 with 2 Axes>"
      ]
     },
     "metadata": {
      "needs_background": "light"
     },
     "output_type": "display_data"
    }
   ],
   "source": [
    "fig, ax = plt.subplots(1, 2, figsize = (10,5))\n",
    "ax[0].plot(np.mean(SOGs0), np.min(np.ma.masked_equal(SOG350high.variables['Beaching_Time'][:], 0)), 'co')\n",
    "ax[0].plot(np.mean(SOGs1), np.min(np.ma.masked_equal(SOG350low.variables['Beaching_Time'][:], 0)), 'bo')\n",
    "ax[0].plot(np.mean(SOGs2), np.min(np.ma.masked_equal(SOG150high.variables['Beaching_Time'][:], 0)),'ro')\n",
    "ax[0].plot(np.mean(SOGs3), np.min(np.ma.masked_equal(SOG150low.variables['Beaching_Time'][:], 0)),'go')\n",
    "ax[0].plot(np.mean(SOGs4), np.min(np.ma.masked_equal(SOGzero.variables['Beaching_Time'][:], 0)),'mo')\n",
    "ax[0].set_title('24 h averaged wind speed vs min beaching hour')\n",
    "ax[0].set_ylabel('minimum beaching hour')\n",
    "\n",
    "ax[1].plot(np.mean(SOGd0), np.min(np.ma.masked_equal(SOG350high.variables['Beaching_Time'][:], 0)), 'co', label = 'SOG 350 high')\n",
    "ax[1].plot(np.mean(SOGd1), np.min(np.ma.masked_equal(SOG350low.variables['Beaching_Time'][:], 0)), 'bo', label = 'SOG 350 low')\n",
    "ax[1].plot(np.mean(SOGd2), np.min(np.ma.masked_equal(SOG150high.variables['Beaching_Time'][:], 0)),'ro', label = 'SOG 150 high')\n",
    "ax[1].plot(np.mean(SOGd3), np.min(np.ma.masked_equal(SOG150low.variables['Beaching_Time'][:], 0)),'go', label = 'SOG 150 low')\n",
    "ax[1].plot(np.mean(SOGd4), np.min(np.ma.masked_equal(SOGzero.variables['Beaching_Time'][:], 0)),'mo', label = 'SOG zero')\n",
    "ax[1].set_title('24 h averaged wind direction vs min beaching hour')\n",
    "\n",
    "plt.tight_layout()"
   ]
  },
  {
   "cell_type": "markdown",
   "metadata": {},
   "source": [
    "# Turn Point"
   ]
  },
  {
   "cell_type": "code",
   "execution_count": 33,
   "metadata": {},
   "outputs": [],
   "source": [
    "TPs0 = np.array([])\n",
    "TPs1 = np.array([])\n",
    "TPs2 = np.array([])\n",
    "TPs3 = np.array([])\n",
    "TPs4 = np.array([])\n",
    "\n",
    "TPd0 = np.array([])\n",
    "TPd1 = np.array([])\n",
    "TPd2 = np.array([])\n",
    "TPd3 = np.array([])\n",
    "TPd4 = np.array([])\n",
    "\n",
    "for keyX, keyY in zip(list(SOG350highw['Results']['wind velocity X'].keys())[:24], list(SOG150highw['Results']['wind velocity Y'].keys())[:24]):\n",
    "    s, d = wind_tools.wind_speed_dir(TP350highw['Results']['wind velocity X'][keyX][249, 342], \n",
    "                                     TP350highw['Results']['wind velocity Y'][keyY][249, 342])\n",
    "    TPs0 = np.append(TPs0, s)\n",
    "    TPd0 = np.append(TPd0, d)\n",
    "    \n",
    "    s, d = wind_tools.wind_speed_dir(TP350loww['Results']['wind velocity X'][keyX][249, 342], \n",
    "                                     TP350loww['Results']['wind velocity Y'][keyY][249, 342])\n",
    "    TPs1 = np.append(TPs1, s)\n",
    "    TPd1 = np.append(TPd1, d)\n",
    "    \n",
    "    s, d = wind_tools.wind_speed_dir(TP150highw['Results']['wind velocity X'][keyX][249, 342], \n",
    "                                     TP150highw['Results']['wind velocity Y'][keyY][249, 342])\n",
    "    TPs2 = np.append(TPs2, s)\n",
    "    TPd2 = np.append(TPd2, d)\n",
    "    \n",
    "    s, d = wind_tools.wind_speed_dir(TP150loww['Results']['wind velocity X'][keyX][249, 342], \n",
    "                                     TP150loww['Results']['wind velocity Y'][keyY][249, 342])\n",
    "    TPs3 = np.append(TPs3, s)\n",
    "    TPd3 = np.append(TPd3, d)\n",
    "    \n",
    "    s, d = wind_tools.wind_speed_dir(zerow['Results']['wind velocity X'][keyX][249, 342], \n",
    "                                     zerow['Results']['wind velocity Y'][keyY][249, 342])\n",
    "    TPs4 = np.append(TPs4, s)\n",
    "    TPd4 = np.append(TPd4, d)"
   ]
  },
  {
   "cell_type": "code",
   "execution_count": 39,
   "metadata": {},
   "outputs": [
    {
     "data": {
      "image/png": "[encoded data removed]",
      "text/plain": [
       "<Figure size 720x360 with 2 Axes>"
      ]
     },
     "metadata": {
      "needs_background": "light"
     },
     "output_type": "display_data"
    }
   ],
   "source": [
    "fig, ax = plt.subplots(1, 2, figsize = (10,5))\n",
    "ax[0].plot(np.mean(TPs0), np.min(np.ma.masked_equal(TP350high.variables['Beaching_Time'][:], 0)), 'co')\n",
    "ax[0].plot(np.mean(TPs1), np.min(np.ma.masked_equal(TP350low.variables['Beaching_Time'][:], 0)), 'bo')\n",
    "ax[0].plot(np.mean(TPs2), np.min(np.ma.masked_equal(TP150high.variables['Beaching_Time'][:], 0)),'ro')\n",
    "ax[0].plot(np.mean(TPs3), np.min(np.ma.masked_equal(TP150low.variables['Beaching_Time'][:], 0)),'go')\n",
    "ax[0].plot(np.mean(TPs4), np.min(np.ma.masked_equal(TPzero.variables['Beaching_Time'][:], 0)),'mo')\n",
    "ax[0].set_title('24 h averaged wind speed vs min beaching hour')\n",
    "ax[0].set_ylabel('minimum beaching hour')\n",
    "\n",
    "\n",
    "ax[1].plot(np.mean(TPd0), np.min(np.ma.masked_equal(TP350high.variables['Beaching_Time'][:], 0)), 'co', label = 'TP 100 high')\n",
    "ax[1].plot(np.mean(TPd1), np.min(np.ma.masked_equal(TP350low.variables['Beaching_Time'][:], 0)), 'bo', label = 'TP 100 low')\n",
    "ax[1].plot(np.mean(TPd2), np.min(np.ma.masked_equal(TP150high.variables['Beaching_Time'][:], 0)),'ro', label = 'TP 270 high')\n",
    "ax[1].plot(np.mean(TPd3), np.min(np.ma.masked_equal(TP150low.variables['Beaching_Time'][:], 0)),'go', label = 'TP 270 low')\n",
    "ax[1].plot(np.mean(TPd4), np.min(np.ma.masked_equal(TPzero.variables['Beaching_Time'][:], 0)),'mo', label = 'TP zero')\n",
    "ax[1].set_title('24 h averaged wind speed vs min beaching hour')\n",
    "\n",
    "plt.tight_layout()"
   ]
  },
  {
   "cell_type": "markdown",
   "metadata": {},
   "source": [
    "# Salmon Bank"
   ]
  },
  {
   "cell_type": "code",
   "execution_count": null,
   "metadata": {},
   "outputs": [],
   "source": []
  },
  {
   "cell_type": "code",
   "execution_count": 40,
   "metadata": {},
   "outputs": [],
   "source": [
    "SBs0 = np.array([])\n",
    "SBs1 = np.array([])\n",
    "SBs2 = np.array([])\n",
    "SBs3 = np.array([])\n",
    "SBs4 = np.array([])\n",
    "\n",
    "SBd0 = np.array([])\n",
    "SBd1 = np.array([])\n",
    "SBd2 = np.array([])\n",
    "SBd3 = np.array([])\n",
    "SBd4 = np.array([])\n",
    "\n",
    "for keyX, keyY in zip(list(SOG350highw['Results']['wind velocity X'].keys())[:24], list(SOG150highw['Results']['wind velocity Y'].keys())[:24]):\n",
    "    s, d = wind_tools.wind_speed_dir(SB350highw['Results']['wind velocity X'][keyX][266, 255], \n",
    "                                     SB350highw['Results']['wind velocity Y'][keyY][266, 255])\n",
    "    SBs0 = np.append(SBs0, s)\n",
    "    SBd0 = np.append(SBd0, d)\n",
    "    \n",
    "    s, d = wind_tools.wind_speed_dir(SB350loww['Results']['wind velocity X'][keyX][266, 255], \n",
    "                                     SB350loww['Results']['wind velocity Y'][keyY][266, 255])\n",
    "    SBs1 = np.append(SBs1, s)\n",
    "    SBd1 = np.append(SBd1, d)\n",
    "    \n",
    "    s, d = wind_tools.wind_speed_dir(SB150highw['Results']['wind velocity X'][keyX][266, 255], \n",
    "                                     SB150highw['Results']['wind velocity Y'][keyY][266, 255])\n",
    "    SBs2 = np.append(SBs2, s)\n",
    "    SBd2 = np.append(SBd2, d)\n",
    "    \n",
    "    s, d = wind_tools.wind_speed_dir(SB150loww['Results']['wind velocity X'][keyX][266, 255], \n",
    "                                     SB150loww['Results']['wind velocity Y'][keyY][266, 255])\n",
    "    SBs3 = np.append(SBs3, s)\n",
    "    SBd3 = np.append(SBd3, d)\n",
    "    \n",
    "    s, d = wind_tools.wind_speed_dir(zerow['Results']['wind velocity X'][keyX][266, 255], \n",
    "                                     zerow['Results']['wind velocity Y'][keyY][266, 255])\n",
    "    SBs4 = np.append(SBs4, s)\n",
    "    SBd4 = np.append(SBd4, d)"
   ]
  },
  {
   "cell_type": "code",
   "execution_count": 41,
   "metadata": {},
   "outputs": [
    {
     "data": {
      "image/png": "[encoded data removed]",
      "text/plain": [
       "<Figure size 720x360 with 2 Axes>"
      ]
     },
     "metadata": {
      "needs_background": "light"
     },
     "output_type": "display_data"
    }
   ],
   "source": [
    "fig, ax = plt.subplots(1, 2, figsize = (10,5))\n",
    "ax[0].plot(np.mean(SBs0), np.min(np.ma.masked_equal(SB350high.variables['Beaching_Time'][:], 0)), 'co')\n",
    "ax[0].plot(np.mean(SBs1), np.min(np.ma.masked_equal(SB350low.variables['Beaching_Time'][:], 0)), 'bo')\n",
    "ax[0].plot(np.mean(SBs2), np.min(np.ma.masked_equal(SB150high.variables['Beaching_Time'][:], 0)),'ro')\n",
    "ax[0].plot(np.mean(SBs3), np.min(np.ma.masked_equal(SB150low.variables['Beaching_Time'][:], 0)),'go')\n",
    "ax[0].plot(np.mean(SBs4), np.min(np.ma.masked_equal(SBzero.variables['Beaching_Time'][:], 0)),'mo')\n",
    "ax[0].set_title('24 h averaged wind speed vs min beaching hour')\n",
    "ax[0].set_ylabel('minimum beaching hour')\n",
    "\n",
    "\n",
    "ax[1].plot(np.mean(SBd0), np.min(np.ma.masked_equal(SB350high.variables['Beaching_Time'][:], 0)), 'co', label = 'TP 100 high')\n",
    "ax[1].plot(np.mean(SBd1), np.min(np.ma.masked_equal(SB350low.variables['Beaching_Time'][:], 0)), 'bo', label = 'TP 100 low')\n",
    "ax[1].plot(np.mean(SBd2), np.min(np.ma.masked_equal(SB150high.variables['Beaching_Time'][:], 0)),'ro', label = 'TP 270 high')\n",
    "ax[1].plot(np.mean(SBd3), np.min(np.ma.masked_equal(SB150low.variables['Beaching_Time'][:], 0)),'go', label = 'TP 270 low')\n",
    "ax[1].plot(np.mean(SBd4), np.min(np.ma.masked_equal(SBzero.variables['Beaching_Time'][:], 0)),'mo', label = 'TP zero')\n",
    "ax[1].set_title('24 h averaged wind speed vs min beaching hour')\n",
    "\n",
    "plt.tight_layout()"
   ]
  },
  {
   "cell_type": "markdown",
   "metadata": {},
   "source": [
    "# Boundary Pass"
   ]
  },
  {
   "cell_type": "code",
   "execution_count": null,
   "metadata": {},
   "outputs": [],
   "source": []
  },
  {
   "cell_type": "code",
   "execution_count": null,
   "metadata": {},
   "outputs": [],
   "source": []
  },
  {
   "cell_type": "code",
   "execution_count": null,
   "metadata": {},
   "outputs": [],
   "source": []
  },
  {
   "cell_type": "code",
   "execution_count": null,
   "metadata": {},
   "outputs": [],
   "source": []
  },
  {
   "cell_type": "code",
   "execution_count": 42,
   "metadata": {},
   "outputs": [],
   "source": [
    "BPs0 = np.array([])\n",
    "BPs1 = np.array([])\n",
    "BPs2 = np.array([])\n",
    "BPs3 = np.array([])\n",
    "BPs4 = np.array([])\n",
    "\n",
    "BPd0 = np.array([])\n",
    "BPd1 = np.array([])\n",
    "BPd2 = np.array([])\n",
    "BPd3 = np.array([])\n",
    "BPd4 = np.array([])\n",
    "\n",
    "for keyX, keyY in zip(list(SOG350highw['Results']['wind velocity X'].keys())[:24], list(SOG150highw['Results']['wind velocity Y'].keys())[:24]):\n",
    "    s, d = wind_tools.wind_speed_dir(BP350highw['Results']['wind velocity X'][keyX][298, 338], \n",
    "                                     BP350highw['Results']['wind velocity Y'][keyY][298, 338])\n",
    "    BPs0 = np.append(BPs0, s)\n",
    "    BPd0 = np.append(BPd0, d)\n",
    "    \n",
    "    s, d = wind_tools.wind_speed_dir(BP350loww['Results']['wind velocity X'][keyX][298, 338], \n",
    "                                     BP350loww['Results']['wind velocity Y'][keyY][298, 338])\n",
    "    BPs1 = np.append(BPs1, s)\n",
    "    BPd1 = np.append(BPd1, d)\n",
    "    \n",
    "    s, d = wind_tools.wind_speed_dir(BP150highw['Results']['wind velocity X'][keyX][298, 338], \n",
    "                                     BP150highw['Results']['wind velocity Y'][keyY][298, 338])\n",
    "    BPs2 = np.append(BPs2, s)\n",
    "    BPd2 = np.append(BPd2, d)\n",
    "    \n",
    "    s, d = wind_tools.wind_speed_dir(BP150loww['Results']['wind velocity X'][keyX][298, 338], \n",
    "                                     BP150loww['Results']['wind velocity Y'][keyY][298, 338])\n",
    "    BPs3 = np.append(BPs3, s)\n",
    "    BPd3 = np.append(BPd3, d)\n",
    "    \n",
    "    s, d = wind_tools.wind_speed_dir(zerow['Results']['wind velocity X'][keyX][298, 338], \n",
    "                                     zerow['Results']['wind velocity Y'][keyY][298, 338])\n",
    "    BPs4 = np.append(BPs4, s)\n",
    "    BPd4 = np.append(BPd4, d)"
   ]
  },
  {
   "cell_type": "code",
   "execution_count": 43,
   "metadata": {},
   "outputs": [
    {
     "data": {
      "image/png": "[encoded data removed]",
      "text/plain": [
       "<Figure size 720x360 with 2 Axes>"
      ]
     },
     "metadata": {
      "needs_background": "light"
     },
     "output_type": "display_data"
    }
   ],
   "source": [
    "fig, ax = plt.subplots(1, 2, figsize = (10,5))\n",
    "ax[0].plot(np.mean(BPs0), np.min(np.ma.masked_equal(BP350high.variables['Beaching_Time'][:], 0)), 'co')\n",
    "ax[0].plot(np.mean(BPs1), np.min(np.ma.masked_equal(BP350low.variables['Beaching_Time'][:], 0)), 'bo')\n",
    "ax[0].plot(np.mean(BPs2), np.min(np.ma.masked_equal(BP150high.variables['Beaching_Time'][:], 0)),'ro')\n",
    "ax[0].plot(np.mean(BPs3), np.min(np.ma.masked_equal(BP150low.variables['Beaching_Time'][:], 0)),'go')\n",
    "ax[0].plot(np.mean(BPs4), np.min(np.ma.masked_equal(BPzero.variables['Beaching_Time'][:], 0)),'mo')\n",
    "ax[0].set_title('24 h averaged wind speed vs min beaching hour')\n",
    "ax[0].set_ylabel('minimum beaching hour')\n",
    "\n",
    "\n",
    "ax[1].plot(np.mean(BPd0), np.min(np.ma.masked_equal(BP350high.variables['Beaching_Time'][:], 0)), 'co', label = 'TP 100 high')\n",
    "ax[1].plot(np.mean(BPd1), np.min(np.ma.masked_equal(BP350low.variables['Beaching_Time'][:], 0)), 'bo', label = 'TP 100 low')\n",
    "ax[1].plot(np.mean(BPd2), np.min(np.ma.masked_equal(BP150high.variables['Beaching_Time'][:], 0)),'ro', label = 'TP 270 high')\n",
    "ax[1].plot(np.mean(BPd3), np.min(np.ma.masked_equal(BP150low.variables['Beaching_Time'][:], 0)),'go', label = 'TP 270 low')\n",
    "ax[1].plot(np.mean(BPd4), np.min(np.ma.masked_equal(BPzero.variables['Beaching_Time'][:], 0)),'mo', label = 'TP zero')\n",
    "ax[1].set_title('24 h averaged wind speed vs min beaching hour')\n",
    "\n",
    "plt.tight_layout()"
   ]
  },
  {
   "cell_type": "code",
   "execution_count": 45,
   "metadata": {},
   "outputs": [
    {
     "data": {
      "image/png": "[encoded data removed]",
      "text/plain": [
       "<Figure size 720x360 with 2 Axes>"
      ]
     },
     "metadata": {
      "needs_background": "light"
     },
     "output_type": "display_data"
    }
   ],
   "source": [
    "fig, ax = plt.subplots(1, 2, figsize = (10,5))\n",
    "ax[0].plot(np.mean(BPs0), np.min(np.ma.masked_equal(BP350high.variables['Beaching_Time'][:], 0)), 'co', label = 'BP')\n",
    "ax[0].plot(np.mean(BPs1), np.min(np.ma.masked_equal(BP350low.variables['Beaching_Time'][:], 0)), 'co')\n",
    "ax[0].plot(np.mean(BPs2), np.min(np.ma.masked_equal(BP150high.variables['Beaching_Time'][:], 0)),'co')\n",
    "ax[0].plot(np.mean(BPs3), np.min(np.ma.masked_equal(BP150low.variables['Beaching_Time'][:], 0)),'co')\n",
    "ax[0].plot(np.mean(BPs4), np.min(np.ma.masked_equal(BPzero.variables['Beaching_Time'][:], 0)),'co')\n",
    "\n",
    "ax[0].plot(np.mean(SBs0), np.min(np.ma.masked_equal(SB350high.variables['Beaching_Time'][:], 0)), 'bo', label = 'SB')\n",
    "ax[0].plot(np.mean(SBs1), np.min(np.ma.masked_equal(SB350low.variables['Beaching_Time'][:], 0)), 'bo')\n",
    "ax[0].plot(np.mean(SBs2), np.min(np.ma.masked_equal(SB150high.variables['Beaching_Time'][:], 0)),'bo')\n",
    "ax[0].plot(np.mean(SBs3), np.min(np.ma.masked_equal(SB150low.variables['Beaching_Time'][:], 0)),'bo')\n",
    "ax[0].plot(np.mean(SBs4), np.min(np.ma.masked_equal(SBzero.variables['Beaching_Time'][:], 0)),'bo')\n",
    "\n",
    "ax[0].plot(np.mean(TPs0), np.min(np.ma.masked_equal(TP350high.variables['Beaching_Time'][:], 0)), 'ro', label = 'TP')\n",
    "ax[0].plot(np.mean(TPs1), np.min(np.ma.masked_equal(TP350low.variables['Beaching_Time'][:], 0)), 'ro')\n",
    "ax[0].plot(np.mean(TPs2), np.min(np.ma.masked_equal(TP150high.variables['Beaching_Time'][:], 0)),'ro')\n",
    "ax[0].plot(np.mean(TPs3), np.min(np.ma.masked_equal(TP150low.variables['Beaching_Time'][:], 0)),'ro')\n",
    "ax[0].plot(np.mean(TPs4), np.min(np.ma.masked_equal(TPzero.variables['Beaching_Time'][:], 0)),'ro')\n",
    "\n",
    "ax[0].plot(np.mean(SOGs0), np.min(np.ma.masked_equal(SOG350high.variables['Beaching_Time'][:], 0)), 'go', label = 'SOG')\n",
    "ax[0].plot(np.mean(SOGs1), np.min(np.ma.masked_equal(SOG350low.variables['Beaching_Time'][:], 0)), 'go')\n",
    "ax[0].plot(np.mean(SOGs2), np.min(np.ma.masked_equal(SOG150high.variables['Beaching_Time'][:], 0)),'go')\n",
    "ax[0].plot(np.mean(SOGs3), np.min(np.ma.masked_equal(SOG150low.variables['Beaching_Time'][:], 0)),'go')\n",
    "ax[0].plot(np.mean(SOGs4), np.min(np.ma.masked_equal(SOGzero.variables['Beaching_Time'][:], 0)),'go')\n",
    "\n",
    "ax[0].legend()\n",
    "ax[0].set_title('24 h averaged wind speed vs min beaching hour')\n",
    "ax[0].set_ylabel('minimum beaching hour')\n",
    "\n",
    "\n",
    "ax[1].plot(np.mean(BPd0), np.min(np.ma.masked_equal(BP350high.variables['Beaching_Time'][:], 0)), 'co', label = 'TP 100 high')\n",
    "ax[1].plot(np.mean(BPd1), np.min(np.ma.masked_equal(BP350low.variables['Beaching_Time'][:], 0)), 'co', label = 'TP 100 low')\n",
    "ax[1].plot(np.mean(BPd2), np.min(np.ma.masked_equal(BP150high.variables['Beaching_Time'][:], 0)),'co', label = 'TP 270 high')\n",
    "ax[1].plot(np.mean(BPd3), np.min(np.ma.masked_equal(BP150low.variables['Beaching_Time'][:], 0)),'co', label = 'TP 270 low')\n",
    "ax[1].plot(np.mean(BPd4), np.min(np.ma.masked_equal(BPzero.variables['Beaching_Time'][:], 0)),'co', label = 'TP zero')\n",
    "\n",
    "ax[1].plot(np.mean(SBd0), np.min(np.ma.masked_equal(SB350high.variables['Beaching_Time'][:], 0)), 'bo')\n",
    "ax[1].plot(np.mean(SBd1), np.min(np.ma.masked_equal(SB350low.variables['Beaching_Time'][:], 0)), 'bo')\n",
    "ax[1].plot(np.mean(SBd2), np.min(np.ma.masked_equal(SB150high.variables['Beaching_Time'][:], 0)),'bo')\n",
    "ax[1].plot(np.mean(SBd3), np.min(np.ma.masked_equal(SB150low.variables['Beaching_Time'][:], 0)),'bo')\n",
    "ax[1].plot(np.mean(SBd4), np.min(np.ma.masked_equal(SBzero.variables['Beaching_Time'][:], 0)),'bo')\n",
    "\n",
    "ax[1].plot(np.mean(TPd0), np.min(np.ma.masked_equal(TP350high.variables['Beaching_Time'][:], 0)), 'ro')\n",
    "ax[1].plot(np.mean(TPd1), np.min(np.ma.masked_equal(TP350low.variables['Beaching_Time'][:], 0)), 'ro')\n",
    "ax[1].plot(np.mean(TPd2), np.min(np.ma.masked_equal(TP150high.variables['Beaching_Time'][:], 0)),'ro')\n",
    "ax[1].plot(np.mean(TPd3), np.min(np.ma.masked_equal(TP150low.variables['Beaching_Time'][:], 0)),'ro')\n",
    "ax[1].plot(np.mean(TPd4), np.min(np.ma.masked_equal(TPzero.variables['Beaching_Time'][:], 0)),'ro')\n",
    "\n",
    "ax[1].plot(np.mean(SOGd0), np.min(np.ma.masked_equal(SOG350high.variables['Beaching_Time'][:], 0)), 'co')\n",
    "ax[1].plot(np.mean(SOGd1), np.min(np.ma.masked_equal(SOG350low.variables['Beaching_Time'][:], 0)), 'bo')\n",
    "ax[1].plot(np.mean(SOGd2), np.min(np.ma.masked_equal(SOG150high.variables['Beaching_Time'][:], 0)),'ro')\n",
    "ax[1].plot(np.mean(SOGd3), np.min(np.ma.masked_equal(SOG150low.variables['Beaching_Time'][:], 0)),'go')\n",
    "ax[1].plot(np.mean(SOGd4), np.min(np.ma.masked_equal(SOGzero.variables['Beaching_Time'][:], 0)),'mo')\n",
    "\n",
    "ax[1].set_title('24 h averaged wind speed vs min beaching hour')\n",
    "\n",
    "plt.tight_layout()"
   ]
  },
  {
   "cell_type": "code",
   "execution_count": null,
   "metadata": {},
   "outputs": [],
   "source": []
  },
  {
   "cell_type": "code",
   "execution_count": null,
   "metadata": {},
   "outputs": [],
   "source": []
  },
  {
   "cell_type": "code",
   "execution_count": null,
   "metadata": {},
   "outputs": [],
   "source": []
  }
 ],
 "metadata": {
  "kernelspec": {
   "display_name": "Python 3",
   "language": "python",
   "name": "python3"
  },
  "language_info": {
   "codemirror_mode": {
    "name": "ipython",
    "version": 3
   },
   "file_extension": ".py",
   "mimetype": "text/x-python",
   "name": "python",
   "nbconvert_exporter": "python",
   "pygments_lexer": "ipython3",
   "version": "3.6.8"
  }
 },
 "nbformat": 4,
 "nbformat_minor": 2
}
