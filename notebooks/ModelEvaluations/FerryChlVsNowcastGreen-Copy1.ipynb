{
 "cells": [
  {
   "cell_type": "code",
   "execution_count": 1,
   "metadata": {
    "collapsed": false
   },
   "outputs": [
    {
     "data": {
      "text/html": [
       "<style>.container { width:90% !important; }</style>"
      ],
      "text/plain": [
       "<IPython.core.display.HTML object>"
      ]
     },
     "metadata": {},
     "output_type": "display_data"
    }
   ],
   "source": [
    "import netCDF4 as nc\n",
    "import numpy as np\n",
    "import matplotlib.pyplot as plt\n",
    "from salishsea_tools import geo_tools, nc_tools, tidetools\n",
    "import xarray as xr\n",
    "import datetime\n",
    "from IPython.core.display import display, HTML\n",
    "display(HTML(\"<style>.container { width:90% !important; }</style>\"))\n",
    "\n",
    "%matplotlib inline"
   ]
  },
  {
   "cell_type": "code",
   "execution_count": 21,
   "metadata": {
    "collapsed": false
   },
   "outputs": [
    {
     "data": {
      "text/html": [
       "<script>\n",
       "code_show=true; \n",
       "function code_toggle() {\n",
       " if (code_show){\n",
       " $('div.input').hide();\n",
       " } else {\n",
       " $('div.input').show();\n",
       " }\n",
       " code_show = !code_show\n",
       "} \n",
       "$( document ).ready(code_toggle);\n",
       "</script>\n",
       "<form action=\"javascript:code_toggle()\"><input type=\"submit\" value=\"Click here to toggle on/off the raw code.\"></form>"
      ],
      "text/plain": [
       "<IPython.core.display.HTML object>"
      ]
     },
     "execution_count": 21,
     "metadata": {},
     "output_type": "execute_result"
    }
   ],
   "source": [
    "from IPython.display import HTML\n",
    "\n",
    "HTML('''<script>\n",
    "code_show=true; \n",
    "function code_toggle() {\n",
    " if (code_show){\n",
    " $('div.input').hide();\n",
    " } else {\n",
    " $('div.input').show();\n",
    " }\n",
    " code_show = !code_show\n",
    "} \n",
    "$( document ).ready(code_toggle);\n",
    "</script>\n",
    "<form action=\"javascript:code_toggle()\"><input type=\"submit\" value=\"Click here to toggle on/off the raw code.\"></form>''')"
   ]
  },
  {
   "cell_type": "code",
   "execution_count": 2,
   "metadata": {
    "collapsed": false
   },
   "outputs": [],
   "source": [
    "grid = nc.Dataset('/data/vdo/MEOPAR/NEMO-forcing/grid/bathymetry_201702.nc')\n",
    "ferry_data = 'https://salishsea.eos.ubc.ca/erddap/tabledap/ubcONCTWDP1mV1'\n",
    "nowcast_data = 'https://salishsea.eos.ubc.ca/erddap/griddap/ubcSSg3DBiologyFields1hV17-02'\n",
    "bathy, X, Y = tidetools.get_bathy_data(grid)\n",
    "ferry = nc.Dataset(ferry_data)\n",
    "nowcast = xr.open_dataset(nowcast_data)"
   ]
  },
  {
   "cell_type": "code",
   "execution_count": 4,
   "metadata": {
    "collapsed": false
   },
   "outputs": [
    {
     "data": {
      "text/plain": [
       "datetime.datetime(2014, 9, 13, 5, 20)"
      ]
     },
     "execution_count": 4,
     "metadata": {},
     "output_type": "execute_result"
    }
   ],
   "source": [
    "nc.num2date(ferry.variables['s.time'][680000], ferry.variables['s.time'].units)"
   ]
  },
  {
   "cell_type": "code",
   "execution_count": 5,
   "metadata": {
    "collapsed": false
   },
   "outputs": [
    {
     "data": {
      "text/plain": [
       "datetime.datetime(2017, 10, 27, 15, 12)"
      ]
     },
     "execution_count": 5,
     "metadata": {},
     "output_type": "execute_result"
    }
   ],
   "source": [
    "nc.num2date(ferry.variables['s.time'][-1], ferry.variables['s.time'].units)"
   ]
  },
  {
   "cell_type": "code",
   "execution_count": 3,
   "metadata": {
    "collapsed": false
   },
   "outputs": [],
   "source": [
    "import pickle"
   ]
  },
  {
   "cell_type": "code",
   "execution_count": 7,
   "metadata": {
    "collapsed": true
   },
   "outputs": [],
   "source": [
    "HINDCAST_PATH= '/results/SalishSea/nowcast-green/'"
   ]
  },
  {
   "cell_type": "code",
   "execution_count": 8,
   "metadata": {
    "collapsed": true
   },
   "outputs": [],
   "source": [
    "import os"
   ]
  },
  {
   "cell_type": "code",
   "execution_count": 8,
   "metadata": {
    "collapsed": false
   },
   "outputs": [],
   "source": [
    "list_of_model_chl = np.array([])\n",
    "list_of_ferry_chl = np.array([])\n",
    "unit = ferry.variables['s.time'].units\n",
    "for n in range(680000, 1450392):\n",
    "    if ((ferry.variables['s.latitude'][n].mask == False) \n",
    "        and (ferry.variables['s.chlorophyll'][n].mask == False)):\n",
    "        Yind, Xind = geo_tools.find_closest_model_point(ferry.variables['s.longitude'][n], \n",
    "                                                        ferry.variables['s.latitude'][n], \n",
    "                                                        X, Y, land_mask = bathy.mask)\n",
    "        date = nc.num2date(ferry.variables['s.time'][n], unit)\n",
    "        sub_dir = date.strftime('%d%b%y').lower()\n",
    "        datestr = date.strftime('%Y%m%d')\n",
    "        fname = 'SalishSea_1h_{}_{}_ptrc_T.nc'.format(datestr, datestr)\n",
    "        nuts = nc.Dataset(os.path.join(HINDCAST_PATH, sub_dir, fname))\n",
    "        if date.minute < 30:\n",
    "            before = datetime.datetime(year = date.year, month = date.month, day = date.day, \n",
    "                               hour = (date.hour), minute = 30) - datetime.timedelta(hours=1)\n",
    "            after = before + datetime.timedelta(hours=1)\n",
    "            sub_dir2 = after.strftime('%d%b%y').lower()\n",
    "            datestr2 = after.strftime('%Y%m%d')\n",
    "            fname2 = 'SalishSea_1h_{}_{}_ptrc_T.nc'.format(datestr2, datestr2)\n",
    "            nuts2 = nc.Dataset(os.path.join(HINDCAST_PATH, sub_dir2, fname2))\n",
    "            delta = (date - before).seconds / 3600\n",
    "            chl_val = 1.6*(delta*(nuts.variables['diatoms'][before.hour, 1, Yind, Xind] \n",
    "                           + nuts.variables['ciliates'][before.hour,1,Yind, Xind] \n",
    "                           + nuts.variables['flagellates'][before.hour,1,Yind,Xind]) + \n",
    "                       (1- delta)*(nuts2.variables['diatoms'][after.hour, 1, Yind, Xind] \n",
    "                           + nuts2.variables['ciliates'][after.hour,1,Yind, Xind] \n",
    "                           + nuts2.variables['flagellates'][after.hour,1,Yind,Xind]))\n",
    "        if date.minute >= 30:\n",
    "            before = datetime.datetime(year = date.year, month = date.month, day = date.day, \n",
    "                                   hour = (date.hour), minute = 30)\n",
    "            after = before + datetime.timedelta(hours=1)\n",
    "            sub_dir2 = after.strftime('%d%b%y').lower()\n",
    "            datestr2 = after.strftime('%Y%m%d')\n",
    "            fname2 = 'SalishSea_1h_{}_{}_ptrc_T.nc'.format(datestr2, datestr2)\n",
    "            nuts2 = nc.Dataset(os.path.join(HINDCAST_PATH, sub_dir2, fname2))\n",
    "            delta = (date - before).seconds / 3600\n",
    "            chl_val = 1.6*(delta*(nuts.variables['diatoms'][before.hour, 1, Yind, Xind] \n",
    "                           + nuts.variables['ciliates'][before.hour,1,Yind, Xind] \n",
    "                           + nuts.variables['flagellates'][before.hour,1,Yind,Xind]) + \n",
    "                       (1- delta)*(nuts.variables['diatoms'][after.hour, 1, Yind, Xind] \n",
    "                           + nuts.variables['ciliates'][after.hour,1,Yind, Xind] \n",
    "                           + nuts.variables['flagellates'][after.hour,1,Yind,Xind]))\n",
    "        list_of_ferry_chl = np.append(list_of_ferry_chl, ferry.variables['s.chlorophyll'][n])\n",
    "        list_of_model_chl = np.append(list_of_model_chl, chl_val)"
   ]
  },
  {
   "cell_type": "code",
   "execution_count": 11,
   "metadata": {
    "collapsed": true
   },
   "outputs": [],
   "source": [
    "output = open('ferry_chl.pkl', 'wb')\n",
    "pickle.dump(list_of_ferry_chl, output)\n",
    "output.close()\n",
    "output = open('model_chl.pkl', 'wb')\n",
    "pickle.dump(list_of_model_chl, output)\n",
    "output.close()"
   ]
  },
  {
   "cell_type": "code",
   "execution_count": 4,
   "metadata": {
    "collapsed": false
   },
   "outputs": [],
   "source": [
    "list_of_model_chl = pickle.load(open('model_chl.pkl', 'rb'))\n",
    "list_of_ferry_chl = pickle.load(open('ferry_chl.pkl', 'rb'))"
   ]
  },
  {
   "cell_type": "code",
   "execution_count": 11,
   "metadata": {
    "collapsed": false
   },
   "outputs": [
    {
     "data": {
      "text/plain": [
       "(422789,)"
      ]
     },
     "execution_count": 11,
     "metadata": {},
     "output_type": "execute_result"
    }
   ],
   "source": [
    "list_of_ferry_chl.shape"
   ]
  },
  {
   "cell_type": "code",
   "execution_count": 12,
   "metadata": {
    "collapsed": false
   },
   "outputs": [
    {
     "name": "stdout",
     "output_type": "stream",
     "text": [
      "bias =  2.18282683221\n",
      "RMSE = 4.86143879112\n",
      "Willmott = 0.498952254572\n"
     ]
    }
   ],
   "source": [
    "print('bias =  ' + str(-np.mean(list_of_ferry_chl) + np.mean(list_of_model_chl)))\n",
    "print('RMSE = ' + str(np.sqrt(np.sum((list_of_model_chl - list_of_ferry_chl)**2) / len(list_of_model_chl))))\n",
    "xbar = np.mean(list_of_ferry_chl)\n",
    "print('Willmott = ' + str(1-(np.sum((list_of_model_chl - list_of_ferry_chl)**2)  / \n",
    "                             np.sum((np.abs(list_of_model_chl - xbar) + np.abs(list_of_ferry_chl - xbar))**2))))"
   ]
  },
  {
   "cell_type": "code",
   "execution_count": 6,
   "metadata": {
    "collapsed": true
   },
   "outputs": [],
   "source": [
    "from matplotlib.colors import LogNorm"
   ]
  },
  {
   "cell_type": "code",
   "execution_count": 20,
   "metadata": {
    "collapsed": false
   },
   "outputs": [
    {
     "data": {
      "text/plain": [
       "[<matplotlib.lines.Line2D at 0x7fdd283da128>]"
      ]
     },
     "execution_count": 20,
     "metadata": {},
     "output_type": "execute_result"
    },
    {
     "data": {
      "image/png": "[encoded data removed]",
      "text/plain": [
       "<matplotlib.figure.Figure at 0x7fdd285ba320>"
      ]
     },
     "metadata": {},
     "output_type": "display_data"
    }
   ],
   "source": [
    "fig, ax = plt.subplots(figsize = (10,10))\n",
    "c, xedge, yedge, im = ax.hist2d(list_of_ferry_chl[list_of_ferry_chl < 25], \n",
    "                                list_of_model_chl[list_of_ferry_chl < 25], bins = 100, norm=LogNorm())\n",
    "im\n",
    "fig.colorbar(im, ax=ax)\n",
    "ax.set_xlabel('Ferry Data')\n",
    "ax.set_ylabel('Nowcast-green')\n",
    "ax.set_title('2D Histogram of Ferrry Data vs Nowcast-green')\n",
    "ax.plot(np.arange(0,30), 'grey')"
   ]
  },
  {
   "cell_type": "code",
   "execution_count": 21,
   "metadata": {
    "collapsed": false
   },
   "outputs": [
    {
     "name": "stdout",
     "output_type": "stream",
     "text": [
      "bias =  2.2352990434\n",
      "RMSE = 4.49127647572\n",
      "Willmott = 0.516927517425\n"
     ]
    }
   ],
   "source": [
    "print('bias =  ' + str(-np.mean(list_of_ferry_chl[list_of_ferry_chl < 25]) \n",
    "                       + np.mean(list_of_model_chl[list_of_ferry_chl < 25])))\n",
    "print('RMSE = ' + str(np.sqrt(np.sum((list_of_model_chl[list_of_ferry_chl < 25] \n",
    "                                      - list_of_ferry_chl[list_of_ferry_chl < 25])**2) \n",
    "                              / len(list_of_model_chl[list_of_ferry_chl < 25]))))\n",
    "xbar = np.mean(list_of_ferry_chl[list_of_ferry_chl < 25])\n",
    "print('Willmott = ' + str(1-(np.sum((list_of_model_chl[list_of_ferry_chl < 25] \n",
    "                                     - list_of_ferry_chl[list_of_ferry_chl < 25])**2)  / \n",
    "                             np.sum((np.abs(list_of_model_chl[list_of_ferry_chl < 25] - xbar) \n",
    "                                     + np.abs(list_of_ferry_chl[list_of_ferry_chl < 25] - xbar))**2))))"
   ]
  },
  {
   "cell_type": "code",
   "execution_count": null,
   "metadata": {
    "collapsed": true
   },
   "outputs": [],
   "source": []
  }
 ],
 "metadata": {
  "kernelspec": {
   "display_name": "Python 3",
   "language": "python",
   "name": "python3"
  },
  "language_info": {
   "codemirror_mode": {
    "name": "ipython",
    "version": 3
   },
   "file_extension": ".py",
   "mimetype": "text/x-python",
   "name": "python",
   "nbconvert_exporter": "python",
   "pygments_lexer": "ipython3",
   "version": "3.6.0"
  }
 },
 "nbformat": 4,
 "nbformat_minor": 2
}
