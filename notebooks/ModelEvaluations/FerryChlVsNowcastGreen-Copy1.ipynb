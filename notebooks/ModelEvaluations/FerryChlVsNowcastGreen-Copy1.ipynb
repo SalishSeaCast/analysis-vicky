{
 "cells": [
  {
   "cell_type": "code",
   "execution_count": 1,
   "metadata": {
    "collapsed": false
   },
   "outputs": [
    {
     "data": {
      "text/html": [
       "<style>.container { width:90% !important; }</style>"
      ],
      "text/plain": [
       "<IPython.core.display.HTML object>"
      ]
     },
     "metadata": {},
     "output_type": "display_data"
    }
   ],
   "source": [
    "import netCDF4 as nc\n",
    "import numpy as np\n",
    "import matplotlib.pyplot as plt\n",
    "from salishsea_tools import geo_tools, nc_tools, tidetools\n",
    "import xarray as xr\n",
    "import datetime\n",
    "from IPython.core.display import display, HTML\n",
    "display(HTML(\"<style>.container { width:90% !important; }</style>\"))\n",
    "\n",
    "%matplotlib inline"
   ]
  },
  {
   "cell_type": "code",
   "execution_count": 21,
   "metadata": {
    "collapsed": false
   },
   "outputs": [
    {
     "data": {
      "text/html": [
       "<script>\n",
       "code_show=true; \n",
       "function code_toggle() {\n",
       " if (code_show){\n",
       " $('div.input').hide();\n",
       " } else {\n",
       " $('div.input').show();\n",
       " }\n",
       " code_show = !code_show\n",
       "} \n",
       "$( document ).ready(code_toggle);\n",
       "</script>\n",
       "<form action=\"javascript:code_toggle()\"><input type=\"submit\" value=\"Click here to toggle on/off the raw code.\"></form>"
      ],
      "text/plain": [
       "<IPython.core.display.HTML object>"
      ]
     },
     "execution_count": 21,
     "metadata": {},
     "output_type": "execute_result"
    }
   ],
   "source": [
    "from IPython.display import HTML\n",
    "\n",
    "HTML('''<script>\n",
    "code_show=true; \n",
    "function code_toggle() {\n",
    " if (code_show){\n",
    " $('div.input').hide();\n",
    " } else {\n",
    " $('div.input').show();\n",
    " }\n",
    " code_show = !code_show\n",
    "} \n",
    "$( document ).ready(code_toggle);\n",
    "</script>\n",
    "<form action=\"javascript:code_toggle()\"><input type=\"submit\" value=\"Click here to toggle on/off the raw code.\"></form>''')"
   ]
  },
  {
   "cell_type": "code",
   "execution_count": 2,
   "metadata": {
    "collapsed": false
   },
   "outputs": [],
   "source": [
    "grid = nc.Dataset('/data/vdo/MEOPAR/NEMO-forcing/grid/bathymetry_201702.nc')\n",
    "ferry_data = 'https://salishsea.eos.ubc.ca/erddap/tabledap/ubcONCTWDP1mV1'\n",
    "nowcast_data = 'https://salishsea.eos.ubc.ca/erddap/griddap/ubcSSg3DBiologyFields1hV17-02'\n",
    "bathy, X, Y = tidetools.get_bathy_data(grid)\n",
    "ferry = nc.Dataset(ferry_data)\n",
    "nowcast = xr.open_dataset(nowcast_data)"
   ]
  },
  {
   "cell_type": "code",
   "execution_count": 4,
   "metadata": {
    "collapsed": false
   },
   "outputs": [
    {
     "data": {
      "text/plain": [
       "datetime.datetime(2014, 9, 13, 5, 20)"
      ]
     },
     "execution_count": 4,
     "metadata": {},
     "output_type": "execute_result"
    }
   ],
   "source": [
    "nc.num2date(ferry.variables['s.time'][680000], ferry.variables['s.time'].units)"
   ]
  },
  {
   "cell_type": "code",
   "execution_count": 5,
   "metadata": {
    "collapsed": false
   },
   "outputs": [
    {
     "data": {
      "text/plain": [
       "datetime.datetime(2017, 10, 27, 15, 12)"
      ]
     },
     "execution_count": 5,
     "metadata": {},
     "output_type": "execute_result"
    }
   ],
   "source": [
    "nc.num2date(ferry.variables['s.time'][-1], ferry.variables['s.time'].units)"
   ]
  },
  {
   "cell_type": "code",
   "execution_count": 6,
   "metadata": {
    "collapsed": false
   },
   "outputs": [],
   "source": [
    "import pickle"
   ]
  },
  {
   "cell_type": "code",
   "execution_count": 7,
   "metadata": {
    "collapsed": true
   },
   "outputs": [],
   "source": [
    "HINDCAST_PATH= '/results/SalishSea/nowcast-green/'"
   ]
  },
  {
   "cell_type": "code",
   "execution_count": 8,
   "metadata": {
    "collapsed": true
   },
   "outputs": [],
   "source": [
    "import os"
   ]
  },
  {
   "cell_type": "code",
   "execution_count": 8,
   "metadata": {
    "collapsed": false
   },
   "outputs": [],
   "source": [
    "list_of_model_chl = np.array([])\n",
    "list_of_ferry_chl = np.array([])\n",
    "unit = ferry.variables['s.time'].units\n",
    "for n in range(680000, 1450392):\n",
    "    if ((ferry.variables['s.latitude'][n].mask == False) \n",
    "        and (ferry.variables['s.chlorophyll'][n].mask == False)):\n",
    "        Yind, Xind = geo_tools.find_closest_model_point(ferry.variables['s.longitude'][n], \n",
    "                                                        ferry.variables['s.latitude'][n], \n",
    "                                                        X, Y, land_mask = bathy.mask)\n",
    "        date = nc.num2date(ferry.variables['s.time'][n], unit)\n",
    "        sub_dir = date.strftime('%d%b%y').lower()\n",
    "        datestr = date.strftime('%Y%m%d')\n",
    "        fname = 'SalishSea_1h_{}_{}_ptrc_T.nc'.format(datestr, datestr)\n",
    "        nuts = nc.Dataset(os.path.join(HINDCAST_PATH, sub_dir, fname))\n",
    "        if date.minute < 30:\n",
    "            before = datetime.datetime(year = date.year, month = date.month, day = date.day, \n",
    "                               hour = (date.hour), minute = 30) - datetime.timedelta(hours=1)\n",
    "            after = before + datetime.timedelta(hours=1)\n",
    "            sub_dir2 = after.strftime('%d%b%y').lower()\n",
    "            datestr2 = after.strftime('%Y%m%d')\n",
    "            fname2 = 'SalishSea_1h_{}_{}_ptrc_T.nc'.format(datestr2, datestr2)\n",
    "            nuts2 = nc.Dataset(os.path.join(HINDCAST_PATH, sub_dir2, fname2))\n",
    "            delta = (date - before).seconds / 3600\n",
    "            chl_val = 1.6*(delta*(nuts.variables['diatoms'][before.hour, 1, Yind, Xind] \n",
    "                           + nuts.variables['ciliates'][before.hour,1,Yind, Xind] \n",
    "                           + nuts.variables['flagellates'][before.hour,1,Yind,Xind]) + \n",
    "                       (1- delta)*(nuts2.variables['diatoms'][after.hour, 1, Yind, Xind] \n",
    "                           + nuts2.variables['ciliates'][after.hour,1,Yind, Xind] \n",
    "                           + nuts2.variables['flagellates'][after.hour,1,Yind,Xind]))\n",
    "        if date.minute >= 30:\n",
    "            before = datetime.datetime(year = date.year, month = date.month, day = date.day, \n",
    "                                   hour = (date.hour), minute = 30)\n",
    "            after = before + datetime.timedelta(hours=1)\n",
    "            sub_dir2 = after.strftime('%d%b%y').lower()\n",
    "            datestr2 = after.strftime('%Y%m%d')\n",
    "            fname2 = 'SalishSea_1h_{}_{}_ptrc_T.nc'.format(datestr2, datestr2)\n",
    "            nuts2 = nc.Dataset(os.path.join(HINDCAST_PATH, sub_dir2, fname2))\n",
    "            delta = (date - before).seconds / 3600\n",
    "            chl_val = 1.6*(delta*(nuts.variables['diatoms'][before.hour, 1, Yind, Xind] \n",
    "                           + nuts.variables['ciliates'][before.hour,1,Yind, Xind] \n",
    "                           + nuts.variables['flagellates'][before.hour,1,Yind,Xind]) + \n",
    "                       (1- delta)*(nuts.variables['diatoms'][after.hour, 1, Yind, Xind] \n",
    "                           + nuts.variables['ciliates'][after.hour,1,Yind, Xind] \n",
    "                           + nuts.variables['flagellates'][after.hour,1,Yind,Xind]))\n",
    "        list_of_ferry_chl = np.append(list_of_ferry_chl, ferry.variables['s.chlorophyll'][n])\n",
    "        list_of_model_chl = np.append(list_of_model_chl, chl_val)"
   ]
  },
  {
   "cell_type": "code",
   "execution_count": 11,
   "metadata": {
    "collapsed": true
   },
   "outputs": [],
   "source": [
    "output = open('ferry_chl.pkl', 'wb')\n",
    "pickle.dump(list_of_ferry_chl, output)\n",
    "output.close()\n",
    "output = open('model_chl.pkl', 'wb')\n",
    "pickle.dump(list_of_model_chl, output)\n",
    "output.close()"
   ]
  },
  {
   "cell_type": "code",
   "execution_count": 9,
   "metadata": {
    "collapsed": true
   },
   "outputs": [],
   "source": [
    "list_of_model_chl = pickle.load(open('model_chl.pkl', 'rb'))\n",
    "list_of_ferry_chl = pickle.load(open('ferry_chl.pkl', 'rb'))"
   ]
  },
  {
   "cell_type": "code",
   "execution_count": 11,
   "metadata": {
    "collapsed": false
   },
   "outputs": [
    {
     "data": {
      "text/plain": [
       "(422789,)"
      ]
     },
     "execution_count": 11,
     "metadata": {},
     "output_type": "execute_result"
    }
   ],
   "source": [
    "list_of_ferry_chl.shape"
   ]
  },
  {
   "cell_type": "code",
   "execution_count": 12,
   "metadata": {
    "collapsed": false
   },
   "outputs": [
    {
     "name": "stdout",
     "output_type": "stream",
     "text": [
      "bias =  2.18282683221\n",
      "RMSE = 4.86143879112\n",
      "Willmott = 0.498952254572\n"
     ]
    }
   ],
   "source": [
    "print('bias =  ' + str(-np.mean(list_of_ferry_chl) + np.mean(list_of_model_chl)))\n",
    "print('RMSE = ' + str(np.sqrt(np.sum((list_of_model_chl - list_of_ferry_chl)**2) / len(list_of_model_chl))))\n",
    "xbar = np.mean(list_of_ferry_chl)\n",
    "print('Willmott = ' + str(1-(np.sum((list_of_model_chl - list_of_ferry_chl)**2)  / \n",
    "                             np.sum((np.abs(list_of_model_chl - xbar) + np.abs(list_of_ferry_chl - xbar))**2))))"
   ]
  },
  {
   "cell_type": "code",
   "execution_count": 13,
   "metadata": {
    "collapsed": true
   },
   "outputs": [],
   "source": [
    "from matplotlib.colors import LogNorm"
   ]
  },
  {
   "cell_type": "code",
   "execution_count": 14,
   "metadata": {
    "collapsed": false
   },
   "outputs": [
    {
     "data": {
      "text/plain": [
       "<matplotlib.text.Text at 0x7fe5e71119e8>"
      ]
     },
     "execution_count": 14,
     "metadata": {},
     "output_type": "execute_result"
    },
    {
     "data": {
      "image/png": "[encoded data removed]",
      "text/plain": [
       "<matplotlib.figure.Figure at 0x7fe5e9788208>"
      ]
     },
     "metadata": {},
     "output_type": "display_data"
    }
   ],
   "source": [
    "fig, ax = plt.subplots(figsize = (10,10))\n",
    "c, xedge, yedge, im = ax.hist2d(list_of_ferry_chl, list_of_model_chl, bins = 100, norm=LogNorm())\n",
    "im\n",
    "fig.colorbar(im, ax=ax)\n",
    "ax.set_xlabel('Ferry Data')\n",
    "ax.set_ylabel('Nowcast-green')\n",
    "ax.set_title('2D Histogram of Ferrry Data vs Nowcast-green')"
   ]
  },
  {
   "cell_type": "code",
   "execution_count": 24,
   "metadata": {
    "collapsed": false
   },
   "outputs": [
    {
     "data": {
      "text/plain": [
       "244.87272727272727"
      ]
     },
     "execution_count": 24,
     "metadata": {},
     "output_type": "execute_result"
    }
   ],
   "source": [
    "list_of_ferry_chl.max()"
   ]
  },
  {
   "cell_type": "code",
   "execution_count": 36,
   "metadata": {
    "collapsed": false
   },
   "outputs": [
    {
     "data": {
      "text/plain": [
       "2.396269175211589"
      ]
     },
     "execution_count": 36,
     "metadata": {},
     "output_type": "execute_result"
    }
   ],
   "source": [
    "list_of_model_chl[232993]"
   ]
  },
  {
   "cell_type": "code",
   "execution_count": 37,
   "metadata": {
    "collapsed": false
   },
   "outputs": [
    {
     "data": {
      "text/plain": [
       "244.87272727272727"
      ]
     },
     "execution_count": 37,
     "metadata": {},
     "output_type": "execute_result"
    }
   ],
   "source": [
    "list_of_ferry_chl[232993]"
   ]
  },
  {
   "cell_type": "code",
   "execution_count": 20,
   "metadata": {
    "collapsed": false
   },
   "outputs": [
    {
     "data": {
      "text/plain": [
       "masked_array(data = [30.108833333333333 30.68358333333333 31.806866666666668 32.78495\n",
       " 32.43203333333333 31.096999999999998 31.433783333333334 32.94225\n",
       " 32.73049999999999 32.6821 31.298666666666666 31.83106666666667\n",
       " 31.385383333333333 31.699983333333332 30.973983333333337 31.0244\n",
       " 31.647549999999995 31.437816666666663 30.907433333333334\n",
       " 30.818700000000003 30.3468 31.939966666666667 35.71113333333333\n",
       " 37.844766666666665 38.44371666666667 38.346916666666665 37.10061666666667\n",
       " 35.83213333333334 35.382416666666664 34.68061666666667 35.85431666666666\n",
       " 36.87878333333333 36.79408333333333 36.77996666666667 37.15506666666667\n",
       " 37.2922 36.31411666666666 34.837916666666665 30.7461 30.55855 33.0451\n",
       " 34.374083333333324 34.952866666666665 35.25536666666667 36.65493333333333\n",
       " 37.68141666666667 37.7399 37.90325 38.657483333333325 37.11675\n",
       " 37.07843333333333 35.7555 36.10438333333333 36.64485 35.3199 34.16435\n",
       " 30.980033333333328 31.87745 30.354866666666663 30.651316666666663\n",
       " 32.91603333333333 33.839666666666666 34.66649999999999 35.30578333333333\n",
       " 36.04791666666667 36.63275 37.556383333333336 37.457566666666665 36.421\n",
       " 36.590399999999995 35.791799999999995 35.1747 34.130066666666664\n",
       " 33.15198333333333 30.56661666666666 33.71463333333333 34.75523333333333\n",
       " 35.50946666666667 35.20898333333333 34.27325 32.557066666666664\n",
       " 32.25658333333333 33.1661 34.14821666666666 34.614066666666666\n",
       " 34.769349999999996 36.08421666666666 36.935249999999996 38.47195\n",
       " 39.84126666666666 39.48431666666667 38.20575 33.83361666666667\n",
       " 30.403266666666667 31.324883333333332 30.927599999999998\n",
       " 30.879199999999997 32.8757 33.514983333333326 33.48069999999999\n",
       " 33.041066666666666 34.20065 34.089733333333335 35.414683333333336\n",
       " 35.60626666666667 35.27755 34.96698333333333 34.46281666666666 33.5533\n",
       " 33.698499999999996 33.29516666666667 33.18425 32.25255 31.512433333333334\n",
       " 32.557066666666664 32.92208333333333 34.68868333333334 34.88833333333333\n",
       " 33.87395 33.7832 33.172149999999995 33.4323 32.16785 32.363466666666675\n",
       " 33.85378333333333 35.154533333333326 35.569966666666666 32.11944999999999\n",
       " 30.360916666666665 30.00598333333333 32.69218333333333 33.69446666666667\n",
       " 32.88175 31.516466666666663 31.822999999999997 32.20415 32.734533333333324\n",
       " 33.361716666666666 32.746633333333335 31.905683333333332\n",
       " 30.560566666666663 30.375033333333334 30.070516666666663\n",
       " 31.568900000000003 32.59135 32.7426 32.75268333333333 32.83133333333333\n",
       " 32.926116666666665 32.813183333333335 32.06701666666667 30.58073333333333\n",
       " 30.37503333333333 31.343033333333334 31.324883333333332 31.222033333333332\n",
       " 32.21423333333333 32.21221666666667 32.71033333333333 32.496566666666666\n",
       " 30.12093333333333 31.274466666666665 31.0244 30.62308333333333\n",
       " 31.899633333333338 32.96443333333333 33.859833333333334 33.2508\n",
       " 34.76531666666666 34.53339999999999 34.7633 34.80161666666667\n",
       " 34.458783333333336 34.729016666666666 34.22081666666667 33.496833333333335\n",
       " 32.129533333333335 30.530316666666664 30.387133333333335 30.70375\n",
       " 31.597133333333332 32.835366666666665 34.884299999999996 36.05195\n",
       " 36.340333333333334 36.864666666666665 36.616616666666665\n",
       " 35.951116666666664 35.295700000000004 33.56338333333333 32.3917\n",
       " 31.78266666666667 31.554783333333333 30.701733333333333 30.538383333333332\n",
       " 30.558549999999997 30.427466666666664 30.5888 30.183450000000004\n",
       " 30.820716666666666 30.300416666666663 31.00826666666666 31.320849999999997\n",
       " 32.260616666666664 33.14189999999999 33.311299999999996 33.61178333333333\n",
       " 33.77513333333333 33.59968333333334 33.89008333333333 33.829583333333325\n",
       " 34.52533333333333 33.42423333333333 33.02291666666667 32.70831666666667\n",
       " 32.58933333333333 32.88578333333333 33.043083333333335 32.16583333333333\n",
       " 33.17013333333333 34.061499999999995 35.459050000000005 37.09456666666667\n",
       " 37.06835 37.26396666666667 37.17523333333333 35.75549999999999\n",
       " 35.249316666666665 35.20898333333333 33.9284 32.36346666666667\n",
       " 30.738033333333334 30.41133333333333 30.996166666666667 30.733999999999998\n",
       " 30.772316666666665 30.165300000000002 30.677533333333333\n",
       " 31.459999999999997 32.20616666666667 33.36373333333333 34.7875\n",
       " 36.33226666666666 36.455283333333334 35.92086666666666 36.344366666666666\n",
       " 35.37233333333333 34.86816666666667 34.795566666666666 35.836166666666664\n",
       " 35.37233333333334 33.62791666666667 32.401783333333334 31.61125\n",
       " 31.072799999999997 30.173366666666666 30.477883333333335 30.0201\n",
       " 31.772583333333333 32.782357142857144 32.77688333333333 32.88175\n",
       " 32.216249999999995 32.50463333333333 31.680220000000002 30.27621666666666\n",
       " 30.193533333333335 31.43338 32.0045 32.54496666666666 32.79906666666667\n",
       " 32.65185 32.5369 33.998983333333335 33.658166666666666 33.41616666666666\n",
       " 32.700250000000004 31.441850000000002 30.879199999999997 31.34908333333333\n",
       " 31.026416666666666 30.5283 30.20765 33.085433333333334 33.08946666666667\n",
       " 33.32138333333333 32.738566666666664 31.665699999999998 30.50208333333333\n",
       " 30.419399999999996 31.336983333333333 30.911466666666666 31.218\n",
       " 30.461749999999995 30.32663333333333 31.35513333333333 31.482183333333335\n",
       " 31.403533333333332 30.12093333333333 30.617033333333335 31.69796666666667\n",
       " 32.58933333333332 33.37381666666667 33.99293333333333 33.970749999999995\n",
       " 33.149966666666664 32.96241666666667 30.959866666666667 30.788449999999997\n",
       " 31.71813333333333 32.75988571428571 32.13558333333333 31.70805\n",
       " 31.897616666666664 31.07683333333333 31.14136666666667 31.171616666666665\n",
       " 30.124966666666666 31.07683333333333 31.453949999999995 30.915499999999998\n",
       " 60.063098181818184 225.05357142857142 222.78571428571428\n",
       " 223.17857142857142 64.21008727272726 188.05357142857142 182.375 178.0\n",
       " 174.10714285714286 38.56364 166.45454545454547 166.19642857142858 166.25\n",
       " 161.23214285714286 165.70367636363636 174.80357142857142\n",
       " 182.33928571428572 193.57142857142858 62.27008571428571 184.10714285714286\n",
       " 159.14285714285714 200.19642857142858 226.26785714285714\n",
       " 244.87272727272727 242.64285714285714 239.91071428571428\n",
       " 118.10526181818182 189.5818181818182 191.98214285714286 199.67857142857142\n",
       " 208.78571428571428 203.30357142857142 196.57142857142858\n",
       " 193.91071428571428 83.13563214285715 181.4 177.08928571428572\n",
       " 179.85714285714286 183.19642857142858],\n",
       "             mask = [False False False False False False False False False False False False\n",
       " False False False False False False False False False False False False\n",
       " False False False False False False False False False False False False\n",
       " False False False False False False False False False False False False\n",
       " False False False False False False False False False False False False\n",
       " False False False False False False False False False False False False\n",
       " False False False False False False False False False False False False\n",
       " False False False False False False False False False False False False\n",
       " False False False False False False False False False False False False\n",
       " False False False False False False False False False False False False\n",
       " False False False False False False False False False False False False\n",
       " False False False False False False False False False False False False\n",
       " False False False False False False False False False False False False\n",
       " False False False False False False False False False False False False\n",
       " False False False False False False False False False False False False\n",
       " False False False False False False False False False False False False\n",
       " False False False False False False False False False False False False\n",
       " False False False False False False False False False False False False\n",
       " False False False False False False False False False False False False\n",
       " False False False False False False False False False False False False\n",
       " False False False False False False False False False False False False\n",
       " False False False False False False False False False False False False\n",
       " False False False False False False False False False False False False\n",
       " False False False False False False False False False False False False\n",
       " False False False False False False False False False False False False\n",
       " False False False False False False False False False False False False\n",
       " False False False False False False False False False False False False\n",
       " False False False False False False False False False False False False\n",
       " False False False False False False False False False False False False\n",
       " False False False False False False False False False False False False],\n",
       "       fill_value = 1e+20)"
      ]
     },
     "execution_count": 20,
     "metadata": {},
     "output_type": "execute_result"
    }
   ],
   "source": [
    "list_of_ferry_chl[list_of_ferry_chl > 30]"
   ]
  },
  {
   "cell_type": "code",
   "execution_count": 19,
   "metadata": {
    "collapsed": false,
    "scrolled": true
   },
   "outputs": [
    {
     "data": {
      "text/plain": [
       "array([ 16.0609199 ,  16.9960275 ,  17.03168335,  16.97576032,\n",
       "        17.16207306,  17.5095491 ,  16.93340698,  16.56008362,\n",
       "        16.35156118,  16.39699768,  16.45778135,  13.34742844,\n",
       "        13.60563649,  13.34959386,  13.18962326,  13.07987473,\n",
       "        13.77996445,  14.27822398,  14.19580322,  13.84664563,\n",
       "        13.7927477 ,  13.46918416,  13.85805145,  13.6571257 ,\n",
       "        13.3351121 ,  13.26109009,  14.29838336,  14.16506495,\n",
       "        13.55250137,  13.57130188,  14.94573402,  15.88035355,\n",
       "        14.69462156,  15.63660848,  15.84538635,  16.79125163,\n",
       "        17.19527252,  17.81664948,  18.01495738,  16.29574371,\n",
       "        16.16375148,  16.41362442,  16.09313942,  16.20834727,\n",
       "        16.42292918,  16.0122612 ,  15.94166667,  15.91943095,\n",
       "        16.11975815,  16.01026072,  15.67374001,  15.7677002 ,\n",
       "        15.56084106,  13.88717031,  13.86907372,  13.97059631,\n",
       "        14.72307014,  15.34856789,  14.71907552,  14.34944305,\n",
       "        14.43759511,  14.82921473,  15.55731735,  16.19269592,\n",
       "        15.86370468,  15.69287262,  16.08167605,  16.37812917,\n",
       "        16.10479454,  16.23469589,  15.95308164,  16.27210785,\n",
       "        16.0629187 ,  16.24461405,  16.34667773,  15.85315247,\n",
       "        15.59231941,  14.52754089,  14.03194796,  13.97473648,\n",
       "        13.60727857,  13.41939819,  14.76988617,  14.3002092 ,\n",
       "        14.85595701,  13.87737579,  13.21754448,  13.36610367,\n",
       "        13.36980331,  13.5035557 ,  13.76849772,  13.47304398,\n",
       "        13.29349767,  16.84304764,  16.25287613,  13.28258006,\n",
       "        13.52592341,  13.34634857,  13.50959742,  13.62248388,\n",
       "        13.684832  ,  13.68431905,  13.64252637,  13.54716446,\n",
       "        13.43241971,  13.34981923,  13.53790016,  13.7992185 ,\n",
       "        14.03059919,  14.35279663,  14.39597862,  14.16819356,\n",
       "        14.12320557,  14.20227325,  14.24501661,  14.33341843,\n",
       "        14.47588974,  14.49689789,  14.44559639,  14.48724813,\n",
       "        14.554732  ,  14.55583282,  14.62029406,  14.63679428,\n",
       "        14.75114853,  14.79017558,  14.61669907,  14.44547806,\n",
       "        14.20465769,  14.4204862 ,  14.35578537,  14.30465118,\n",
       "        14.23820892,  14.16464813,  14.22460159,  14.10408529,\n",
       "        14.03913457,  13.96852921,  13.87996648,  13.76961466,\n",
       "        13.77372093,  13.78392049,  13.49790395,  13.57743663,\n",
       "        13.49291443,  13.24534149,  13.32846797,  13.41619781,\n",
       "        13.50837166,  13.53716685,  13.51918399,  13.39516434,\n",
       "        13.70322449,  13.65730934,  13.56695155,  13.47507161,\n",
       "        13.52169647,  13.52055016,  13.3549677 ,  13.23691483,\n",
       "        13.35180084,  15.53455856,  15.51003062,  13.78420888,\n",
       "        13.61802394,  14.30293594,  14.3664917 ,  14.99539477,\n",
       "        15.84516296,  16.18034465,  16.19305166,  16.61913414,\n",
       "        16.51408666,  16.95450956,  16.81954788,  16.98004592,\n",
       "        17.06298932,  16.47903423,  14.0488945 ,  14.31882642,\n",
       "        14.6328658 ,  14.51862534,  14.73066869,  14.79858327,\n",
       "        14.78838043,  15.16545431,  15.16581767,  15.15646805,\n",
       "        15.40090759,  15.50293986,  15.49064316,  15.51158223,\n",
       "        15.56715576,  14.93737343,  14.7667366 ,  14.81494817,\n",
       "        16.94344666,  16.32417109,  19.20851471,  19.8281601 ,\n",
       "        20.31664724,  14.84458743,  14.69785675,  14.64973317,\n",
       "        14.4659493 ,  14.32382164,  14.45388509,  14.50190745,\n",
       "        14.607565  ,  14.9193792 ,  15.07697983,  15.15553139,\n",
       "        15.10104533,  15.11300311,  14.95611084,  14.8963267 ,\n",
       "        14.90127797,  14.77214958,  14.53579529,  14.31491206,\n",
       "        13.29194641,  12.3275243 ,  10.83120417,  10.03137779,\n",
       "         9.39637548,   9.73268852,   9.42550217,   9.48721836,\n",
       "         8.58042175,   7.57705887,   7.34153188,   7.20425662,\n",
       "        13.09350136,  13.48268829,  13.52357274,  11.52291336,\n",
       "        11.89155425,  11.48653336,  10.58945656,  10.37119803,\n",
       "        10.57800074,  10.91778248,  11.25795097,  11.3419698 ,\n",
       "        11.31626587,  11.67044319,  12.60240702,  13.35097504,\n",
       "        13.75121785,  14.06330434,  14.08951157,  14.43678159,\n",
       "        14.85326691,  14.81337593,  14.48999786,  14.39428932,\n",
       "        14.47250153,   9.45476849,   9.48537369,   9.37654363,\n",
       "         9.08688179,   9.35165244,   9.56862106,   9.9655899 ,\n",
       "        10.57116653,  11.49340902,  14.27543991,  13.81424784,\n",
       "        13.15519534,  12.4681633 ,  13.57820173,  14.12320394,\n",
       "        14.43884989,  12.82342987,  12.10159114,  10.66894338,\n",
       "        10.20427322,  10.46234334,   9.79867527,  10.77004964,\n",
       "        10.97534489,  10.73694097,  16.65707932,  16.62804972,\n",
       "        16.69926692,  16.81882935,  16.88898346,  16.93366943,\n",
       "         8.75670629,  10.39858429,  11.56606445,  12.12097384,\n",
       "        11.70704762,  11.89948181,  13.529636  ,  13.48967712,\n",
       "        13.28483765,  13.26110931,  13.25989446,  11.87336038,\n",
       "        11.83851013,  11.81274986,  11.9956749 ,  11.93110909,\n",
       "        11.95609741,  11.46777705,  11.47140386,  11.87861805,\n",
       "        11.30757217,  11.32999451,  11.78891678,  11.79132679,\n",
       "        11.81779251,  11.7717979 ,  11.86593483,  12.31583595,\n",
       "        12.42468913,  12.67439438,  12.56719208,  12.44877055,\n",
       "        12.37057916,   2.62632377,   2.61547077,   2.63834423,\n",
       "         2.65345567,   2.62909005,   2.63799987,   2.63525408,\n",
       "         2.62498273,   2.60391857,   1.87960701,   1.8081339 ,\n",
       "         1.70993445,   1.61311847,   1.55416859,   1.73610659,\n",
       "         1.73193179,   2.00345811,   2.14820717,   2.59202792,\n",
       "         2.56762421,   2.53945232,   2.4933577 ,   2.43436495,\n",
       "         2.39626918,   2.39400756,   2.35404246,   1.70903588,\n",
       "         1.70030272,   1.72800892,   1.73045684,   1.76787945,\n",
       "         1.78874094,   1.77745523,   1.77049038,   1.4313909 ,\n",
       "         1.43031989,   1.38714514,   1.3419674 ,   1.30841461])"
      ]
     },
     "execution_count": 19,
     "metadata": {},
     "output_type": "execute_result"
    }
   ],
   "source": [
    "list_of_model_chl[list_of_ferry_chl > 30]"
   ]
  },
  {
   "cell_type": "code",
   "execution_count": null,
   "metadata": {
    "collapsed": true
   },
   "outputs": [],
   "source": []
  }
 ],
 "metadata": {
  "kernelspec": {
   "display_name": "Python 3",
   "language": "python",
   "name": "python3"
  },
  "language_info": {
   "codemirror_mode": {
    "name": "ipython",
    "version": 3
   },
   "file_extension": ".py",
   "mimetype": "text/x-python",
   "name": "python",
   "nbconvert_exporter": "python",
   "pygments_lexer": "ipython3",
   "version": "3.6.0"
  }
 },
 "nbformat": 4,
 "nbformat_minor": 2
}
