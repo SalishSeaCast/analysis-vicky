{
 "cells": [
  {
   "cell_type": "markdown",
   "metadata": {},
   "source": [
    "Looking at oscillation index for 2015 at Deep Bay"
   ]
  },
  {
   "cell_type": "code",
   "execution_count": 91,
   "metadata": {
    "collapsed": true
   },
   "outputs": [],
   "source": [
    "import numpy as np\n",
    "import numpy.linalg as la\n",
    "import matplotlib.pyplot as plt\n",
    "%matplotlib inline\n",
    "import glob\n",
    "from salishsea_tools import (nc_tools, geo_tools, tidetools) \n",
    "import netCDF4 as nc\n",
    "import numpy.ma as ma"
   ]
  },
  {
   "cell_type": "code",
   "execution_count": 2,
   "metadata": {
    "collapsed": true
   },
   "outputs": [],
   "source": [
    "Jan = sorted(glob.glob('/results/SalishSea/hindcast/*jan15/*1h*grid_T*'))\n",
    "Feb = sorted(glob.glob('/results/SalishSea/hindcast/*feb15/*1h*grid_T*'))\n",
    "Mar = sorted(glob.glob('/results/SalishSea/hindcast/*mar15/*1h*grid_T*'))\n",
    "Apr = sorted(glob.glob('/results/SalishSea/hindcast/*apr15/*1h*grid_T*'))\n",
    "May = sorted(glob.glob('/results/SalishSea/hindcast/*may15/*1h*grid_T*'))\n",
    "Jun = sorted(glob.glob('/results/SalishSea/hindcast/*jun15/*1h*grid_T*'))\n",
    "Jul = sorted(glob.glob('/results/SalishSea/hindcast/*jul15/*1h*grid_T*'))\n",
    "Aug = sorted(glob.glob('/results/SalishSea/hindcast/*aug15/*1h*grid_T*'))\n",
    "Sep = sorted(glob.glob('/results/SalishSea/hindcast/*sep15/*1h*grid_T*'))\n",
    "Oct = sorted(glob.glob('/results/SalishSea/hindcast/*oct15/*1h*grid_T*'))\n",
    "Nov = sorted(glob.glob('/results/SalishSea/hindcast/*nov15/*1h*grid_T*'))\n",
    "Dec = sorted(glob.glob('/results/SalishSea/hindcast/*dec15/*1h*grid_T*'))"
   ]
  },
  {
   "cell_type": "markdown",
   "metadata": {},
   "source": [
    "# Index for January"
   ]
  },
  {
   "cell_type": "code",
   "execution_count": 119,
   "metadata": {
    "collapsed": false
   },
   "outputs": [],
   "source": [
    "start_time=0\n",
    "end_time= -1\n",
    "depth=0\n",
    "lon=558\n",
    "lat=155\n",
    "\n",
    "with nc_tools.scDataset(Jan) as f:\n",
    "        t = f.variables['votemper'][start_time:end_time,depth,lon,lat]\n",
    "        s = f.variables['vosaline'][start_time:end_time,depth,lon,lat]\n",
    "        ssh = f.variables['sossheig'][start_time:end_time,lon,lat]\n",
    "        lows_and_highs = []\n",
    "        start_point = 0\n",
    "        interval = 9\n",
    "        target = 'low'\n",
    "        while (start_point) < (ssh.shape[0]-1):\n",
    "            if target == 'low':\n",
    "                low = np.argmin(ssh[start_point:start_point + interval])\n",
    "                lows_and_highs.append(low + start_point)\n",
    "                start_point = low + start_point \n",
    "                target = 'high'\n",
    "            elif target == 'high':\n",
    "                high = np.argmax(ssh[start_point:start_point + interval])\n",
    "                lows_and_highs.append(high + start_point)\n",
    "                start_point = high + start_point \n",
    "                target = 'low'"
   ]
  },
  {
   "cell_type": "code",
   "execution_count": 120,
   "metadata": {
    "collapsed": false
   },
   "outputs": [],
   "source": [
    "list_of_index = ma.masked_array(np.zeros([ssh.shape[0]]), True)\n",
    "for n in range(len(lows_and_highs)-2):\n",
    "    a = np.array([(s[lows_and_highs[n]],t[lows_and_highs[n]])])\n",
    "    b = np.array([(s[lows_and_highs[n+1]],t[lows_and_highs[n+1]])])\n",
    "    c = np.array([(s[lows_and_highs[n+2]],t[lows_and_highs[n+2]])])\n",
    "    dist_ab = la.norm(b - a)\n",
    "    dist_ac = la.norm(c - a)\n",
    "    dist_bc = la.norm(c - b)\n",
    "    OscIndex = dist_ab + dist_bc - dist_ac\n",
    "    list_of_index[lows_and_highs[n+1]] = OscIndex\n",
    "    list_of_index.mask[lows_and_highs[n+1]] = False"
   ]
  },
  {
   "cell_type": "code",
   "execution_count": 121,
   "metadata": {
    "collapsed": false
   },
   "outputs": [
    {
     "data": {
      "text/plain": [
       "<matplotlib.text.Text at 0x7f00790af2b0>"
      ]
     },
     "execution_count": 121,
     "metadata": {},
     "output_type": "execute_result"
    },
    {
     "data": {
      "image/png": "[encoded data removed]",
      "text/plain": [
       "<matplotlib.figure.Figure at 0x7f007975a630>"
      ]
     },
     "metadata": {},
     "output_type": "display_data"
    }
   ],
   "source": [
    "fig,ax = plt.subplots(1,1,figsize=(8,8))\n",
    "x = range(len(list_of_index))\n",
    "ax.plot(list_of_index, 'r.')\n",
    "ax.grid('on')\n",
    "ax.set_title('OscIndex for January')"
   ]
  },
  {
   "cell_type": "markdown",
   "metadata": {},
   "source": [
    "# 2015"
   ]
  },
  {
   "cell_type": "code",
   "execution_count": 115,
   "metadata": {
    "collapsed": true
   },
   "outputs": [],
   "source": [
    "start_time=0\n",
    "end_time= -1\n",
    "depth=6\n",
    "lon=558\n",
    "lat=155\n",
    "year = Jan + Feb + Mar + Apr + May + Jun + Jul + Aug + Sep + Oct + Nov + Dec\n",
    "\n",
    "with nc_tools.scDataset(year) as f:\n",
    "        t = f.variables['votemper'][start_time:end_time,depth,lon,lat]\n",
    "        s = f.variables['vosaline'][start_time:end_time,depth,lon,lat]\n",
    "        ssh = f.variables['sossheig'][start_time:end_time,lon,lat]\n",
    "        lows_and_highs = []\n",
    "        start_point = 0\n",
    "        interval = 9\n",
    "        target = 'low'\n",
    "        while (start_point) < (ssh.shape[0]-1):\n",
    "            if target == 'low':\n",
    "                low = np.argmin(ssh[start_point:start_point + interval])\n",
    "                lows_and_highs.append(low + start_point)\n",
    "                start_point = low + start_point \n",
    "                target = 'high'\n",
    "            elif target == 'high':\n",
    "                high = np.argmax(ssh[start_point:start_point + interval])\n",
    "                lows_and_highs.append(high + start_point)\n",
    "                start_point = high + start_point \n",
    "                target = 'low'"
   ]
  },
  {
   "cell_type": "code",
   "execution_count": 118,
   "metadata": {
    "collapsed": false
   },
   "outputs": [
    {
     "data": {
      "text/plain": [
       "<matplotlib.text.Text at 0x7f0079298e48>"
      ]
     },
     "execution_count": 118,
     "metadata": {},
     "output_type": "execute_result"
    },
    {
     "data": {
      "image/png": "[encoded data removed]",
      "text/plain": [
       "<matplotlib.figure.Figure at 0x7f00792a9be0>"
      ]
     },
     "metadata": {},
     "output_type": "display_data"
    }
   ],
   "source": [
    "list_of_index = ma.masked_array(np.zeros([ssh.shape[0]]), True)\n",
    "for n in range(len(lows_and_highs)-2):\n",
    "    a = np.array([(s[lows_and_highs[n]],t[lows_and_highs[n]])])\n",
    "    b = np.array([(s[lows_and_highs[n+1]],t[lows_and_highs[n+1]])])\n",
    "    c = np.array([(s[lows_and_highs[n+2]],t[lows_and_highs[n+2]])])\n",
    "    dist_ab = la.norm(b - a)\n",
    "    dist_ac = la.norm(c - a)\n",
    "    dist_bc = la.norm(c - b)\n",
    "    OscIndex = dist_ab + dist_bc - dist_ac\n",
    "    list_of_index[lows_and_highs[n+1]] = OscIndex\n",
    "    list_of_index.mask[lows_and_highs[n+1]] = False\n",
    "\n",
    "fig,ax = plt.subplots(1,1,figsize=(8,8))    \n",
    "x = range(len(list_of_index))\n",
    "ax.plot(list_of_index ,'r.')\n",
    "ax.grid('on')\n",
    "ax.set_title('OscIndex for 2015')"
   ]
  },
  {
   "cell_type": "code",
   "execution_count": null,
   "metadata": {
    "collapsed": true
   },
   "outputs": [],
   "source": []
  }
 ],
 "metadata": {
  "kernelspec": {
   "display_name": "Python 3",
   "language": "python",
   "name": "python3"
  },
  "language_info": {
   "codemirror_mode": {
    "name": "ipython",
    "version": 3
   },
   "file_extension": ".py",
   "mimetype": "text/x-python",
   "name": "python",
   "nbconvert_exporter": "python",
   "pygments_lexer": "ipython3",
   "version": "3.6.0"
  }
 },
 "nbformat": 4,
 "nbformat_minor": 2
}
