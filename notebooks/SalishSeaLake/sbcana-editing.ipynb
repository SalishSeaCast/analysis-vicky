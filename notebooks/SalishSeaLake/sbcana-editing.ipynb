{
 "cells": [
  {
   "cell_type": "code",
   "execution_count": 1,
   "metadata": {
    "collapsed": true
   },
   "outputs": [],
   "source": [
    "import numpy as np\n",
    "import matplotlib.pyplot as plt\n",
    "%matplotlib inline"
   ]
  },
  {
   "cell_type": "markdown",
   "metadata": {},
   "source": [
    "#### Increasing Wind Stress"
   ]
  },
  {
   "cell_type": "raw",
   "metadata": {},
   "source": [
    "IF( kt <= nn_tau000 ) THEN       ! Increase the stress to its nominal value \n",
    "            !                             ! during the first nn_tau000 time-steps\n",
    "            zfact = 0.5 * (  1. - COS( rpi * REAL( kt, wp ) / REAL( nn_tau000, wp ) )  )\n",
    "            zcoef = 1. / ( zrhoa * zcdrag ) \n",
    "            ztx   = zfact * rn_utau0\n",
    "            zty   = zfact * rn_vtau0\n",
    "            zmod  = SQRT( ztx * ztx + zty * zty )\n",
    "            utau(:,:) = ztx\n",
    "            vtau(:,:) = zty\n",
    "            taum(:,:) = zmod\n",
    "            zmod = SQRT( zmod * zcoef )\n",
    "            wndm(:,:) = zmod\n",
    "         ENDIF"
   ]
  },
  {
   "cell_type": "markdown",
   "metadata": {},
   "source": [
    "#### Decreasing Wind Stress"
   ]
  },
  {
   "cell_type": "raw",
   "metadata": {},
   "source": [
    "nn_tau002 = start of decrease period\n",
    "nn_tau001 = length of decrease period\n",
    "\n",
    "IF(( nn_tau002 + nn_tau001)>= kt >= nn_tau002)  THEN       ! Decrease the stress to its nominal value \n",
    "            !                             ! during the first nn_tau000 time-steps\n",
    "            zfact = -0.5 * (  1. - COS( rpi * (REAL( kt, wp ) - nn_tau001) / REAL( nn_tau001, wp ) )  ) + 1\n",
    "            zcoef = 1. / ( zrhoa * zcdrag ) \n",
    "            ztx   = zfact * rn_utau0\n",
    "            zty   = zfact * rn_vtau0\n",
    "            zmod  = SQRT( ztx * ztx + zty * zty )\n",
    "            utau(:,:) = ztx\n",
    "            vtau(:,:) = zty\n",
    "            taum(:,:) = zmod\n",
    "            zmod = SQRT( zmod * zcoef )\n",
    "            wndm(:,:) = zmod\n",
    "         ENDIF"
   ]
  },
  {
   "cell_type": "code",
   "execution_count": 54,
   "metadata": {
    "collapsed": false
   },
   "outputs": [
    {
     "data": {
      "image/png": "[encoded data removed]",
      "text/plain": [
       "<matplotlib.figure.Figure at 0x7f3a1de38b70>"
      ]
     },
     "metadata": {},
     "output_type": "display_data"
    }
   ],
   "source": [
    "tau_00 = 10\n",
    "start_of_decrease = 30\n",
    "x = np.linspace(0,tau_00,100)\n",
    "y = 0.5*(1-np.cos(x*np.pi/tau_00))\n",
    "plt.plot(x,y, 'b-')\n",
    "x2 = np.linspace(start_of_decrease,start_of_decrease+tau_00,100)\n",
    "y2 = -0.5*(1-np.cos((x2-start_of_decrease)*np.pi/  tau_00)) + 1\n",
    "plt.plot(x2,y2,'r-')\n",
    "plt.grid('on')"
   ]
  },
  {
   "cell_type": "raw",
   "metadata": {},
   "source": []
  },
  {
   "cell_type": "raw",
   "metadata": {
    "collapsed": true
   },
   "source": [
    "IF( kt <= nn_tau000 ) THEN       ! Increase the stress to its nominal value \n",
    "            !                             ! during the first nn_tau000 time-steps\n",
    "            zfact = 0.5 * (  1. - COS( rpi * REAL( kt, wp ) / REAL( nn_tau000, wp ) )  )\n",
    "            zcoef = 1. / ( zrhoa * zcdrag )\n",
    "            ztx   = zfact * rn_utau0\n",
    "            zty   = zfact * rn_vtau0\n",
    "            DO jj = 1, jpj\n",
    "                DO ji = 1, jpi\n",
    "                    vtau (ji,jj) = yslopev * (REAL( jj+njmpp-1 - y0v, wp )) / y0v\n",
    "                    utau (ji,jj) = yslopeu * (REAL( jj+njmpp-1 - y0u, wp )) / y0u\n",
    "                    vtau(ji,jj) = vtau(ji,jj) * zty\n",
    "                    utau(ji,jj) = utau(ji,jj) * ztx\n",
    "                    taum(ji,jj) =SQRT( utau(ji,jj) * utau(ji,jj) + vtau(ji,jj) * vtau(ji,jj) )\n",
    "                    wndm(ji,jj) =SQRT( taum(ji,jj)*zcoef)\n",
    "                END DO\n",
    "             END DO\n",
    "         ENDIF\n",
    "\n",
    "IF((( nn_tau002 + nn_tau001) >= kt) .AND.(kt >= nn_tau002)) THEN   ! Decrease the stress to its nominal value \n",
    "            !                                                   ! during the first nn_tau000 time-steps\n",
    "            zfact = -0.5 * (  1. - COS( rpi * (REAL( (kt-nn_tau002), wp )) / REAL( nn_tau001, wp ) )  ) + 1\n",
    "            zcoef = 1. / ( zrhoa * zcdrag )\n",
    "            ztx   = zfact * rn_utau0\n",
    "            zty   = zfact * rn_vtau0\n",
    "            DO jj = 1, jpj\n",
    "                DO ji = 1, jpi\n",
    "                    vtau (ji,jj) = yslopev * (REAL( jj+njmpp-1 - y0v, wp )) / y0v\n",
    "                    utau (ji,jj) = yslopeu * (REAL( jj+njmpp-1 - y0u, wp )) / y0u\n",
    "                    vtau(ji,jj) = vtau(ji,jj)\n",
    "                    utau(ji,jj) = utau(ji,jj)\n",
    "                    taum(ji,jj) =SQRT( utau(ji,jj) * utau(ji,jj) + vtau(ji,jj) * vtau(ji,jj) )\n",
    "                    wndm(ji,jj) =SQRT( taum(ji,jj)*zcoef)\n",
    "                END DO\n",
    "             END DO\n",
    "         ENDIF\n",
    "\n",
    "         IF (kt > (nn_tau002+nn_tau001)) THEN\n",
    "            vtau(:,:) = 0.\n",
    "            utau(:,:) = 0.\n",
    "         ENDIF"
   ]
  },
  {
   "cell_type": "code",
   "execution_count": 65,
   "metadata": {
    "collapsed": false
   },
   "outputs": [],
   "source": [
    "jpj = 564\n",
    "jpi = 284\n",
    "zcdrag = 0.001\n",
    "zrhoa = 1\n",
    "njmpp = 1\n",
    "nn_tau000=100\n",
    "nn_tau001=100\n",
    "nn_tau002=200\n",
    "rn_utau0 = 0\n",
    "rn_vtau0=0.169\n",
    "y0 = -50\n",
    "y_vtau = 400"
   ]
  },
  {
   "cell_type": "code",
   "execution_count": 66,
   "metadata": {
    "collapsed": false
   },
   "outputs": [
    {
     "name": "stdout",
     "output_type": "stream",
     "text": [
      "0.169\n",
      "0.0563333333333\n"
     ]
    }
   ],
   "source": [
    "time = 400\n",
    "vtau = np.zeros((time,jpi, jpj))\n",
    "utau = np.zeros((time,jpi, jpj))\n",
    "taum = np.zeros((time,jpi, jpj))\n",
    "wndm = np.zeros((time,jpi, jpj))\n",
    "m = rn_vtau0/(y_vtau - y0)\n",
    "b = -m*y0\n",
    "for kt in range(time):\n",
    "    if kt <= nn_tau000:\n",
    "        zfact = 0.5 * (  1. - np.cos( np.pi *  kt /  nn_tau000 )  )\n",
    "        zcoef = 1. / ( zrhoa * zcdrag )\n",
    "        #ztx   = zfact * rn_utau0\n",
    "        zty   = zfact * rn_vtau0\n",
    "        for jj in range(jpj):\n",
    "            for ji in range(jpi):\n",
    "                vtau[kt,ji,jj]=m*(jj+njmpp-1)+b\n",
    "                #utau[kt,ji,jj] = yslopeu * ( jj+njmpp-1 - y0u) / y0u\n",
    "        vtau[kt,...] = vtau[kt,...] * zty\n",
    "        #utau[kt,ji,jj] = utau[kt,ji,jj] * ztx\n",
    "        #taum[kt,...] = np.sqrt( utau[kt,ji,jj] * utau[kt,ji,jj] +\n",
    "                            #vtau[kt,...] * vtau[kt,ji,jj] )\n",
    "        wndm[kt,...] = np.sqrt( np.abs(vtau[kt,...])*zcoef)\n",
    "    elif kt>nn_tau000 and kt < nn_tau002:\n",
    "        for jj in range(jpj):\n",
    "            for ji in range(jpi):\n",
    "                vtau[kt,ji,jj]=m*(jj+njmpp-1)+b\n",
    "                #utau[kt,ji,jj] = yslopeu * ( jj+njmpp-1 - y0u) / y0u\n",
    "        #utau[kt,ji,jj] = utau[kt,ji,jj] * ztx\n",
    "        #taum[kt,...] = np.sqrt( utau[kt,ji,jj] * utau[kt,ji,jj] +\n",
    "                            #vtau[kt,...] * vtau[kt,ji,jj] )\n",
    "        wndm[kt,...] = np.sqrt( np.abs(vtau[kt,...])*zcoef)\n",
    "    elif((( nn_tau002 + nn_tau001) >= kt) and(kt >= nn_tau002)):  \n",
    "        zfact = -0.5 * (  1. - np.cos( np.pi * (kt-nn_tau002)   / nn_tau001 )  ) + 1\n",
    "        zcoef = 1. / ( zrhoa * zcdrag )\n",
    "        ztx   = zfact * rn_utau0\n",
    "        zty   = zfact * rn_vtau0\n",
    "        for jj in range( jpj):\n",
    "            for ji in range ( jpi):\n",
    "                vtau[kt,ji,jj]=m*(jj+njmpp-1)+b\n",
    "                #utau[kt,ji,jj] = yslopeu * ( jj+njmpp-1 - y0u ) / y0u\n",
    "        vtau[kt,...] = vtau[kt,...] * zty\n",
    "        #utau[kt,ji,jj] = utau[kt,ji,jj] * ztx\n",
    "        #taum[kt,...] = np.sqrt( utau[kt,ji,jj] * utau[kt,ji,jj] +\n",
    "                            #vtau[kt,...] * vtau[kt,ji,jj] )\n",
    "        wndm[kt,...] = np.sqrt( np.abs(vtau[kt,...])*zcoef)\n",
    "    elif (kt > (nn_tau002+nn_tau001)) :\n",
    "        vtau[kt,:,:] = 0.\n",
    "        #utau[kt,:,:] = 0.  \n",
    "print(vtau[150,100,400])\n",
    "print(vtau[150,100,100])"
   ]
  },
  {
   "cell_type": "code",
   "execution_count": 114,
   "metadata": {
    "collapsed": false
   },
   "outputs": [
    {
     "data": {
      "text/plain": [
       "<matplotlib.colorbar.Colorbar at 0x7f7216f2ce10>"
      ]
     },
     "execution_count": 114,
     "metadata": {},
     "output_type": "execute_result"
    },
    {
     "data": {
      "image/png": "[encoded data removed]",
      "text/plain": [
       "<matplotlib.figure.Figure at 0x7f721718f208>"
      ]
     },
     "metadata": {},
     "output_type": "display_data"
    }
   ],
   "source": [
    "plt.contourf(vtau[150,:,:].T\n",
    "            )\n",
    "plt.colorbar()"
   ]
  },
  {
   "cell_type": "code",
   "execution_count": 2,
   "metadata": {
    "collapsed": false
   },
   "outputs": [
    {
     "data": {
      "text/plain": [
       "0.4"
      ]
     },
     "execution_count": 2,
     "metadata": {},
     "output_type": "execute_result"
    }
   ],
   "source": [
    "Q0 = 10**3\n",
    "C =  10**(-3)\n",
    "Qa = 1\n",
    "\n",
    "windspeed = 20\n",
    "windspeed**2 * Qa * C / Q0 * Q0 "
   ]
  },
  {
   "cell_type": "code",
   "execution_count": null,
   "metadata": {
    "collapsed": true
   },
   "outputs": [],
   "source": []
  }
 ],
 "metadata": {
  "kernelspec": {
   "display_name": "Python 3",
   "language": "python",
   "name": "python3"
  },
  "language_info": {
   "codemirror_mode": {
    "name": "ipython",
    "version": 3
   },
   "file_extension": ".py",
   "mimetype": "text/x-python",
   "name": "python",
   "nbconvert_exporter": "python",
   "pygments_lexer": "ipython3",
   "version": "3.6.0"
  }
 },
 "nbformat": 4,
 "nbformat_minor": 2
}
