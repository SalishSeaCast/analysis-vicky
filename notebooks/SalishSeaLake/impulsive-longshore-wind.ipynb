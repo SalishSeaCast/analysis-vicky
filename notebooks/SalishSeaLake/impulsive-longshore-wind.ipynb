{
 "cells": [
  {
   "cell_type": "markdown",
   "metadata": {},
   "source": [
    "Showing equation(3.68) for SalishSeaLake as we vary different paramters (eg h, q, L)"
   ]
  },
  {
   "cell_type": "code",
   "execution_count": 15,
   "metadata": {
    "collapsed": true
   },
   "outputs": [],
   "source": [
    "import numpy as np\n",
    "import netCDF4 as nc\n",
    "import matplotlib.pyplot as plt\n",
    "from salishsea_tools import (nc_tools, viz_tools, gsw_calls, visualisations)\n",
    "import numpy.ma as ma\n",
    "%matplotlib inline"
   ]
  },
  {
   "cell_type": "code",
   "execution_count": 16,
   "metadata": {
    "collapsed": true
   },
   "outputs": [],
   "source": [
    "mesh_mask = nc.Dataset('/home/vdo/MEOPAR/NEMO-forcing/grid/lake_meshmask201702.nc')\n",
    "lakebathy = nc.Dataset('/data/vdo/MEOPAR/NEMO-forcing/grid/lake_bathy201702.nc')"
   ]
  },
  {
   "cell_type": "code",
   "execution_count": 17,
   "metadata": {
    "collapsed": true
   },
   "outputs": [],
   "source": [
    "tau = 0.2\n",
    "rho = 1022\n",
    "rhoprime = 1024\n",
    "h = 30\n",
    "hprime = 200 - h\n",
    "epsilon = (rhoprime - rho) / rhoprime\n",
    "H = h + hprime\n",
    "g = 9.8\n",
    "c1 = np.sqrt( g * H)\n",
    "c2 = np.sqrt( epsilon * g * h * hprime / (h + hprime))\n",
    "ustar = np.sqrt(tau / rho)\n",
    "f = 1e-4 \n",
    "R1 = c1 / f\n",
    "R2 = c2 / f"
   ]
  },
  {
   "cell_type": "code",
   "execution_count": null,
   "metadata": {
    "collapsed": true
   },
   "outputs": [],
   "source": [
    "delta = (np.square(ustar) * t / c1 * \n",
    "         (np.exp(x / R1) + np.sqrt( epsilon * np.square(H) / (h * hprime)) * np.exp(x / R2) )) \n",
    "deltaprime = -(np.square(ustar) * t * hprime / (c2 * (h + hprime) ) *\n",
    "               (np.exp(x / R2) + np.sqrt(epsilon*hprime/h)*np.exp(x/R2)))"
   ]
  },
  {
   "cell_type": "code",
   "execution_count": 18,
   "metadata": {
    "collapsed": false
   },
   "outputs": [
    {
     "data": {
      "image/png": "[encoded data removed]",
      "text/plain": [
       "<matplotlib.figure.Figure at 0x7fe1884b5160>"
      ]
     },
     "metadata": {},
     "output_type": "display_data"
    }
   ],
   "source": [
    "x = np.arange(-10000,0)\n",
    "delta = (np.square(ustar)  / c1 * \n",
    "         (np.exp(x / R1) + np.sqrt( epsilon * np.square(H) / (h * hprime)) * np.exp(x / R2) )) * 86400 \n",
    "deltaprime = -(np.square(ustar)  * hprime / (c2 * (h + hprime) ) * \n",
    "               (np.exp(x / R2) + np.sqrt(epsilon*hprime/h)*np.exp(x/R1))) *86400\n",
    "plt.plot(x,delta,'r-', x, deltaprime, 'g-')\n",
    "plt.grid('on')"
   ]
  },
  {
   "cell_type": "code",
   "execution_count": 19,
   "metadata": {
    "collapsed": false
   },
   "outputs": [
    {
     "data": {
      "text/plain": [
       "442718.87242357316"
      ]
     },
     "execution_count": 19,
     "metadata": {},
     "output_type": "execute_result"
    }
   ],
   "source": [
    "R1"
   ]
  },
  {
   "cell_type": "code",
   "execution_count": 20,
   "metadata": {
    "collapsed": false
   },
   "outputs": [
    {
     "data": {
      "text/plain": [
       "6986.314747418699"
      ]
     },
     "execution_count": 20,
     "metadata": {},
     "output_type": "execute_result"
    }
   ],
   "source": [
    "R2"
   ]
  },
  {
   "cell_type": "code",
   "execution_count": 153,
   "metadata": {
    "collapsed": false
   },
   "outputs": [
    {
     "data": {
      "text/plain": [
       "16.850409226740055"
      ]
     },
     "execution_count": 153,
     "metadata": {},
     "output_type": "execute_result"
    }
   ],
   "source": [
    "# January with vtau = 0.2, using max and min densities\n",
    "Q0 = Jan_den.max()\n",
    "C =  10**(-3)\n",
    "Qa = 1\n",
    "g = 9.8\n",
    "deltaq = Jan_den.max() - Jan_den.min()\n",
    "h1 = 76.58558654785156\n",
    "L = 200000\n",
    "\n",
    "k = 1\n",
    "gprime = deltaq * g / Q0\n",
    "ustar = np.sqrt(np.square(14.2) * Qa * C / Q0) \n",
    "W = gprime * np.square(h1) / (np.square(ustar) * L)\n",
    "deltae = k*h1/W \n",
    "deltae"
   ]
  },
  {
   "cell_type": "code",
   "execution_count": 154,
   "metadata": {
    "collapsed": false
   },
   "outputs": [
    {
     "data": {
      "text/plain": [
       "7.437888536719055"
      ]
     },
     "execution_count": 154,
     "metadata": {},
     "output_type": "execute_result"
    }
   ],
   "source": [
    "# June with vtau = 0.2, using max and min densities\n",
    "Q0 = Jun_den.max()\n",
    "C =  10**(-3)\n",
    "Qa = 1\n",
    "g = 9.8\n",
    "deltaq = Jun_den.max() - Jun_den.min()\n",
    "h1 = 76.58558654785156\n",
    "L = 200000\n",
    "\n",
    "k = 1\n",
    "gprime = deltaq * g / Q0\n",
    "ustar = np.sqrt(np.square(14.2) * Qa * C / Q0) \n",
    "W = gprime * np.square(h1) / (np.square(ustar) * L)\n",
    "deltae = k*h1/W \n",
    "deltae"
   ]
  },
  {
   "cell_type": "code",
   "execution_count": 155,
   "metadata": {
    "collapsed": false
   },
   "outputs": [
    {
     "data": {
      "text/plain": [
       "33.426719354770988"
      ]
     },
     "execution_count": 155,
     "metadata": {},
     "output_type": "execute_result"
    }
   ],
   "source": [
    "# Jan with vtau = 0.4, using max and min densities\n",
    "Q0 = Jan_den.max()\n",
    "C =  10**(-3)\n",
    "Qa = 1\n",
    "g = 9.8\n",
    "deltaq = Jan_den.max() - Jan_den.min()\n",
    "h1 = 76.58558654785156\n",
    "L = 200000\n",
    "\n",
    "k = 1\n",
    "gprime = deltaq * g / Q0\n",
    "ustar = np.sqrt(np.square(20) * Qa * C / Q0) \n",
    "W = gprime * np.square(h1) / (np.square(ustar) * L)\n",
    "deltae = k*h1/W \n",
    "deltae"
   ]
  },
  {
   "cell_type": "code",
   "execution_count": 156,
   "metadata": {
    "collapsed": false
   },
   "outputs": [
    {
     "data": {
      "text/plain": [
       "14.754787813368489"
      ]
     },
     "execution_count": 156,
     "metadata": {},
     "output_type": "execute_result"
    }
   ],
   "source": [
    "# June with vtau = 0.4, using max and min densities \n",
    "Q0 = Jun_den.max()\n",
    "C =  10**(-3)\n",
    "Qa = 1\n",
    "g = 9.8\n",
    "deltaq = Jun_den.max() - Jun_den.min()\n",
    "h1 = 76.58558654785156\n",
    "L = 200000\n",
    "\n",
    "k = 1\n",
    "gprime = deltaq * g / Q0\n",
    "ustar = np.sqrt(np.square(20) * Qa * C / Q0) \n",
    "W = gprime * np.square(h1) / (np.square(ustar) * L)\n",
    "deltae = k*h1/W \n",
    "deltae"
   ]
  },
  {
   "cell_type": "code",
   "execution_count": 36,
   "metadata": {
    "collapsed": false
   },
   "outputs": [
    {
     "data": {
      "text/plain": [
       "<matplotlib.text.Text at 0x7fe185a45080>"
      ]
     },
     "execution_count": 36,
     "metadata": {},
     "output_type": "execute_result"
    },
    {
     "data": {
      "image/png": "[encoded data removed]",
      "text/plain": [
       "<matplotlib.figure.Figure at 0x7fe185a8a4a8>"
      ]
     },
     "metadata": {},
     "output_type": "display_data"
    }
   ],
   "source": [
    "Q0 = Jun_den.max()\n",
    "C =  10**(-3)\n",
    "Qa = 1\n",
    "g = 9.8\n",
    "deltaq = np.linspace(5,20,100)\n",
    "h1 = 40\n",
    "L = 200000\n",
    "\n",
    "k = 1\n",
    "gprime = deltaq * g / Q0\n",
    "ustar = np.sqrt(np.square(20) * Qa * C / Q0) \n",
    "W = gprime * np.square(h1) / (np.square(ustar) * L)\n",
    "deltae = k*h1/W \n",
    "plt.plot(deltaq, deltae)\n",
    "plt.grid('on')\n",
    "plt.title('Varying delta Q from 5 to 20, h1 = 40, L = 200km, June')"
   ]
  },
  {
   "cell_type": "code",
   "execution_count": 35,
   "metadata": {
    "collapsed": false
   },
   "outputs": [
    {
     "data": {
      "text/plain": [
       "<matplotlib.text.Text at 0x7fe185aa09e8>"
      ]
     },
     "execution_count": 35,
     "metadata": {},
     "output_type": "execute_result"
    },
    {
     "data": {
      "image/png": "[encoded data removed]",
      "text/plain": [
       "<matplotlib.figure.Figure at 0x7fe185cd5278>"
      ]
     },
     "metadata": {},
     "output_type": "display_data"
    }
   ],
   "source": [
    "Q0 = Jan_den.max()\n",
    "C =  10**(-3)\n",
    "Qa = 1\n",
    "g = 9.8\n",
    "deltaq = np.linspace(5,20,100)\n",
    "h1 = 40\n",
    "L = 200000\n",
    "\n",
    "k = 1\n",
    "gprime = deltaq * g / Q0\n",
    "ustar = np.sqrt(np.square(20) * Qa * C / Q0) \n",
    "W = gprime * np.square(h1) / (np.square(ustar) * L)\n",
    "deltae = k*h1/W \n",
    "plt.plot(deltaq, deltae)\n",
    "plt.grid('on')\n",
    "plt.title('Varying delta Q from 5 to 20, h1 = 40, L = 200km, January')"
   ]
  },
  {
   "cell_type": "code",
   "execution_count": 37,
   "metadata": {
    "collapsed": false
   },
   "outputs": [
    {
     "data": {
      "text/plain": [
       "<matplotlib.text.Text at 0x7fe1883b1cf8>"
      ]
     },
     "execution_count": 37,
     "metadata": {},
     "output_type": "execute_result"
    },
    {
     "data": {
      "image/png": "[encoded data removed]",
      "text/plain": [
       "<matplotlib.figure.Figure at 0x7fe1859a3390>"
      ]
     },
     "metadata": {},
     "output_type": "display_data"
    }
   ],
   "source": [
    "Q0 = Jun_den.max()\n",
    "C =  10**(-3)\n",
    "Qa = 1\n",
    "g = 9.8\n",
    "deltaq = 12.5\n",
    "h1 = np.linspace(20,60,100)\n",
    "L = 200000\n",
    "\n",
    "k = 1\n",
    "gprime = deltaq * g / Q0\n",
    "ustar = np.sqrt(np.square(20) * Qa * C / Q0) \n",
    "W = gprime * np.square(h1) / (np.square(ustar) * L)\n",
    "deltae = k*h1/W \n",
    "plt.plot(h1, deltae)\n",
    "plt.grid('on')\n",
    "plt.title('Varying h1 from 20 to 60, delta Q = 12.5, L = 200km, June')"
   ]
  },
  {
   "cell_type": "code",
   "execution_count": 38,
   "metadata": {
    "collapsed": false
   },
   "outputs": [
    {
     "data": {
      "text/plain": [
       "<matplotlib.text.Text at 0x7fe18839ae80>"
      ]
     },
     "execution_count": 38,
     "metadata": {},
     "output_type": "execute_result"
    },
    {
     "data": {
      "image/png": "[encoded data removed]",
      "text/plain": [
       "<matplotlib.figure.Figure at 0x7fe185c81550>"
      ]
     },
     "metadata": {},
     "output_type": "display_data"
    }
   ],
   "source": [
    "Q0 = Jan_den.max()\n",
    "C =  10**(-3)\n",
    "Qa = 1\n",
    "g = 9.8\n",
    "deltaq = 12.5\n",
    "h1 = np.linspace(20,60,100)\n",
    "L = 200000\n",
    "\n",
    "k = 1\n",
    "gprime = deltaq * g / Q0\n",
    "ustar = np.sqrt(np.square(20) * Qa * C / Q0) \n",
    "W = gprime * np.square(h1) / (np.square(ustar) * L)\n",
    "deltae = k*h1/W \n",
    "plt.plot(h1, deltae)\n",
    "plt.grid('on')\n",
    "plt.title('Varying h1 from 20 to 60, delta Q = 12.5, L = 200km, January')"
   ]
  },
  {
   "cell_type": "code",
   "execution_count": 39,
   "metadata": {
    "collapsed": false
   },
   "outputs": [
    {
     "data": {
      "text/plain": [
       "<matplotlib.text.Text at 0x7fe1858e2d68>"
      ]
     },
     "execution_count": 39,
     "metadata": {},
     "output_type": "execute_result"
    },
    {
     "data": {
      "image/png": "[encoded data removed]",
      "text/plain": [
       "<matplotlib.figure.Figure at 0x7fe18591e400>"
      ]
     },
     "metadata": {},
     "output_type": "display_data"
    }
   ],
   "source": [
    "Q0 = Jun_den.max()\n",
    "C =  10**(-3)\n",
    "Qa = 1\n",
    "g = 9.8\n",
    "deltaq = 12.5\n",
    "h1 = 40\n",
    "L = np.linspace(150000,250000,1000)\n",
    "\n",
    "k = 1\n",
    "gprime = deltaq * g / Q0\n",
    "ustar = np.sqrt(np.square(20) * Qa * C / Q0) \n",
    "W = gprime * np.square(h1) / (np.square(ustar) * L)\n",
    "deltae = k*h1/W \n",
    "plt.plot(L, deltae)\n",
    "plt.grid('on')\n",
    "plt.title('Varying L from 150K to 250K, delta Q = 12.5, h1 = 40, June')"
   ]
  },
  {
   "cell_type": "code",
   "execution_count": 40,
   "metadata": {
    "collapsed": false
   },
   "outputs": [
    {
     "data": {
      "text/plain": [
       "<matplotlib.text.Text at 0x7fe185880c18>"
      ]
     },
     "execution_count": 40,
     "metadata": {},
     "output_type": "execute_result"
    },
    {
     "data": {
      "image/png": "[encoded data removed]",
      "text/plain": [
       "<matplotlib.figure.Figure at 0x7fe185a669e8>"
      ]
     },
     "metadata": {},
     "output_type": "display_data"
    }
   ],
   "source": [
    "Q0 = Jan_den.max()\n",
    "C =  10**(-3)\n",
    "Qa = 1\n",
    "g = 9.8\n",
    "deltaq = 12.5\n",
    "h1 = 40\n",
    "L = np.linspace(150000,250000,1000)\n",
    "\n",
    "k = 1\n",
    "gprime = deltaq * g / Q0\n",
    "ustar = np.sqrt(np.square(20) * Qa * C / Q0) \n",
    "W = gprime * np.square(h1) / (np.square(ustar) * L)\n",
    "deltae = k*h1/W \n",
    "plt.plot(L, deltae)\n",
    "plt.grid('on')\n",
    "plt.title('Varying L from 150K to 250K, delta Q = 12.5, h1 = 40, January')"
   ]
  },
  {
   "cell_type": "code",
   "execution_count": null,
   "metadata": {
    "collapsed": true
   },
   "outputs": [],
   "source": []
  },
  {
   "cell_type": "code",
   "execution_count": 21,
   "metadata": {
    "collapsed": true
   },
   "outputs": [],
   "source": [
    "June = nc.Dataset('/data/vdo/MEOPAR/NEMO-forcing/initial_strat/summer2016_201702.nc')"
   ]
  },
  {
   "cell_type": "code",
   "execution_count": 22,
   "metadata": {
    "collapsed": false
   },
   "outputs": [
    {
     "data": {
      "text/plain": [
       "<class 'netCDF4._netCDF4.Dataset'>\n",
       "root group (NETCDF4 data model, file format HDF5):\n",
       "    coordinates: time_counter\n",
       "    dimensions(sizes): deptht(40), y(898), x(398)\n",
       "    variables(dimensions): float64 \u001b[4mvosaline\u001b[0m(deptht,y,x), float64 \u001b[4mvotemper\u001b[0m(deptht,y,x), float32 \u001b[4mdeptht\u001b[0m(deptht), float32 \u001b[4mnav_lat\u001b[0m(y,x), float32 \u001b[4mnav_lon\u001b[0m(y,x), int64 \u001b[4mtime_counter\u001b[0m()\n",
       "    groups: "
      ]
     },
     "execution_count": 22,
     "metadata": {},
     "output_type": "execute_result"
    }
   ],
   "source": [
    "June"
   ]
  },
  {
   "cell_type": "code",
   "execution_count": 23,
   "metadata": {
    "collapsed": true
   },
   "outputs": [],
   "source": [
    "mesh_mask = nc.Dataset('/data/vdo/MEOPAR/NEMO-forcing/grid/mesh_mask201702.nc')"
   ]
  },
  {
   "cell_type": "code",
   "execution_count": 24,
   "metadata": {
    "collapsed": true
   },
   "outputs": [],
   "source": [
    "bathy = nc.Dataset('/data/vdo/MEOPAR/NEMO-forcing/grid/bathymetry_201702.nc')"
   ]
  },
  {
   "cell_type": "code",
   "execution_count": 76,
   "metadata": {
    "collapsed": false
   },
   "outputs": [
    {
     "data": {
      "text/plain": [
       "<matplotlib.colorbar.Colorbar at 0x7f7ecc558e80>"
      ]
     },
     "execution_count": 76,
     "metadata": {},
     "output_type": "execute_result"
    },
    {
     "data": {
      "image/png": "[encoded data removed]",
      "text/plain": [
       "<matplotlib.figure.Figure at 0x7f7ecc9299e8>"
      ]
     },
     "metadata": {},
     "output_type": "display_data"
    }
   ],
   "source": [
    "plt.contourf(np.ma.masked_array(June.variables['votemper'][0,...],\n",
    "                               mask = bathy.variables['Bathymetry'][:].mask))\n",
    "plt.colorbar()"
   ]
  },
  {
   "cell_type": "code",
   "execution_count": 25,
   "metadata": {
    "collapsed": true
   },
   "outputs": [],
   "source": [
    "Jan = nc.Dataset('/data/vdo/MEOPAR/NEMO-forcing/initial_strat/winter2017_201702.nc')"
   ]
  },
  {
   "cell_type": "code",
   "execution_count": 78,
   "metadata": {
    "collapsed": false
   },
   "outputs": [
    {
     "data": {
      "text/plain": [
       "<matplotlib.colorbar.Colorbar at 0x7f7ecc37ccc0>"
      ]
     },
     "execution_count": 78,
     "metadata": {},
     "output_type": "execute_result"
    },
    {
     "data": {
      "image/png": "[encoded data removed]",
      "text/plain": [
       "<matplotlib.figure.Figure at 0x7f7ecc453a90>"
      ]
     },
     "metadata": {},
     "output_type": "display_data"
    }
   ],
   "source": [
    "plt.contourf(np.ma.masked_array(Jan.variables['votemper'][0,...],\n",
    "                               mask = bathy.variables['Bathymetry'][:].mask))\n",
    "plt.colorbar()"
   ]
  },
  {
   "cell_type": "code",
   "execution_count": 26,
   "metadata": {
    "collapsed": true
   },
   "outputs": [],
   "source": [
    "def calc_rho(Sal, TempC, P):\n",
    "    sqrSal = np.sqrt(Sal)\n",
    "    R1 = ((((6.536332e-9 * TempC - 1.120083e-6) * TempC + 1.001685e-4)\n",
    "           * TempC - 9.095290e-3) * TempC + 6.793952e-2) * TempC - 28.263737\n",
    "    R2 = (((5.3875e-9 * TempC - 8.2467e-7) * TempC + 7.6438e-5)\n",
    "          * TempC - 4.0899e-3) * TempC + 8.24493e-1\n",
    "    R3 = (-1.6546e-6 * TempC + 1.0227e-4) * TempC - 5.72466e-3\n",
    "    SIG = (4.8314e-4 * Sal + R3 * sqrSal + R2) * Sal + R1\n",
    "    V350P = 1.0 / 1028.1063\n",
    "    SVA   = -SIG * V350P / (1028.1063 + SIG)\n",
    "    rho = 28.106331 - SVA / (V350P * (V350P + SVA)) + 1000\n",
    "    return rho"
   ]
  },
  {
   "cell_type": "code",
   "execution_count": 31,
   "metadata": {
    "collapsed": true
   },
   "outputs": [],
   "source": [
    "Jan_den = np.ma.masked_array(calc_rho(Jan.variables['vosaline'][:], \n",
    "                                      Jan.variables['votemper'][:],\n",
    "                                      Jan.variables['deptht'][:][:, np.newaxis, np.newaxis]),\n",
    "                             mask = 1-mesh_mask.variables['tmask'][0,...])"
   ]
  },
  {
   "cell_type": "code",
   "execution_count": 145,
   "metadata": {
    "collapsed": false
   },
   "outputs": [
    {
     "data": {
      "image/png": "[encoded data removed]",
      "text/plain": [
       "<matplotlib.figure.Figure at 0x7f7ecb512550>"
      ]
     },
     "metadata": {},
     "output_type": "display_data"
    }
   ],
   "source": [
    "plt.contourf(np.arange(0,398), Jan.variables['deptht'][:],Jan_den[:,500,:])\n",
    "plt.ylim(100,0)\n",
    "plt.xlim(200,350)\n",
    "plt.grid('on')"
   ]
  },
  {
   "cell_type": "code",
   "execution_count": 32,
   "metadata": {
    "collapsed": true
   },
   "outputs": [],
   "source": [
    "Jun_den = np.ma.masked_array(calc_rho(June.variables['vosaline'][:], \n",
    "                                      June.variables['votemper'][:],\n",
    "                                      June.variables['deptht'][:][:, np.newaxis, np.newaxis]),\n",
    "                             mask = 1-mesh_mask.variables['tmask'][0,...])"
   ]
  },
  {
   "cell_type": "code",
   "execution_count": 163,
   "metadata": {
    "collapsed": false
   },
   "outputs": [
    {
     "data": {
      "image/png": "[encoded data removed]",
      "text/plain": [
       "<matplotlib.figure.Figure at 0x7f7ecba84630>"
      ]
     },
     "metadata": {},
     "output_type": "display_data"
    }
   ],
   "source": [
    "plt.contourf(np.arange(0,398), June.variables['deptht'][:], Jun_den[:,500,:])\n",
    "plt.colorbar()\n",
    "plt.ylim(100,1)\n",
    "plt.xlim(200,350)\n",
    "plt.grid('on')"
   ]
  },
  {
   "cell_type": "code",
   "execution_count": 135,
   "metadata": {
    "collapsed": false
   },
   "outputs": [
    {
     "data": {
      "text/plain": [
       "1024.3840748161324"
      ]
     },
     "execution_count": 135,
     "metadata": {},
     "output_type": "execute_result"
    }
   ],
   "source": [
    "Jun_den.max()"
   ]
  },
  {
   "cell_type": "code",
   "execution_count": 136,
   "metadata": {
    "collapsed": false
   },
   "outputs": [
    {
     "data": {
      "text/plain": [
       "1017.159972304221"
      ]
     },
     "execution_count": 136,
     "metadata": {},
     "output_type": "execute_result"
    }
   ],
   "source": [
    "Jun_den.min()"
   ]
  },
  {
   "cell_type": "code",
   "execution_count": 137,
   "metadata": {
    "collapsed": false
   },
   "outputs": [
    {
     "data": {
      "text/plain": [
       "1024.3937942281859"
      ]
     },
     "execution_count": 137,
     "metadata": {},
     "output_type": "execute_result"
    }
   ],
   "source": [
    "Jan_den.max()"
   ]
  },
  {
   "cell_type": "code",
   "execution_count": 138,
   "metadata": {
    "collapsed": false
   },
   "outputs": [
    {
     "data": {
      "text/plain": [
       "1021.2050248316444"
      ]
     },
     "execution_count": 138,
     "metadata": {},
     "output_type": "execute_result"
    }
   ],
   "source": [
    "Jan_den.min()"
   ]
  },
  {
   "cell_type": "code",
   "execution_count": 146,
   "metadata": {
    "collapsed": false
   },
   "outputs": [
    {
     "data": {
      "text/plain": [
       "1021.5478781651364"
      ]
     },
     "execution_count": 146,
     "metadata": {},
     "output_type": "execute_result"
    }
   ],
   "source": [
    "Jun_den[:26, ...].mean()"
   ]
  },
  {
   "cell_type": "code",
   "execution_count": 147,
   "metadata": {
    "collapsed": false
   },
   "outputs": [
    {
     "data": {
      "text/plain": [
       "1024.2532018354989"
      ]
     },
     "execution_count": 147,
     "metadata": {},
     "output_type": "execute_result"
    }
   ],
   "source": [
    "Jun_den[26:,...].mean()"
   ]
  },
  {
   "cell_type": "code",
   "execution_count": 148,
   "metadata": {
    "collapsed": false
   },
   "outputs": [
    {
     "data": {
      "text/plain": [
       "1022.7565199808918"
      ]
     },
     "execution_count": 148,
     "metadata": {},
     "output_type": "execute_result"
    }
   ],
   "source": [
    "Jan_den[:26,...].mean()"
   ]
  },
  {
   "cell_type": "code",
   "execution_count": 149,
   "metadata": {
    "collapsed": false
   },
   "outputs": [
    {
     "data": {
      "text/plain": [
       "1024.3013007326404"
      ]
     },
     "execution_count": 149,
     "metadata": {},
     "output_type": "execute_result"
    }
   ],
   "source": [
    "Jan_den[26:,...].mean()"
   ]
  },
  {
   "cell_type": "markdown",
   "metadata": {
    "collapsed": true
   },
   "source": [
    "Equations show we are limited in the displacement range. Our tests stay in the range ish. "
   ]
  },
  {
   "cell_type": "code",
   "execution_count": null,
   "metadata": {
    "collapsed": true
   },
   "outputs": [],
   "source": []
  }
 ],
 "metadata": {
  "kernelspec": {
   "display_name": "Python 3",
   "language": "python",
   "name": "python3"
  },
  "language_info": {
   "codemirror_mode": {
    "name": "ipython",
    "version": 3
   },
   "file_extension": ".py",
   "mimetype": "text/x-python",
   "name": "python",
   "nbconvert_exporter": "python",
   "pygments_lexer": "ipython3",
   "version": "3.6.0"
  }
 },
 "nbformat": 4,
 "nbformat_minor": 2
}
