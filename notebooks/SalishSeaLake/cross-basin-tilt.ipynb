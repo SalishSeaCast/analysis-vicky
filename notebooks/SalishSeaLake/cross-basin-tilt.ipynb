{
 "cells": [
  {
   "cell_type": "markdown",
   "metadata": {},
   "source": [
    "Looking for cross basin tilt along different wind scenerios."
   ]
  },
  {
   "cell_type": "code",
   "execution_count": 1,
   "metadata": {
    "collapsed": true
   },
   "outputs": [],
   "source": [
    "import numpy as np\n",
    "import netCDF4 as nc\n",
    "import matplotlib.pyplot as plt\n",
    "from salishsea_tools import (nc_tools, viz_tools, gsw_calls)\n",
    "import numpy.ma as ma\n",
    "from matplotlib import animation, rc\n",
    "from scipy.optimize import curve_fit\n",
    "from visualisations import *\n",
    "%matplotlib inline"
   ]
  },
  {
   "cell_type": "code",
   "execution_count": 2,
   "metadata": {
    "collapsed": true
   },
   "outputs": [],
   "source": [
    "rc('animation', html='html5')"
   ]
  },
  {
   "cell_type": "code",
   "execution_count": 4,
   "metadata": {
    "collapsed": true
   },
   "outputs": [],
   "source": [
    "def calc_rho(Sal, TempC, P):\n",
    "    sqrSal = np.sqrt(Sal)\n",
    "    R1 = ((((6.536332e-9 * TempC - 1.120083e-6) * TempC + 1.001685e-4)\n",
    "           * TempC - 9.095290e-3) * TempC + 6.793952e-2) * TempC - 28.263737\n",
    "    R2 = (((5.3875e-9 * TempC - 8.2467e-7) * TempC + 7.6438e-5)\n",
    "          * TempC - 4.0899e-3) * TempC + 8.24493e-1\n",
    "    R3 = (-1.6546e-6 * TempC + 1.0227e-4) * TempC - 5.72466e-3\n",
    "    SIG = (4.8314e-4 * Sal + R3 * sqrSal + R2) * Sal + R1\n",
    "    V350P = 1.0 / 1028.1063\n",
    "    SVA   = -SIG * V350P / (1028.1063 + SIG)\n",
    "    rho = 28.106331 - SVA / (V350P * (V350P + SVA)) + 1000\n",
    "    return rho\n",
    "def func(x,m,b):\n",
    "    return m*x + b"
   ]
  },
  {
   "cell_type": "code",
   "execution_count": 5,
   "metadata": {
    "collapsed": true
   },
   "outputs": [],
   "source": [
    "lake_meshmask = nc.Dataset('/home/vdo/MEOPAR/NEMO-forcing/grid/lake_meshmask201702.nc')\n",
    "U24W = nc.Dataset('/ocean/vdo/MEOPAR/completed-runs/SalishSeaLake/24UW/SalishSea_1h_20170101_20170105_grid_T.nc')\n",
    "U24S = nc.Dataset('/ocean/vdo/MEOPAR/completed-runs/SalishSeaLake/24US/SalishSea_1h_20160601_20160605_grid_T.nc')\n",
    "U48W = nc.Dataset('/ocean/vdo/MEOPAR/completed-runs/SalishSeaLake/48UW/SalishSea_1h_20170101_20170105_grid_T.nc')\n",
    "U48S = nc.Dataset('/ocean/vdo/MEOPAR/completed-runs/SalishSeaLake/48US/SalishSea_1h_20160601_20160605_grid_T.nc')\n",
    "U72W = nc.Dataset('/ocean/vdo/MEOPAR/completed-runs/SalishSeaLake/72UW/SalishSea_1h_20170101_20170105_grid_T.nc')\n",
    "U72S = nc.Dataset('/ocean/vdo/MEOPAR/completed-runs/SalishSeaLake/72US/SalishSea_1h_20160601_20160605_grid_T.nc')"
   ]
  },
  {
   "cell_type": "code",
   "execution_count": 15,
   "metadata": {
    "collapsed": false
   },
   "outputs": [
    {
     "data": {
      "text/plain": [
       "[<matplotlib.lines.Line2D at 0x7f29637719e8>]"
      ]
     },
     "execution_count": 15,
     "metadata": {},
     "output_type": "execute_result"
    },
    {
     "data": {
      "image/png": "[encoded data removed]",
      "text/plain": [
       "<matplotlib.figure.Figure at 0x7f29637abc88>"
      ]
     },
     "metadata": {},
     "output_type": "display_data"
    }
   ],
   "source": [
    "fig, ax = plt.subplots(figsize=(8,8))\n",
    "ax.pcolormesh(lake_meshmask.variables['tmask'][0,0,...])\n",
    "ax.plot([0,200], [200,200], 'r-')"
   ]
  },
  {
   "cell_type": "code",
   "execution_count": 94,
   "metadata": {
    "collapsed": false
   },
   "outputs": [],
   "source": [
    "file2 = U24W\n",
    "yslice = 200\n",
    "deptht = file2.variables['deptht'][:]\n",
    "yslicemask = 1 - lake_meshmask.variables['tmask'][0,:,yslice,:]\n",
    "pressure1 = gsw_calls.generic_gsw_caller('gsw_p_from_z.m',\n",
    "                                        [-np.expand_dims(file2.variables['deptht'][:], 1) * np.ones(284),\n",
    "                                         (np.ones([284,40]) *np.expand_dims(file2.variables['nav_lat'][yslice,:][:],1)).T])             "
   ]
  },
  {
   "cell_type": "code",
   "execution_count": 97,
   "metadata": {
    "collapsed": false
   },
   "outputs": [
    {
     "name": "stdout",
     "output_type": "stream",
     "text": [
      "28.2299156189\n",
      "11.509311676\n",
      "0.204864947553\n"
     ]
    },
    {
     "data": {
      "image/png": "[encoded data removed]",
      "text/plain": [
       "<matplotlib.figure.Figure at 0x7f29640276a0>"
      ]
     },
     "metadata": {},
     "output_type": "display_data"
    }
   ],
   "source": [
    "i = 30\n",
    "density1 = calc_rho(file2.variables['vosaline'][i,:,yslice,68:137],\n",
    "                    file2.variables['votemper'][i,:,yslice,68:137],\n",
    "                    pressure1[:, 68:137])\n",
    "rho = 1023.3\n",
    "index1 = (np.abs(density1 - rho)).argmin(axis=0)\n",
    "list_of_depths1 = np.zeros((69))\n",
    "for x in range(69):\n",
    "    list_of_depths1[x] = deptht[index1[x]]\n",
    "popt, pcov = curve_fit(func, np.arange(0,69), list_of_depths1)\n",
    "plt.plot(np.arange(0,69), list_of_depths1, 'r.')\n",
    "plt.grid('on')\n",
    "plt.ylim(50,0)\n",
    "plt.plot(np.arange(0,69), func(np.arange(0,69), *popt), 'b-')\n",
    "print(list_of_depths1.max())\n",
    "print(list_of_depths1.min())\n",
    "print(popt[0])"
   ]
  },
  {
   "cell_type": "code",
   "execution_count": 34,
   "metadata": {
    "collapsed": true
   },
   "outputs": [],
   "source": [
    "file2 = U48W\n",
    "yslice = 200\n",
    "deptht = file2.variables['deptht'][:]\n",
    "yslicemask = 1 - lake_meshmask.variables['tmask'][0,:,yslice,:]\n",
    "pressure1 = gsw_calls.generic_gsw_caller('gsw_p_from_z.m',\n",
    "                                        [-np.expand_dims(file2.variables['deptht'][:], 1) * np.ones(284),\n",
    "                                         (np.ones([284,40]) *np.expand_dims(file2.variables['nav_lat'][yslice,:][:],1)).T])  "
   ]
  },
  {
   "cell_type": "code",
   "execution_count": 38,
   "metadata": {
    "collapsed": false
   },
   "outputs": [
    {
     "name": "stdout",
     "output_type": "stream",
     "text": [
      "28.2299156189\n",
      "10.5047655106\n",
      "0.213468427451\n"
     ]
    },
    {
     "data": {
      "image/png": "[encoded data removed]",
      "text/plain": [
       "<matplotlib.figure.Figure at 0x7f2963187198>"
      ]
     },
     "metadata": {},
     "output_type": "display_data"
    }
   ],
   "source": [
    "i = 24\n",
    "density1 = calc_rho(file2.variables['vosaline'][i,:,yslice,68:137],\n",
    "                    file2.variables['votemper'][i,:,yslice,68:137],\n",
    "                    pressure1[:, 68:137])\n",
    "rho = 1023.3\n",
    "index1 = (np.abs(density1 - rho)).argmin(axis=0)\n",
    "list_of_depths1 = np.zeros((69))\n",
    "for x in range(69):\n",
    "    list_of_depths1[x] = deptht[index1[x]]\n",
    "popt, pcov = curve_fit(func, np.arange(0,69), list_of_depths1)\n",
    "plt.plot(np.arange(0,69), list_of_depths1, 'r.')\n",
    "plt.grid('on')\n",
    "plt.ylim(50,0)\n",
    "plt.plot(np.arange(0,69), func(np.arange(0,69), *popt), 'b-')\n",
    "print(list_of_depths1.max())\n",
    "print(list_of_depths1.min())\n",
    "print(popt[0])"
   ]
  },
  {
   "cell_type": "code",
   "execution_count": 39,
   "metadata": {
    "collapsed": true
   },
   "outputs": [],
   "source": [
    "file2 = U72W\n",
    "yslice = 200\n",
    "deptht = file2.variables['deptht'][:]\n",
    "yslicemask = 1 - lake_meshmask.variables['tmask'][0,:,yslice,:]\n",
    "pressure1 = gsw_calls.generic_gsw_caller('gsw_p_from_z.m',\n",
    "                                        [-np.expand_dims(file2.variables['deptht'][:], 1) * np.ones(284),\n",
    "                                         (np.ones([284,40]) *np.expand_dims(file2.variables['nav_lat'][yslice,:][:],1)).T])  "
   ]
  },
  {
   "cell_type": "code",
   "execution_count": 44,
   "metadata": {
    "collapsed": false
   },
   "outputs": [
    {
     "name": "stdout",
     "output_type": "stream",
     "text": [
      "28.2299156189\n",
      "11.509311676\n",
      "0.228863143153\n"
     ]
    },
    {
     "data": {
      "image/png": "[encoded data removed]",
      "text/plain": [
       "<matplotlib.figure.Figure at 0x7f2963fd6400>"
      ]
     },
     "metadata": {},
     "output_type": "display_data"
    }
   ],
   "source": [
    "i = 17\n",
    "density1 = calc_rho(file2.variables['vosaline'][i,:,yslice,68:137],\n",
    "                    file2.variables['votemper'][i,:,yslice,68:137],\n",
    "                    pressure1[:, 68:137])\n",
    "rho = 1023.3\n",
    "index1 = (np.abs(density1 - rho)).argmin(axis=0)\n",
    "list_of_depths1 = np.zeros((69))\n",
    "for x in range(69):\n",
    "    list_of_depths1[x] = deptht[index1[x]]\n",
    "popt, pcov = curve_fit(func, np.arange(0,69), list_of_depths1)\n",
    "plt.plot(np.arange(0,69), list_of_depths1, 'r.')\n",
    "plt.grid('on')\n",
    "plt.ylim(50,0)\n",
    "plt.plot(np.arange(0,69), func(np.arange(0,69), *popt), 'b-')\n",
    "print(list_of_depths1.max())\n",
    "print(list_of_depths1.min())\n",
    "print(popt[0])"
   ]
  },
  {
   "cell_type": "code",
   "execution_count": 45,
   "metadata": {
    "collapsed": true
   },
   "outputs": [],
   "source": [
    "file2 = nc.Dataset('/ocean/vdo/MEOPAR/completed-runs/SalishSeaLake/24UW0.1/SalishSea_1h_20170101_20170105_grid_T.nc')\n",
    "yslice = 200\n",
    "deptht = file2.variables['deptht'][:]\n",
    "yslicemask = 1 - lake_meshmask.variables['tmask'][0,:,yslice,:]\n",
    "pressure1 = gsw_calls.generic_gsw_caller('gsw_p_from_z.m',\n",
    "                                        [-np.expand_dims(file2.variables['deptht'][:], 1) * np.ones(284),\n",
    "                                         (np.ones([284,40]) *np.expand_dims(file2.variables['nav_lat'][yslice,:][:],1)).T])  "
   ]
  },
  {
   "cell_type": "code",
   "execution_count": 50,
   "metadata": {
    "collapsed": false
   },
   "outputs": [
    {
     "name": "stdout",
     "output_type": "stream",
     "text": [
      "28.2299156189\n",
      "7.50062322617\n",
      "0.197451324029\n"
     ]
    },
    {
     "data": {
      "image/png": "[encoded data removed]",
      "text/plain": [
       "<matplotlib.figure.Figure at 0x7f2963fd6e10>"
      ]
     },
     "metadata": {},
     "output_type": "display_data"
    }
   ],
   "source": [
    "i = 47\n",
    "density1 = calc_rho(file2.variables['vosaline'][i,:,yslice,68:137],\n",
    "                    file2.variables['votemper'][i,:,yslice,68:137],\n",
    "                    pressure1[:, 68:137])\n",
    "rho = 1023.3\n",
    "index1 = (np.abs(density1 - rho)).argmin(axis=0)\n",
    "list_of_depths1 = np.zeros((69))\n",
    "for x in range(69):\n",
    "    list_of_depths1[x] = deptht[index1[x]]\n",
    "popt, pcov = curve_fit(func, np.arange(0,69), list_of_depths1)\n",
    "plt.plot(np.arange(0,69), list_of_depths1, 'r.')\n",
    "plt.grid('on')\n",
    "plt.ylim(50,0)\n",
    "plt.plot(np.arange(0,69), func(np.arange(0,69), *popt), 'b-')\n",
    "print(list_of_depths1.max())\n",
    "print(list_of_depths1.min())\n",
    "print(popt[0])"
   ]
  },
  {
   "cell_type": "code",
   "execution_count": 51,
   "metadata": {
    "collapsed": true
   },
   "outputs": [],
   "source": [
    "file2 = nc.Dataset('/ocean/vdo/MEOPAR/completed-runs/SalishSeaLake/48UW0.1/SalishSea_1h_20170101_20170105_grid_T.nc')\n",
    "yslice = 200\n",
    "deptht = file2.variables['deptht'][:]\n",
    "yslicemask = 1 - lake_meshmask.variables['tmask'][0,:,yslice,:]\n",
    "pressure1 = gsw_calls.generic_gsw_caller('gsw_p_from_z.m',\n",
    "                                        [-np.expand_dims(file2.variables['deptht'][:], 1) * np.ones(284),\n",
    "                                         (np.ones([284,40]) *np.expand_dims(file2.variables['nav_lat'][yslice,:][:],1)).T])  "
   ]
  },
  {
   "cell_type": "code",
   "execution_count": 59,
   "metadata": {
    "collapsed": false
   },
   "outputs": [
    {
     "name": "stdout",
     "output_type": "stream",
     "text": [
      "28.2299156189\n",
      "6.50031042099\n",
      "0.215303846287\n"
     ]
    },
    {
     "data": {
      "image/png": "[encoded data removed]",
      "text/plain": [
       "<matplotlib.figure.Figure at 0x7f2963105e80>"
      ]
     },
     "metadata": {},
     "output_type": "display_data"
    }
   ],
   "source": [
    "i = 40\n",
    "density1 = calc_rho(file2.variables['vosaline'][i,:,yslice,68:137],\n",
    "                    file2.variables['votemper'][i,:,yslice,68:137],\n",
    "                    pressure1[:, 68:137])\n",
    "rho = 1023.3\n",
    "index1 = (np.abs(density1 - rho)).argmin(axis=0)\n",
    "list_of_depths1 = np.zeros((69))\n",
    "for x in range(69):\n",
    "    list_of_depths1[x] = deptht[index1[x]]\n",
    "popt, pcov = curve_fit(func, np.arange(0,69), list_of_depths1)\n",
    "plt.plot(np.arange(0,69), list_of_depths1, 'r.')\n",
    "plt.grid('on')\n",
    "plt.ylim(50,0)\n",
    "plt.plot(np.arange(0,69), func(np.arange(0,69), *popt), 'b-')\n",
    "print(list_of_depths1.max())\n",
    "print(list_of_depths1.min())\n",
    "print(popt[0])"
   ]
  },
  {
   "cell_type": "code",
   "execution_count": 60,
   "metadata": {
    "collapsed": true
   },
   "outputs": [],
   "source": [
    "file2 = nc.Dataset('/ocean/vdo/MEOPAR/completed-runs/SalishSeaLake/72UW0.1/SalishSea_1h_20170101_20170105_grid_T.nc')\n",
    "yslice = 200\n",
    "deptht = file2.variables['deptht'][:]\n",
    "yslicemask = 1 - lake_meshmask.variables['tmask'][0,:,yslice,:]\n",
    "pressure1 = gsw_calls.generic_gsw_caller('gsw_p_from_z.m',\n",
    "                                        [-np.expand_dims(file2.variables['deptht'][:], 1) * np.ones(284),\n",
    "                                         (np.ones([284,40]) *np.expand_dims(file2.variables['nav_lat'][yslice,:][:],1)).T])  "
   ]
  },
  {
   "cell_type": "code",
   "execution_count": 64,
   "metadata": {
    "collapsed": false
   },
   "outputs": [
    {
     "name": "stdout",
     "output_type": "stream",
     "text": [
      "28.2299156189\n",
      "7.50062322617\n",
      "0.198712917308\n"
     ]
    },
    {
     "data": {
      "image/png": "[encoded data removed]",
      "text/plain": [
       "<matplotlib.figure.Figure at 0x7f2962f28e80>"
      ]
     },
     "metadata": {},
     "output_type": "display_data"
    }
   ],
   "source": [
    "i = 34\n",
    "density1 = calc_rho(file2.variables['vosaline'][i,:,yslice,68:137],\n",
    "                    file2.variables['votemper'][i,:,yslice,68:137],\n",
    "                    pressure1[:, 68:137])\n",
    "rho = 1023.3\n",
    "index1 = (np.abs(density1 - rho)).argmin(axis=0)\n",
    "list_of_depths1 = np.zeros((69))\n",
    "for x in range(69):\n",
    "    list_of_depths1[x] = deptht[index1[x]]\n",
    "popt, pcov = curve_fit(func, np.arange(0,69), list_of_depths1)\n",
    "plt.plot(np.arange(0,69), list_of_depths1, 'r.')\n",
    "plt.grid('on')\n",
    "plt.ylim(50,0)\n",
    "plt.plot(np.arange(0,69), func(np.arange(0,69), *popt), 'b-')\n",
    "print(list_of_depths1.max())\n",
    "print(list_of_depths1.min())\n",
    "print(popt[0])"
   ]
  },
  {
   "cell_type": "code",
   "execution_count": 65,
   "metadata": {
    "collapsed": true
   },
   "outputs": [],
   "source": [
    "file2 = nc.Dataset('/ocean/vdo/MEOPAR/completed-runs/SalishSeaLake/24UW0.3/SalishSea_1h_20170101_20170105_grid_T.nc')\n",
    "yslice = 200\n",
    "deptht = file2.variables['deptht'][:]\n",
    "yslicemask = 1 - lake_meshmask.variables['tmask'][0,:,yslice,:]\n",
    "pressure1 = gsw_calls.generic_gsw_caller('gsw_p_from_z.m',\n",
    "                                        [-np.expand_dims(file2.variables['deptht'][:], 1) * np.ones(284),\n",
    "                                         (np.ones([284,40]) *np.expand_dims(file2.variables['nav_lat'][yslice,:][:],1)).T])  "
   ]
  },
  {
   "cell_type": "code",
   "execution_count": 70,
   "metadata": {
    "collapsed": false
   },
   "outputs": [
    {
     "name": "stdout",
     "output_type": "stream",
     "text": [
      "28.2299156189\n",
      "11.509311676\n",
      "0.213558681545\n"
     ]
    },
    {
     "data": {
      "image/png": "[encoded data removed]",
      "text/plain": [
       "<matplotlib.figure.Figure at 0x7f2964036630>"
      ]
     },
     "metadata": {},
     "output_type": "display_data"
    }
   ],
   "source": [
    "i = 26\n",
    "density1 = calc_rho(file2.variables['vosaline'][i,:,yslice,68:137],\n",
    "                    file2.variables['votemper'][i,:,yslice,68:137],\n",
    "                    pressure1[:, 68:137])\n",
    "rho = 1023.3\n",
    "index1 = (np.abs(density1 - rho)).argmin(axis=0)\n",
    "list_of_depths1 = np.zeros((69))\n",
    "for x in range(69):\n",
    "    list_of_depths1[x] = deptht[index1[x]]\n",
    "popt, pcov = curve_fit(func, np.arange(0,69), list_of_depths1)\n",
    "plt.plot(np.arange(0,69), list_of_depths1, 'r.')\n",
    "plt.grid('on')\n",
    "plt.ylim(50,0)\n",
    "plt.plot(np.arange(0,69), func(np.arange(0,69), *popt), 'b-')\n",
    "print(list_of_depths1.max())\n",
    "print(list_of_depths1.min())\n",
    "print(popt[0])"
   ]
  },
  {
   "cell_type": "code",
   "execution_count": 71,
   "metadata": {
    "collapsed": true
   },
   "outputs": [],
   "source": [
    "file2 = nc.Dataset('/ocean/vdo/MEOPAR/completed-runs/SalishSeaLake/48UW0.3/SalishSea_1h_20170101_20170105_grid_T.nc')\n",
    "yslice = 200\n",
    "deptht = file2.variables['deptht'][:]\n",
    "yslicemask = 1 - lake_meshmask.variables['tmask'][0,:,yslice,:]\n",
    "pressure1 = gsw_calls.generic_gsw_caller('gsw_p_from_z.m',\n",
    "                                        [-np.expand_dims(file2.variables['deptht'][:], 1) * np.ones(284),\n",
    "                                         (np.ones([284,40]) *np.expand_dims(file2.variables['nav_lat'][yslice,:][:],1)).T])  "
   ]
  },
  {
   "cell_type": "code",
   "execution_count": 77,
   "metadata": {
    "collapsed": false
   },
   "outputs": [
    {
     "name": "stdout",
     "output_type": "stream",
     "text": [
      "34.6857566833\n",
      "12.5181665421\n",
      "0.243318403763\n"
     ]
    },
    {
     "data": {
      "image/png": "[encoded data removed]",
      "text/plain": [
       "<matplotlib.figure.Figure at 0x7f2963366358>"
      ]
     },
     "metadata": {},
     "output_type": "display_data"
    }
   ],
   "source": [
    "i = 20\n",
    "density1 = calc_rho(file2.variables['vosaline'][i,:,yslice,68:137],\n",
    "                    file2.variables['votemper'][i,:,yslice,68:137],\n",
    "                    pressure1[:, 68:137])\n",
    "rho = 1023.3\n",
    "index1 = (np.abs(density1 - rho)).argmin(axis=0)\n",
    "list_of_depths1 = np.zeros((69))\n",
    "for x in range(69):\n",
    "    list_of_depths1[x] = deptht[index1[x]]\n",
    "popt, pcov = curve_fit(func, np.arange(0,69), list_of_depths1)\n",
    "plt.plot(np.arange(0,69), list_of_depths1, 'r.')\n",
    "plt.grid('on')\n",
    "plt.ylim(50,0)\n",
    "plt.plot(np.arange(0,69), func(np.arange(0,69), *popt), 'b-')\n",
    "print(list_of_depths1.max())\n",
    "print(list_of_depths1.min())\n",
    "print(popt[0])"
   ]
  },
  {
   "cell_type": "code",
   "execution_count": 78,
   "metadata": {
    "collapsed": true
   },
   "outputs": [],
   "source": [
    "file2 = nc.Dataset('/ocean/vdo/MEOPAR/completed-runs/SalishSeaLake/72UW0.3/SalishSea_1h_20170101_20170105_grid_T.nc')\n",
    "yslice = 200\n",
    "deptht = file2.variables['deptht'][:]\n",
    "yslicemask = 1 - lake_meshmask.variables['tmask'][0,:,yslice,:]\n",
    "pressure1 = gsw_calls.generic_gsw_caller('gsw_p_from_z.m',\n",
    "                                        [-np.expand_dims(file2.variables['deptht'][:], 1) * np.ones(284),\n",
    "                                         (np.ones([284,40]) *np.expand_dims(file2.variables['nav_lat'][yslice,:][:],1)).T])  "
   ]
  },
  {
   "cell_type": "code",
   "execution_count": 84,
   "metadata": {
    "collapsed": false
   },
   "outputs": [
    {
     "name": "stdout",
     "output_type": "stream",
     "text": [
      "34.6857566833\n",
      "10.5047655106\n",
      "0.289675441743\n"
     ]
    },
    {
     "data": {
      "image/png": "[encoded data removed]",
      "text/plain": [
       "<matplotlib.figure.Figure at 0x7f2962fc2518>"
      ]
     },
     "metadata": {},
     "output_type": "display_data"
    }
   ],
   "source": [
    "i = 15\n",
    "density1 = calc_rho(file2.variables['vosaline'][i,:,yslice,68:137],\n",
    "                    file2.variables['votemper'][i,:,yslice,68:137],\n",
    "                    pressure1[:, 68:137])\n",
    "rho = 1023.3\n",
    "index1 = (np.abs(density1 - rho)).argmin(axis=0)\n",
    "list_of_depths1 = np.zeros((69))\n",
    "for x in range(69):\n",
    "    list_of_depths1[x] = deptht[index1[x]]\n",
    "popt, pcov = curve_fit(func, np.arange(0,69), list_of_depths1)\n",
    "plt.plot(np.arange(0,69), list_of_depths1, 'r.')\n",
    "plt.grid('on')\n",
    "plt.ylim(50,0)\n",
    "plt.plot(np.arange(0,69), func(np.arange(0,69), *popt), 'b-')\n",
    "print(list_of_depths1.max())\n",
    "print(list_of_depths1.min())\n",
    "print(popt[0])"
   ]
  },
  {
   "cell_type": "code",
   "execution_count": 98,
   "metadata": {
    "collapsed": true
   },
   "outputs": [],
   "source": [
    "file2 = nc.Dataset('/ocean/vdo/MEOPAR/completed-runs/SalishSeaLake/24US/SalishSea_1h_20160601_20160605_grid_T.nc')\n",
    "yslice = 200\n",
    "deptht = file2.variables['deptht'][:]\n",
    "yslicemask = 1 - lake_meshmask.variables['tmask'][0,:,yslice,:]\n",
    "pressure1 = gsw_calls.generic_gsw_caller('gsw_p_from_z.m',\n",
    "                                        [-np.expand_dims(file2.variables['deptht'][:], 1) * np.ones(284),\n",
    "                                         (np.ones([284,40]) *np.expand_dims(file2.variables['nav_lat'][yslice,:][:],1)).T])  "
   ]
  },
  {
   "cell_type": "code",
   "execution_count": 105,
   "metadata": {
    "collapsed": false
   },
   "outputs": [
    {
     "name": "stdout",
     "output_type": "stream",
     "text": [
      "15.6342878342\n",
      "6.50031042099\n",
      "0.0967518569326\n"
     ]
    },
    {
     "data": {
      "image/png": "[encoded data removed]",
      "text/plain": [
       "<matplotlib.figure.Figure at 0x7f2963fb2668>"
      ]
     },
     "metadata": {},
     "output_type": "display_data"
    }
   ],
   "source": [
    "i = 25\n",
    "density1 = calc_rho(file2.variables['vosaline'][i,:,yslice,68:137],\n",
    "                    file2.variables['votemper'][i,:,yslice,68:137],\n",
    "                    pressure1[:, 68:137])\n",
    "rho = 1022\n",
    "index1 = (np.abs(density1 - rho)).argmin(axis=0)\n",
    "list_of_depths1 = np.zeros((69))\n",
    "for x in range(69):\n",
    "    list_of_depths1[x] = deptht[index1[x]]\n",
    "popt, pcov = curve_fit(func, np.arange(0,69), list_of_depths1)\n",
    "plt.plot(np.arange(0,69), list_of_depths1, 'r.')\n",
    "plt.grid('on')\n",
    "plt.ylim(50,0)\n",
    "plt.plot(np.arange(0,69), func(np.arange(0,69), *popt), 'b-')\n",
    "print(list_of_depths1.max())\n",
    "print(list_of_depths1.min())\n",
    "print(popt[0])"
   ]
  },
  {
   "cell_type": "code",
   "execution_count": 106,
   "metadata": {
    "collapsed": true
   },
   "outputs": [],
   "source": [
    "file2 = nc.Dataset('/ocean/vdo/MEOPAR/completed-runs/SalishSeaLake/48US/SalishSea_1h_20160601_20160605_grid_T.nc')\n",
    "yslice = 200\n",
    "deptht = file2.variables['deptht'][:]\n",
    "yslicemask = 1 - lake_meshmask.variables['tmask'][0,:,yslice,:]\n",
    "pressure1 = gsw_calls.generic_gsw_caller('gsw_p_from_z.m',\n",
    "                                        [-np.expand_dims(file2.variables['deptht'][:], 1) * np.ones(284),\n",
    "                                         (np.ones([284,40]) *np.expand_dims(file2.variables['nav_lat'][yslice,:][:],1)).T])  "
   ]
  },
  {
   "cell_type": "code",
   "execution_count": 110,
   "metadata": {
    "collapsed": false
   },
   "outputs": [
    {
     "name": "stdout",
     "output_type": "stream",
     "text": [
      "15.6342878342\n",
      "6.50031042099\n",
      "0.11439483872\n"
     ]
    },
    {
     "data": {
      "image/png": "[encoded data removed]",
      "text/plain": [
       "<matplotlib.figure.Figure at 0x7f29630d1d30>"
      ]
     },
     "metadata": {},
     "output_type": "display_data"
    }
   ],
   "source": [
    "i = 19\n",
    "density1 = calc_rho(file2.variables['vosaline'][i,:,yslice,68:137],\n",
    "                    file2.variables['votemper'][i,:,yslice,68:137],\n",
    "                    pressure1[:, 68:137])\n",
    "rho = 1022\n",
    "index1 = (np.abs(density1 - rho)).argmin(axis=0)\n",
    "list_of_depths1 = np.zeros((69))\n",
    "for x in range(69):\n",
    "    list_of_depths1[x] = deptht[index1[x]]\n",
    "popt, pcov = curve_fit(func, np.arange(0,69), list_of_depths1)\n",
    "plt.plot(np.arange(0,69), list_of_depths1, 'r.')\n",
    "plt.grid('on')\n",
    "plt.ylim(50,0)\n",
    "plt.plot(np.arange(0,69), func(np.arange(0,69), *popt), 'b-')\n",
    "print(list_of_depths1.max())\n",
    "print(list_of_depths1.min())\n",
    "print(popt[0])"
   ]
  },
  {
   "cell_type": "code",
   "execution_count": 158,
   "metadata": {
    "collapsed": true
   },
   "outputs": [],
   "source": [
    "file2 = nc.Dataset('/ocean/vdo/MEOPAR/completed-runs/SalishSeaLake/72US/SalishSea_1h_20160601_20160605_grid_T.nc')\n",
    "yslice = 200\n",
    "deptht = file2.variables['deptht'][:]\n",
    "yslicemask = 1 - lake_meshmask.variables['tmask'][0,:,yslice,:]\n",
    "pressure1 = gsw_calls.generic_gsw_caller('gsw_p_from_z.m',\n",
    "                                        [-np.expand_dims(file2.variables['deptht'][:], 1) * np.ones(284),\n",
    "                                         (np.ones([284,40]) *np.expand_dims(file2.variables['nav_lat'][yslice,:][:],1)).T])  "
   ]
  },
  {
   "cell_type": "code",
   "execution_count": 159,
   "metadata": {
    "collapsed": false
   },
   "outputs": [
    {
     "name": "stdout",
     "output_type": "stream",
     "text": [
      "14.5689821243\n",
      "4.5000705719\n",
      "0.0993047011578\n"
     ]
    },
    {
     "data": {
      "image/png": "[encoded data removed]",
      "text/plain": [
       "<matplotlib.figure.Figure at 0x7f296326b898>"
      ]
     },
     "metadata": {},
     "output_type": "display_data"
    }
   ],
   "source": [
    "i = 12\n",
    "density1 = calc_rho(file2.variables['vosaline'][i,:,yslice,68:137],\n",
    "                    file2.variables['votemper'][i,:,yslice,68:137],\n",
    "                    pressure1[:, 68:137])\n",
    "rho = 1022\n",
    "index1 = (np.abs(density1 - rho)).argmin(axis=0)\n",
    "list_of_depths1 = np.zeros((69))\n",
    "for x in range(69):\n",
    "    list_of_depths1[x] = deptht[index1[x]]\n",
    "popt, pcov = curve_fit(func, np.arange(0,69), list_of_depths1)\n",
    "plt.plot(np.arange(0,69), list_of_depths1, 'r.')\n",
    "plt.grid('on')\n",
    "plt.ylim(50,0)\n",
    "plt.plot(np.arange(0,69), func(np.arange(0,69), *popt), 'b-')\n",
    "print(list_of_depths1.max())\n",
    "print(list_of_depths1.min())\n",
    "print(popt[0])"
   ]
  },
  {
   "cell_type": "code",
   "execution_count": 120,
   "metadata": {
    "collapsed": true
   },
   "outputs": [],
   "source": [
    "file2 = nc.Dataset('/ocean/vdo/MEOPAR/completed-runs/SalishSeaLake/24US0.1/SalishSea_1h_20160601_20160605_grid_T.nc')\n",
    "yslice = 200\n",
    "deptht = file2.variables['deptht'][:]\n",
    "yslicemask = 1 - lake_meshmask.variables['tmask'][0,:,yslice,:]\n",
    "pressure1 = gsw_calls.generic_gsw_caller('gsw_p_from_z.m',\n",
    "                                        [-np.expand_dims(file2.variables['deptht'][:], 1) * np.ones(284),\n",
    "                                         (np.ones([284,40]) *np.expand_dims(file2.variables['nav_lat'][yslice,:][:],1)).T])  "
   ]
  },
  {
   "cell_type": "code",
   "execution_count": 128,
   "metadata": {
    "collapsed": false
   },
   "outputs": [
    {
     "name": "stdout",
     "output_type": "stream",
     "text": [
      "14.5689821243\n",
      "3.50003051758\n",
      "0.106664186399\n"
     ]
    },
    {
     "data": {
      "image/png": "[encoded data removed]",
      "text/plain": [
       "<matplotlib.figure.Figure at 0x7f296324c2b0>"
      ]
     },
     "metadata": {},
     "output_type": "display_data"
    }
   ],
   "source": [
    "i = 32\n",
    "density1 = calc_rho(file2.variables['vosaline'][i,:,yslice,68:137],\n",
    "                    file2.variables['votemper'][i,:,yslice,68:137],\n",
    "                    pressure1[:, 68:137])\n",
    "rho = 1022\n",
    "index1 = (np.abs(density1 - rho)).argmin(axis=0)\n",
    "list_of_depths1 = np.zeros((69))\n",
    "for x in range(69):\n",
    "    list_of_depths1[x] = deptht[index1[x]]\n",
    "popt, pcov = curve_fit(func, np.arange(0,69), list_of_depths1)\n",
    "plt.plot(np.arange(0,69), list_of_depths1, 'r.')\n",
    "plt.grid('on')\n",
    "plt.ylim(50,0)\n",
    "plt.plot(np.arange(0,69), func(np.arange(0,69), *popt), 'b-')\n",
    "print(list_of_depths1.max())\n",
    "print(list_of_depths1.min())\n",
    "print(popt[0])"
   ]
  },
  {
   "cell_type": "code",
   "execution_count": 160,
   "metadata": {
    "collapsed": true
   },
   "outputs": [],
   "source": [
    "file2 = nc.Dataset('/ocean/vdo/MEOPAR/completed-runs/SalishSeaLake/48US0.1/SalishSea_1h_20160601_20160605_grid_T.nc')\n",
    "yslice = 200\n",
    "deptht = file2.variables['deptht'][:]\n",
    "yslicemask = 1 - lake_meshmask.variables['tmask'][0,:,yslice,:]\n",
    "pressure1 = gsw_calls.generic_gsw_caller('gsw_p_from_z.m',\n",
    "                                        [-np.expand_dims(file2.variables['deptht'][:], 1) * np.ones(284),\n",
    "                                         (np.ones([284,40]) *np.expand_dims(file2.variables['nav_lat'][yslice,:][:],1)).T])  "
   ]
  },
  {
   "cell_type": "code",
   "execution_count": 161,
   "metadata": {
    "collapsed": false
   },
   "outputs": [
    {
     "name": "stdout",
     "output_type": "stream",
     "text": [
      "12.5181665421\n",
      "3.50003051758\n",
      "0.0733817162875\n"
     ]
    },
    {
     "data": {
      "image/png": "[encoded data removed]",
      "text/plain": [
       "<matplotlib.figure.Figure at 0x7f29636b6ef0>"
      ]
     },
     "metadata": {},
     "output_type": "display_data"
    }
   ],
   "source": [
    "i = 23\n",
    "density1 = calc_rho(file2.variables['vosaline'][i,:,yslice,68:137],\n",
    "                    file2.variables['votemper'][i,:,yslice,68:137],\n",
    "                    pressure1[:, 68:137])\n",
    "rho = 1022\n",
    "index1 = (np.abs(density1 - rho)).argmin(axis=0)\n",
    "list_of_depths1 = np.zeros((69))\n",
    "for x in range(69):\n",
    "    list_of_depths1[x] = deptht[index1[x]]\n",
    "popt, pcov = curve_fit(func, np.arange(0,69), list_of_depths1)\n",
    "plt.plot(np.arange(0,69), list_of_depths1, 'r.')\n",
    "plt.grid('on')\n",
    "plt.ylim(50,0)\n",
    "plt.plot(np.arange(0,69), func(np.arange(0,69), *popt), 'b-')\n",
    "print(list_of_depths1.max())\n",
    "print(list_of_depths1.min())\n",
    "print(popt[0])"
   ]
  },
  {
   "cell_type": "code",
   "execution_count": 135,
   "metadata": {
    "collapsed": true
   },
   "outputs": [],
   "source": [
    "file2 = nc.Dataset('/ocean/vdo/MEOPAR/completed-runs/SalishSeaLake/72US0.1/SalishSea_1h_20160601_20160605_grid_T.nc')\n",
    "yslice = 200\n",
    "deptht = file2.variables['deptht'][:]\n",
    "yslicemask = 1 - lake_meshmask.variables['tmask'][0,:,yslice,:]\n",
    "pressure1 = gsw_calls.generic_gsw_caller('gsw_p_from_z.m',\n",
    "                                        [-np.expand_dims(file2.variables['deptht'][:], 1) * np.ones(284),\n",
    "                                         (np.ones([284,40]) *np.expand_dims(file2.variables['nav_lat'][yslice,:][:],1)).T])  "
   ]
  },
  {
   "cell_type": "code",
   "execution_count": 138,
   "metadata": {
    "collapsed": false
   },
   "outputs": [
    {
     "name": "stdout",
     "output_type": "stream",
     "text": [
      "14.5689821243\n",
      "4.5000705719\n",
      "0.114811523367\n"
     ]
    },
    {
     "data": {
      "image/png": "[encoded data removed]",
      "text/plain": [
       "<matplotlib.figure.Figure at 0x7f296303af98>"
      ]
     },
     "metadata": {},
     "output_type": "display_data"
    }
   ],
   "source": [
    "i = 17\n",
    "density1 = calc_rho(file2.variables['vosaline'][i,:,yslice,68:137],\n",
    "                    file2.variables['votemper'][i,:,yslice,68:137],\n",
    "                    pressure1[:, 68:137])\n",
    "rho = 1022\n",
    "index1 = (np.abs(density1 - rho)).argmin(axis=0)\n",
    "list_of_depths1 = np.zeros((69))\n",
    "for x in range(69):\n",
    "    list_of_depths1[x] = deptht[index1[x]]\n",
    "popt, pcov = curve_fit(func, np.arange(0,69), list_of_depths1)\n",
    "plt.plot(np.arange(0,69), list_of_depths1, 'r.')\n",
    "plt.grid('on')\n",
    "plt.ylim(50,0)\n",
    "plt.plot(np.arange(0,69), func(np.arange(0,69), *popt), 'b-')\n",
    "print(list_of_depths1.max())\n",
    "print(list_of_depths1.min())\n",
    "print(popt[0])"
   ]
  },
  {
   "cell_type": "code",
   "execution_count": 139,
   "metadata": {
    "collapsed": true
   },
   "outputs": [],
   "source": [
    "file2 = nc.Dataset('/ocean/vdo/MEOPAR/completed-runs/SalishSeaLake/24US0.3/SalishSea_1h_20160601_20160605_grid_T.nc')\n",
    "yslice = 200\n",
    "deptht = file2.variables['deptht'][:]\n",
    "yslicemask = 1 - lake_meshmask.variables['tmask'][0,:,yslice,:]\n",
    "pressure1 = gsw_calls.generic_gsw_caller('gsw_p_from_z.m',\n",
    "                                        [-np.expand_dims(file2.variables['deptht'][:], 1) * np.ones(284),\n",
    "                                         (np.ones([284,40]) *np.expand_dims(file2.variables['nav_lat'][yslice,:][:],1)).T])  "
   ]
  },
  {
   "cell_type": "code",
   "execution_count": 145,
   "metadata": {
    "collapsed": false
   },
   "outputs": [
    {
     "name": "stdout",
     "output_type": "stream",
     "text": [
      "15.6342878342\n",
      "6.50031042099\n",
      "0.0858465881976\n"
     ]
    },
    {
     "data": {
      "image/png": "[encoded data removed]",
      "text/plain": [
       "<matplotlib.figure.Figure at 0x7f29646c6da0>"
      ]
     },
     "metadata": {},
     "output_type": "display_data"
    }
   ],
   "source": [
    "i = 23\n",
    "density1 = calc_rho(file2.variables['vosaline'][i,:,yslice,68:137],\n",
    "                    file2.variables['votemper'][i,:,yslice,68:137],\n",
    "                    pressure1[:, 68:137])\n",
    "rho = 1022\n",
    "index1 = (np.abs(density1 - rho)).argmin(axis=0)\n",
    "list_of_depths1 = np.zeros((69))\n",
    "for x in range(69):\n",
    "    list_of_depths1[x] = deptht[index1[x]]\n",
    "popt, pcov = curve_fit(func, np.arange(0,69), list_of_depths1)\n",
    "plt.plot(np.arange(0,69), list_of_depths1, 'r.')\n",
    "plt.grid('on')\n",
    "plt.ylim(50,0)\n",
    "plt.plot(np.arange(0,69), func(np.arange(0,69), *popt), 'b-')\n",
    "print(list_of_depths1.max())\n",
    "print(list_of_depths1.min())\n",
    "print(popt[0])"
   ]
  },
  {
   "cell_type": "code",
   "execution_count": 146,
   "metadata": {
    "collapsed": true
   },
   "outputs": [],
   "source": [
    "file2 = nc.Dataset('/ocean/vdo/MEOPAR/completed-runs/SalishSeaLake/48US0.3/SalishSea_1h_20160601_20160605_grid_T.nc')\n",
    "yslice = 200\n",
    "deptht = file2.variables['deptht'][:]\n",
    "yslicemask = 1 - lake_meshmask.variables['tmask'][0,:,yslice,:]\n",
    "pressure1 = gsw_calls.generic_gsw_caller('gsw_p_from_z.m',\n",
    "                                        [-np.expand_dims(file2.variables['deptht'][:], 1) * np.ones(284),\n",
    "                                         (np.ones([284,40]) *np.expand_dims(file2.variables['nav_lat'][yslice,:][:],1)).T])  "
   ]
  },
  {
   "cell_type": "code",
   "execution_count": 151,
   "metadata": {
    "collapsed": false
   },
   "outputs": [
    {
     "name": "stdout",
     "output_type": "stream",
     "text": [
      "18.0071353912\n",
      "7.50062322617\n",
      "0.112669013666\n"
     ]
    },
    {
     "data": {
      "image/png": "[encoded data removed]",
      "text/plain": [
       "<matplotlib.figure.Figure at 0x7f2964033b70>"
      ]
     },
     "metadata": {},
     "output_type": "display_data"
    }
   ],
   "source": [
    "i = 17\n",
    "density1 = calc_rho(file2.variables['vosaline'][i,:,yslice,68:137],\n",
    "                    file2.variables['votemper'][i,:,yslice,68:137],\n",
    "                    pressure1[:, 68:137])\n",
    "rho = 1022\n",
    "index1 = (np.abs(density1 - rho)).argmin(axis=0)\n",
    "list_of_depths1 = np.zeros((69))\n",
    "for x in range(69):\n",
    "    list_of_depths1[x] = deptht[index1[x]]\n",
    "popt, pcov = curve_fit(func, np.arange(0,69), list_of_depths1)\n",
    "plt.plot(np.arange(0,69), list_of_depths1, 'r.')\n",
    "plt.grid('on')\n",
    "plt.ylim(50,0)\n",
    "plt.plot(np.arange(0,69), func(np.arange(0,69), *popt), 'b-')\n",
    "print(list_of_depths1.max())\n",
    "print(list_of_depths1.min())\n",
    "print(popt[0])"
   ]
  },
  {
   "cell_type": "code",
   "execution_count": 152,
   "metadata": {
    "collapsed": true
   },
   "outputs": [],
   "source": [
    "file2 = nc.Dataset('/ocean/vdo/MEOPAR/completed-runs/SalishSeaLake/72US0.3/SalishSea_1h_20160601_20160605_grid_T.nc')\n",
    "yslice = 200\n",
    "deptht = file2.variables['deptht'][:]\n",
    "yslicemask = 1 - lake_meshmask.variables['tmask'][0,:,yslice,:]\n",
    "pressure1 = gsw_calls.generic_gsw_caller('gsw_p_from_z.m',\n",
    "                                        [-np.expand_dims(file2.variables['deptht'][:], 1) * np.ones(284),\n",
    "                                         (np.ones([284,40]) *np.expand_dims(file2.variables['nav_lat'][yslice,:][:],1)).T])  "
   ]
  },
  {
   "cell_type": "code",
   "execution_count": 157,
   "metadata": {
    "collapsed": false
   },
   "outputs": [
    {
     "name": "stdout",
     "output_type": "stream",
     "text": [
      "19.4817848206\n",
      "7.50062322617\n",
      "0.121091605361\n"
     ]
    },
    {
     "data": {
      "image/png": "[encoded data removed]",
      "text/plain": [
       "<matplotlib.figure.Figure at 0x7f2963373d30>"
      ]
     },
     "metadata": {},
     "output_type": "display_data"
    }
   ],
   "source": [
    "i = 11\n",
    "density1 = calc_rho(file2.variables['vosaline'][i,:,yslice,68:137],\n",
    "                    file2.variables['votemper'][i,:,yslice,68:137],\n",
    "                    pressure1[:, 68:137])\n",
    "rho = 1022\n",
    "index1 = (np.abs(density1 - rho)).argmin(axis=0)\n",
    "list_of_depths1 = np.zeros((69))\n",
    "for x in range(69):\n",
    "    list_of_depths1[x] = deptht[index1[x]]\n",
    "popt, pcov = curve_fit(func, np.arange(0,69), list_of_depths1)\n",
    "plt.plot(np.arange(0,69), list_of_depths1, 'r.')\n",
    "plt.grid('on')\n",
    "plt.ylim(50,0)\n",
    "plt.plot(np.arange(0,69), func(np.arange(0,69), *popt), 'b-')\n",
    "print(list_of_depths1.max())\n",
    "print(list_of_depths1.min())\n",
    "print(popt[0])"
   ]
  },
  {
   "cell_type": "code",
   "execution_count": 217,
   "metadata": {
    "collapsed": false
   },
   "outputs": [
    {
     "data": {
      "text/plain": [
       "<matplotlib.text.Text at 0x7f29601d1da0>"
      ]
     },
     "execution_count": 217,
     "metadata": {},
     "output_type": "execute_result"
    },
    {
     "data": {
      "image/png": "[encoded data removed]",
      "text/plain": [
       "<matplotlib.figure.Figure at 0x7f296026ab38>"
      ]
     },
     "metadata": {},
     "output_type": "display_data"
    }
   ],
   "source": [
    "fig, ax = plt.subplots(figsize = (8,8))\n",
    "ax.set_ylabel('Displacement (m)')\n",
    "ax.set_xlabel('vtau')\n",
    "ax.grid('on')\n",
    "ax.plot(0.2,4.129659653,'o', color='purple', markersize = 25 )\n",
    "ax.plot(0.2,4.129659653,'o', color='green', markersize = 19)\n",
    "ax.plot(0.2,4.129659653,'o', color='blue', markersize = 15)\n",
    "ax.plot(0.1,4.129659653,'o', color='purple', markersize = 25)\n",
    "ax.plot(0.1,4.129659653,'o', color='green', markersize = 19)\n",
    "ax.plot(0.1,4.129659653,'o', color='blue', markersize = 14)\n",
    "ax.plot(0.3,4.129659653,'o', color='purple', markersize = 15)\n",
    "ax.plot(0.3,10.58550072,'o', color='green', markersize = 15)\n",
    "ax.plot(0.3,10.58550072,'o', color='blue', label = '40 seconds, winter')\n",
    "ax.plot(0.2,5.129522324,'o', color='orange', markersize = 15 )\n",
    "ax.plot(0.2,5.129522324,'o', color='yellow')\n",
    "ax.plot(0.2,4.129659653,'o', color='red', label = '40 seconds, summer')\n",
    "ax.plot(0.1,4.129659653,'o', color='yellow', label = '24 hours, summer')\n",
    "ax.plot(0.1,2.013401032,'o', color='orange', label = '12 hours, summer')\n",
    "ax.plot(0.1,4.129659653,'.', color='red')\n",
    "ax.plot(0.3,5.129522324,'o', color='yellow')\n",
    "ax.plot(0.3,7.502369881,'o', color='orange')\n",
    "ax.plot(0.3,8.97701931,'o', color='red')\n",
    "ax.plot(0.2,12.59094429,'*', color='purple', markersize = 15)\n",
    "ax.plot(0.2,13.59549046,'*', color='green')\n",
    "ax.plot(0.2,12.59094429,'*', color='blue')\n",
    "ax.plot(0.1,16.59963274,'*', color='purple', markersize = 15)\n",
    "ax.plot(0.1,17.59994555,'*', color='green')\n",
    "ax.plot(0.1,16.59963274,'*', color='blue')\n",
    "ax.plot(0.3,12.59094429,'*', color='purple', label = '24 hours, winter')\n",
    "ax.plot(0.3,11.58208942,'*', color='green', label = '12 hours, winter')\n",
    "ax.plot(0.3,13.59549046,'*', color='blue')\n",
    "ax.plot(0.2,4.129659653,'*', color='yellow')\n",
    "ax.plot(0.2,4.00445509,'*', color='orange')\n",
    "ax.plot(0.2,6.004694939,'*', color='red')\n",
    "ax.plot(0.1,7.004734993,'*', color='orange', markersize = 15)\n",
    "ax.plot(0.1,7.004734993,'*', color='yellow')\n",
    "ax.plot(0.1,6.004694939,'*', color='red')\n",
    "ax.plot(0.3,4.00445509,'*', color='yellow')\n",
    "ax.plot(0.3,3.004142284,'*', color='red', markersize=15)\n",
    "ax.plot(0.3,3.004142284,'*', color='orange')\n",
    "plt.legend(bbox_to_anchor=(1.05, 1), loc=2, borderaxespad=0.)\n",
    "plt.title('Vtau vs Displacement')"
   ]
  },
  {
   "cell_type": "markdown",
   "metadata": {},
   "source": [
    "A plot of vtau vs displacement. The colours indicate the type of wind event (specifically the ramp up time), stars = max upward displacement, circles = max downward displacement, warm colours indicate summer stratification, cool colours show winter stratification."
   ]
  },
  {
   "cell_type": "markdown",
   "metadata": {},
   "source": [
    "Notes:\n",
    "* tracking 1023.3. in winter and 1022 in summer\n",
    "* upward displacement is generally more than downward (maybe because of chosen density to track?)"
   ]
  },
  {
   "cell_type": "code",
   "execution_count": 223,
   "metadata": {
    "collapsed": false
   },
   "outputs": [
    {
     "data": {
      "text/plain": [
       "<matplotlib.text.Text at 0x7f295fb722b0>"
      ]
     },
     "execution_count": 223,
     "metadata": {},
     "output_type": "execute_result"
    },
    {
     "data": {
      "image/png": "[encoded data removed]",
      "text/plain": [
       "<matplotlib.figure.Figure at 0x7f295fb9dc18>"
      ]
     },
     "metadata": {},
     "output_type": "display_data"
    }
   ],
   "source": [
    "fig, ax = plt.subplots(figsize = (8,8))\n",
    "ax.set_ylabel('Time of Upwelling (h)')\n",
    "ax.set_xlabel('vtau')\n",
    "ax.grid('on')\n",
    "ax.plot(0.2,31,'o', color='purple' )\n",
    "ax.plot(0.2,25,'o', color='green')\n",
    "ax.plot(0.2,18,'o', color='blue')\n",
    "ax.plot(0.1,48,'o', color='purple')\n",
    "ax.plot(0.1,41,'o', color='green')\n",
    "ax.plot(0.1,35,'o', color='blue')\n",
    "ax.plot(0.3,27,'o', color='purple', label = '24 hours, winter')\n",
    "ax.plot(0.3,21,'o', color='green', label = '12 hours, winter')\n",
    "ax.plot(0.3,16,'o', color='blue', label = '40 seconds, winter')\n",
    "ax.plot(0.2,26,'o', color='yellow' )\n",
    "ax.plot(0.2,20,'o', color='orange')\n",
    "ax.plot(0.2,13,'o', color='red')\n",
    "ax.plot(0.1,33,'o', color='yellow', label = '24 hours, summer')\n",
    "ax.plot(0.1,24,'o', color='orange', label = '12 hours, summer')\n",
    "ax.plot(0.1,18,'o', color='red', label = '40 seconds, summer')\n",
    "ax.plot(0.3,24,'o', color='yellow')\n",
    "ax.plot(0.3,18,'o', color='orange')\n",
    "ax.plot(0.3,12,'o', color='red')\n",
    "plt.legend(bbox_to_anchor=(1.05, 1), loc=2, borderaxespad=0.)\n",
    "plt.title('Vtau vs Time of Upwelling')"
   ]
  },
  {
   "cell_type": "markdown",
   "metadata": {},
   "source": [
    "* 24 hours ramp up has longest time for each season\n",
    "* 40 seconds has shortest\n",
    "* could fit quadratic curve? not enough points...\n",
    "* spacing between constant vtau seems pretty linear if we seperate by season "
   ]
  },
  {
   "cell_type": "code",
   "execution_count": 235,
   "metadata": {
    "collapsed": false
   },
   "outputs": [
    {
     "data": {
      "text/plain": [
       "<matplotlib.text.Text at 0x7f295f625828>"
      ]
     },
     "execution_count": 235,
     "metadata": {},
     "output_type": "execute_result"
    },
    {
     "data": {
      "image/png": "[encoded data removed]",
      "text/plain": [
       "<matplotlib.figure.Figure at 0x7f295f750358>"
      ]
     },
     "metadata": {},
     "output_type": "display_data"
    }
   ],
   "source": [
    "fig, ax = plt.subplots(figsize = (8,8))\n",
    "ax.set_ylabel('Time of Upwelling (h)')\n",
    "ax.set_xlabel('ramp up time (h)')\n",
    "ax.grid('on')\n",
    "ax.plot(24,31,'o', color='purple', label = 'vtau = 0.2, winter' )\n",
    "ax.plot(12,25,'o', color='purple')\n",
    "ax.plot(40/3600,18,'o', color='purple', markersize = 18)\n",
    "ax.plot(24,48,'o', color='green', label = 'vtau = 0.1, winter')\n",
    "ax.plot(12,41,'o', color='green')\n",
    "ax.plot(4/360,35,'o', color='green')\n",
    "ax.plot(24,27,'o', color='blue')\n",
    "ax.plot(12,21,'o', color='blue')\n",
    "ax.plot(4/360,16,'o', color='blue', label = 'vtau = 0.3, winter')\n",
    "ax.plot(24,26,'o', color='yellow' , label = 'vtau = 0.2, summer')\n",
    "ax.plot(12,20,'o', color='yellow')\n",
    "ax.plot(4/360,13,'o', color='yellow')\n",
    "ax.plot(24,33,'o', color='orange')\n",
    "ax.plot(12,24,'o', color='orange')\n",
    "ax.plot(4/360,18,'o', color='orange', label = 'vtau = 0.1, summer')\n",
    "ax.plot(24,24,'o', color='red', label = 'vtau = 0.3, summer')\n",
    "ax.plot(12,18,'o', color='red')\n",
    "ax.plot(4/360,12,'o', color='red')\n",
    "plt.legend(bbox_to_anchor=(1.05, 1), loc=2, borderaxespad=0.)\n",
    "plt.title('ramp up time vs Time of Upwelling')"
   ]
  },
  {
   "cell_type": "markdown",
   "metadata": {},
   "source": [
    "* So. Linear."
   ]
  },
  {
   "cell_type": "code",
   "execution_count": 276,
   "metadata": {
    "collapsed": true
   },
   "outputs": [],
   "source": [
    "from salishsea_tools import grid_tools"
   ]
  },
  {
   "cell_type": "code",
   "execution_count": 257,
   "metadata": {
    "collapsed": false
   },
   "outputs": [],
   "source": [
    "e3t_0 = lake_meshmask.variables['e3t_0']"
   ]
  },
  {
   "cell_type": "code",
   "execution_count": 395,
   "metadata": {
    "collapsed": false
   },
   "outputs": [
    {
     "name": "stdout",
     "output_type": "stream",
     "text": [
      "222893.004147\n"
     ]
    }
   ],
   "source": [
    "U24W = nc.Dataset('/ocean/vdo/MEOPAR/completed-runs/SalishSeaLake/72UW0.3/SalishSea_1h_20170101_20170105_grid_T.nc')\n",
    "t=53\n",
    "ssh = U24W.variables['sossheig']\n",
    "input_vars = {'e3t_0': e3t_0,}\n",
    "newgrid = grid_tools.calculate_time_dependent_grid(e3t_0[0,...], \n",
    "                                                   lake_meshmask.variables['tmask'][0,...],\n",
    "         ssh, input_vars)\n",
    "den1 = calc_rho(U24W.variables['vosaline'][t,:,200,68], \n",
    "                U24W.variables['votemper'][t,:,200,68],\n",
    "                U24W.variables['deptht'][:])\n",
    "A = (newgrid['e3t_t'][t,:,200,68] * den1 * 9.8).sum()\n",
    "den1 = calc_rho(U24W.variables['vosaline'][t,:,200,136], \n",
    "                U24W.variables['votemper'][t,:,200,136],\n",
    "                U24W.variables['deptht'][:])\n",
    "print(A - (newgrid['e3t_t'][t,:,200,136] * den1 * 9.8).sum())"
   ]
  },
  {
   "cell_type": "code",
   "execution_count": 396,
   "metadata": {
    "collapsed": true
   },
   "outputs": [],
   "source": [
    "a = np.array([225522.0146,\n",
    "225500.8622,\n",
    "225689.2462,\n",
    "225743.8751,\n",
    "225741.8879,\n",
    "225715.2862,\n",
    "225372.2134,\n",
    "225338.683,\n",
    "225269.177,\n",
    "224942.7154,\n",
    "224821.6334,\n",
    "224972.7665,\n",
    "225429.1101,\n",
    "225258.0937,\n",
    "224736.07,\n",
    "224704.8263,\n",
    "224469.4481,\n",
    "224806.5727])"
   ]
  },
  {
   "cell_type": "code",
   "execution_count": 397,
   "metadata": {
    "collapsed": false
   },
   "outputs": [
    {
     "data": {
      "text/plain": [
       "<matplotlib.text.Text at 0x7f295e0abf28>"
      ]
     },
     "execution_count": 397,
     "metadata": {},
     "output_type": "execute_result"
    },
    {
     "data": {
      "image/png": "[encoded data removed]",
      "text/plain": [
       "<matplotlib.figure.Figure at 0x7f295e3834e0>"
      ]
     },
     "metadata": {},
     "output_type": "display_data"
    }
   ],
   "source": [
    "fig, ax = plt.subplots(figsize = (8,8))\n",
    "ax.set_ylabel('delta PE')\n",
    "ax.set_xlabel('vtau')\n",
    "ax.grid('on')\n",
    "ax.plot(0.2,a[0],'o', color='purple' )\n",
    "ax.plot(0.2,a[1],'o', color='green')\n",
    "ax.plot(0.2,a[2],'o', color='blue')\n",
    "ax.plot(0.1,a[3],'o', color='purple')\n",
    "ax.plot(0.1,a[4],'o', color='green')\n",
    "ax.plot(0.1,a[5],'o', color='blue')\n",
    "ax.plot(0.3,a[6],'o', color='purple', label = '24 hours, winter')\n",
    "ax.plot(0.3,a[7],'o', color='green', label = '12 hours, winter')\n",
    "ax.plot(0.3,a[8],'o', color='blue', label = '40 seconds, winter')\n",
    "ax.plot(0.2,a[9],'o', color='yellow' )\n",
    "ax.plot(0.2,a[10],'o', color='orange')\n",
    "ax.plot(0.2,a[11],'o', color='red')\n",
    "ax.plot(0.1,a[12],'o', color='yellow', label = '24 hours, summer')\n",
    "ax.plot(0.1,a[13],'o', color='orange', label = '12 hours, summer')\n",
    "ax.plot(0.1,a[14],'o', color='red', label = '40 seconds, summer')\n",
    "ax.plot(0.3,a[15],'o', color='yellow')\n",
    "ax.plot(0.3,a[16],'o', color='orange')\n",
    "ax.plot(0.3,a[17],'o', color='red')\n",
    "plt.legend(bbox_to_anchor=(1.05, 1), loc=2, borderaxespad=0.)\n",
    "plt.title('Vtau vs delta PE at time = set up - 1')"
   ]
  },
  {
   "cell_type": "code",
   "execution_count": 398,
   "metadata": {
    "collapsed": false
   },
   "outputs": [
    {
     "data": {
      "text/plain": [
       "<matplotlib.text.Text at 0x7f295dfa5e10>"
      ]
     },
     "execution_count": 398,
     "metadata": {},
     "output_type": "execute_result"
    },
    {
     "data": {
      "image/png": "[encoded data removed]",
      "text/plain": [
       "<matplotlib.figure.Figure at 0x7f295e0270f0>"
      ]
     },
     "metadata": {},
     "output_type": "display_data"
    }
   ],
   "source": [
    "b=([224299.227,\n",
    "224028.1897,\n",
    "223853.4521,\n",
    "225743.8751,\n",
    "225520.7612,\n",
    "225348.8909,\n",
    "223215.3118,\n",
    "222990.9758,\n",
    "222916.4572,\n",
    "222517.5889,\n",
    "222264.2071,\n",
    "222108.014,\n",
    "223974.5521,\n",
    "223787.6499,\n",
    "223643.1389,\n",
    "221289.3857,\n",
    "220982.896,\n",
    "220863.7496])\n",
    "\n",
    "fig, ax = plt.subplots(figsize = (8,8))\n",
    "ax.set_ylabel('delta PE')\n",
    "ax.set_xlabel('vtau')\n",
    "ax.grid('on')\n",
    "ax.plot(0.2,b[0],'o', color='purple' )\n",
    "ax.plot(0.2,b[1],'o', color='green')\n",
    "ax.plot(0.2,b[2],'o', color='blue')\n",
    "ax.plot(0.1,b[3],'o', color='purple')\n",
    "ax.plot(0.1,b[4],'o', color='green')\n",
    "ax.plot(0.1,b[5],'o', color='blue')\n",
    "ax.plot(0.3,b[6],'o', color='purple', label = '24 hours, winter')\n",
    "ax.plot(0.3,b[7],'o', color='green', label = '12 hours, winter')\n",
    "ax.plot(0.3,b[8],'o', color='blue', label = '40 seconds, winter')\n",
    "ax.plot(0.2,b[9],'o', color='yellow' )\n",
    "ax.plot(0.2,b[10],'o', color='orange')\n",
    "ax.plot(0.2,b[11],'o', color='red')\n",
    "ax.plot(0.1,b[12],'o', color='yellow', label = '24 hours, summer')\n",
    "ax.plot(0.1,b[13],'o', color='orange', label = '12 hours, summer')\n",
    "ax.plot(0.1,b[14],'o', color='red', label = '40 seconds, summer')\n",
    "ax.plot(0.3,b[15],'o', color='yellow')\n",
    "ax.plot(0.3,b[16],'o', color='orange')\n",
    "ax.plot(0.3,b[17],'o', color='red')\n",
    "plt.legend(bbox_to_anchor=(1.05, 1), loc=2, borderaxespad=0.)\n",
    "plt.title('Vtau vs delta PE at time = 47')"
   ]
  },
  {
   "cell_type": "code",
   "execution_count": 399,
   "metadata": {
    "collapsed": false
   },
   "outputs": [
    {
     "data": {
      "text/plain": [
       "<matplotlib.text.Text at 0x7f295deceef0>"
      ]
     },
     "execution_count": 399,
     "metadata": {},
     "output_type": "execute_result"
    },
    {
     "data": {
      "image/png": "[encoded data removed]",
      "text/plain": [
       "<matplotlib.figure.Figure at 0x7f295def0630>"
      ]
     },
     "metadata": {},
     "output_type": "display_data"
    }
   ],
   "source": [
    "c = np.array([224068.1142,\n",
    "223902.8055,\n",
    "223792.8788,\n",
    "225468.7472,\n",
    "225315.2021,\n",
    "225170.8361,\n",
    "223058.5226,\n",
    "222962.1262,\n",
    "222893.0041,\n",
    "222313.7705,\n",
    "222109.604,\n",
    "221866.0211,\n",
    "223708.1778,\n",
    "223551.8488,\n",
    "223384.2918,\n",
    "221115.8315,\n",
    "220908.8443,\n",
    "220718.9864])\n",
    "fig, ax = plt.subplots(figsize = (8,8))\n",
    "ax.set_ylabel('delta PE')\n",
    "ax.set_xlabel('vtau')\n",
    "ax.grid('on')\n",
    "ax.plot(0.2,c[0],'o', color='purple' )\n",
    "ax.plot(0.2,c[1],'o', color='green')\n",
    "ax.plot(0.2,c[2],'o', color='blue')\n",
    "ax.plot(0.1,c[3],'o', color='purple')\n",
    "ax.plot(0.1,c[4],'o', color='green')\n",
    "ax.plot(0.1,c[5],'o', color='blue')\n",
    "ax.plot(0.3,c[6],'o', color='purple', label = '24 hours, winter')\n",
    "ax.plot(0.3,c[7],'o', color='green', label = '12 hours, winter')\n",
    "ax.plot(0.3,c[8],'o', color='blue', label = '40 seconds, winter')\n",
    "ax.plot(0.2,c[9],'o', color='yellow' )\n",
    "ax.plot(0.2,c[10],'o', color='orange')\n",
    "ax.plot(0.2,c[11],'o', color='red')\n",
    "ax.plot(0.1,c[12],'o', color='yellow', label = '24 hours, summer')\n",
    "ax.plot(0.1,c[13],'o', color='orange', label = '12 hours, summer')\n",
    "ax.plot(0.1,c[14],'o', color='red', label = '40 seconds, summer')\n",
    "ax.plot(0.3,c[15],'o', color='yellow')\n",
    "ax.plot(0.3,c[16],'o', color='orange')\n",
    "ax.plot(0.3,c[17],'o', color='red')\n",
    "plt.legend(bbox_to_anchor=(1.05, 1), loc=2, borderaxespad=0.)\n",
    "plt.title('Vtau vs delta PE at time = 53')"
   ]
  },
  {
   "cell_type": "code",
   "execution_count": null,
   "metadata": {
    "collapsed": true
   },
   "outputs": [],
   "source": []
  },
  {
   "cell_type": "code",
   "execution_count": 337,
   "metadata": {
    "collapsed": false
   },
   "outputs": [
    {
     "data": {
      "text/plain": [
       "<matplotlib.text.Text at 0x7f295e1df048>"
      ]
     },
     "execution_count": 337,
     "metadata": {},
     "output_type": "execute_result"
    },
    {
     "data": {
      "image/png": "[encoded data removed]",
      "text/plain": [
       "<matplotlib.figure.Figure at 0x7f295e378c18>"
      ]
     },
     "metadata": {},
     "output_type": "display_data"
    }
   ],
   "source": [
    "fig, ax = plt.subplots(figsize = (8,8))\n",
    "ax.set_ylabel('delta PE')\n",
    "ax.set_xlabel('vtau')\n",
    "ax.grid('on')\n",
    "ax.plot(0.2,225522.0146,'o', color='purple' )\n",
    "ax.plot(0.2,224845.4879,'o', color='green')\n",
    "ax.plot(0.2,224359.3601,'o', color='blue')\n",
    "ax.plot(0.1,226577.6333,'o', color='purple')\n",
    "ax.plot(0.1,226122.6376,'o', color='green')\n",
    "ax.plot(0.1,225803.4395,'o', color='blue')\n",
    "ax.plot(0.3,224637.2859,'o', color='purple', label = '24 hours, winter')\n",
    "ax.plot(0.3,223840.4802,'o', color='green', label = '12 hours, winter')\n",
    "ax.plot(0.3,223317.1638,'o', color='blue', label = '40 seconds, winter')\n",
    "ax.plot(0.2,224202.8902,'o', color='yellow' )\n",
    "ax.plot(0.2,223192.9619,'o', color='orange')\n",
    "ax.plot(0.2,222580.9966,'o', color='red')\n",
    "ax.plot(0.1,225925.6627,'o', color='yellow', label = '24 hours, summer')\n",
    "ax.plot(0.1,225000.7925,'o', color='orange', label = '12 hours, summer')\n",
    "ax.plot(0.1,224393.5779,'o', color='red', label = '40 seconds, summer')\n",
    "ax.plot(0.3,222960.0706,'o', color='yellow')\n",
    "ax.plot(0.3,221791.5272,'o', color='orange')\n",
    "ax.plot(0.3,221221.6667,'o', color='red')\n",
    "plt.legend(bbox_to_anchor=(1.05, 1), loc=2, borderaxespad=0.)\n",
    "plt.title('Vtau vs delta PE at time = 30h')"
   ]
  },
  {
   "cell_type": "code",
   "execution_count": 400,
   "metadata": {
    "collapsed": true
   },
   "outputs": [],
   "source": [
    "U24W = nc.Dataset('/ocean/vdo/MEOPAR/completed-runs/SalishSeaLake/24UW/SalishSea_1h_20170101_20170105_grid_T.nc')\n",
    "U48W = nc.Dataset('/ocean/vdo/MEOPAR/completed-runs/SalishSeaLake/48UW/SalishSea_1h_20170101_20170105_grid_T.nc')\n",
    "U72W = nc.Dataset('/ocean/vdo/MEOPAR/completed-runs/SalishSeaLake/72UW/SalishSea_1h_20170101_20170105_grid_T.nc')\n",
    "U24W1 = nc.Dataset('/ocean/vdo/MEOPAR/completed-runs/SalishSeaLake/24UW0.1/SalishSea_1h_20170101_20170105_grid_T.nc')\n",
    "U48W1 = nc.Dataset('/ocean/vdo/MEOPAR/completed-runs/SalishSeaLake/48UW0.1/SalishSea_1h_20170101_20170105_grid_T.nc')\n",
    "U72W1 = nc.Dataset('/ocean/vdo/MEOPAR/completed-runs/SalishSeaLake/72UW0.1/SalishSea_1h_20170101_20170105_grid_T.nc')\n",
    "U24W3 = nc.Dataset('/ocean/vdo/MEOPAR/completed-runs/SalishSeaLake/24UW0.3/SalishSea_1h_20170101_20170105_grid_T.nc')\n",
    "U48W3 = nc.Dataset('/ocean/vdo/MEOPAR/completed-runs/SalishSeaLake/48UW0.3/SalishSea_1h_20170101_20170105_grid_T.nc')\n",
    "U72W3 = nc.Dataset('/ocean/vdo/MEOPAR/completed-runs/SalishSeaLake/72UW0.3/SalishSea_1h_20170101_20170105_grid_T.nc')\n",
    "U24S = nc.Dataset('/ocean/vdo/MEOPAR/completed-runs/SalishSeaLake/24US/SalishSea_1h_20160601_20160605_grid_T.nc')\n",
    "U48S = nc.Dataset('/ocean/vdo/MEOPAR/completed-runs/SalishSeaLake/48US/SalishSea_1h_20160601_20160605_grid_T.nc')\n",
    "U72S = nc.Dataset('/ocean/vdo/MEOPAR/completed-runs/SalishSeaLake/72US/SalishSea_1h_20160601_20160605_grid_T.nc')\n",
    "U24S1 = nc.Dataset('/ocean/vdo/MEOPAR/completed-runs/SalishSeaLake/24US0.1/SalishSea_1h_20160601_20160605_grid_T.nc')\n",
    "U48S1 = nc.Dataset('/ocean/vdo/MEOPAR/completed-runs/SalishSeaLake/48US0.1/SalishSea_1h_20160601_20160605_grid_T.nc')\n",
    "U72S1 = nc.Dataset('/ocean/vdo/MEOPAR/completed-runs/SalishSeaLake/72US0.1/SalishSea_1h_20160601_20160605_grid_T.nc')\n",
    "U24S3 = nc.Dataset('/ocean/vdo/MEOPAR/completed-runs/SalishSeaLake/24US0.3/SalishSea_1h_20160601_20160605_grid_T.nc')\n",
    "U48S3 = nc.Dataset('/ocean/vdo/MEOPAR/completed-runs/SalishSeaLake/48US0.3/SalishSea_1h_20160601_20160605_grid_T.nc')\n",
    "U72S3 = nc.Dataset('/ocean/vdo/MEOPAR/completed-runs/SalishSeaLake/72US0.3/SalishSea_1h_20160601_20160605_grid_T.nc')\n",
    "runs = [U24W,U48W,U72W, U24W1, U48W1, U72W1, U24W3, U48W3, U72W3,\n",
    "       U24S, U48S, U72S,U24S1, U48S1, U72S1, U24S3, U48S3, U72S3 ]"
   ]
  },
  {
   "cell_type": "code",
   "execution_count": 401,
   "metadata": {
    "collapsed": true
   },
   "outputs": [],
   "source": [
    "ssh = U24W.variables['sossheig']\n",
    "input_vars = {'e3t_0': e3t_0,}\n",
    "newgrid = grid_tools.calculate_time_dependent_grid(e3t_0[0,...], \n",
    "                                                   lake_meshmask.variables['tmask'][0,...],\n",
    "         ssh, input_vars)"
   ]
  },
  {
   "cell_type": "code",
   "execution_count": 402,
   "metadata": {
    "collapsed": true
   },
   "outputs": [],
   "source": [
    "list_for_U24W = np.zeros(102)\n",
    "for t in range(102):\n",
    "    den1 = calc_rho(U24W.variables['vosaline'][t,:,200,68], \n",
    "                U24W.variables['votemper'][t,:,200,68],\n",
    "                U24W.variables['deptht'][:])\n",
    "    A = (newgrid['e3t_t'][t,:,200,68] * den1 * 9.8).sum()\n",
    "    den1 = calc_rho(U24W.variables['vosaline'][t,:,200,136], \n",
    "                U24W.variables['votemper'][t,:,200,136],\n",
    "                U24W.variables['deptht'][:])\n",
    "    list_for_U24W[t] = A - (newgrid['e3t_t'][t,:,200,136] * den1 * 9.8).sum()"
   ]
  },
  {
   "cell_type": "code",
   "execution_count": 403,
   "metadata": {
    "collapsed": true
   },
   "outputs": [],
   "source": [
    "ssh = U48W.variables['sossheig']\n",
    "input_vars = {'e3t_0': e3t_0,}\n",
    "newgrid = grid_tools.calculate_time_dependent_grid(e3t_0[0,...], \n",
    "                                                   lake_meshmask.variables['tmask'][0,...],\n",
    "         ssh, input_vars)"
   ]
  },
  {
   "cell_type": "code",
   "execution_count": 404,
   "metadata": {
    "collapsed": true
   },
   "outputs": [],
   "source": [
    "list_for_U48W = np.zeros(102)\n",
    "for t in range(102):\n",
    "    den1 = calc_rho(U48W.variables['vosaline'][t,:,200,68], \n",
    "                U48W.variables['votemper'][t,:,200,68],\n",
    "                U48W.variables['deptht'][:])\n",
    "    A = (newgrid['e3t_t'][t,:,200,68] * den1 * 9.8).sum()\n",
    "    den1 = calc_rho(U48W.variables['vosaline'][t,:,200,136], \n",
    "                U48W.variables['votemper'][t,:,200,136],\n",
    "                U48W.variables['deptht'][:])\n",
    "    list_for_U48W[t] = A - (newgrid['e3t_t'][t,:,200,136] * den1 * 9.8).sum()"
   ]
  },
  {
   "cell_type": "code",
   "execution_count": 405,
   "metadata": {
    "collapsed": true
   },
   "outputs": [],
   "source": [
    "ssh = U72W.variables['sossheig']\n",
    "input_vars = {'e3t_0': e3t_0,}\n",
    "newgrid = grid_tools.calculate_time_dependent_grid(e3t_0[0,...], \n",
    "                                                   lake_meshmask.variables['tmask'][0,...],\n",
    "         ssh, input_vars)\n",
    "list_for_U72W = np.zeros(102)\n",
    "for t in range(102):\n",
    "    den1 = calc_rho(U72W.variables['vosaline'][t,:,200,68], \n",
    "                U72W.variables['votemper'][t,:,200,68],\n",
    "                U72W.variables['deptht'][:])\n",
    "    A = (newgrid['e3t_t'][t,:,200,68] * den1 * 9.8).sum()\n",
    "    den1 = calc_rho(U72W.variables['vosaline'][t,:,200,136], \n",
    "                U72W.variables['votemper'][t,:,200,136],\n",
    "                U72W.variables['deptht'][:])\n",
    "    list_for_U72W[t] = A - (newgrid['e3t_t'][t,:,200,136] * den1 * 9.8).sum()"
   ]
  },
  {
   "cell_type": "code",
   "execution_count": 406,
   "metadata": {
    "collapsed": true
   },
   "outputs": [],
   "source": [
    "ssh = U24W1.variables['sossheig']\n",
    "input_vars = {'e3t_0': e3t_0,}\n",
    "newgrid = grid_tools.calculate_time_dependent_grid(e3t_0[0,...], \n",
    "                                                   lake_meshmask.variables['tmask'][0,...],\n",
    "         ssh, input_vars)\n",
    "list_for_U24W1 = np.zeros(102)\n",
    "for t in range(102):\n",
    "    den1 = calc_rho(U24W1.variables['vosaline'][t,:,200,68], \n",
    "                U24W1.variables['votemper'][t,:,200,68],\n",
    "                U24W1.variables['deptht'][:])\n",
    "    A = (newgrid['e3t_t'][t,:,200,68] * den1 * 9.8).sum()\n",
    "    den1 = calc_rho(U24W1.variables['vosaline'][t,:,200,136], \n",
    "                U24W1.variables['votemper'][t,:,200,136],\n",
    "                U24W1.variables['deptht'][:])\n",
    "    list_for_U24W1[t] = A - (newgrid['e3t_t'][t,:,200,136] * den1 * 9.8).sum()"
   ]
  },
  {
   "cell_type": "code",
   "execution_count": 407,
   "metadata": {
    "collapsed": true
   },
   "outputs": [],
   "source": [
    "ssh = U24W3.variables['sossheig']\n",
    "input_vars = {'e3t_0': e3t_0,}\n",
    "newgrid = grid_tools.calculate_time_dependent_grid(e3t_0[0,...], \n",
    "                                                   lake_meshmask.variables['tmask'][0,...],\n",
    "         ssh, input_vars)\n",
    "list_for_U24W3 = np.zeros(102)\n",
    "for t in range(102):\n",
    "    den1 = calc_rho(U24W3.variables['vosaline'][t,:,200,68], \n",
    "                U24W3.variables['votemper'][t,:,200,68],\n",
    "                U24W3.variables['deptht'][:])\n",
    "    A = (newgrid['e3t_t'][t,:,200,68] * den1 * 9.8).sum()\n",
    "    den1 = calc_rho(U24W3.variables['vosaline'][t,:,200,136], \n",
    "                U24W3.variables['votemper'][t,:,200,136],\n",
    "                U24W3.variables['deptht'][:])\n",
    "    list_for_U24W3[t] = A - (newgrid['e3t_t'][t,:,200,136] * den1 * 9.8).sum()"
   ]
  },
  {
   "cell_type": "code",
   "execution_count": 408,
   "metadata": {
    "collapsed": true
   },
   "outputs": [],
   "source": [
    "ssh = U48W1.variables['sossheig']\n",
    "input_vars = {'e3t_0': e3t_0,}\n",
    "newgrid = grid_tools.calculate_time_dependent_grid(e3t_0[0,...], \n",
    "                                                   lake_meshmask.variables['tmask'][0,...],\n",
    "         ssh, input_vars)\n",
    "list_for_U48W1 = np.zeros(102)\n",
    "for t in range(102):\n",
    "    den1 = calc_rho(U48W1.variables['vosaline'][t,:,200,68], \n",
    "                U48W1.variables['votemper'][t,:,200,68],\n",
    "                U48W1.variables['deptht'][:])\n",
    "    A = (newgrid['e3t_t'][t,:,200,68] * den1 * 9.8).sum()\n",
    "    den1 = calc_rho(U48W1.variables['vosaline'][t,:,200,136], \n",
    "                U48W1.variables['votemper'][t,:,200,136],\n",
    "                U48W1.variables['deptht'][:])\n",
    "    list_for_U48W1[t] = A - (newgrid['e3t_t'][t,:,200,136] * den1 * 9.8).sum()"
   ]
  },
  {
   "cell_type": "code",
   "execution_count": 409,
   "metadata": {
    "collapsed": true
   },
   "outputs": [],
   "source": [
    "ssh = U48W3.variables['sossheig']\n",
    "input_vars = {'e3t_0': e3t_0,}\n",
    "newgrid = grid_tools.calculate_time_dependent_grid(e3t_0[0,...], \n",
    "                                                   lake_meshmask.variables['tmask'][0,...],\n",
    "         ssh, input_vars)\n",
    "list_for_U48W3 = np.zeros(102)\n",
    "for t in range(102):\n",
    "    den1 = calc_rho(U48W3.variables['vosaline'][t,:,200,68], \n",
    "                U48W3.variables['votemper'][t,:,200,68],\n",
    "                U48W3.variables['deptht'][:])\n",
    "    A = (newgrid['e3t_t'][t,:,200,68] * den1 * 9.8).sum()\n",
    "    den1 = calc_rho(U48W3.variables['vosaline'][t,:,200,136], \n",
    "                U48W3.variables['votemper'][t,:,200,136],\n",
    "                U48W3.variables['deptht'][:])\n",
    "    list_for_U48W3[t] = A - (newgrid['e3t_t'][t,:,200,136] * den1 * 9.8).sum()"
   ]
  },
  {
   "cell_type": "code",
   "execution_count": 410,
   "metadata": {
    "collapsed": true
   },
   "outputs": [],
   "source": [
    "ssh = U72W3.variables['sossheig']\n",
    "input_vars = {'e3t_0': e3t_0,}\n",
    "newgrid = grid_tools.calculate_time_dependent_grid(e3t_0[0,...], \n",
    "                                                   lake_meshmask.variables['tmask'][0,...],\n",
    "         ssh, input_vars)\n",
    "list_for_U72W3 = np.zeros(102)\n",
    "for t in range(102):\n",
    "    den1 = calc_rho(U72W3.variables['vosaline'][t,:,200,68], \n",
    "                U72W3.variables['votemper'][t,:,200,68],\n",
    "                U72W3.variables['deptht'][:])\n",
    "    A = (newgrid['e3t_t'][t,:,200,68] * den1 * 9.8).sum()\n",
    "    den1 = calc_rho(U72W3.variables['vosaline'][t,:,200,136], \n",
    "                U72W3.variables['votemper'][t,:,200,136],\n",
    "                U72W3.variables['deptht'][:])\n",
    "    list_for_U72W3[t] = A - (newgrid['e3t_t'][t,:,200,136] * den1 * 9.8).sum()"
   ]
  },
  {
   "cell_type": "code",
   "execution_count": 411,
   "metadata": {
    "collapsed": true
   },
   "outputs": [],
   "source": [
    "ssh = U72W1.variables['sossheig']\n",
    "input_vars = {'e3t_0': e3t_0,}\n",
    "newgrid = grid_tools.calculate_time_dependent_grid(e3t_0[0,...], \n",
    "                                                   lake_meshmask.variables['tmask'][0,...],\n",
    "         ssh, input_vars)\n",
    "list_for_U72W1 = np.zeros(102)\n",
    "for t in range(102):\n",
    "    den1 = calc_rho(U72W1.variables['vosaline'][t,:,200,68], \n",
    "                U72W1.variables['votemper'][t,:,200,68],\n",
    "                U72W1.variables['deptht'][:])\n",
    "    A = (newgrid['e3t_t'][t,:,200,68] * den1 * 9.8).sum()\n",
    "    den1 = calc_rho(U72W1.variables['vosaline'][t,:,200,136], \n",
    "                U72W1.variables['votemper'][t,:,200,136],\n",
    "                U72W1.variables['deptht'][:])\n",
    "    list_for_U72W1[t] = A - (newgrid['e3t_t'][t,:,200,136] * den1 * 9.8).sum()"
   ]
  },
  {
   "cell_type": "code",
   "execution_count": 412,
   "metadata": {
    "collapsed": true
   },
   "outputs": [],
   "source": [
    "ssh = U72S1.variables['sossheig']\n",
    "input_vars = {'e3t_0': e3t_0,}\n",
    "newgrid = grid_tools.calculate_time_dependent_grid(e3t_0[0,...], \n",
    "                                                   lake_meshmask.variables['tmask'][0,...],\n",
    "         ssh, input_vars)\n",
    "list_for_U72S1 = np.zeros(102)\n",
    "for t in range(102):\n",
    "    den1 = calc_rho(U72S1.variables['vosaline'][t,:,200,68], \n",
    "                U72S1.variables['votemper'][t,:,200,68],\n",
    "                U72S1.variables['deptht'][:])\n",
    "    A = (newgrid['e3t_t'][t,:,200,68] * den1 * 9.8).sum()\n",
    "    den1 = calc_rho(U72S1.variables['vosaline'][t,:,200,136], \n",
    "                U72S1.variables['votemper'][t,:,200,136],\n",
    "                U72S1.variables['deptht'][:])\n",
    "    list_for_U72S1[t] = A - (newgrid['e3t_t'][t,:,200,136] * den1 * 9.8).sum()"
   ]
  },
  {
   "cell_type": "code",
   "execution_count": 413,
   "metadata": {
    "collapsed": true
   },
   "outputs": [],
   "source": [
    "ssh = U72S3.variables['sossheig']\n",
    "input_vars = {'e3t_0': e3t_0,}\n",
    "newgrid = grid_tools.calculate_time_dependent_grid(e3t_0[0,...], \n",
    "                                                   lake_meshmask.variables['tmask'][0,...],\n",
    "         ssh, input_vars)\n",
    "list_for_U72S3 = np.zeros(102)\n",
    "for t in range(102):\n",
    "    den1 = calc_rho(U72S3.variables['vosaline'][t,:,200,68], \n",
    "                U72S3.variables['votemper'][t,:,200,68],\n",
    "                U72S3.variables['deptht'][:])\n",
    "    A = (newgrid['e3t_t'][t,:,200,68] * den1 * 9.8).sum()\n",
    "    den1 = calc_rho(U72S3.variables['vosaline'][t,:,200,136], \n",
    "                U72S3.variables['votemper'][t,:,200,136],\n",
    "                U72S3.variables['deptht'][:])\n",
    "    list_for_U72S3[t] = A - (newgrid['e3t_t'][t,:,200,136] * den1 * 9.8).sum()"
   ]
  },
  {
   "cell_type": "code",
   "execution_count": 414,
   "metadata": {
    "collapsed": true
   },
   "outputs": [],
   "source": [
    "ssh = U72S.variables['sossheig']\n",
    "input_vars = {'e3t_0': e3t_0,}\n",
    "newgrid = grid_tools.calculate_time_dependent_grid(e3t_0[0,...], \n",
    "                                                   lake_meshmask.variables['tmask'][0,...],\n",
    "         ssh, input_vars)\n",
    "list_for_U72S = np.zeros(102)\n",
    "for t in range(102):\n",
    "    den1 = calc_rho(U72S.variables['vosaline'][t,:,200,68], \n",
    "                U72S.variables['votemper'][t,:,200,68],\n",
    "                U72S.variables['deptht'][:])\n",
    "    A = (newgrid['e3t_t'][t,:,200,68] * den1 * 9.8).sum()\n",
    "    den1 = calc_rho(U72S.variables['vosaline'][t,:,200,136], \n",
    "                U72S.variables['votemper'][t,:,200,136],\n",
    "                U72S.variables['deptht'][:])\n",
    "    list_for_U72S[t] = A - (newgrid['e3t_t'][t,:,200,136] * den1 * 9.8).sum()"
   ]
  },
  {
   "cell_type": "code",
   "execution_count": 415,
   "metadata": {
    "collapsed": true
   },
   "outputs": [],
   "source": [
    "ssh = U48S3.variables['sossheig']\n",
    "input_vars = {'e3t_0': e3t_0,}\n",
    "newgrid = grid_tools.calculate_time_dependent_grid(e3t_0[0,...], \n",
    "                                                   lake_meshmask.variables['tmask'][0,...],\n",
    "         ssh, input_vars)\n",
    "list_for_U48S3 = np.zeros(102)\n",
    "for t in range(102):\n",
    "    den1 = calc_rho(U48S3.variables['vosaline'][t,:,200,68], \n",
    "                U48S3.variables['votemper'][t,:,200,68],\n",
    "                U48S3.variables['deptht'][:])\n",
    "    A = (newgrid['e3t_t'][t,:,200,68] * den1 * 9.8).sum()\n",
    "    den1 = calc_rho(U48S3.variables['vosaline'][t,:,200,136], \n",
    "                U48S3.variables['votemper'][t,:,200,136],\n",
    "                U48S3.variables['deptht'][:])\n",
    "    list_for_U48S3[t] = A - (newgrid['e3t_t'][t,:,200,136] * den1 * 9.8).sum()"
   ]
  },
  {
   "cell_type": "code",
   "execution_count": 416,
   "metadata": {
    "collapsed": true
   },
   "outputs": [],
   "source": [
    "ssh = U48S1.variables['sossheig']\n",
    "input_vars = {'e3t_0': e3t_0,}\n",
    "newgrid = grid_tools.calculate_time_dependent_grid(e3t_0[0,...], \n",
    "                                                   lake_meshmask.variables['tmask'][0,...],\n",
    "         ssh, input_vars)\n",
    "list_for_U48S1 = np.zeros(102)\n",
    "for t in range(102):\n",
    "    den1 = calc_rho(U48S1.variables['vosaline'][t,:,200,68], \n",
    "                U48S1.variables['votemper'][t,:,200,68],\n",
    "                U48S1.variables['deptht'][:])\n",
    "    A = (newgrid['e3t_t'][t,:,200,68] * den1 * 9.8).sum()\n",
    "    den1 = calc_rho(U48S1.variables['vosaline'][t,:,200,136], \n",
    "                U48S1.variables['votemper'][t,:,200,136],\n",
    "                U48S1.variables['deptht'][:])\n",
    "    list_for_U48S1[t] = A - (newgrid['e3t_t'][t,:,200,136] * den1 * 9.8).sum()"
   ]
  },
  {
   "cell_type": "code",
   "execution_count": 417,
   "metadata": {
    "collapsed": true
   },
   "outputs": [],
   "source": [
    "ssh = U48S.variables['sossheig']\n",
    "input_vars = {'e3t_0': e3t_0,}\n",
    "newgrid = grid_tools.calculate_time_dependent_grid(e3t_0[0,...], \n",
    "                                                   lake_meshmask.variables['tmask'][0,...],\n",
    "         ssh, input_vars)\n",
    "list_for_U48S = np.zeros(102)\n",
    "for t in range(102):\n",
    "    den1 = calc_rho(U48S.variables['vosaline'][t,:,200,68], \n",
    "                U48S.variables['votemper'][t,:,200,68],\n",
    "                U48S.variables['deptht'][:])\n",
    "    A = (newgrid['e3t_t'][t,:,200,68] * den1 * 9.8).sum()\n",
    "    den1 = calc_rho(U48S.variables['vosaline'][t,:,200,136], \n",
    "                U48S.variables['votemper'][t,:,200,136],\n",
    "                U48S.variables['deptht'][:])\n",
    "    list_for_U48S[t] = A - (newgrid['e3t_t'][t,:,200,136] * den1 * 9.8).sum()"
   ]
  },
  {
   "cell_type": "code",
   "execution_count": 418,
   "metadata": {
    "collapsed": true
   },
   "outputs": [],
   "source": [
    "ssh = U24S.variables['sossheig']\n",
    "input_vars = {'e3t_0': e3t_0,}\n",
    "newgrid = grid_tools.calculate_time_dependent_grid(e3t_0[0,...], \n",
    "                                                   lake_meshmask.variables['tmask'][0,...],\n",
    "         ssh, input_vars)\n",
    "list_for_U24S = np.zeros(102)\n",
    "for t in range(102):\n",
    "    den1 = calc_rho(U24S.variables['vosaline'][t,:,200,68], \n",
    "                U24S.variables['votemper'][t,:,200,68],\n",
    "                U24S.variables['deptht'][:])\n",
    "    A = (newgrid['e3t_t'][t,:,200,68] * den1 * 9.8).sum()\n",
    "    den1 = calc_rho(U24S.variables['vosaline'][t,:,200,136], \n",
    "                U24S.variables['votemper'][t,:,200,136],\n",
    "                U24S.variables['deptht'][:])\n",
    "    list_for_U24S[t] = A - (newgrid['e3t_t'][t,:,200,136] * den1 * 9.8).sum()"
   ]
  },
  {
   "cell_type": "code",
   "execution_count": 419,
   "metadata": {
    "collapsed": true
   },
   "outputs": [],
   "source": [
    "ssh = U24S1.variables['sossheig']\n",
    "input_vars = {'e3t_0': e3t_0,}\n",
    "newgrid = grid_tools.calculate_time_dependent_grid(e3t_0[0,...], \n",
    "                                                   lake_meshmask.variables['tmask'][0,...],\n",
    "         ssh, input_vars)\n",
    "list_for_U24S1 = np.zeros(102)\n",
    "for t in range(102):\n",
    "    den1 = calc_rho(U24S1.variables['vosaline'][t,:,200,68], \n",
    "                U24S1.variables['votemper'][t,:,200,68],\n",
    "                U24S1.variables['deptht'][:])\n",
    "    A = (newgrid['e3t_t'][t,:,200,68] * den1 * 9.8).sum()\n",
    "    den1 = calc_rho(U24S1.variables['vosaline'][t,:,200,136], \n",
    "                U24S1.variables['votemper'][t,:,200,136],\n",
    "                U24S1.variables['deptht'][:])\n",
    "    list_for_U24S1[t] = A - (newgrid['e3t_t'][t,:,200,136] * den1 * 9.8).sum()"
   ]
  },
  {
   "cell_type": "code",
   "execution_count": 421,
   "metadata": {
    "collapsed": false
   },
   "outputs": [],
   "source": [
    "ssh = U24S3.variables['sossheig']\n",
    "input_vars = {'e3t_0': e3t_0,}\n",
    "newgrid = grid_tools.calculate_time_dependent_grid(e3t_0[0,...], \n",
    "                                                   lake_meshmask.variables['tmask'][0,...],\n",
    "         ssh, input_vars)\n",
    "list_for_U24S3 = np.zeros(102)\n",
    "for t in range(102):\n",
    "    den1 = calc_rho(U24S3.variables['vosaline'][t,:,200,68], \n",
    "                U24S3.variables['votemper'][t,:,200,68],\n",
    "                U24S3.variables['deptht'][:])\n",
    "    A = (newgrid['e3t_t'][t,:,200,68] * den1 * 9.8).sum()\n",
    "    den1 = calc_rho(U24S3.variables['vosaline'][t,:,200,136], \n",
    "                U24S3.variables['votemper'][t,:,200,136],\n",
    "                U24S3.variables['deptht'][:])\n",
    "    list_for_U24S3[t] = A - (newgrid['e3t_t'][t,:,200,136] * den1 * 9.8).sum()"
   ]
  },
  {
   "cell_type": "code",
   "execution_count": 433,
   "metadata": {
    "collapsed": false
   },
   "outputs": [
    {
     "data": {
      "text/plain": [
       "<matplotlib.text.Text at 0x7f295d94c390>"
      ]
     },
     "execution_count": 433,
     "metadata": {},
     "output_type": "execute_result"
    },
    {
     "data": {
      "image/png": "[encoded data removed]",
      "text/plain": [
       "<matplotlib.figure.Figure at 0x7f295deac710>"
      ]
     },
     "metadata": {},
     "output_type": "display_data"
    }
   ],
   "source": [
    "fig, ax = plt.subplots(figsize = (8,8))\n",
    "ax.set_ylabel('Time of Upwelling (h)')\n",
    "ax.set_xlabel('vtau')\n",
    "ax.grid('on')\n",
    "ax.plot(0.2,31,'o', color='purple' )\n",
    "ax.plot(0.2,25,'o', color='green')\n",
    "ax.plot(0.2,18,'o', color='blue')\n",
    "ax.plot(0.1,48,'o', color='purple')\n",
    "ax.plot(0.1,41,'o', color='green')\n",
    "ax.plot(0.1,35,'o', color='blue')\n",
    "ax.plot(0.3,27,'o', color='purple', label = '24 hours, winter')\n",
    "ax.plot(0.3,21,'o', color='green', label = '12 hours, winter')\n",
    "ax.plot(0.3,16,'o', color='blue', label = '40 seconds, winter')\n",
    "ax.plot(0.2,26,'o', color='yellow' )\n",
    "ax.plot(0.2,20,'o', color='orange')\n",
    "ax.plot(0.2,13,'o', color='red')\n",
    "ax.plot(0.1,33,'o', color='yellow', label = '24 hours, summer')\n",
    "ax.plot(0.1,24,'o', color='orange', label = '12 hours, summer')\n",
    "ax.plot(0.1,18,'o', color='red', label = '40 seconds, summer')\n",
    "ax.plot(0.3,24,'o', color='yellow')\n",
    "ax.plot(0.3,18,'o', color='orange')\n",
    "ax.plot(0.3,12,'o', color='red')\n",
    "plt.legend(bbox_to_anchor=(1.05, 1), loc=2, borderaxespad=0.)\n",
    "plt.title('Vtau vs Time of Upwelling')"
   ]
  },
  {
   "cell_type": "code",
   "execution_count": 432,
   "metadata": {
    "collapsed": false,
    "scrolled": false
   },
   "outputs": [
    {
     "data": {
      "text/html": [
       "<video width=\"576\" height=\"576\" controls autoplay>\n",
       "  <source type=\"video/mp4\" src=\"data:video/mp4;base64,AAAAHGZ0eXBNNFYgAAACAGlzb21pc28yYXZjMQAAAAhmcmVlAADxPW1kYXQAAAKsBgX//6jcRem9\n",
       "5tlIt5Ys2CDZI+7veDI2NCAtIGNvcmUgMTM4IHIyMCA0MGU3MmRhIC0gSC4yNjQvTVBFRy00IEFW\n",
       "QyBjb2RlYyAtIENvcHlsZWZ0IDIwMDMtMjAxMyAtIGh0dHA6Ly93d3cudmlkZW9sYW4ub3JnL3gy\n",
       "NjQuaHRtbCAtIG9wdGlvbnM6IGNhYmFjPTEgcmVmPTMgZGVibG9jaz0xOjA6MCBhbmFseXNlPTB4\n",
       "MzoweDExMyBtZT1oZXggc3VibWU9NyBwc3k9MSBwc3lfcmQ9MS4wMDowLjAwIG1peGVkX3JlZj0x\n",
       "IG1lX3JhbmdlPTE2IGNocm9tYV9tZT0xIHRyZWxsaXM9MSA4eDhkY3Q9MSBjcW09MCBkZWFkem9u\n",
       "ZT0yMSwxMSBmYXN0X3Bza2lwPTEgY2hyb21hX3FwX29mZnNldD0tMiB0aHJlYWRzPTQ4IGxvb2th\n",
       "aGVhZF90aHJlYWRzPTQgc2xpY2VkX3RocmVhZHM9MCBucj0wIGRlY2ltYXRlPTEgaW50ZXJsYWNl\n",
       "ZD0wIGJsdXJheV9jb21wYXQ9MCBjb25zdHJhaW5lZF9pbnRyYT0wIGJmcmFtZXM9MyBiX3B5cmFt\n",
       "aWQ9MiBiX2FkYXB0PTEgYl9iaWFzPTAgZGlyZWN0PTEgd2VpZ2h0Yj0xIG9wZW5fZ29wPTAgd2Vp\n",
       "Z2h0cD0yIGtleWludD0yNTAga2V5aW50X21pbj00IHNjZW5lY3V0PTQwIGludHJhX3JlZnJlc2g9\n",
       "MCByY19sb29rYWhlYWQ9NDAgcmM9Y3JmIG1idHJlZT0xIGNyZj0yMy4wIHFjb21wPTAuNjAgcXBt\n",
       "aW49MCBxcG1heD02OSBxcHN0ZXA9NCBpcF9yYXRpbz0xLjQwIGFxPTE6MS4wMACAAAAdi2WIhAAU\n",
       "//73x0/Apuj5ZsudRT0hMIrY+kgovVjs0DJ1AAADAAADAAAnC1TyJ9+uWgRrAAADA9AATRTD0mzG\n",
       "gJj4ADoCTKy1DNHi31iMDJmxzw+kUN3eENqRzcf1U1wqryo6EnJCtZ/ojBnPwbyDTXwqFovWuJjM\n",
       "lntNh06zFDZuaR8lHOwnkuxmbpFrmeJAYm9bZWosv5RT28M0I+w5x11KHqZg6QneLX/FDPV9dYkf\n",
       "4q9xqLaoXarY20nxB/YyvwkGYC8bAZmWP8T1SIaoaUk/q2ZXPdE8cVZAT3m+Cdrcd0Ne6saDiQRF\n",
       "0/CjKM5U0Lv3McUWG8DW1NGgJm3bETm5zTUISsY7Mzdr28yDXTXWE9AQXxzM8WQvAM6Ab69zgXXq\n",
       "0ThL0MZ+Nv2BG0D6VYko4wxxXlgMak8hBx80LdSezXBCnL2/cXj0a/OyUmqAXIU4MAUAIls5rxbW\n",
       "V+eb2NCNEhm0qWE6BAsmfRcp6XvBEcB8WxxIExb0SDn/vYYgSslBHqL/Le2yj+ewxo8mRIYsWejv\n",
       "95SCRVv+PNS+yZ54xt7ONqBJabx75Fvl+0eLxPm1shvt6IoDOutRVltAfsDJbrK2/DWysv7M2w84\n",
       "gm8vSi/8WL/oGmbCmNfu6dR3F3aQWbPeZWOTC7pmlsfS1UVwAP5bb45WIewjYXtuztFTEKflnMox\n",
       "uivAkr2TwsSxdfEgg1STIbJdc3iG7CahwAhPbKD/OsruggVc8dUBxuh767M4o21T2oCrcc68IPrv\n",
       "wgLnAa+kEphmCCfngGRb7vkvrOcrTqkyJGIW7ClEYdLBynyHH2UlzS1hVWc6xe3rNqsBRpppgg5u\n",
       "an5jGnH2tPk+jUenTexrnEzMz34Uz6e3rDw0KucS2DYnyzrvaWUcBaF5DwflHH5EcMvNNfw/eXYV\n",
       "xPERWAEz3vY/JWLRXq+zrR8hH4zdg5e8ms0IaJRpMr5nE+/VruXXjtAae714cY1PHJci6LpuO200\n",
       "YeCp3lIE+Vzio3onL03MeVLWGmgSOvvKD5DAJjto8Pa55TdBD6ONjMTvwLXYmH2lApFinqTFjwT6\n",
       "5OCuA3PnOhkJEW56QFKaIemp+jX6imdewjd+EraMuHJvrQ1xb8lebpcnzRABowtCXQDkkjJ1dSYQ\n",
       "BbuCnV57Nyzd1HN/zmsJ39lyedDsFaHQ3RkdPf2ybDhwSDy1mlFygDQTSNVykMwtV60ADHkKCEl7\n",
       "DYw28JGh+k1uj6aag427lguhtvi++w4k38iRUWtcRR3SL4gJ5nhR//94cpDIs4n83c/oav/cQCaX\n",
       "/0wRP1oN99XU/K1Ilym6txvddOTmxJmkg0ugEmTsFqmtFMe//lQsPpW5D28dVVyL7H4/RX0rpVDx\n",
       "Z0sdiP3h7MfBAKyTqWHyYcxxFDoPO4ZoQRF/zBqp6lKIGhvedbIaIBiYF4a4DUzlnHV2aozKIhPn\n",
       "uTAxXOeOKNIhkkqSAIKoAACc/r+UFVbFNAYvDvMjpYSMqinnt5TuborLc2h+xkBy+5m28XuYLj+R\n",
       "VPhmNVSJPNF3FsZAYwlk6Xt/a/5pTkeYEOU2t1ZZWsuC/r21Y81vEU89E1G32OULb9pMM0FAHJln\n",
       "h2xX0BrACRpFyFw8q3U/35hlLBv/PIM8TQpC20Vdv7WGaGm5FWertdPvGit6U1FGcIy3zooZIP6C\n",
       "vDq9SCv0pS6IAU+IdqAvzerIOgsVS/Db2vJbJUw0QcnAu9B2lgY4JvRbZN4LLRkrQYLw5kavFq8i\n",
       "vqJdLjwt/5yOmMIr38bmWCkXfxtV5wbuJR7Hg4I1dl1N5eSpD+U+nBka9oBbO4uDktdvzKYbdfxY\n",
       "rWOumWmxtpXuWTimSFbblx75k4b809NouHnpcUjCF9qck8oFEqxdGCPOS25uIw0AbZvaE+c3hdG+\n",
       "URcYH23wB6JdNy0rZ4B4YllY7reuSnu5PH0HGbglRwVsHb0ZilvtV7gIUMpdQ9AEj1lYoPuOcdup\n",
       "sJjiDoCu+mSadMjFEheyyVU9zhV2z5h5ZT/OhcFofjhc46l0pGNl9bYh8824VxGP7btfAbgbvcBE\n",
       "QHhONjdJGnCsdEsBr8tLH9hkyuU9PT4WW+C3ZPfOxxf0dExeU8/fgzqNyEeZ3FhxrXEHatsSkko4\n",
       "5lTNVuYI1nW6YwAA5yFEKxHtRj5e0rYn9a4fhlHYfsST94/KLOgQrcg91xSIHOPeR8QD55xegJHb\n",
       "1dYIZd4mHUryfAAQ28AhKrKykv/OuBufwCeODXQesge2el6sdiMAA5DWhHGu9FHr4ROwz9A2FtE3\n",
       "IFneBAPexl/caTIG0mBiaUw3bqhkrc5h6ZvirFz75RJSYeqIA02aRfZ9DSdYpYvYLOvT3pjONNNt\n",
       "YfkI2ioEor8qI8Uf+YTIL7Dh4Qw8Exy94jJxLKyNHntivwP+oJ2ogccOz5gpmVIdjFs18nkUMFbw\n",
       "QZ/DVpRDo8wZNyh20D4AFah511RNuQCvucqv5Fl9CbL7XlX/2wXCi+bCOOk79ScaUku0QeI/d/WT\n",
       "1i9y7+AJdFCPYldbqC/h1E5p9LKv2sRD+rL0uIkA9jEf+GKG/TddSd/3n8c8/13LSl21+x6cq1L/\n",
       "a0AelzT93QzH+NePRgj2ePb9BK3ez/TdZj+OIzQ7rHhJyeLWVMpGe+oZet24drO+YV9CtyEm72fT\n",
       "V1a78V6MwAFbv270WnPPapBCsXzALZc6qAOQChQyUt/Cw6EDqY737wgBYRabU6AAAEZPLpGkCP4R\n",
       "AriTx0AgFKPcOR5K/TFHKaS4L4T8deRyL93bJ1pQjHqEcmy5kOGh4VwUEpVvS6SvavfRRB7QyzxF\n",
       "oyOeuhOfWlbud26P2UtT6n/o+PUYK4i6JFgZ5mI6xee4COXZVtk2Sw6mKGEmUBUwQAuTTi1vo0DO\n",
       "/N1Xp0EClRhfLtCFr+zamW+QnngFwyxNNly9vF0VrSCGTWVaYCRbaAk4Ma5FY+jT/icaktO1yIVS\n",
       "OW1pGSZ9R6zVmMJ2Z8DHQKc5qjZSXLKeYqoV3S9bI4QgfX3dTn09qMRVYV6qrMhZG5reKP4TkDk1\n",
       "IUO9Sk/d+DspPQQ95K+n8Z4jVwqRCcHqtCnTmGA9G56MKbeON9yaSmZK4svG3S4mJ8CYTdtQHfhF\n",
       "dnc/2NLGu9r/dAJ+esJc1IHs6WYUQNjaT+cItHyhvZuUUSGCD0iA01fBv7eTp/Clxli+Im6GXHEP\n",
       "ftHzTSc0RNYdrrzT5DmNP9ypS7OSY/ieaP/xQ+ZSlDx/xXke/c6UQxWn6dUn9VQ+po2inU8lAXXd\n",
       "BJUpeA7vDEP+XEF2gwLIscLW9iD+UDPiuC6u/GxvT9vG42P7/vmYusuzcObl6q5LpAR5fQI5tGH2\n",
       "s8uhu7FZS0nTBcJY0/0VSTxkNQ7dN3+sOxZxDCTbZWatz/j5HDe2SG5fQLeLJxsl6sqiIFKHBfnG\n",
       "MUrpDKQDFxz5CeDsmg3Ymc+jriIVvx32ockFn3qL/fYr7gQcwVIeXl05gN0tI/O/znNC7Cx9HYnP\n",
       "TcgLXXSWsZvt9QP1l8F0KthlOC4xWMr1uJv9jNYO7IPCjh9JpoF64usxVjOVQM9jj+25eVIln1yg\n",
       "nBQdr+0zlSxEOTzdYa9IWVqJ7S9WEMCQ8vjxGAHmmrwr/2+CM44r6b8an72SkpN4egXwVRUEpVlG\n",
       "1/biuSICq6MWSloOAaCKBKDgB1oehLNLSTLaEJMsSs+MP+od5Q/u2HCiIAAAAwAEZinQszKiCd1f\n",
       "GI45N2TldWm9h0x0RUW/KE5ED3x6b5k0p08Q2J3XsZp/NgXPY5N3DhHExVXx7X2XdQwsw6qXmg66\n",
       "SZLSQMS9sKrk80OhTKdpmdrrbf+cSpJcj5RiyA9Qy6TP+mZuW2PfKgDufpk9N7xIFAIp+Sr4v4XR\n",
       "mnCZaoDkhNL/k4LKhTArC7lR1xfrGgwCg8L1dZNOjdRB3Zf2b+g6h2TyBEgm0g14lOwZaFyawQ5X\n",
       "VRrYE6oRHCFPaTfUtaBJg7RFlYPlpPXN1F3/wC67nxftJBR3WhT4XdYAYwoSuo+oKsZJWQ8qLBm0\n",
       "D2wyoctwcfWzeywMnVhnIPwpoZroYbE7x7P0wE0aohJ24aQlrToHGJFY1Sef4UXibssWqP4G5Nvl\n",
       "TN1r8D6hr2hIRQgiVaQRp7NXhBIMbnFZfICcEpz9DzagnpdVY52L3J0XsVGQzMF7cqokO+JV4rMJ\n",
       "9UNT3HW7JjBMzOqDz7flriq85fBsmMK60oUgviRYqwJvqmd2UXOYhqfwdWTi5H+gjaZCkGerfl59\n",
       "v6BCeplVhMhnvfgmVPk5nh5MS5bX4+3tQ2p6FGXGv2oPBYgLZKe5U/ISPz+arjbL0MkotCF2aYye\n",
       "tBKg6nXyugLbLIA90rkjh/PSJJ8h3R2l06fYv3esyQ36LUBIc+63jsZeqYNSuq7GiSorAzmEiX/U\n",
       "W3rVdMYaYxiuMZX6dYqXQ3qSZNK0vJHUHTRDPxJt5VUhu779N8E8y+KYnCc+1jn3BtJnHyz/eby3\n",
       "s8Fr4Yqo4W4t6Y2JPjyvleB6zksE9+yOpNN8QZXPcjwHZTcAEI4LnncE+/shJuLSvBYYVwjT5f/p\n",
       "HcPbcS2OhfCNiXllbH/ZUn5QQoEAdmfQekfZkITSkHsO+Nk4C0Ha/NkNxQQlNg3PSGyGIQ7LQ7/2\n",
       "B7EqWYrWrI+jndlo5yzh5hI2dcwh6dUa8+xLi8Evpz4WlCXqxEIHNXZSJj72avKixL5e4F4oV3+x\n",
       "F5Gt5KmPaaPsXglKwjr8SgqbCejfvBfHlTdP62Um6LYIpcEdEO1n78TfgNZiieTDSC9df7Kx6d8t\n",
       "v26zMMudbDq9vX3Y6evRGGtsngrQxUIDRLGF1AleXc9P5u9r+dKkTjbyAAADAB689/+zXlnseAAA\n",
       "FM5Qwf/V9TVQOzzOfAOHpyfsyMnNnb/5RQtAkcGZ1qNeUfjj49L4HYsVUTMfsIsTi56cSe5wLK1r\n",
       "6CsjwqXO4skW9v6uFmRLn2ANElWxq5E9Par4cBxlsXfzWFEJc/ADukLlpq8YVGpMc2o3jFeBpCSz\n",
       "8W+MiZKQxgrnNOjEi6KlflMm0ixSpVwsGk6InPJ28+IvGOKAZ6SKAhhQQjAP4DzVPPkM6SuM7CZa\n",
       "UDuhvtImw4KYzWKkrDNBJNRCUF6HD0e1UJ0IiqNaAtRtHDUZpXqUe1jy9Uq+We6mulRglaeB3MDj\n",
       "FAg8Ox/I1GYx378ricUFO8OtzKTPP4dJyzD4b5y5AuO9qQFZXzyGLjM8UBym85HfMlJlH7kXfC3h\n",
       "JFGGAZuCwlOOrvZJdZ8cxA3wXiL5UpoOzpvXk52i/lr+7hpsYXtjnMERGrwo6MQSDKlfCgvjvOPd\n",
       "jgPljFsDbF1u6B4opT3r83PlL+mG4ZU7DCZw4QlAhaC7eJ7ztlNxBiYBFo4ruSw38lBH+Eso3p72\n",
       "jkxEcnSJjnCUXIMpSy+K/AXVXbWe8tB+bgc2RM7kVFlOHVo4GX/YEKBTJyU2+ITCgNufSsOrxiLu\n",
       "zeWz/89UCUppjS17Tm7OUB9AWSZqVoAJMQu/3B8dkoeK3acEL7f2Zv9adGL9sUQVVndJvRuYtHbF\n",
       "3fxeE/6CjpkUcII6lRhsswGAKEVln6n1Pob7JRZwAV9hgV96VlhzUe4pv+nD8YhnZik2Sg2klToW\n",
       "Gq9zekSVTP2yd0+43fN+qDSTdA9wwBMYIu9xpnl1gAuzHc8DO/LjjnKUoAAAAwABxWbpHUpsxZrj\n",
       "pUHJ+hcn+TNye4IVxJTbOgLb0/F401Be8QTvfGZvsfIcPaiOZHM3buByU/Z18y5jq9fHXXbUOOR3\n",
       "rkTiIAalkVAZmlpJGhd+HlxtYAtuNy0FFU3Yr2ilC2qgrOWnT2yEhk/0J4M3OOOqYnRMF+hMRhwp\n",
       "JHQjqcVZcZrIJOzvdlOzwZvUDp92e9mKJOvoQz8wL6q4+TVERIfQsfgqsO9mlbYpO4Jc7kNsJtGt\n",
       "XHMR3ryoljZxkCOY0NUz83Ydd3SQ6PnYzAgM4/AELLOSstk//W4vXUNWjAn5P8klXIV8Ar3d1cYl\n",
       "PeaQVS6kyGHPGVEYwXmI8DhMnU56CnU6qviWcRde6DDqw+93UxGfwf5z/Ub1EqamGHVG2qmFtfmR\n",
       "juNhMuX4z+YssbiqHk2bmTDawyz0q+dmxFmG7qU2sw7SLi8lWXDlFFBaB9Ye9ljfXuLTb53Ep7E7\n",
       "By65bavKtS1cQw83CTc0ZQnrkYQM/JKlOcN1uk0Y9+dmFWb/x5ErJiRE7p/qBawhVbLsMcnVPhMb\n",
       "XCHz/85rVz9ma3/km+bEydmJi2YmciPLOeafnQM1pSJOwFp2khYcSOuTsRI/ntdCsGJ9gZobfcRO\n",
       "LZ8ZX/+sSwBOGzRL35WPpS+LNuAKuSVjM8N+WWSSNBr+DVA1uCWgx6Q9QIu070SS34dN7kCLCFAx\n",
       "hqgE5Mc2bZes2idN9l/716VVn0nsonJQZhGoBbtWFoX4oDjdR+rzxgr3F3Ap7t/PtL6+7z6h2Peq\n",
       "gQZewqIA9dfy2TTs4uoBEDkQHYvgCrCgo5C31X5NqPjSp+QqmhRK0XA7P8Liea1bd0LqNSOJt7dO\n",
       "4LHhGXlSxG0C0U77AfUcWJeoehCANXkGG7rklI41WUOJigwR0f9j6lPtxGnTbwRcB+/NhaFcvbBw\n",
       "ykPc1ov2nM3xBDZbiyckTQoyffEllXGim/yPVIQxLXlqW3NVWDHVZNOGNzIhTnq0uWsAitlTDgBO\n",
       "SKxnR28Fl7PVHzxZXo+37OGyIiU22nVl2lap5XDjeI6aa6L7QpC2///gLkyxp7eYqCAJf9Qmzdb7\n",
       "SPGl+xQPwcT/yhCGeKjb/FDgCHX+5tun6S4/EpRAPcSvJy9PDLJcLOGjGoyfwJae9ruolg15P/2V\n",
       "Mu+VCzodogtbQOeimpXKwEknLB3e2/Fa9/2xhgOC9spLALIeI82yLMZ53A6+5PZatqdnXpOyaEQV\n",
       "su6LsZVNRs4g78TvNmCdAh9q5K2icEuCpKarat0So5n3b55PS9xUWy1ME7eZ3B1oS7h1BTd9Gjwe\n",
       "yzWizzYdkpVM54kZexW6L5J0oj9sHQlkI8SIDhi7ByAhUMZt/9WwfilZ1E91y5l34aufbWmYLBdu\n",
       "iCAA03cf+NuDziR/RBloEDfJwSRmFDZqqCEyPyK6u2GPJM/dwPULX3HfGZsMYPW6qQvgnpaK3Eq7\n",
       "a0oEV1LAPtUnHk8UsCoirzk3xRbf5YVq4///4hB+5ujjjQ8zwPlqPuxd0IuFoAs0irUIfRcNqbw7\n",
       "O0boFT9LHkWBsa1bSQUUD0y9U6itv8DZ+YQQQP7HDo9HaFQ+/nZI+ahErUvL/Zp5JPtuiNHrtcmZ\n",
       "DHRxl/E4Mr1Vurpr4osDAkCk3cVQtksNJPGU35miYxQY2Mhp+j7+4UO75L5MoqQQbWvtySfQ9fVD\n",
       "q6S5HyY0xajZmqz4h/sZm1ajCneJcdSoPrGY4s34gq2U2tpykPaLXpezDgHUSDFkdJlXASvX9DJI\n",
       "a1r/75oxGXyH/xPQlpwxOuWQl9o56SpHA/fq8k5bQPb42exWB5Z7dVpTw+gIDeeDdQofpNzFdVM5\n",
       "s6WXIMjpalrAEUYA3Xx0JsYa2NvX74uRmpbhvIhRb1H5TDhIFyGnwnvqHfG8LimKdkjheErl6D4X\n",
       "bFxMA7BmLffFH9oWp3jh34zDyX1IMzIYq4Q9IljcRRzwKt9lajoRpsOyx81URBNFoGAalrNT+hRF\n",
       "IxawwKw3aIcfbiijmWZ31aLl2XzA6Uecy6kKHOUpxRL83/THAORkDRTi9dGIGf/RijQPdzoZ3M0n\n",
       "6rO9hBvFFEaXQaNDRhrJzfvE60uoQgs6vbfrZsLBiop5MtJmzHlIZOBvXr1A2jN1HKnfMZZDYmhu\n",
       "hNPYSPROJ2LMjl2LO8vKyRfv1dBWkwq5SeWebvhj5FCRNRNcxppsv+cRsGSyoK8bC/9RZbNFfoCx\n",
       "lgIWgmeAEERAD6MzhVBeZJmWVJTez+MRHqC5MChPPJApAPhcM70lUkljgetpEtoHcRnvLdAurFr/\n",
       "tTD8YRTqLbMBC1LqdNuZhOcfo6kiVeTQVqyS6cT/AObB/msOmaluCOFxoOGJ9aPjLkVLV/0+AjSP\n",
       "2ZI2YzU1QwBqrm5wbFGdhEnnDtBaBKCoBaMwHqIJRaX2M9w9qSH1VRbo6K2zPs/yy2nD5znIbJe8\n",
       "LCH9umYr8EbBUfWz+zb4ooywWz2AiiwhlQ/hhW0zwTAhxyHPrM8NLuwlqGNMAhX+YrCTpJvxZRJd\n",
       "p1IhD7H7cTO8nnmLkcHuBoywsFq7GmV1k6zpT9W4fvyUHCK37zhU8/An5Vw4JYCrYLkWsApDuWE5\n",
       "GsT68I1lXzPYufMFZzVDtvZM75CDi14kMzr8UrlqX2IPHBk7prbgSYvz9U5HieGS6+O8nHVPDoTy\n",
       "PR1xknQH00XIWN/lHRalVOzLnXiMKTNG0Iun0PfRZMRch6JyNUNaU1RGjLu/7v1v0DjxhFQhwjw8\n",
       "kxZYSQWwW2VxcfyA7hjsfkzqa0IT6ILC3PPpZZV35HcaMb7GvNUHCrf0V/TuQGt9dNVVaMSXGV6o\n",
       "Oymb4ioxn0dYm9ZGmnG3CfOIYtu4ySUeBIR/qnIffXK58eHr1U7vroyKlaM0M8s3i/lCUYAXA2xt\n",
       "kCq/ZxA3oAqV72bVk5Fl7pePM2ojgssSTl3Rafo+fc9my1x6xUVwhdsZ1xJiw0vtd0+GDOSS80P7\n",
       "wAF8hipgaXhHGd6KYlv/hrliWAPPvXNkt5CJcG2VrRrR4VH29Ked890ubRkJK08IAqKXLfKLBwfv\n",
       "xKkoqguxCLB+BXRVW8MdFilmnRj20PwoaCM635s56/46b5DiKfXYbtA7V0bmlFr8aR2H6Izr7N/U\n",
       "UVKAc2ahXzu37di8pF6tpadPij0Nz4OmCf2iazZMeweglKxbogpdvjRBttJin8EIqh1u7WdHw/Ei\n",
       "cZI7Y55ueJvgRy5I4s40ZQdPJU3edyPsSIK6+I/3W/cyODiN6lhY3LQ3fYQGZGYsBPrZXeFauPQe\n",
       "u/Zw92xK9M9+zRHA+Ew3rHdau1v2Smtz0ljDzdL7yzlWmiw44vGqWDP23CR9M9grbWjGSIDM3kkM\n",
       "pA1249gsOxx783qKJeFCYpTRi+rz+tOGU6TNPT43Mmv/cf/fNE8+/b/KJildtOG6FMAQe0OayTMX\n",
       "0+8E937g+sNcL3b4GtwvNy43ngYj04cMFmcEHMn+JWNqMqrmM3avgaxrzItAP4rw1nuUxjniF8oz\n",
       "kJD82XmHw3A/lzlhJahFZv4ylfL77iawnSi70gEFJw3uR0zzIo8zzCEu/Kv4ycyfx8DxpGmLRv/t\n",
       "qxJdRLPxZRUBNqwPNUmkpgXn0Ri2WB+O85Kny/d1CLXlEAjaZ3rP2s1KZULqdWJZnfVc8yj4ON3V\n",
       "XpmVNdCNs2YV35tlOsFR/fiFHg7n72uFs4kgcmDCm+ePG3wwFI236EpWYhRRBpCne7jyvBxJYouU\n",
       "bByfEAZm1jzU6fQlP+yA0fw38LyjR+OgYrC5uEcUv557FGr5qFbrvs74NdrRcxXJjyWmYOpKNwOu\n",
       "IzvQ56GGNy78VLhWYOhlx0y//0v4o4H8CipcitHU/73to0hds5v+IW3lkd6dnMayXhqR2OOXIIJT\n",
       "+bRC27SD/7nPC9B38jf89adMvTdGZEfu88zXHELLARR1nWCQCBT/RGJHNQ9O15k8z+my+lWrcne2\n",
       "E/RIxSyo4pb3lRXiOon0czkXImdHw3WXbNAqaBxt6VNGP6VxVRgKyrgBmA73LQNklSph4iYLZ6ZU\n",
       "1MiQChmSrFAUvUdMsyxjDoiTeLi81AR3IaeC5o0Lz4tNvx+ZgMt3BJqV2eTE7HcmTkblx8XWcgqT\n",
       "DMHcE9wbSyRNlWq2c4bH6ky/PCtoyq0MIZtsm0ovdiQXF+uxtWFhPndjZgAYEKUAUqZguGQ7VlGt\n",
       "YzsYkecv9XQ2CAzyqDe0Hww12lwHedOBMOPQj+XrA4faAWdSG9HBRRas2q0dM2kTjk4uKUCO8yPz\n",
       "mrLULVIsmCxFRvF0Gw9jhIs0buoit/dKN85VTvqmAaPGpAlOdLJnacwgcTrthb9jpFQcvicYt9+R\n",
       "YHU8v9j4wko8bKXoX4FzCOX4ezP21oGbPG/kAAADAAAEhQAAAalBmiRsQU/+1oywAUEjT4AhKlwp\n",
       "0uD3LlDq8z1NU/MlhenB7Vdj6NO1PdRFKoids1Z+vOCTLI+udLhJx4yr+y44qM5XH8/U4s5txCUj\n",
       "0N2sSEzRqxvyXX12g38kQobXdTsvXFUaU33rdciRCbHFnkLgWFGRR8aZKim44uQDRqLDNjgX29IW\n",
       "8YIIklbLsgO1sCR1mdEMopWTV19Vi62W2jYd5uwHggtlS4W/b5RhoHj3l3QlyMYN07KFe4lKcu0O\n",
       "92aiYs/nuxDbU3aL53JFFiZ7XY8z1I40x4eZb/4T/pcKznUdPP/OjEcdRejc29V6Ordp7j2gu+hL\n",
       "AZ5pOI/+bHaTC3UnZQXdJeW8xAkZFnzjcgxr72VN/5TPGcE0QkUtUUxtXW7lPNj45QSBcG/oaJp2\n",
       "+JF5ihVEckylonaxFvkBpqMsruTz4IL86ixTVjMxU0LHZgF/6y3GUALsSx6ICgfmUAahO/4sZIyr\n",
       "FH83gnaI9GgY+7ri7QiLEBAHPn69fcea+5f7YpgpkmwCa4MAMfx8LTZPNNQpRO/qOEHk9ij/BxkJ\n",
       "I4HDWLIO6AAAAkNBnkJ4gj8AAzbWzDTyLcU4csYACaKDFvvZO2KO84SquLZnBiOcVB0r0IlUZdVC\n",
       "KUZWehBdrC1kInbEcxanj0scME5/IaIrDBGrVfcBeSDrjiF4057PvkP2165dGVXP3njcvrlPp+Zk\n",
       "Z9ej6aNrSuBjt30TFgjJM9qHPJuAb4DVzYDcdFzZCCGxIjDw6c5N67cGQfe21Rk1dACVY7f8gP/X\n",
       "FCJAjbVR45KwGaeBAqCC6c/khhEqQG6UypFYe0IeVcwWrdzPfJARMwbSdSMqnZwrivAbnPJ3II3V\n",
       "N3RQ21m213vb0Fv0ytwk7K/hMsiiUlqDjd9eSAajOjHvwKfXHYeqSrK8jPUZIcx+rdD/kWPVkHex\n",
       "qhthnrZO98pY5oYCSjgNv6z+W9uCT488Qpq4qz6RlcSvf/YJDK3M2YmwdmrLTQMI7ZSEO3yRRsIg\n",
       "SBkAttHRmxEE7dAIf+fCtTZw/2HhpHPnHclgrCl3yll9UQTGtt/0IpEAXZ7qau7dJds5s85fZoHo\n",
       "bwcHOo84XOmnks80F07pCOIqEvUp7a0GTxNivmLXG3KBUkan6SYmPW0QEbq09S0u3gZfH+byi3Oq\n",
       "d8hNvxSvuY/ijMy9JqEwzL6+FlAn+szCK9T8SKJpEo4B0ibhGkx6veAFX/n4ADcQqaMyanoLvXjj\n",
       "asXUSpOBgyAfh3QcCmyicTet+fYVAtso5vipWNxBgm1uutrcVgSvMHz4q0EOG32Hhx7Gq7yVotfV\n",
       "sG7G1k/oDu4AcRW6XPdi976JRB0AAAELAZ5hdEEPAAYeUJ82N5egA/hHtDK/fkgpZhXsgKkR9FRR\n",
       "1NM14FIRQzfmM7T6YKjgN4cl1sLmDu7sO9Y88awhrNeQqgNJuFooUrdU97+ad108YobSX//vSXEf\n",
       "G04opjwRov4PYxJS5S06mCzgctx/kAxMDBSvJNinl6CFG7yafyQSl4xDO9GK9seMpEUDeHB+rKNV\n",
       "0kz0Gx594G9kDqravvay0GHBiHeVQIhHzlJ7ecjAhbWzjSHn66OzvmjkmqfWPiobi1I6T2ixt2po\n",
       "AXVJZ/xmk82S1JSVOxG0IvQUTngPq39jHellL876PxpsfpHjk8SCI4J1lFsEoqBgdgxSWvgQ0AAD\n",
       "QJ+eYBvQAAAAdgGeY2pBDwAFzy16tgAB/CPf0fW4nLU5LTyncio2shkfoW6IvYCfjj85vJLCaITI\n",
       "yoIhna8elB+cWgvxRaYJxqG3UJ49YYwfl2uSxrQRPfBA+2C17/edWlSP4ynO0lMV84FKAKOr004J\n",
       "YVvrcUXMBzsgAAADAz8AAAQPQZpoSahBaJlMCCn//taMsAExauCKAADsYmgZFh+qUTpf85NOkZUM\n",
       "5YIEL/yS3BI6xvv5B7g/sKonBC3Ngd3v7ULmHERhigNJF/iuqiQxxge1GdVOpf2OZp/uIL4tr+XP\n",
       "7ZvP9yHE1xqirAmQ5hfMA1FNNi1aYHCEnlMTjDYGeGS9/B05C+AgIUsbj+7+0wJ2cbghQnuF3NaS\n",
       "OG3kvp/OaqDg1UfvBfKVGBvBOc5YnOVSoVXBhH9i3n2Fr4zLLhHr14EDbtX4II4o+SHz+ytG+8v6\n",
       "v82nF5BMdA/5OBD8ctWrHIvnb7EOFZMElgPvK0jqh0frnBI6SVzkDt6z2ekYVIoEZspcGLxH//Nw\n",
       "QnPAbGiuPblnrkEy1WgfHM6ZgmrmKWD20S1hwlPKmK059ahbHrsuxoz6I4B+JmhaesJ6Q6Q7S3by\n",
       "umZT3EBrlBxI7Nykuv2N8X6KdwilC40EkH5L2AhxkmJbXHWEHgOwaVRxneYxen7S6O5A13cpiapv\n",
       "VLBvInY2bfFpqdxoNWpBOf8EWMvLfUFzuZRHFtT6/5HNI0V6mILSpfY3HJlOrBpYgT1yBmZpdyb/\n",
       "US11JlOJE2tOXHLBvFtrjyisCFQYQQ+5X3Xbbe8HDH6mZ7TFhH1dmJkzapxPERjmRBxP+aOaBAuw\n",
       "XdRknYPf2/h0+JyD3edJHg7lsuw/V1icXuJ93EQ+bUXiMAbKrC2Xa93U+gm3n7dj28ZbDhkyxZNU\n",
       "VGTG2qtFvf86P0LYoKanZLVl9V3p4I8v6SEb94VDz07gRsWIOyqbZFAK2qiO3hcvUBZf8m80wows\n",
       "KSx8C7nRKgDveJutToAtlJ31EjGspcPrYiSPPfKXPaR95LPHQ23DC/6VoQP3ij5uIRryTlsqdeJR\n",
       "xJLL7+5C6FrjKc5/FuQlj9djlM6D5NHqTN3rkKa/bPU4IjZB0Z7VJTXjQH31GmcQAKC8tDpRTkS1\n",
       "E729TMnhUdhRPQA+K2oGIE8tc3zeEc//QRsI8UiXiySzGOcc4wNljaRuDAPNXN8HPonnYv+kLKhs\n",
       "l6O4SRba5nxqqguj7js12U3ry6NVszQlNkM6OGqn53J04t2mhU//U9jPEByErroqf4885FkU39T5\n",
       "pnvNLJ4UNDnHS0R6Fi5DDR17IWYkNRlFW0xm3idxH6vKybzpC/vU8ILP/8P4Mo9XGGLXqPtCXQ93\n",
       "W2eV+RSIeHKmVGS38itUvTrrbzpeiOAb2ZaZd3p7wPmH4AM13s0dXHLCwCs+0Xrs1T/7WJnm3b6S\n",
       "fNsGfhutcG5cm7urxBG8o6EG7SHRpLran8h3h55Z7MBYen1SQYR15zXrY8LmDWp75w4KTAk5MkAm\n",
       "ZiRUj4XL0O8YKMVujBezxHxTQrMaYU0vQKyUMJQDawAAAqtBnoZFESwR/wADBbIbQ84VVt4AE01s\n",
       "UW3uJnQ9l+nI0nGJxJMyfm6rEYZQ3VJsoYbGp9g3C36FZnAlmBS8wE6S5HwA525IILGHVhQlavwE\n",
       "VIMQ5faBA9Tj/+CvhZpHzievBIJpoDTIQli8syCwmkvnJ2/N1EtfplgjF7WzKqqbrMX5tn+mAG8+\n",
       "dqfPmFAGM+1ge8HE5rnCRg8DPF9AkCEbGWcsMQWuq4W8kQ80vzwG2aTUvAerXpn6BvoRb0oXumgY\n",
       "KaPOmxFzVeQi8pnEpL4R5nD5ISPkk/PBgrSSlS6yrJwGdKDfqKuQgk+StnHK2NTEG0sbtPpfbLgz\n",
       "9S+cANKw9w0DMT8PfV0uWW9l4KPPhmxZRPloQf1HH5A1XytRrI1wJ38xo9zSJcd+XkGbQgAj05IL\n",
       "6JE2r3vo3RTIpMo8tVTduBGKP8vJ0voM3+NTSiA9QoLOLMZekA2UX1pzyIXrnJ+qkVG+aaRBhgh9\n",
       "BLl6zs15UL+DFEe0jQHDwhAqkBpOebCKQ/sjg0zc84u1NBth2c3oF3QwW1i1l2l31hQjnWSUB5aa\n",
       "3NMTPyjsIdKNLund9r5LMW/aAytWdUXRdacrV2OWAzshPTBcU+jZskmyxl1jVkQrgv5oM73n2SDl\n",
       "I828HuL6waoKbau7LYdAMheWxMBM0Elfn050hl1FEGGhhoHmrwp8T7ha0LOIFOXfi2Tnrp4pe3U0\n",
       "KULDy6a1t+55F16ODMfhDAes4YBnMXIViRz4U4aKOYepZhB0Qam4WugEmaf/rOclMAAqQue9OO8A\n",
       "hYwsp5EVwmfvFRHB0JQx0Hj4b4uo4MS7j/IwPz7+0IwCoArfk6qNuPcwrh2WvlcrwX44DpMsUbx0\n",
       "Yek0Ncbu7IkWDnihydv9rVbQP0IbUvEYDCmiR2coAADjgQAAAZUBnqV0QQ8ABb/cEY1gAB/CPfwr\n",
       "px+x4THm86pS1h17mck6My+N8x3mFDs34KEY32ibeNgAvGJgIBXkMrUQg6zq9Jmja+pMFtTvwkTh\n",
       "8MXTciXJav8W6z9Y3r/57mUKAEvA8BTizhJmbkfb6/TljF9lL0Y2ZjuZlVFtjGUy7LVOLTa16/nU\n",
       "a84AngTk+vWNbvc7uUQbAEbhv+ft/fd4aUoYQFX7b3fz9s0CGUEJGsbGoT/kVZXVVMDAqc3r0j+d\n",
       "RU0J+wBnsKu2kNdU9MhjXg9TA1f/y7ieFfJba3CV/iw2AJMcqTZMGSSC6FF6ppj7TGgFHLT/FnVe\n",
       "jFmngeq4GnkfUOhWkP/69BkyF6r+JAJe//bdCY77aScVC5tS+3rYI5kfqEwbN1RARaK4uUJHj/YL\n",
       "5aQ10rCN/EQ26QH2BkHMkdlWcyyNFo88ZHL66stozSxyvZTQlcc4JyEJUwec8+N9xanP9HOpc95M\n",
       "RBuIUojEsCPSHkzSGXUbQh6FCLruDg2lHGCQU9bThXBfmqNQmDZOogAAdMEAAANLAZ6nakEPAAXD\n",
       "z7U4rv/3QgBNNsvFnkEe4ddceKG8QWTfWeOLU6qDjSXKSkxe+Z1SCN5XTqtXKYNU95eatm0SYGdk\n",
       "iNB25QCYp8PyMK4ZG5YQzAP9SPiY10FmfKTrGkxGlnpoi5ttycY4yEeMCz+/NyZY5y8MNd6rgQ2u\n",
       "PxDcblPWfP7iIIyeaW3XvdpPb3XTd4k778mNWbj49D12RJDecTYfE9edqFKgwealR7Z0i6C3ne+C\n",
       "7JfDnCpRKQNGtKoUomZJ9YrjshAjFVWXR7NVwBG0UOE3iaFkcVOzkbsUR2vphM6SE3rYa9ogOP9H\n",
       "fNFs0x8WSHbb+/zDk5iLgrC4NGBIuJzVqg6OBu4wdmQNXydoPgeemWIiSBt9g0576mJXginy1Fy/\n",
       "QfXuh8GNVkIByommI4BZYVoT/ny3U3tuIn9D3GHIkZgQfhVj9NvlVnkf40vVXL7HYuspVkNe+RZg\n",
       "AFO6Vf1b0vMKKWV2fxVujpBxe8vuaej4s5iOPHP2ufyhqJ6NnodhsNqb11DpNgkXDr++DdZZIMhO\n",
       "HArthx/VEd9fvv82Na+JrnaZS/6XmULGhHGhRu6vfzn1y2iVVWQZ6KjW0643d0iFMMH7F2S0Bccc\n",
       "M0iE2ijzYjGF7aNlBiNFyWfcbIs450bOcQ2qvgJRXdQdwAb1u/W2GoyTbklls42eJtChnUVWA3xI\n",
       "2vZ1I10GnHWOaMz/djmi+rd00ne58qxA6hGkll5ewYMfARKnx9VkXnRzUYi093W2WqH0aisxMTO0\n",
       "SCns/fA+5Fg+zXrs0RbxbJl6I0Vm9POyLGfO4w5P4ggmh9AYRvNMotg0s/dly8eq2VmAi5Pa9ber\n",
       "K46cGhxGUvsZViaZAQ3a1ei5FNeiZDBSQJ3t16LjuYr+7fd06ITH96JpsAuC0gGJeERQmzzMPbXA\n",
       "NI+Kay3L5mY47WxJjvXEn4xGqeDwP4065BR+T1TK/D4UzcVVTbGBp+eTgtUT8b7/AnvlnWX0b7Rn\n",
       "ofosHAEGMYOkrzs1mMjKoTOrLerlWwGpVKqIkvpQPyk5No0XWLHtNadREoSNdhyBQInU2VGxlVVE\n",
       "B7TTiawkNbmYwmW1bC4EAbzt7h55CiuXI/0OPJpthYkAAAXcAAAF+EGarEmoQWyZTAgp//7WjLAB\n",
       "OEnGBL2cpABWzsFcwfvYwdYN9m0ndNCAxICDydyCZM5Gt4qiizwMxGH1IEYW0SBrkLJ4TsFazxjN\n",
       "DAMyYbMt0JOf/I+DH1Gik8Hxifsz6JPgpsZY50XhtD5XW3XHDT/HvKP4jcdfPVRZ3jow5C5fnXe4\n",
       "iPoS+n/6jPNJRuD96KFWJ/uiVZuHIPpM44/TJJt/5DSML2ntDvPS/P5TIck2iIX4+XI+b8lhQAmO\n",
       "w0kA85f4Ug3vYLYrjpWa9/T9Oimi3ujoNUOJdzi4+srSOnLUNDCDjvSm9Xkw95ShEr1RhK3FrJgS\n",
       "/cB6igsiCIWs8Cg+mOpDedIQb5HR8M4YjbJjrCYMz+KH0X8nqpFlzadkX6lkGLqc9jrHyQATuJ7g\n",
       "loqASMaYX+uL6cACpfHNt+x9sC39Ndo2KCltI+VtT/k3Ej1Hz+RvwYxuQ78Tir0qQres6Oo942e0\n",
       "mNNUXPYt712nPOnnB3do4jQkrpfX19199r1F+dOnCYcePx7wk6bsx51rbmj3yqeUth5E0YNEbcYN\n",
       "i6xQYNEHkUtItxBobigc8wKdpVcENL5yBwivVfXSoB22xryG6E6EYAGZ+2tnyRls1fQ62MQyOyI6\n",
       "27PnFlt1f32FenJIWB9s1wg/cK3O6MNcun+7CCeUz2EWoQFv57YjOQQMpyJ0FQsrKhXaadOfs43V\n",
       "jYTw6AlrjDyHFMTC7rfYZsCPw/hI2KNbBUIAnBEn4zXVThyoiUvxJSh6jcoNx9a6s3m8EEaBZsHn\n",
       "IA2uIIGZqm5cktXykqvrCRJLhhQu3wxxccWQWu49WxV8FflyiAUGxY0e+lI4AQI+W3nk5wAqhEdp\n",
       "dposhp+6yfEtqrOOm1SeOtv1lRr6On/fTX4P6MOlud8Ps/eXS9cgsF+jO96xp1+JgeYJh9udoVL6\n",
       "Awv0mf+G9CKfHtmy1GeGL0avTacOguufPyfGqjiiWcGb6+Glh8SKrv5pUr7L7pUpnb4t1mm2FGln\n",
       "Sy6te/SjBpXacX/Sizz4yCTE/iMzO8V+vAYa3hGWBZLbv3R05aV3C6IlLvmuiQ9wYHrQPnAfc4FR\n",
       "WpsLox33DpueNHvw0Z490H2dOPoeagNNUN1sRBQQYHq3zKjKk8j4WL8jSlM/+9LYm1UV7oX7lPaY\n",
       "6aS6SO8vxP3Kl4z5UHFIfnIi5G9/ho+BUglmll7nV3eFZyHiNAfUIUyGND1O1jhQwg9e0C2vUsLA\n",
       "kmKdFkWj4xb3pG1o8TD8+VowzokDou9bdZD4ahLrn598BKUOyzXWwRNRuCoLvdKay3Kx4CIIE7VJ\n",
       "wcVQe9cPns6tsP+r7oB1IbF+abhtEdaPW1tUP5hIKoexDKfKgymOlAXYg7DJBy2zC8QMaD20BRS5\n",
       "UAWyb0r2kDdj7eqAXJUfrk3mQMx1h8aAzIEzR2StiRhhKL6gjEAFeq+38w1XitI2ZYg681kTm2z7\n",
       "2sxDK5KuuUs0CVUm+5iSVL38tbOArbxoMvXu3c8Aq3NFqz+YVn7QHv2LvWhx7jq6mwTHEimjxZJm\n",
       "A8KJLM8m00MM5pCiB6uOYWMnNIxEWg560iS9FE8Zz1C7lI0Tmkxz9hX5X06uZQVDDjRrioxVn9rH\n",
       "YkiKqny4iIRRRs4y6sZJYtHmrjGq3WFO61Ed1W1nkf232wq7XJicxfAO83M+cma0jsGL5yP7oeLT\n",
       "emLyxLuE3XEvxAKBKyC43umG5I3nk4qZ1OTw9DP86UAhGdWYXIRtYA51V3fjC/gHBw5fHYEicLBC\n",
       "j2IncsYr6Oin+PFKpGxADI0NfnVQm36mCJYWwF4Av6xOrpnHKvsEqJvnPPr62Oo8KtlEsPwLyZA7\n",
       "uZ6z4ckztCOg+NTW3GF8H1aERP/QDdCIJjAdCYYf7VR5IvZnZmGwK0vw65lTgTKE5hyN9whwvDdy\n",
       "SnbHQFysiNNZTgDb2D78nwXP99KaQ/LR+Xj2MfxmV6k8R1lcNcmellvmXDnPcD5e7o3IxeuHSbCX\n",
       "WQOy4DOFFw6oXZafLuGlDd4AumK/zW8AnNroD0gAAATHQZ7KRRUsEf8AAyLWJ8/tWL7TWACda3YX\n",
       "ncjdZ9G1m/+F15F4BY8TrXQYEluoahmd8qAg2xw4eg5956ZPj3g49eesyx+yf6b1W05UYY/1nyPA\n",
       "vLC6eS01/HU1hzuQsDdf7i4nYOqLFZHrrpNv5bpzzJz7LUCOaDaDilGEPoAVQ2xbEBiFfHUg3xZn\n",
       "13F76W2GqeE/w57EqRwt8F9OkEa1vpNNhRpKn4X8VkevTUbLNgW8S9A1PGFfPGLNZhVfENdm/LV/\n",
       "d4672PLpr/ZnTCDBw1o0+JcS54uZRsMHyPOQVSyOdb1c7+8N3RfjG8YhN9io6RPT3dWiZqsy4MBI\n",
       "gvGznbX4XFMQRKtc6vECtnMpYeJwQ92/IaziimJZ1thQ9CljbrIUOtbnrOMiUtT1pJWZ5laG2tab\n",
       "1tQMJsgYGU4Tup0UF9FUgf6NAPsKmxdD/QfrilrdksN1esPO1Fgjw/syckVosUzeFpA1Lt/jLgBL\n",
       "70EC1Ufgf3bXUffw0D1vXtC8kkjJjGg6NbF9pFClPsFHi2TXmFlVcU6R4nIEzEwmQ04ulCSA9XMI\n",
       "p3mY3/dMLgkmn29Ql3UpxsY1k6Za6YhOhxTey6UWP06XKsOFjTtIv/ydxG3KJRAF48XoKbhmDAi4\n",
       "O8R8VB1EBAFMRLnTW3YiYF9nMcf4jT2C5FWg+Wv59u5A3EhUpxOXgO4nfYaSiOpAp3nYVpXvm5/p\n",
       "NYSYsOOZmMPzq81WT58odSkaow6LvjBDH+4Lbs2MP5iZhcr9hGsyUv9DJwHfVTLKvGhxF7PbeWIO\n",
       "hJ1R6TnM+aRaGH408nSMRArVVup0CxNdAth9y62KiE/najUjJcsfv9W1fHe+YdalzItfUKqCPEM1\n",
       "uGoPCHvhtzyLrgb21ktFqjOECMaYBgunHU46bf3yZIZxpF76XsQOddTJXi+dpdIVHKqu5CR6Bt7m\n",
       "tVuEkOQLaA25NLicyUQZVNuCmDU3r1qlDX3BZX3pwmKNskazTO8VoFsq0IJfOVSc/euCkxW+J1Yx\n",
       "MQ5XvE0sSW0i8Yvo84YWPlPMF3Uzzuxkxl8yy9JvZp/J2O3ogkOfC6/3e1C/ASt7zy0ZzkqPLYMn\n",
       "uxJHz2olZgmcr2yMGbjUrpXOkZmJGHb5ZZ4tGpU3KpAxcrV87AE4wKrXbbTHo/CX1zJjy/xmNZpw\n",
       "MmpN9QnOVbgsV6hNO7aIbgPCU88rG9jcpUG+YyPBQwnUDpjiLseAGUUjZxFuNzOfMncHBt6XBE30\n",
       "UJqBW2xmiOg27roZnYiWUitFu4PVlblPhVg/hbAD4DJ+g0QUCNZdY4q2h8/7jfVCp+7KtHGaQDsT\n",
       "eprJ2pSM1vApLBwCv//9FVMa4mi5+oS8OZ+jcD+5KHEL22WiiXX68CzNVAXxgOsYOXkce6B+YVgF\n",
       "RXc23nud/SdYGWxZnMjwd6DzL4ujf1Wi2Odv14l5ilD02+5Ka/CRipT68oHHlIsEeMCEQ4r7XVwm\n",
       "jTxWNYfjkfDXseUJBodle4EfkhUcxeJURpB3lnV4Kg6hllVhx1el35mlE53mQ1bhe7+86ZxxFf+Q\n",
       "Fq1anfjoo/PLiuOFGE2/mxqO1yMHUHL6uzrSzEV7zLEjJVPAtdG8u2V/8n0NvaPvlBhFbkAAGs1A\n",
       "PmEAAALxAZ7pdEEPAAX3KH4asIAAJo3kqJ4vrnqUE6NdUS39HpvoxnVw4r4tGS4rJkLdzLQ33EQa\n",
       "RCJ1sfNyXwJdAfw89Y1UxhhysYyTQjXgvltA7AsnliomiTqrfwI6YlW99nG82h4ZOleI3FBd2ie7\n",
       "e55KCt+vVWZJnE9u/nQ6RKi8piixmp6NtUWlab0TxQKk1O2qZMzaWsuR6Q28ev5sWqdNRdzLrBii\n",
       "/ZmR3xkWusP9NGUP0suVW39tRWp9+2kaH8CLIfhNJxfXk0t+geiB9C2C11je6iK+BTj4kAyU9K+T\n",
       "8ZRF4uZxjPS75yyWCdPCvs2ud+yCpmWkJ4L7ILxzTwfrwlTXdvyseIGoNixvWDYRtxjWBnyQnnYG\n",
       "BD2MqID2EmNSyMjoVfoyXSBY6anDpUbnY4VPIqaKVWaOIUiRdMeBnvf+5eyFbCyEixAW3G/wwzam\n",
       "/aqbky14bXxsflT3yqLy9abOzGHF93J5NQ4iWdmYtVMef6zbGTHqlbZzP/mI/WsEYyxpE8n6Wqr+\n",
       "hy5k3WwLnbrJrOJ40oVB8FLfQiAFmoms//jK1rYFs1UPjEdyfLllVMuJzaDteVZizirQeyVFLdU3\n",
       "Stvde6IAH0pngE5y5W8F7DXdOTaEM+VXNqn1RUayZMQ3Cplrp4nG/6i5V2VoC3Ll2WJ18Lf+3t+s\n",
       "midYuDGuPFJ7ug8a+ABz++SFx6xcZXnLnoVbeQO4MCCqpQ1FvF5osxV3xWIyqCttbth1zTlTlD33\n",
       "KGnqUFYXdFo2IHuPiHksUotmdJipvdQGfbMhMLDXI/QUejUxDPJdeERxTbXLbSuYNC/WqIPVAEh5\n",
       "M8l71Yk/kEX8Ribpm4di9yR50c043uIhiYW9JFPwp5g58Ep/T0w/wbYebCSjtdPAtzapcIngvp5Z\n",
       "dzy5rsusl714kCpRP+N07ISqqTxuKHllUlSHnpM8CUcAXC6avt2S/l5SVcekmxHGBKbY9MLeW63r\n",
       "PQT3MzIYlWwQup/wAC4bwGLAAAADVwGe62pBDwAFw8+1V98q/uhACabbJUhq/3fQKrAicC/1ErEM\n",
       "WiUuzVbZQDgxT/qgvhunjRCFj3kK3F53rH6GBefipN0UerqUMVx1WnGvsHt4EBENbF++tOzDjKID\n",
       "LXwAaAWN1vvNYC2rrm9EBsNMzyYW9IMmDncgKmvgowji7tNFgCnfSbO1aunthe8OdYGIzxKp3Q6Z\n",
       "0LPYFhQUJETd2S6otanNKIg0pM8rYzwQcT4SxjRx/V2ArcKbANVxV7r9fbwlBFq0XGWt2Qs3nUr9\n",
       "UeDaW7Yy4Sp6zI3iQIK0DU0HfC1gWdu/wmVl5FjjJQxjeRRr5F61vwaGWxUIj+8D5cWvBG4tSNYt\n",
       "m4+nH9Y/l6+r1CwKWAUMxUlXwPLZWrEbXPzxrQKTFVZRzHjzmKRqFsQ5FXqFYCjRSC/ja3vPj40M\n",
       "rzpcVwGaK4BSImZfPic8eJeocIEn5Rwrges1LxdVAmKMMKrYVYlctk7VRNdbQVNutZKIBZZbdf81\n",
       "B3uVqd2ouWh7e9wG40hTNTm//eroAIOcx5RklJfRSrT3Z+TL1AVIzaBohPDI2reAXuRMjXCIPaj0\n",
       "D04iXJGJxE0lLbNnwO7N6iIkrzx/pLkI9Mv58vFTur/FXH/FsdrZUhoY7bEjFXU3P+9G5C1uVQR9\n",
       "saKrvwdIQuQI+O2ORViSkpT3kT/l8iaSmgw9xnalOr5a7v5wXNkZL3hvkey5O8iXcwUzMEMChDjI\n",
       "/zOn42GN+x3bhzgyxbOSDlsDrJ/nJcPDUf8mqGrIA6Ictm3WmscFhIx6v7KKjVwQ5+m8NFyX3N7b\n",
       "tOntHlMj0HIUIRLhQ4dbJnLnK4d5BKy8/7SRKYhfEsTEVcaqaG47KM83w6NrQAcHNH/MtWmNOhBZ\n",
       "nOYGZlQAycKhF6J9eVgrDe73UOnDEHSftEuGsPkxwKKsjhxSbC2tWU+mhOn/+uTHqaZmEhDRNBZI\n",
       "yxXjfjmW+ThRYC1euK9VKL6lQ4Cx20N4eIjZx4dUfZ/hw9704QQCAx0VUkjtVHDE5+eNz2z2c+7L\n",
       "VWD5TVJnfllOMoUfEQnGnoxeaRIAPdcbOhjSPstPsWV7V+T6W5ZPnOa9kB4bJZcASAGyBhqo49Q+\n",
       "sIAxAK56VBq+J/b3sBL28pRMAAAyoAAABTlBmvBJqEFsmUwIKf/+1oywATBCLojba4OABtWBYbO8\n",
       "NRsYUsfNO/Yh3t2t6PN92jk765Gvx1LmUYU+CYIIuXYZqL2ARn5AeYIp/vAlnGeKFz5qv/x28DvT\n",
       "drMfEtqcSWwIBdOMOCs1PsBe3Si08mgJJUNiSg3HScdzjTLDtaRBKDamaI6KrGF1L9lRGDNzCCF3\n",
       "c6ZjDvBDiJLGVZU7py6DsbkhAZqz646BgDYvD3q7u+HRQ4oR850BPcWb/whnrOmNc54kUceYiRRb\n",
       "jbbPoRH4GLCrreLWy3TG205v8vMlUbHjyTGvL4yYT4ExIfh51hPdCnOFzy15wRQDzROVP0k5QiIT\n",
       "XxbxDcNLxZQQ/X6Yf+ulpZEEU23lu8ISjZO4bX5Ct0Xgblm9lJe6srTOrj63BMgwW7TROU7hUul/\n",
       "UkMscGBZ8j9zC6QO5IjuHvUPOrZSF9ZV/4ct5WAZm0V7goSUn8gdD44LxEI8lyCcNUSWUSK7WXw0\n",
       "QzAOTVXchq+bz+ZNg/J43R4ucRpwOMUT9etN8PGu3KAaqKzJBk5ZkOBEzGKZoho3VaqWnETJe9sA\n",
       "kb17xYenWQjgaYna816dlQIoSi+Rb6u3D6b0wi//95uIRkVCxYEm5Vu79VdvfC5aCubpDt4LlZpz\n",
       "F679Ty19tpBYcgnu36wVcXCEzIFq0jM4J5PNHacb+6RiVl1FR8cItOsBwDEEyyYyAPqQS8KL3xEa\n",
       "RE6aoCEcANXVafNV81Dz5S7g5oHjfeuiaYvTpPD3fQaZy+y/8pfAgU7RsIEu1S44ItCcb6u9thM2\n",
       "sduItCyq0sQwRkDg5rzm8foYKTV2FFfdExTqnMZF52aTeC7J1R1waJ5SBEws0MwCHFNVpCtFY6MR\n",
       "jpc6dig7vJWgFIcN1Rra+PfXebFeRD5rSwU2tE2fpl2+PART9icrF1PekRQM7uspq9mBPWrCAEHI\n",
       "mvTM7z9sFvkWfgOHSH4xAXzeMvOoMdPbISqdVXK6r4TQQanS6fC4VVDsq0gUKmXigEMe2SZ7tURr\n",
       "2NdQzOLbVZtzjdULDlMhzchTfM7TjrhNSFV+mfCV1KPvs2i27ad4oxASCs2u7nJJTyYxy5xUjcDF\n",
       "gU/iMmAoFp7D8jMpXYuhYJ1GMBJ0HqZaAWlWZ5CEZD0D2lAq1h8jiRMH0H5BNvLbpzj48QFEmKQz\n",
       "Pq1wwI7TcwfTLKBPeKQYBO0WOvxlRlGKdwhC6LW1WxYwS5JKsWkFd5+cziDMtGjJQ/CQLZ18cZ7Q\n",
       "viCvgYFkQ/fTwUWXIxrN6PQv5919zCwAIaMa5zp7ajJuPwlNxRGO8+9BYpgyoHxkEqeDJ1BW9xVr\n",
       "bmQPr21pwJJfhytm9OdM5stwOuF3Cbx+Vy8+tR3zkZLt85Qs1qjgYWlj7q4ZiUM9SxFP2ORs5qZZ\n",
       "ENSq+XOuXOiv7Js8bvocZT1q4nEPsgvJIimvOA4eWCwE7cBIH3HKMI93f61SZE5sInybxOFXTHuT\n",
       "PcabSKHRnX7LTQ/AuR8JdgppG2vYWWChuR/9YyAc6gHd2oWuxrze+7cqWeU/jaPDLuOsUQzAcUcp\n",
       "CzeEAhy6+4BUdxoS0aR6dR4oeH8p4bSqY8kzacdKkdobqjsIILlYiJnYuMSNFRGerYb7xKRuNpG1\n",
       "g9RuxyDYzCXRVTKcr6wqpucHxgYw/aDpodmg+7ULCvwSTa8gGXC9nt2OzcZN4aVMuOf9Qeus7ffb\n",
       "/V8H9b625WU/hzeaD/IRQU2vKCXftu+PP0fbPSblCSTMtadZWWC3sJ/ra9UBS/L0AADFgQAABIpB\n",
       "nw5FFSwR/wADCLGzG1vB9UgA2q9MfUzM9JmtrkEIrjKzQlZ200m1XjEeGYwAq5el4vxP72RyGncZ\n",
       "kvPotg58pWSuhgt+tC/+wIHdRHw2yijIavhQxBWxhPDsWCiLaASx/3ByFkJwmwmWSxuLyICTQd3q\n",
       "3fUfx5M6AtG+bWRcs5UCdgezobgKe9sFvs0Vd8GynhX+IXHBIgulDwraTh0x5A64elrwAzgIrmN5\n",
       "kEP0gBAAMZMpXlCSc9FUinNUmDBDkRe0+vwX6VeNb+B/Q1B4SMZ4G4dn7pvWZLveJF6ssBGprak8\n",
       "9Q3dyTGO9Wgar+5rqlrpWZXUJFELCCeSMj+WRIYMxm71Ct5m10krLzDrLolsYGBwV1QjT2+H+4Ia\n",
       "X5ZimQ3kPheJWl7zOe8MckPRcfKk4Ogx/j4jTnkDTpd+/EoaatDN1YqjkpIfeXK+D/yq/uff057A\n",
       "vs+kHHrVRumOGDkiC7DnTB1l0lH8XytLmHiicvL5i+iWCzawHgivm9Ju4m7v24fyRG99RITsuwDd\n",
       "aVaKHaUGl0vlU0mSLURoGgcQ6fLY4YoOeDXuhYtN+MczLukSQ5JKAn3BfYFX+ucnjEVON+BDModM\n",
       "pw1RK8j5Z1NFGikuH3YihTU4b1XukW2msHGIx/4SKQBM47xQxTy77vCU4JWCw1HLtFWQL4XyCG9G\n",
       "qZuLXQXoT0NKJ5QN/ktPruF6dveaC8Cken26NuqkRh6mQZKSInEmdQQfCHFXgVIjImgPprXWHnlZ\n",
       "nJzlCiv9MtEwXfoaG06LvMT9t02P9dLUjQ4eU6Ywo1CwF8zR+7ooFF6lfktGdEFyWUwsQXgd7eqa\n",
       "/qNk2KUXeerKsSifRS/EUDZkuseCl8Qvvh6iM2XNOXmHyhuVLvivkkqnVUKjKIoADYbiqkb7jfAC\n",
       "GTeAz3ZFNfahO8OzU8HnCbjzjmObdYWjHs6fFs3ya5JE3ylbLibWNuTPTxeTMYrRwWqbsMT6/lLp\n",
       "atgSp02EIstCKOmEdvPh5Ar9G4xQrKjcTzutBPGBWjyZNKjFfiWz6g7Iu1a0aOFpON9chEMWOYTV\n",
       "2jhBL0chw79y+cF8mPkDby3AOtr87jTkZvN7WRogcZF8IbrQemsQdRNuYSXb562qCWALZf2AiFgt\n",
       "8jwsGMf3t8oAlxv310b9zcWDjaXmgho+QguTdUOw77fYy022i0HPgVn735NejnFd/X0bed/Lvizq\n",
       "nlJgp3gfsfQRc9feVdVnAph0HDxm+ZEVfg/fN02tPFPkVz6RYeQqgGAdZojauIE/dHvyz9UXlvJG\n",
       "bmVlpLfxu60PrS5iCw42hnk+IQHjs3iQ2RedauvPVspy9naQDhBMMqXJ8KqoloXvgQQHQ2XM+QUI\n",
       "vfmtw+lcg5nAjNS/VSBOqPD5CG0MpDjRSOGeo34S0MVkPBVb4xrlzPSSKbjzCGBbhBnFu/M5Mkl6\n",
       "AdV9WnT3CSQHO9z1ahR9qzjw1v7JOItxtfv/6FjuMYAQNP6h4t/1q07HpiXuNJcWyQ69QI27e1ey\n",
       "HoJ/l86F3J1u3JXNPergI8J+AAQdAAADMQGfLXRBDwAFzad97qAAJptX0f7I9rYNL1UkTJh42vlR\n",
       "/rXVJv8UsXK2XAXFThv5oZN51g5NlzVQn9EzWP0tQbZdEuNQEIQYzV+rA2IOgOcACwEdwBj/IzzG\n",
       "dxylzYtHGQYHfduW5RQAf70mEU69L9f7DxSMDxzjIvDHdr9giBfEvZKOzceR849C4ugBcr4Huq9h\n",
       "IiGZKiesBPp4WZkwnVGa/VI3NedyXzWE0E0GN5t/6lJX6JWEA/0chxnwK3nSiGlMggcbot/iMOem\n",
       "Iu8rSzCnD6WORjdvv95Ls8Zx29JrjyPilyUyDdsYBOfJvc0MTths7u23iSculMTr3InRUxVncZKl\n",
       "2jyTeiIYOhcbUJwoZ0bsnAmi0g8oXeR8lmlZxVeFS0KSorI86cnNsARm2CQhhIc11M3T6Miw/Ffn\n",
       "01cq/03sweIE8s+vFPOzBgcD0Rf7g47gICvHWXk75IRbtqKvdxwTkWQpfSg0NamxYlliSnErT3hJ\n",
       "0lT3uQu0Mnzi+7qm5x8bRt6MXml1NkMIA7xF+gsmDIJAYEXjmpJXnOIFf1L/Fzg1zxj+pnCoPIAK\n",
       "PQ5Lm9OnxbHoRTWmtkXGxdC6xJ9OaWTfHa6+y/muDUFVEPBE4EDWCSLJIon1qTNIb+bbf1O+RiEw\n",
       "6xJeZJlpWg4OpF97EReKr5cFzOqKGnDV+ZfN9nqhHnPzSINmvVIRoiwO9lkpyXhgqiXvGhF9B+Ab\n",
       "X9mvRsDykU81rfdOzDAG1dNCzgYAdofMVrYu3iF0gSrNzjDHLlfRV035i2pHDXOMk+EfPKQVnBmU\n",
       "HWjErTXVAQxCZ8NyiPgvvbyH76897BarPb5CRxfJJUeKCY3O35Oo7z5YxUEtdM85pZryRRh91TpA\n",
       "aim24Mex9T1Tng34y/Q1ps1Fl3WELDaNZxXZ/Uas93rbJfg+Br1mIbT2uEj2MMMFDzyMRQEoHndO\n",
       "P7zU4cGhKsBejYDqeu2ZfmdDVYW9q4imtYOICrhI0lbvTBz8hPWcRJ3iUr/JGugisruDuzhqFSC9\n",
       "l3hT0MCTgj4XP+iNheFg3aa55W4ugfiVGt3WgvGOsujuECky2f0oX1HgAScAAAMPAZ8vakEPAAXP\n",
       "eylZMAAE622RCM6jnFLcRvdVuiUhrke9JQmwdeq/jAiYMsmny9in7Ic9XRjIElqcbPn0uoz9EpbY\n",
       "HNWLnHyAvusjMQv5Dhg88VunZQjtwBEIWUZHZZkFMCPjo1ZrexgdO1rKoy624JnPf8qAPL9kk2MH\n",
       "vELEcK7z7pDctgK+Zq0So4tkyz1p6jJ2aox7fkK9sdLtyjYVY4CtbswEp45jWg2ck7F4figBouTZ\n",
       "RJtpvIO2fBuyNAyomWHWLPe+QwxrUtCqO/M5rLOqh/ufWRd63N2mmprLweWUulRz7dERKPK7d6ZL\n",
       "MdVbiJIG8uHbJGPsZdkE1OTLNemuKvuSVbteM6LG1MA5jhNlQT+dj7Ieuq/wgObl6/6W2rjFLBt9\n",
       "Dl/3GzHtcXOQMStdale6jN9WKw6ueyytPIxkC6Mw+Pvn4SrCfIdpqdZewaP9PFyvHdEU4XWeTQg9\n",
       "wVN+Cz4+I4W5G8u6p7QSksWoek6Q9Ldo3XXHQpjFBp1/xbwqZ3YMd1ZwlvGnAcp0AqPtwMvbix99\n",
       "rCGut3sELXM7n3ZUxxeDWfO5z1mMnIFjtPUqRupJpgtwBFm3I88ZsIYs38p7ZUKAo6jT/guBMTp4\n",
       "p16ee3PMNUbJS+yyxM9ybIEibRQrfcBP4BqwoSNgKoTc5LZHYtPqjsf/nWpYRDhdrxNrjDugYINL\n",
       "GgpJMe4mwkbKlzc34Nh8tY7kUNHYZ7Oa+31bNVPHoX2T0Ujg3fq8pCuXc6+EvK7rZ6r1Kc4DIQHS\n",
       "d+eZs6O68r6adarPAOC1B8NgET4n6BIu10Zn9eENc1Xy3HLE6OEFGJ4SYJKh0PhOPg87qQv2KUe8\n",
       "ejjcgpeq5H/nU7U9MXpYOaO8lajD3mFlfW/nG3akGx9MZCEqd9gTh9sljuTtbEfqWw0RCzMbSvit\n",
       "qZwK4gqXePNS8K8N+TFErA4DIdGxbSQQdFgv018qxJOAkuRSe/ttf/zhiXZRaOqiwmg7+EPSIhu5\n",
       "Ujy/mGszyV3AcWoURW2HTXVyUsk9ZLy6nbjM+ivBAAGzAAAGIUGbNEmoQWyZTAgn//61KoAEwcr8\n",
       "ADlsiMttMQV3WuiI5EiVOr0fvMsSg/wOGevMwFv3dktOu0neh3gHKo7BR02MYjt9vFBbIOBXHAkZ\n",
       "r4ugWAxDvBVSoNxY45D6OAJD6p27ZJ1c74WFZ784bkx1I48t5/qLYgNL1krELZA+o3wk+muEcfyK\n",
       "fGt025/rgu+9C7RSxoEs+WjhpTad0XXfpZ4V2PYNbjr2tA5y3TIj7N0wieTWMx/fCwJDVfhfGoH/\n",
       "F0OaJMbp8Cdp9REjJYA49zsjNvZQAlCNQ4tCqPjC/C6U6mq5qXzW+8Tja3abcFyxAoWCVe/ixP/z\n",
       "RdC+dMLbVhmJ+MKmDGaXjPuOf2uJ63qryPaJzq4A/zg1J//1+dK/0vmQdUqq03zbfGFp5C38J7ac\n",
       "QR9v0xDXajqxOXIrpuDoUotJjJVPxgrc/v90eV5HBHSQPlGC/Ugk8bx+4+EEBdmzKwOPX52IG3DZ\n",
       "BbEBn4tM8sIqzHr4lTpxjq4N3w5X/Bt8bOJkayuczJn3HAXQS7+5j9pueL41AYvtvPG/Pv3PeWRT\n",
       "qnI/Rwm+jx+A8874gweuFCkvUan3Ds5fGUqFZYLwnOudI85HMWU3RYnk5gjk7xl14xq7l5/XfEHR\n",
       "XuatmWn2mWFpnHXju8pl26p0HIKRzO9KIebwraOHAe77UXJGzOlLOVCpULyjeDCjWnvEiKS1hbRy\n",
       "CpYFnZrGIAaGEx1CHBWc4rK2102oOMHEcGNaEZ368F38lObFac5AjfKvCFcDCuYcq8JvBaNkuAhv\n",
       "fq7BN/ma68eZ8Bc9UpqwPsOSrLyN8c6mWl1H+vQfLjwM+NubT5uI/kkIzvqIQfQ3/qWGz53nE4rS\n",
       "TZF95PWkzjim+5LeAJTXQlgX2DiwTPVvt08MNzLdgMhNRaSbcPI7qYW6TeFuTY3gKW1F9VU9pRc2\n",
       "/TjRAVN2VQdcNumUeEltfVE8jqc2r4ixs8GRZN2rrtsSxgFFqV3500XoqBQCecuti9dAKLj6S07Y\n",
       "XO8mMHTIDWM/W7vIsMPTDVbdiaTcXsWfPNcRWKqw/ATpe0O6WSD9f+JSMkK0+dYBwaEaT0SQuPQR\n",
       "FDSZd8DUWCTUmkPfecfJtOsLNgO8kJQAsb3Nqx2CV4C2LwzkSU8p5O44QhEXY1mXbYjddrm+MxqQ\n",
       "HxfzqnUcn4PXJEIUz5315RXN+59e/2TnMPOLVH1B3XGhtGEHCk0vjcgjIo6v9KJbFiPWxe702gYK\n",
       "S0IAO/sCkVJR1kxUcWJGPBhMwLJKeSGzFX766na8utjbGr2MMuMQ1gz/1YvOkoAKfFsndc8Ah8Dm\n",
       "DWpE/H073D/uk+DZuk4YyOQfLwOF1xznUo82ZgzCyeYvzocpbuafipCcQy9to6euSzsYqDQ94W43\n",
       "Iv91skcd8Elyu+xGEnJqzWZJawYIaMOX4fEnRDu4bRdcxxBbnesqnw8Wc0CnxKI43yNCr5OqAquQ\n",
       "wc4e0Z00dhhzj000jL2DtTNiEAlFBxL4BX6AzL++lKQZ66jg405kvXRca0a9MJOO6vXhbZUxrQNQ\n",
       "yZqytjUSJBgDArPSrMHFdX321M9EkLTy1kaUbHthpNmAFYh8dx6Ie6QXRH6kMiKFZRWoHMYHSi11\n",
       "b29606qyH2o3SodCFwq2/v0DjYIN/acp3wWDV8ZpU4y9CM+vTrYxWrlFiD9OvYYP/GBArVLLSVM4\n",
       "NUjc3oEr6QHM1byCajXYhg262L0pV2njmm3sPOMWmKbMWMTMnB2EeKDaJm6OnoY0m5twC288OcUz\n",
       "xa0ai0YvqOw9ow+fOo6/iOq6KEG3hDS2tQwnng9OG8H2Kco1IumcyzPw+8pnayQMDNBKmV5/loPJ\n",
       "915G0n0RlYSZqzn08OSeO6VtTtYpAmQDxPMPh8vgkx3MN6C56Y0tYEUY3iGnDrhlMRXqlGLeZjWr\n",
       "eT3xJYAOXBDEz9LnPC8Gn1Rn51toReQmOtyutDa6TsJX90w0++Rj7ruxFrBlcAvasl0kFJVI3o8K\n",
       "yr35Jm/M/7j3oTS4cGIyB92nQgg2dRA0OG7TTawvHRYZWlUUO9tY4cZfh1qQt2FwaG+KyAWKyNYH\n",
       "gEqYVo0upMADZgAABIRBn1JFFSwR/wADIyRol5iAAH7UTEHxbA73hFtp1Hm7TaJFChw+tiiy3ZOP\n",
       "nVOitD0sRHfyBPOUhnTNEI5qL21jf9AauxmVXwFh3NtJya+EPZqYD89lDc9ZVosPl6rlqzMO/JHv\n",
       "VRm0P52RD4j7TP68KwZCyfm4+lviZ7dbuo/w3itDvrXN+Nvmaff+7Ey+IsqZay4sbjIhb6c8deDy\n",
       "3SUZWWvbo9YvRQ/SrGAaoARJnbYWDP9hAkQEgd5QsZTqYGclH8ldnEt9G6OXXkjTDfBA0bSd91Om\n",
       "Q0MmWQOcSZ76aOpeeDi7A2GZYqUpS/2JTKVe+IYdhAkp8Z3fNi6+Zjk9jpdQDLTtheqvATZABhVP\n",
       "C0MA81VGjp9hjZ/wcb9PMGsENRkwcdhkEk5y3cK8evPrqi1OgoQmk61HyCJLJGLbHpFVkxhJ4L39\n",
       "nt53evXfW2ZeKfPewXt6en+OqfR/hevXoA/hgCWsrecf5aE39j1kcn8ZCm17pwMRKfgCREflYABf\n",
       "hq2f9PCj5deOLwV0wTtnAbCsvgCEoLldNnZxoRFN6GJ87gzRMk+lgq4YB5rXloCptomcjzxes8yO\n",
       "6Vs7bB/AnR+jhhIk0zaQRqOyshQaPKDS025xMPnMiD4s8nVsTSmtt0zTF7SpL3N3WduD0b3jvmE5\n",
       "LkcZrWTPSYeciyiNY5cAtBmDN9TWrnfYtI2qDzh5W9NBRIvHYJpL3cc8cnnIrqM/+5ISQKZv4rWJ\n",
       "E28TSOndDnNyYfII0op+CkAgngTbKkHWhX8bl8HyMuVkBcUXIebbvJZ0MExDVFdHsC8pohDyxI9t\n",
       "eNB5zhDoMnL7Wk2FbqwDrHaQhFCIf3yJULNBsAudOUYJQjGD3uYs8lGO3a9sGE9Z/PiyGSybc69Y\n",
       "tcBMIifjbtPWhC+OZYUfKtlM7b2vFEXj1DZwtwOxIUePh4wbFYQTdwNFclQp/5eUWWZvRVX1Z8h6\n",
       "wDsFOJMbQbI2gs1ySYbxckdERuDu9A2gmjr8mZzwwQDK1Js7X3Hkbc2XUv2siSTzeoggg3J3D2Bb\n",
       "pO2sN2CkcQrmPqFv7b5QZrBUD8cAx0aTH1SECGbQtZFL/yTWRtigO/sAAETwIF0zK+t1BtD+eUQ7\n",
       "+DjW6ewQ9dWDRb9icDDasse6sTQRaibFrYgXOO/85hz/10KYfa/i3hlObdfK8lkJDEVMJfGhyAOY\n",
       "4jzBXyJCZGt6c+yByTCTaFkrw5FeuEYR/umf00yE00sMjVo99WtXtBK1fntOUMFP8nqlnjY8tTzY\n",
       "rZBgUKr3ilTaF12sUaDLYIV6ARGJw0VjCQO/ZhRtUAx9hIOwu3j72ppRJWVoruKuX395wvlWl6sS\n",
       "uHeWpXHATw1dfT2dQU8mZZ823dn/+nQmhJf47T7soTZ6LsuFnQzUIwEDeFQaJEIqHjZqjphbns3h\n",
       "R8gHVQ8i5iaHkEKHfWSIxlchbql/Ywt4YGOQp6/zJ7Hku7BS3hyd4QZGeU+JMV/TD6EV5BqVvF3l\n",
       "qf15lrgoG6X1d0atTnCcaFl7NxAGdJsjPtIAAGpBAAADSwGfcXRBDwAFw8+1YeQP90IATTbLxZ5V\n",
       "a76fzgd6HxBZKTHxjP1yC9cMSym0e5F86O8BTfKsOlq+Lt6wqKZbzKGVbZBjYGfQrUeuFkdVRkvu\n",
       "gRyx9NaHdB47DLA4Y19NpY+CoxuIE6Kur3EP/Z0xx34k8wd59vX/vGK4dOKU7V2OmqoMwUDI7w0P\n",
       "W0k8UMeEJ799Al3t9ohxjSQVPZHH7EC6V+XqRj4+QyCOmnAp84ha/gPc85wPqKzCsN+EAbwYKjTl\n",
       "mDwtnDN3Wk1NJxZa96iFfk0MYNMQOy1AUpuG5h3YlhqJsxD8Ny9Q7UD9R+/7oFZy8xzZxRm4ddfE\n",
       "PBZEgK1xlraFPCbafMkYd0Vu3d3avGyCxzWwFVVzjAel40aDjWeLybus50RqILtLGydtxnwrOD9y\n",
       "VzY07Ksfl2dywEpc+4e+NxVo1eBPfO/9OiGGomfEZsk8VRXIOr+M5elJ9FkUVNGkjhjj6nHHl2ll\n",
       "tebHQrs2hckt7enC2/cerqcqIA/AdWcrKAWhZu/+yYDB7zAIO+ZJRAsPKXtb0imfdR3m0OGgFdir\n",
       "jiYDR3382ljVZ9AEiDs/PXE5A3JNfq5LpvTUwzn2LpolSXFjWzcetI0zbnVSdjH1dn313os7vPi6\n",
       "IgLgya2vD+Jj0uIOfzgNqBZbgUVKF1uRQzV/P5fv/Kkzxjf+BA1A7Zd0fnX7gXOuwdyAAk5guwgW\n",
       "0U79HtQQDaHG/likdDqqVgysP2uS+HIEJ0c8v/ez53GXEz8ozNPr2J0EhpEM3uHRcXF5tVKIFd5J\n",
       "Hn7BitEiTmi7xkI/dy5TcluthcyurKWkivHA+j4h2YRk7nWkiYlx8dYo+dZrAS5QRnX+N9xObN8Q\n",
       "UFy0fgTFibfinr7IY/pnni3bAR7Qqm7/qJIawASi86moAE0K/HeyLamIWzrVxTpL0gtZBpFA1lab\n",
       "ccDupIdX8UBa1ucDcWw4GRYfc7AjFOlG9dysZLxOtlCmxzgecErCfPw5azyj4Q0LlAQ2SD9rIj24\n",
       "MG58f4J06IISCpTTEpKoD4lUDROyY//Ml4zEuElxJWVLtsvEgQMplCSOYn3zMRQ6YcRAaEvupznZ\n",
       "Di42cx7MAnQ2T+MtL+8dnXf2QAA24AAAAcABn3NqQQ8ABfdUhTm0AAAH8MrMAaQhwu+uW07PBbk3\n",
       "hL4YQgeMFHAAwMfhoE33IoC4DwX5ITekI6hXbSlh7O6tzwWAB11enr5WCLn6LdzEObxLIa4OSFkO\n",
       "N1doqbyfYPBp9wyskwWvrREmMCu0C39CPxDb22lG6QY4LBnZNmXh5urLmOpxACQf+aiUa5wdPc81\n",
       "yEIHf3U5rll1QrEoXohZgvobOqvdUqxeLnf5tmgFjMdToKNgZUGSZMJ8wKAyylzbR0GeXWiKsHg2\n",
       "r5FG/mRPjaCz/wjZDsc2ptDAOdSqJQLunL7COjAzdGMsSyuhfVKxH03tmdbf3F6/A5TOvlUtuxu4\n",
       "bKjPf9MYV9+jExPvzoHaPaFVQbm3B5pN9Eo/txQQ5ohfCDU2d419N0HmvQz95hJg0cKL6sUcMhgB\n",
       "x0CwkcZG3TWGkLBlnLvB/PvRZzgSuG8XZDhTGPImdT+J+GVJd4GOUUtC1gv+0+WLeAHTnkaaSfD7\n",
       "1fNc1kijga0CT3Qk73gLzlvsn32d1lGokvolir5apnVU7eA71DdIH8wbfRmNBPTrPxw14afRVXGE\n",
       "+rojcqx0FC2Yk8avAS43AJOAAAADWEGbdUmoQWyZTAgp//7WjLABMeffvtUl/rRABzbl84N/V4A3\n",
       "kBEj5qzAgA+zKvvCb04Xx79ZouQAMPY6+uzd9GS7WcGU9NGKwJ4WgowSqXRr6M1sE1pwZ0elzeBS\n",
       "AFQZ8/9R4lnSuRWqZjsA7CZe0jFwDi34apYPOC9z4lQgDnJFIkM1m/DapshUA0/wqhExleJvDdGQ\n",
       "cyaHlv86QJReLX0Q5llq44OpAqOu/EQwOtxqxePg6gQkq40DBmNdJHWLbpRrfz3sv5FB0zGfJwEv\n",
       "0Fftk0/+Qg/mp+eTOaBlFRetS9tVrtLH/kENC6ekTz2VT3aUMvXE9kJHpxPSxkhHTGTPsub/flTZ\n",
       "Y2Py+lYIcvKLVJep8JJ79NlzADe0HelEairwcwyfopbMb8WlLXzcbapkq0e/r4SEzQTDxWW0NsTn\n",
       "d88aEmLjtWdyRK9htSl7Ug27GQ+AYxLVGiOm/dAQ/Un0iW682TwujMHQIGgmUKxaPTmw3fMYehHz\n",
       "j+HcjW3VvNlYxjC8MJ4i8dk7iKT8Qbf0vgZa86H+BZWXk/g0IIEfxAWo6iITkfMN2gsFDsuzbc9c\n",
       "j6on63DWRJs2wppfGYyjn1ObGy0hinRIvqw1P9MqHQOs0yuM3Hqc3V4ct3odJ36UCnBgqtoD+ag6\n",
       "BScKZ4F7aQVnUjokUksAmvr05t0L6YS+YclZqBwjZDkmtoTUy4444OL/OlNrKAbKi//0Yabu8KNG\n",
       "AA0UkqWZwd8NreRBOmlKNIbVQDJIrs4riWORfOoY27eTK29lBqiAa1jExDwhyiZWSBK7guL/08Gf\n",
       "b+SnEIu8ojrn6RN90aAg3t5baiIGx+4AXgovFu0gDHwEWDstACmC54OuzvRdyh0lNabOYkCMHvyj\n",
       "vDGD3MCvGs7WMHSx48TD0UnOWj0mvwthEqxq9RcATRfc1YVb+LDVPPdftJ84/K09pCs7hUBsl3k3\n",
       "8KVVkT9YDGJV6w/5jaPiatO3ghobwWo3eXrpBwZ08i/VjpBCtBBUTqm1egQSeCjwZhFv7KENfVcu\n",
       "5NwxGpyCKhvG1rBTeb9CDL6NYy8j2PnigUmPsn5bSwgU5MD9uMxidnjHxMABb/QtlpiSd+6/0X4E\n",
       "6mbT3C51FEk2fhbE4qQKAuxFKcD6T/EAAAUNQZuZSeEKUmUwIJ///rUqgASiw6AhUAE7ExXTJkQf\n",
       "Xj7Ql4EeztsAFVgmjSrUd775JvAXP1VTgqHlGGLr8P1BqFgyur6DDgePTpVfsa9BJIHUSFa5kRo2\n",
       "aawEtGkeU2F7kYCP/jo/e+fU6i/FgnUidqvE1ITxcEYor8OaD6gbSfvf4ZKHhtByNYkmAWV+j6Vg\n",
       "FhPV7m8pf3xn/jBw0s1gCHlojvG3Bxs/eIvL7tJzMf/CPegy9Q7puMvcaE+YRwh+pu2TuGXk9JRs\n",
       "eKgeKP5pGaJSPNrS1HdqWMcFVNDYgZZzkCYLzKR5sYK1/VdgLjKwkrS8fPEr0e08e1yjfikpxoav\n",
       "RNMVR+/7F+B4d81ZrAQZqXm3zqnde0uLZ5D6vbHqjV1SLURhS04WsCyszBDaHxX6GCsyv68SR2Y0\n",
       "AZGA9NAaxmfg5tJb2uWrIS75l8SDk4FsVuv8y4FN3fE5DfgsjiPPmPlPuSHZjuiGg+bOiH1ew7Gv\n",
       "tkZaP1EydxqQ9lgM2+5urodv3FO9OjcpQPG1fij8D4kWHKDPz00hDht7KpNVCFYa7YttgoWYQEw1\n",
       "L4qVMQmE2aO4IIRGoS3DE3KZonxyMwaLktiCzIwJC5uLRguehb2aWqrW/YltP3CIKZ+4cMIYpI1A\n",
       "Gp/ZOT3OUIxA0XIsGGzTcMgdSBR0kaLs1kl9lgnRinuH8Uiw8cNRsqiWpbkWRRIr2A4Cc23j9lhG\n",
       "zej3dOdlxnpuI033Fl3dDa5S9cVLM1wnQ1NvmyJ8LXrCguutPXRdNWvPGAsliYPViL8jOAixy3JK\n",
       "SKePigPuLWiyqTfsJLzyqR8pOtSNzl9zYYLzBy0O+RFOZCG6x8MX3qGE8IUeutv8ILS4c6rSiSOK\n",
       "rOD8hF9S/p1heQQsEMlgeB9upy4tdfrRAnODnp4v9YLIpzWJmANQA2yWGI/v+JtU86zyLVuUKmjW\n",
       "P8X5+/DFkjSTxWorUAA7UzmnMDCAglRtgt9Wsuu77FGpqtXSHnOseVpL1zg6Xdca2KbEjAUyDbMW\n",
       "u8A/nmy7kCiq28iV7uQenjgytpxxDd9AyLjvekylW2ujfDCOzwnHX90nYAf3Hk0XqWW6dp3O8daU\n",
       "3ebdnAT4AUN+m/w9D5c5hW4wTVj13s6Gh0sBT448YUR1RJPPJ+IiBqxfzpTdriBYn6OBz67wAkRv\n",
       "4gp1KW1czdxRpkpwjOyjfPSv/nOlroW7Y3X2sv1mME9IQvpgbJrzwDlpQtMG0YGci414nl8iPe3E\n",
       "OB0c2SnrG+t/9TsSgM7bnjykh5+AMHP1iv/dmFLlezwG+MDi5nHKOu+NGMrWUakE3xV79JYY5oyw\n",
       "sESQBTMrysu7NM0XxFH2FIR/Ac5mtAZLt9tBAMrQ8uox76aHDk1nmzXjzNafeRM+07jKQkb2VlDL\n",
       "mtnJUmqYBBi9F8C5Gf2M9E9S7oqgLv6nak6De8CFRDvEJ+pXGOH5RK46XRg5RrlsD+aqRC2R8YI7\n",
       "Rp3s02v2T/ArRW/kEr9cVJSqJ8ZsIeOc1HfhijyLZaqzPdyifE1De9X1diMNGas0i/N2ZnCfsKqx\n",
       "D2cOtduHqfG+7DKwoM96zFDHazwig/wL6ceMG03lYOSP5aa6eb4O6T2aBdC3qiXbTqpJil6n4Rpl\n",
       "JXy7KobFYQT+7OwuCxschdRiK/2iSTNDNQLv79Q2vKuFry8DXINhTwNK7sY64wJZVTKIPwS9IrYw\n",
       "ncFHMNGmAGLAAAADLkGft0U0TBH/AAMN84LcQAH8I18RiFNNZPxCh8j1x6N0uuByMXhD/dQYIMiy\n",
       "KVd3hvvhqHS4oG8wCb1AzRHuZzlmfFTdNbQu9wy25JYXNa+kscES2iwNdQnUIIPTEgMIyzQanwxa\n",
       "Sg9KBRZZeZTfAEdJZE7eeVXeI9i2zn9IpihLGXfsgfL/zgk2v1IzErqPsIC3r7UYORDzI2Zb+DNi\n",
       "xYj7neECRpQptjEWg1w9PddUlbXlft9KVExc1s9LKxulgTnHQwDs2sWvEIxuhG3FyyDJ58lUih0R\n",
       "nP89c95Ei2iX4a9Dhvdu3M63DzSB2m6BjRR1sYv1BLZSmGmEOT0UZBkH24JbyMfziaSq6vyMswt/\n",
       "DfCgX8E/QlmK5rCDsSj51yUu+7FKDcc5LbP/WI5dxctHYKAoSC2RdXFXZzJerA4IUnfnGijv7wV1\n",
       "QAPURTlfLce+Lp9ptNloPGNlKX2p3Ii9SQrnKrjLE9sHuE3K9K7jBw2/33U522z7mn7TprEq/ZwL\n",
       "DeCIdCPafOV83vTsLHlFI8JfJ/y98IQHXsCCeN3IZmiLD5qAu5+y45TBJVmXAjz+jiR2lZwgW8QY\n",
       "24PK/jGXWfs+zhFi9T8GHcZe57sdGEODvv5gHsXTPONOdL9fHQmObjDLLN/k+wC0bAcwghHJVyCj\n",
       "8s+wA0e84PeAkjlUSIqXc0lT1HwWZQLkAtmJE6/b3CrEAGIATE4eqEmn1VYZbvyinepSOTcQzvSS\n",
       "SQjXHTh3l8+AouB7rENScek1TLbCftoC7E20ljcd9MSmmzfadinR5Ghe/wnmYOvUhASVbNCyDqj9\n",
       "om94eXN/B7hslqB8ePs7D0bhRG30V5aT+vuzjcjWvmMxyFWoxbHbbKur/nxo5XSxcJ9EFuB//iDq\n",
       "dgvKd2SaqnBZnyYT4xyEzfGQj/TWRQAdmNj+s/6Gpk7X7YSTJmvvBkjZE64LT/93Oi/Afdh5xIfC\n",
       "ZthdSHfUEwKRF6x+D3ISFnd6NbQ5s7g/XRhwpKxi0gMB+M4yoiCAPU/4+GQUQa2jb8hnQb5sSfg+\n",
       "k+UjZyASDdkAhfBFv05nL6DFbvCfpgRUQkGwA9MAAAI0AZ/WdEEPAAXLTq96gACaV7aRMbEOD5xL\n",
       "Zy7R0zccs6lUDVSAR49XFRt4h3NRosYTP0l5mtP39mVUCAFAlJwW6cUcwW7b4iHYfNAt2OIK1Ftz\n",
       "7HCRpvIOU6v0e4WdG1cUXvBKV+O778P9XwToQpEyqtqDSEbTbTihRxBqI7gLfDSYCKWJuPshy7TK\n",
       "BI0FlNefwf7bmzv7/+z5YLAnZMGw4VLslDt6TA4QPf7NeCcEZrDRyBTEQhlSoPeU3CemkLiPHxRE\n",
       "QUVbI6d08J+utdtFnR5IqJ6//0l2Y+tm24zEgf9yM5uoKLmmqU7D/in2W4RP4KTjsbFSiX9hDkoq\n",
       "oMhJsgaB+gJnibGUlKSOmFPUNUH9l6lrGhz35f1ITtNLh/x7A5ggcVym8bDhGenwp8A++hJcE8a5\n",
       "c+G/wl5Vs64adhRiNDT3Ipm+Uscj6kwdvoGirBdB0DKLJELLWzweN8OVLJIzH8uZcXF7YDBhCir7\n",
       "iRPZ3tEp5rwrA6jAYnPGejRw4EkjKJDyPY6v/gCdxcfWXyzBDPsVEmaC5JLUtkYaNxUNblNaEtIa\n",
       "5A/vhBrgfSdrlgBpiSnOy8TByIN56PDX50ZuUztdi2uKIlEzYZlAVvBJAAAbwvsc7HchCOzd5CCH\n",
       "YuPetTPGLGU+mFsNbBOjSf1pDx6agIIVVLZFiZvHshVVxsj3hS3E5HDuYZmC8y6RBLAEyRPmxmUa\n",
       "ToXeha9zMG2om8fX+NgjpESIhrr8Hfa/TgE3AAACAgGf2GpBDwAFw8fg/cUn7LAB/SLyG4GZ6Skv\n",
       "mguIgRV9eZ5YQtnsavF0UsOGjt2Z2ck3XAARLq4umXHfumm+Us+pNbjOHq5tD8k2CqGbzPs+o1Ey\n",
       "EulA8TQ9amtJcAcTuyVTcWGk/svgt8zSE0D/hGS1JP3GpLHEyvCp/yT5z8TmZj2u+A7qFzKrQpTn\n",
       "jvd9RExd5Dyb1Slq7eJNpvZZO31RPNqvV3IaPRvqZetAdS7IQYdxHPuCVon296ZaHcCKHAS0LTHF\n",
       "ruTH+fNaAHYMWoPaY5dP7+sS9KRVoXMt/D7H4cTgVDkewJcC6NvJvdX9D0Kp/+/QtcDzaRZHIjhW\n",
       "cYp4QHRAyoAHl61UfWr2jQPUkcqS9n/TAaguLXByuDvu83s6NVln0/+ga7c5IiCq7BFGNEAaq5dM\n",
       "QwL8cxUp7zaPnyF6f13tAErwx63Zg2n6K1JPX1tnQj1zg2vEfnSLZmShUjC0MTXfgwUPe7gvveqe\n",
       "iG7Om7sooK8BBwnONOwkdKS1qBjKfgAibp+pvidcC+yl6P9J+yHlV3Lz4EEOWJEDB07nDv7ut0kd\n",
       "wPZDvPrgA/86FJg5cRAYAM0Fk+CElAbw8+Aosmg76U/2SIL6EMpvDq8+rxOp9Zx7a0jaDsaOO2Dv\n",
       "Y75Wq3J64Ofpgk/eTIZxviCNjS2Z+LIVoOADU96cDAgAAASqQZvdSahBaJlMCCX//rUqgAShFaaA\n",
       "AhQ32X+Xpa+/si45yFjDC6stD3fWTdpchkL7ky0VNjfJZUvlv9YccRlojidoJmFVslzOt9KY6Keh\n",
       "1geW/6ZHn+db/VmLBZDuB7KXI3GS9mayBpYRFMH7am8WixYBYF3aa4RcAUvL4ApORrD9u7uhbvDp\n",
       "JaV5fCczdLiuJusHBegVW0iY/hTQK1Y5jho44GBvKqUkhWV5cyaV+EnTdhsvyAvoKy/p9U3lcL00\n",
       "Xs33w0sU54yg06UY7lZIOW8Ycnrxxe/Lu7trYvGzYmKcDDffmCZH91fAB4zV5O2qo22IUOiqk6vZ\n",
       "Uq923Odj4/YTVR7T3VvcZ2IVTddWO2ZMHkUPVvpWYY/thm/rHzJXncrtK+SAOcRR57h/PWHypXiq\n",
       "XGCNTZQj048YMVQBqzQsCfI/G/ZRp+uGEYFjdOZL8N5JMf7Cu09+cWMVcoT2+20YDHW+UIMajuwg\n",
       "+ey4mOq8HCiYjrbpOuFmRsqH7vPtlBoMqGy0U9FP3yBeZ7dkVlOOc7u+eUBXTVuLtonwNtwkwCU1\n",
       "vKr+NtnOJ4BpO3SObZ+FPEtoTQM2HlvbLG+PuYIpV19/ll2Ku/F808pHcUEqKTjaskAED5v9lMej\n",
       "kFB/ZOk/3921+lHlJ4iMlevlMH+8GIsmvcYlK7QtXcJFh+iYI+MIRGoqSDJvAEGi+0PVW5k5mLPn\n",
       "V/J1V3lVovJXgv1gLu4jv95x1OUIHgoEdSAM0HCUBYTF84PRXY/CvtSU1OtKvQVzrIBqYlb7P+3H\n",
       "TzB04IjUFF89qmyxZCL2MSjM8dPRMVOzNitVwVywc052CmhcpxVHnOeENKqlRzxOWsNbQfeNAulz\n",
       "Ha5e609ITBOTAAMNlEFn+9YkNKWzDKkWHc+uu492tbo/ffjyEam8bRZexniO2bMZ895/uxlu4K8i\n",
       "5cpce1K5SaEoxE7i2y+NCgdIyLtg91frf0UhJJQKZoxl6f7iIyqThjfSU7OLQjrx1eKD6O1cfBpH\n",
       "dxZv/UcXmrSjHKkuSC0qtQPYgu1HHPcab10GhfLTkdDkcbYNsJgp7K9uF0J0yDQqeABOTTQ0yRwR\n",
       "cUVP64VLdZalE5NmrjXvBZVyTgEjaNpqstXY66wMJpwFXo4G1lrKhJbAdfo7FQFXDNjcHY9PhFK2\n",
       "vTUy9CMEp9TEHnfwfI+bWf5qs5y6127pP6okHOGp6dEBqPPMwzK7DDcoQUxYLKvgfWQAgpJOcTko\n",
       "Fu+gxZfzp8x8EyE6t8IHIi12o6tWZ3I6QJ5OxXAGvVmoDCMVwUJfFce7rGh1zELkH7JbgLBEonFj\n",
       "3Er4eQFC2DjVNbcFgOnyTxzD9QXof97EIaObc12qyDnAruO5w52YOTZ2c3jcb3tMp7+8BVz0m4TH\n",
       "tIUKl/0qZX4gqm+VzPbiCTIH9UbqSzx7ttjzfd6g4Vkdd55p0fgqR2zvynr6YiAMqhdpBhOThB65\n",
       "XXlos1qJpFmQUbCRgOueKepPjqbbIgRabJooeY1iV8aPXHl3FNdJk2TN5UnNX8e3SNCq9RXGa5mh\n",
       "Lmy5Ft14DY56/P+8Z0ETT0ty4BzlKyQzmHkLrSobQMCBAAACIkGf+0URLBH/AAMFm7TiZ4RxAAbN\n",
       "B1hAk5ivxi6YUXLV8sQ3n6z8zFCBLHJLaJo6Sn2gXEd52cxST7R6Q5NPiUhcjsiAKAnuiDTQ4ipq\n",
       "7vo+kEW8q+2R/R0S5nn1i51nhDpGvP2Bs0SsC/LVq695lhimLLh7LhjHxi7r8lhFXMSDIjUf5UZj\n",
       "/PVMR9WkGPSu9VUcgC2+I7Wpe9ccDj4IJhTn4RbNpPxXzhREzJwf2ZmuGYQ5n2gVA1V/kVfRsbga\n",
       "scnpSiOjkAxsqJiq+Np2Z0+WLrbFGCC9aLI5HggbroL1yhbbO2M4sqadoixZRfJNkU7qEM+iW89U\n",
       "4oEMF7jzcSzVhNdUmEClj/EqDoNXJVWzSyrXE4yXucEFpeCFt6yLhdPpoY8Xkx+miSXl1b8/y/lY\n",
       "0f8vxzAxfoAjeEcBnE/5XpdeGQ1vGYSTi4SkRSJXJ8kjGjfOTD8GchdmmNFl7TIzKydD2JlWUPWX\n",
       "myvZroSwNji+YfqdIOvvMf5c1os93OwvKYC4uxk6utBC6ED3kx7+Y779uvtPYt1Euu8qcAU75hj9\n",
       "pxJTlJ4pZ+DVtnkmzD2iaXdgh4tqvFW6mUqy540uELRRQsnqxqmVgYrAVhLLNoBBMLdr1OiZJJ6B\n",
       "gsAVY5bqMhK28FPqHTRG56ASsLzP4aPxDy5YUBcQshONhoB/pPHfLlu/wvfI7anhqlx4f4Pxbq/w\n",
       "A4odzKR7CReG41sC7gAAAeoBnhp0QQ8ABclcV22MAwATqmMRPk1vS1pcnmuvhhu9kQAj3mczvho1\n",
       "tMQp6G43p6HlvKchPWpalTur+vJwFWGCbKuARyH0EgzUGILxTKHFho8NMK6BBBNV0eNfr2C9ktib\n",
       "csGIXF2gu6c1l9hIrcgW//QsGJrCQpH88Fud9S+DHBRb1FdxF7l5S+1zXKXGDDTmYq5g/n2iubeG\n",
       "n4TKhlUoD2BehS7jHzCARUCUiVfJSwT7VTlN8PlqFB9qwWt6XRxUVkvQb9Y8oYmLUQloJk+bDywN\n",
       "ZNhmrPW1vcxHmRYDH/D7iO/bj8hTmtKYzQKfmx9U346z52+cGJPik83fYTnS20xFPEAYzLmB8B3B\n",
       "SIAfE9fwctBRpRiW1cBrVz8TVrL5NFbVgmPzqbR+6KABqWGkQhovS8risMQHgt+GM2M2eIeTA+zh\n",
       "UvHx+y3L1xPlCaAAHk75rTLJ7asmRMin69VxFkkEBz33jItcXeHYddES44b1yKE8IkizaWzF+XFj\n",
       "OM7fTT84YCjeOUfVVOLfgMnDH9nL9eV5UeWr2mklZipqBYIHCfD0Ad06BT/2tnJ0czCLjW0CMn+8\n",
       "PfmDlxLsBUfM1JtW2QOAiEcB0M1xSxMXbdymPvKMB8TzA+/t2F6Nhu+6MAdWRSkY4AJPAAABgwGe\n",
       "HGpBDwAFz3ogY0AATQZgFTkdFULEY9E9gyiwJ42akLpcFqPFH0wbC9O8wj1GJaFBOsmsVHxscAlc\n",
       "xs4v3yl5j4tH7A5MZXm8z+g8yKteS2I181FoQNQfkUR5gai3XTzN+cXp0lZh4SrGY5D65tAnyklZ\n",
       "2FewgEoy2O5uHUeZWYwz4+WkjOBeRfkvxdJMdkix/fy7jQafjUFEKmm0Aa3to+NEACzorhipgjkm\n",
       "SX8sDXk335v5fjwsR4d2e+0wPgAvssnms1eoUGYkUqBIPFY9wsiEI7fmN8db5S5waw8yZGmWjiZL\n",
       "ZUD/aZSmeozRXupViU5IuLsRkh7FDD2BPIsnLA9PPS5zRMFRAGQw+DsugpID9mnqhUp0XxbTNsnY\n",
       "KNvG7oUaK8XyDQW3vwOgHWZ6WarJZoc1EHXjswQxP0LJ98irVgg+lmE9gncZ0LP2f6hTd83Nt4j9\n",
       "7DGqDh5e+oJc781xdmyeaO6hkohJhMNtMVnecenARZwUg+E6o8IxSeAEjQAAAkZBmh5JqEFsmUwI\n",
       "Jf/+tSqABMHF2wCEHAnzuX9uZCMKKlPC1ryYny9tJwM15b8lWXbcmt8Y90CJPSgvY7gxWdAL6oZ7\n",
       "uUK1mH9DFH0AuR2KK7/yLCzLwS+5RepVb4s6BOzcIcwG2ks+IczFBAxnjy2MafP2R9pdwmNYyCIE\n",
       "Sgx/lt9Fe0xqilP5MX262NfnI7/UWO8jFI34F+jHxoMuRFJu9JUH450jAOmHdahfQ33tE8HACOe7\n",
       "eiRlnfdfuH/7bAUuQJkNutY3gIbC2xY+ga2AzrEqJMIBphwDn4uGS/KRI3MxMI15ex+yGLRCpr79\n",
       "sod1F/Nn8lH2dQtcf4uhqgkSPkYToPWvKhIX0uxLm8tm7UYWnijdn/D2FSK/ze7JU3PJR1/739C/\n",
       "zVhkwYbNkWYjVosVFL9AIp6GJLY5ZkC+R9CHanL5AIE0OgKXordXfBUirc/+JX1il8gWILA8iGf1\n",
       "PWZ2qhTaAlWUtdZipz3fOjtbJMWtGdedUkuC5Kw3ov1906/36es6OmjL6K3pdzQGHv+FAHwbKORv\n",
       "6h6DLCjiVk0+W6S49iF7AoM/3//lZL6l636byYWAlnLFSZWWPMyPhS4ov5wPPKdQ5Ham+e0/YQsc\n",
       "BwKPkLTjbNoPETcJthj9C+cMSt/jeTlA5nGdsW+IDjpdVVKjqwX/PxTPUAkVke1HlZ2RCztSnrXF\n",
       "jAoVby0i/t/H31fkoAWs4Vcv01OBI2c9ZKqOUrxk/jJbbZl4AJZyQj9E9rFdYazILV0lNUa3NNYk\n",
       "CXgAAAIAQZo/SeEKUmUwIJf//rUqgASnmhrcgOf2IgBChwa45dv9/SpIPWoXPG7ZSF+GUrox9mTY\n",
       "+4qZQ6Qlb3i2ZKffz5Q6XAsszq6lq9Z9jKKnqOGzAcEBDma0u+Y8vwnKR6D0USsAUpme0RTXU/EB\n",
       "AXCUbimOWRuxLcnRP0ov8nPXsaeTfSqr9Mi+fBDjDrX/Ae/+Dbvnwo44C76G9+ZRfXCK8xoXSc7U\n",
       "VzqRCAxvUD4IdZSdv47coPA7nV0y/RPkpPg7PAU0PNd2zFxQdihFZqMks4v6LpqZiOsmyRV2AK1F\n",
       "VWwz/wpPgjmOZKfPAdVpgI+yGnhBtf9F3sTOThmLUTc4JXFqngYL3E0/IY0ZEULPXX7FBDk5Tpru\n",
       "MMm0EDHd1KXJKkJwWavFvmhwpzJWz36dPX+7C+kCUoXyiSCuowyvv2OP8rAH6cR+lBZx9NzMmvnR\n",
       "xpmM6+8uD5Zsj6E2FqrP38vvBIatpkT54p4JuGk9C/BFTaHrpHZ/dPHbeJh9MkWu/7wsmrQkVVnI\n",
       "A7w0llnmXUaorbQIrHxhRjYztJQDiTSxJnm54lMh2qEoIb1GZ64uYw2DGnvhVzhbm6IxcTrlQiJE\n",
       "DdIqS61ZkM07jDo5PNeiomB4GJkIFU33vRn4GAhL2sI5Rsj7GH87kbgIxpwnU41tUYZULaFH/U84\n",
       "n9U+SO0AAAHnQZpASeEOiZTAgn/+tSqABKaO/2SQADmwrhqnJsLRRxPPP/sQZmDSNYLeB0j7j9CV\n",
       "jjybrnvIcQ5VfUq5k+RWXB92K6UE5fu1xhnYhsNI+YMCAIXxr9rwB6sYWvvQZDejtLXrbpGzDeOm\n",
       "5/hSn1ioglwoKD+OZHZKEzGT7WdO60XdOFgpBNdNO+kgRUaO59VfM7VhuG4QNZVh0AXwNb8pFJtM\n",
       "14nEFrHRoAyw5G9zEAWnKQQ/+iJ/e2KgdaewU/r/ACh/PKgp9W+a8IwHgoyS7QLEW43OQVtLivhZ\n",
       "Pb2avETNeBAL8mUgvc03pX7gISurNSROEi6u1Ow4XJgnat6uwjcJbefVsFfM7DMUsjySNR3DmzNC\n",
       "u0uu3ziHhRG5LBk1sUbnRzEabEIsxYdwoN5q3oryUc04WQigyMIZiQxEeD1dlP2S/7j4ULXfj1EU\n",
       "AgnoTomlFaq087SQkQJppUjm9r16FnkGogNTWed1IpKF3Hp9BCD1SuDVYolSP1q1q0F7yFidw6aK\n",
       "NyxBOMKC+kKoaDq2G2rT9eBwvnVbMxzs4w8LGf/ivvCPONqS10St0YUmRLFUfA1v4RP3RAvvshl7\n",
       "dDq98x0NAEsX+dyY+h4QnbjIBrmZdNYqrsFqcRFI2BZ4HJDzbsAMWQAAAcpBmmFJ4Q8mUwIJ//61\n",
       "KoAEpySCFQAOzcDpcLTgLY9AgGZRRSwbR8ymJnWUXqMjaUxPKDN7bLasifYHTLau/pJ94T2g56zR\n",
       "jyR1gAUbUYR8NZvSeEYWeBpRkmBxM1Pbq+LxyuMlCYwkjI5xb0xdzl8Owvmd01bH8W9muU30UyRS\n",
       "EU/rUDkNoy8gonw6lcHtHE7DNLkQroDFSbDgw+avgXA/ujqfYfkztXWrd1J67hyMbtYViHzUDi5Z\n",
       "nq4pHZBKVWuGhhIbJ+TMMhkocW/gWOPDhBCXCWzlMKfdHNx9FbftVPgO3s2dL0jfzEynfGBIUa7a\n",
       "qixSPRclCYwTTj8bpWspBVkGGb9t9s+g/NApVHB695jW+z3vP7CMHYiYMrcSXfyX4M2zcBSdbhlD\n",
       "DoCwmWcpeq//Fiy8y1VO0rwc3EYhPtdW6rbOb+IGtt5o2oZC+Wa8rmCzbGLIbWSj2G+FzvenNoNe\n",
       "rFQGQPx76IvP6l/oj8BGLpHCOQG5w6Ioj+PGYjhS6ttc9JTOPaGB2fOZEnBTgtO8zNOmeAAeZ46L\n",
       "gozGB30gDbmp3+qcdxe/3uGlX00aiBPPW8CeAl/s7urWwTT52iowe4NOb/QUEAAAAVJBmoJJ4Q8m\n",
       "UwIJ//61KoAEp5eA5UR3/TIAMvUsxijsXXuuq5BCMXyuYusnExISt+iNM1vZilLno5e6QIvDwzJa\n",
       "tc4iU0mZs+Y1FI3TStben/F8jeHL9AIGJ/HL6iu2f8cSZ1Lr8+BqLT30rWEAp9vTcWNu0rXbwgS7\n",
       "SkhZlttZtUggW3/Oo2IiWQmcg8TdX56CbPs+E5+HXbYMKPo0wFQ0bDoARo+yNkTiwKLRRc6gcSek\n",
       "0Po1IoP+F0gvXl5ZmXFXhbhM99Jy7O84qu6QMVwcHhJarDPqts6/5YjOlXYz1lhXnxTBjsjzzeUq\n",
       "bfHwwcmNBJEVPz5JCFMvfKsQhb8tfRPbDMvHTmqmmcfjnP8kDRmt47vOABoQlqF03+de8tkiY6aq\n",
       "5UlQZfMWZWKXPWkNzCQjXaYpIcGyee6kJuMFEfcmMgibP4ofyFkLmigLaVxOwQAAAVtBmqNJ4Q8m\n",
       "UwIKf/7WjLABMVZcf0oAL6Ov07VAVVSK7SCkZTdMbhXgCulIoWlI8bu7071r7KaAwzdG6HGvoS3y\n",
       "Iwu0/E0vs8KVfhgx6UbLArTeIde1v4Bc6M/81ghucT46tszr3rWRNzc8snrKcYKLepIPixNw5V+u\n",
       "YmMx1RX7F8fyQ08xFWzv/HJlFArxU07aMujs5NWBJdiW+avtfPYTci17s7Fd5Rw3UAzRjnTWAhfw\n",
       "a6Lv51bx3fhEQthBRtB2MWI4DBzvX3q0gtKvdSoRiLVlvOWYsuPKUiayXU4pPn1Zt9CEVX7UtbTF\n",
       "5pvKhjDq6fBAK2KY7GPK1SFlWY3OceQenqf7orTWbUlSYbsIvDR1G07ikEf1ELEqP35rPwkUATdJ\n",
       "gV7LXMtGzYs43C/c1E/A+SVgaMLIqayqr+W7+Uoapk/lPouUfRH0Nd1Wt0cP+xtbYyG0tYAkXAAA\n",
       "AcFBmsRJ4Q8mUwIKf/7WjLABMS4u/pQAbS0DpUhIUfnltPWLmh/4FoBntVSFaYzn1nfI292K61JE\n",
       "U0vBR/3YpfJ0UI9AamXnswK09rbPi8VJSrNxmvMpwzt2JoBNTM7juipQZln4ONiH6PRjA/VlRqvR\n",
       "mjfWsyJGGAPWPYTABw8mdO24FNKKPeFWAO86uReHvmKgmbhMHYK5xdmitJ1T0P28Ya3IcoCGTesK\n",
       "lEcy2qpZFWY/3HjGJ1UV8ExkSBEXviO/vwrsf405ZVqm1p20DxTAJaGjQKE+aIwyePRDRMU8KNiu\n",
       "bRLYnwd+npli0GYd6Thp0qHzxV1aIUsZahD9IWv2stXb0IjOYWTvfT9JkvX3OBYDgmjG11v7KG2S\n",
       "ka0tZwOE5sI0uLn4Y+MQ33y3lgllbyRGZAqit8f8lAhoT/P7yNMEgF38nOaM3nKtM8n3EcQQANSw\n",
       "GckN1cuQZpvnlOf0glpzJ9Z0oN4hIMrEfyGt3GPt6swJQTFK6326VMIh1YTj2gL+WXTmuXDYBKfc\n",
       "mQyi2sp7M2x955/47VQikAEFVSVEgcnUHD1PmcJ68e+2OrgKfYwLfBByF09lWboWs+pEfQAAAqdB\n",
       "muhJ4Q8mUwIKf/7WjLABORWHakAFbM4jTIYrKJE2V1gb5bDTHhtfwh53to/Bsey8qzcVQrHjt8tj\n",
       "0JVhxWwnMDl+8jYW55aJCJhVLwz6DZP1JwBMUsIfEBEpe6OSSzgmQm6XFlOY+jou3lbSvwALM9xx\n",
       "/mv5LCJV/PhQSarRDyqe+TQ5CsnVTyvLtP+QiVIBpvquRWC6SamuLm2/MLsOLh/aILq3/mLMCMLL\n",
       "QtF4u5k0Y9pYqqf+q2x0/z+4RT+nSaeMKiyysageTT4Ohm23ccwjlPemE7cPD14QEWrIUrkKcF4T\n",
       "lrar5cO6sWnLTXxgSd8aC12IHc5CIJnjDiTKY3LdljZXTJAOgEFk6fPxuf0k5BZ6q5UONaFqbwYi\n",
       "dIWXZomOWFY5i61yTPxmjdTJkvI8T0uOg9mNnFJjSyLMGFE62AzXCiyUCIXMsPcEWsbpLuZGiqV5\n",
       "/Bj7/yEdo4HniMwU9/FyiN0wso+BB2o2rNXGeFBL8xPi53SVJsDzNm/atR0N0jBOWg6P7kfbaggx\n",
       "s2BnhtZlRk8YvEN1FBtb8TNowa966Y6CoPoCk3QmmoEDEJaeoP7lL3CmdEcTpnzNR5FfCIRhf6X7\n",
       "WL0wqbedfT1lKrWi4AcoBZwSJJupCX02W9G7zDTJweyZuFz5L35VugNpUtCDNziYysYPJ1ZdKcOo\n",
       "jMw8xI5BfKiV84vYfbIeWiPIAsMkhZCZnDvUAef/ONG4NyhaeGiZalAU22MPaCtzvt+Xsd+B/hcA\n",
       "1Tlp7qy6dgAYUOhzuamJd+hcsI/4VvX79H85ALMUK+dIGIHwqKxngr99VYjg9aTypiSmd6yLA2Q5\n",
       "IxSl3J/oizPtLLCXXtr3DU3NsyouNBEDadA8etQ4OtqoFcnFIjEuccFPICQ+df5w4EvBAAABLUGf\n",
       "BkURPBH/AAMjJCnq2F+lheABM9jHPSOAWHrCKDBqsbU/Q9vWtl8HX+LxfNZ29nSkpfbhBWy4Y76A\n",
       "7K44niPBwszHm3v/AVLERv2TL4n41y0qrnKBXN2biHSFy5hy43Fy1lIIZPaF/bzfseqxakRi/ahD\n",
       "lg+8TVkmIckJTLW/4e3FselwHzCa8G6XF62WjKnL8fr1O19JMIA6hXbtlHr/MnTFjAt+7zqELuLb\n",
       "7kAPhxEtaOam6UVjc3K6eq/E7xVU7sRa/BeQVdpg9kXbcYhD+QoeBVVPr53VbM+qQTj0rsz58CK8\n",
       "s2WolfcL8G0ykNdvu86hqEeGBmSOGmI/qQf00G2mjZwvgu20BXI278Txzd4Onu3COWU/vryuowGp\n",
       "feLmKMpBuOkNVs1V0V8AAAEaAZ8ldEEPAAXOtWzeKAwATrbZB071jTX1vbkdKr7HSDHozTwPCMex\n",
       "epUhvAnjuQ5fPhC8/RIU/Y0ftnNzXkYOUYYFcPX3Xb99MukOaQ6UFe8GJVa7Xri1YpAvT27rfyqY\n",
       "VguvGj6POSw5qDsTijm6t77T8PAqWEfEmT8xP2QQAZxoUmbJm0FgGPzvTXmAaycGpFVqNg8rroqu\n",
       "3pO5xJxyazcf02upxu7TE6Qn6EMrM9nqDaArPTUfsDVCmUBYdm2E5XOzZHVNHQcCzzMTs+641Ahv\n",
       "DXf7+kzyxVX85tmPgKKzXLqFi9MwQBZAcSKhiPHCyiJ/Eh7Fa/TuuwIigrUOw6yvIX8D3vLltPBU\n",
       "wExnuud8TBufJ15vwgVtAAAAxQGfJ2pBDwAF9v4MHHEAB4xkiFRrO5orao5YglOiNFcaCGJg9fDU\n",
       "toiHHcJMaQbryVhzY4tit/JNLb3LiW/1Eg2mLpXobaun3Ty9G+OZ4n30B2mrpnXd9D0I2c4euY6e\n",
       "Nch7yJmZnXUviaZVS/YJ/awJVtz3WwdC8yon8kMMxDXn953/lRE/g7yN3oSIFiAZLYFRSuZ0kFQi\n",
       "cez/IR7R8lPtv9V1ND924umwaXJIEDOgGJanOcLQyl1B7Pi2AsJe/q7WJBUwAAACUUGbLEmoQWiZ\n",
       "TAgp//7WjLABMecnEDRB/6tABtW/BWGbTrNGmgpB8l+NTlCA0oFAAnac+9IJ3aDe0bcSh88RhIQX\n",
       "WEe3hqyT0+4XXkQKk/12hdWRnkja6Ad0FYyP/EJniEH1gAH98aHLS9Qn0Cbyl9fof07QTSrPCV4p\n",
       "7smNg5k6/8b0Ri8pqk1lqj6xguPrcOlDCVpyr1uddD6ylRo1W855fKneF7nm8bDU1oesmS6HvnY8\n",
       "FVDpOBI6R7L3C4S87h8fdPEqoEUeI7yeQtAGk2WlzTIEbpB01rDMrtQFiIBWkL3TjQwZvCe3032h\n",
       "1zQK8xv9JCHnH6EwGHbhyDoFvQfpswzRo+fgH1lDFLMrZsWnQ/oMwe+m+lKhze/rYEoYz1BAyy3V\n",
       "7iltOTxtmMlTo7oGw/9SFU2cOAnnhd/Pb91A3LiA+mmiIpbkL2meqjOFGQZ8RwBJF+q3WA7+EG+6\n",
       "rTlwzZ3utNCWIqMPG1WwdrTCdGNiaXlcH0MtQGUuM2yASNcZ5i+hq/1lwmD8Q74XJfU01uv6zpfr\n",
       "t78iRYkUcQD5bx+M2rVI3XsLqh/pVVTsiDiXEYKz5huPjeJOmF8QkRQV5XPLCDAtQ5R4YqGbTVWB\n",
       "3sq5K+W4dpN1n3quHvl5XoeU+Lw2InKOUw6n6BNiz7bld+6t9zMnJxHl74V3sRnuRaZSByct6g9s\n",
       "Ve9L2iH8iGwcQGqq2NQgAJDhJWcG3ZPNPmjSUyH7Emm+h/nP7Rs9wAoiSlCl1aEMgz+y9+cmay0J\n",
       "sD5MMWPzliVl6Y6UKAZUAAABdEGfSkURLBH/AAMFnVA7o4tPCSRF4gAP4RgzFQqfHD8b3vQMgkxc\n",
       "Re6phdeiec/TALtPB2Cz1Bmwm0Ex11Me7I+KKV+ZH+Omx73ywKmE4Idg+3eK9TvUF6TsSr/ISCKa\n",
       "Cu2AACdc961AqYX9S5pQBJQAtagNUlulyADStXqGWX3ujcxZM2M/NHfRtzMqCRv50p8XCP6oyqNt\n",
       "9POQrpXWMWKEkvwTFX6CKYI2b7lMvBTznmSNaAI82Wlvs35QX2J4QMc6cv69SJd0JyOi8pUKn0ed\n",
       "GqIY9GLWT6h1mW6/Hki5gNsHQ0y18tGNnv+BzB9Q2rQUvrEb17MTxYUhZBS1ICLxUrOuxIetQRB2\n",
       "JmrwLQBA8/SggV5YNKKZI/MgF4XQmBU6XvnKNFwHGWe1kbNgTmkBFNsj9a1s+Yq1G6Jc8SmQo5q5\n",
       "1jFre7zi1flND9aeFQr+TPkg2qdnQ2pcrpla6UUP1q7vJwDxGB6iuqSms0P261xBOwAAAOUBn2l0\n",
       "QQ8ABcPPtVvqq+6EAJptslSGr/d9AqsCQR3+olYhiaV3RIHJaN//htrQg4ysdMKEgmaHYomSdhCw\n",
       "MTtF5m3sypZu0dUhbAQYkdRrsisHf9+PW9pAnlVF1MGZMyP4mi+8YxUi4fsDwslxy8R/JI2vbvKa\n",
       "0QBV3dk3mchXFCpFIYBywW6tqN/2O+pAR0bXv5SnfDWylJwJEB94rfhjJ898HB8GHRpJcFyZrcd7\n",
       "zNdszQeRvlxGmsixMp+HxxUpuAJvNT6hOGp3gdujBkiSraGVQRMe+VB1wgBUnPZKsrDykGpAAAAB\n",
       "AAGfa2pBDwAFvrXLmwbmKeYAAJ1WpUCi/Q4M1sob0kA5xGZ2U/a4UoaBkIdYpwdtIQ72cVSfcisN\n",
       "kB/NxnsLBLwKmbqtWeK1vb93lLm/TgrP6ZBsvEjPUGmy6xZnXFzNyZA6KXm06n1Gb3t/Wf2Sn/IR\n",
       "jCJKPBxlhmCt0dxGzuRVgOiZHUCUD//r9GeItkaHgz1vezS/5ocokEHFDEPY1CtxV+9SYi7PkhfL\n",
       "tUxbYxNgR7EtjVAJfa6BSGdZVnT3EHNAlwky3P/0BgxYYZHfSgZAzYLTrUs+uaPvtvfh00nFhWBX\n",
       "2Jq/G7QhregI2oe0faSnsll3wVzoOokPVc8oJeAAAALjQZtwSahBbJlMCCn//taMsAExauCKAADt\n",
       "N97P4sD3kGveOuP5P+RC3Eft+N47XNO9zg12M83Pib5i6IS929qyBDRdB8w2Lrl+kH1c9XknkQad\n",
       "y+ZVin0+eLPMoA8nJ1Mu1A2zVfZcSVPy0qWryghuEe+ovLn+i3ljGY4UdQwk5aVvM122yLFIJ5lR\n",
       "jgCkCeOHlEji85v6gLBkk0Q93bFhOIRNgllyBwPduPoPhXPFuQew9dPKhfYvUKFgj8bdAkjB5i/F\n",
       "kejdUEoXovuPNVGBZeWl+PIe5ddWWTn9KeuRINv+y4q9UfTsl4G7YqdsLxkIlGUUwkXO7AjjqT2y\n",
       "uk/igTliebqcdiaGFAAUExV5FXU0PvPP8nWwt8+yiR0BiT7HFFch3fuA/fl6av4ZMKYr3pG3xIaF\n",
       "D6vRsxteLnLK0sXJom24EjYxAd3DgNuSdIyJgTuavmUJ3YQ8oFG3MVj5VWsL98gPfjMM3uTK5PLN\n",
       "HXWKWm/eP/qXHArWD8xBteDXBEGSlyVYILYsNOri/qJon6wpE+tHrHkdNkmBaLh6EYXe2hngUEgD\n",
       "m2+93RwTwJGGQ+AfrZl/mMCVUuCsw5zXqNE6feHxMi7Z3LIRxfQOS2uTw66G9DYf5Pch6V4nbdQt\n",
       "I5CID2xxl8GdJf6lMPOyNcjo5a7eVHKlvRVMSOsW6OkFwByzJH9ApeYCyLICcQjEHr96Wm6gfXqj\n",
       "7XsVvgCOySJg40oPkF0JCxycuENFBRuJ8cjDA/JSLDfTOhdfynT4h3+WDkMHmowx2DOsXWhklU3E\n",
       "nHWAYy1NyqIC//o21u0sctT/MLR9OIVNpxGRbDtICf3bwkN/OCym4rNl2MmbFikqFKxTF81NSrOZ\n",
       "0SrzPP3Sec2ZOmEvWsoJTrk3CH4gB6ct55HIul4+JMDgDtn+RAYNRN/iF3+PTEAwPROuCXBL/nn3\n",
       "+t5EudXPZJIX8wEKNEQ4MZLdKCi8P1/qwPIf9Jau4QAAAU9Bn45FFSwR/wADBbDJOgw9TvAAmmA4\n",
       "KbfONRz99RpQx4tnvEA0NOB0KAvnyknebizB591E2ziKl+DEs0xvcTs6JySr+ZupaE7B37qYfKoJ\n",
       "Ul3DZ4OkxLwOXAWumvY+d9vucny7aNHHhDG8pK6AlhrQdsz+7HIgTbhF/nKCGLmET6Aqon32z0HG\n",
       "qudeOe7auOVrgyTFeLRzI8uK3XX423MbLEDcib+KB73InCQJ2AkFLCJpRzkVQ5SzFrwdZAgx9bss\n",
       "Xl8Ke3doegBHK4p4VXhC4OSlaJjyXcn+U9Dw9OetrohMTjYYky/OAFQDNVbHHQD3HszPyQX2onq5\n",
       "C7gXny+GLpTrOgchGMGrgnjFEfZixfz9a5dZShKvCU55QqMk9rFIc30T8YCaW0Ji3xGh05VuUyUl\n",
       "h2LT0kPQDfUFhk7O7LbqF0BGyxSgrl2h65CvgQAAARIBn610QQ8ABb7ZH126yDAABOttkqkSHIX1\n",
       "Rik6fRAqETYu3sg8GwRUoSho+oJsIWoR7C5X50uz2QYYVXfMLlkmBruTS39+Zu1SVZAiUf6S5Cpy\n",
       "Oa2D5TGfbzrJ/8faBgCZSF/3a5L8bUL18z5Q6ArdH6u+l9tbkejRfQrCsvH2n+lP97a18lYIEXTZ\n",
       "JwENp7HIbr471Go0MOjoJf12k2B6ih/JSKVJVBu7yfR47ZPMiM5qWMmBy0K7CgyniR57nymv4RAp\n",
       "Hn8Ij/bNuQWlc2vDymVdLku/xGYNmbzN6DF6FktDP74n/srBJfeLYDtofwOUrgG9qmDvaZzT3Ptk\n",
       "UL+qO99qiiOutNrkzJAHR2FZjlbBAAAA1gGfr2pBDwAFw8+1ONk/90IATTbLxZ5Va76fzgtB/EFk\n",
       "pMfD+sN1/9s6Uwfwv5+JTrJF04iVAoRqJxKtEtJsvTQ7+vQqzgEUXq0I0LU3Hw2nf8g/8QfoGLOy\n",
       "ZwAYCmTRX1PR6MtmVoRGed/kyCuznP/tlRy84/ato39BOwvJNB+beBjri6lrZnKPd+nwwyb6gjx2\n",
       "9xIGXpvHZ9YPGvw5LFIFjKl6lddko9LnuPxNLMPwql50cgwMiOYhN1PfIOrtKj0+AXP16FOE//W5\n",
       "4tuH7eRPtQHQB0wAAANlQZu0SahBbJlMCCn//taMsAE5PHisAI9DGoH5feNPeN9ovec7pIST2SJu\n",
       "jGXLhXv/4EGo7klRX7WrHzxXs7KV8d5yr46DnLOKI9kkI+g9Y3kSPiVQT8cakBKYeVfzn/YDNeNk\n",
       "nto8evyopk9z9xuvp5V3iFqCWiSy87D5d4rlcvJmQXZt0V1pB5Zrn0VVQbDX611LQyKGtHhbpQgf\n",
       "AwlEUjK+ZZjtA/n6oyqanp1wUGAwCChtXwaO0CDZWjd0kPPj9Pz63p9FMFRsTVUCG4x9zQigsNTO\n",
       "86wZ1stmyNp1V1Z9ipSXmTHlhXrGHu9AwhyG4j4elj+BvVHZoZbTv28XXQpfRozTACyEJxQlCAUW\n",
       "0eYeqr9CVWmbp/2W3plq7WimqPluQE0eCsthuxMcv6lSRgCZv0Turd7viVpDaPqa0TTQbrG5jeB1\n",
       "uDWEKieTeRE7kSFZvAYxZv9hhgpgh3Mw1n/CHrWyl78GsmBYBHvLkzCCMDchhgX3bqUAnXs6rsJs\n",
       "ysKqDeWFZFn4Si42fvZwsne87272xa7P8VujdjRK4yLCDMlZI6JfpewDlx0BrB77gDP9iC8yU2T7\n",
       "7BAVerW1RodeJUNR45ySAoi9Znb9l4jo2wL8gB6g83bMiHqZJnbD2hV8U9ldp0tLZVdUGJzCWaKz\n",
       "MuZ5SosWNQ4SMAipmSWtIz3o/Uw/CPzfDFRrbKnjkgLseprOdKCzdpqDPfbs4wfrfTHZFO7iZiji\n",
       "hVnCRFxsfXppkh2JFGBzitYhsqzeg3lYVB9N3CJtQavm1N1s1BLkeKdHvlwXzn3z7NpMpYkJV3eO\n",
       "gKgZ3QT4SwR/cLFbOAGP1QHS0yjx7QRBj0U5BTjyK0iS8dbAoWk973gLSyWBXtCn0HEhaMZ36ylZ\n",
       "NIazf0HioDbH8KAYYpbqz79SAwPBXUKVyIG59FM6bE0kBo6uD/lglkHhf1glifX3PfTWx5fXq51/\n",
       "/MRsA7vRjb0pMVOgP0pUlhJn/TG5wYsZctNiBpu7E1QNDGWQtu7EniXIJudbXk0dOFKRdb5A4h0g\n",
       "q/4so3OLADMHwmNwhbs3VIGemVDZ6eFIQMONh2GiNzR4wqJPC4JDaRaBLXqtuDyFaWw3IsTwQHWB\n",
       "DY7Mr3eirtu4FVkijyuUTNJxFkDy8m/+sKwIr4AAAAGXQZ/SRRUsEf8AAyLWJy2uESvprABO0NYM\n",
       "foXR4HLqq32sWZaAgkCqbEkOuI9vD6KuwHivpGibbtgHCmeFjxmYaHv7ag18/MGH/7ZRVHsK+L8y\n",
       "p04qfvh7YvkQ2dcFUNdDF4ysbWCq+y20xW1GQsVyxv98zk24foAsK3S3kpP9XiUl4EdZD/4j0KM4\n",
       "Pg7IPZ1KX1MJ7RqdQv/xOWbMaNSzlZI79563O14talmlN3Xhc3DObEr+4xC86TibH63YZ1sI4gsU\n",
       "vjP0Hgl0kK8ZEkB3JFxVVQvDxyGL1KB4NuGKpZH0BTLacwGUuTMthMgW/5Kc8gypON4KWjM9Ibqw\n",
       "OZSPuNGWDNIuvU0pTABVHx6w3wUkxz+w1eWLPQju+lKv/JgI/Xs/44HztD/wte+PGQR8wfeuxXJj\n",
       "8qjSNC5vmR52rYIkALe3e5MkC7LQFUsjyzMgmkHl0VdlUkheSmoCTqT3bvRkL0s1Gv7Fq+sJ1MVK\n",
       "xWZn7JjkvVGC+N+L4F9IjxbzMIL3m932s4mhoDSWQvpkfFktt4x1TpkAAADuAZ/xdEEPAAX3J7Ty\n",
       "uvIuIAAJmFtELmbPS3PEmvfU8paNN9iHWcjV7/EvNcmk1oDBCCVJf0P6hsM5xUsmubHzG+yQrk41\n",
       "P8kUH/UcJ10pR6luA/ixalhkOGhdGkQUIJS3uQ7o7X8rnIcKTxa+T8UxW3YB8GV3xhmAW1SyCbvn\n",
       "yYl1f8fC3yCRbvXPiowPWsdG3P+WU4yNuTWcUk/wIW1iH7XGBxoNOKwPWZKkzV9IpmyV2B/FV/Eh\n",
       "buW9sTOO/6V/98WlC0lCpYekPkGrBItHlpR0LBoHWjeTM72VOM1nWmSd60rEWdXB0qenTQIDUgAA\n",
       "APQBn/NqQQ8ABcPPtT6/Ev3QgBNE/JUhq/3fQKrAr0f6iTSGOwQwDTuzU639WMh+7AZ/JRxKIiV4\n",
       "BkkELqwM5B2y+hCJbNQ7+vQqzgDRYOfbZ+FgTCx9F+tM8NMnTZRrN12E4chmRBMdNMDrbtnGYIO/\n",
       "+6205Fid/PqxpL1rVfdeH9DHa+Fh/jyy3h3fsIpyTv3VCVY9T5Nag0sZKZuNGwmloWcgN1ok0k4B\n",
       "BydS4BWA1gCLITfJd5cGejyWnU+mbXsUk+fHVnpfsi8VGbrwwUDyGDJrAhTrf0+1qDni3BlH+ELb\n",
       "gueKodiAtBs5AjEDLfKYkiTgAAAB2EGb+EmoQWyZTAgp//7WjLABMEL9GEsmH0AG0nhNSjvvwIhx\n",
       "ic2kOkejoHMzfjK4cVsg98zEtZaIQVFUlyjSWdel/Cvp8T4HpmMihYR7aA0EImgAw+mftlsmTr3V\n",
       "lS9rBF9dxp96VQxEHy/5SCHkiHsi0YoO5Fhqvsm8YqsxINR4XqHZIj0bt8Z2xLHOeYRMneclGPV/\n",
       "if2yR2r4Dh85VesttjZbrgKxPvp5yeClCWAEFu77naQ7VYpvx9CqcB4WnefaLGXgF7YySRO4TZKd\n",
       "5e6A9HDrDug/w6mXAVKVrm271nPvnPsqTAClmK+bCXk6W919h68Aka6R4+RY+dX3TsvIIRsfUJ77\n",
       "dboA1FjRpNln20R6Gk95c8pA7s+aIzrIeeiovcbcNw0YfE6h25niT2eb8UXhZ+D/0I4OTKJ55zpa\n",
       "uTl+39SacllnGhULMjbqfovMgHJDMkikQy0rr4+BzY+VlfQUeju2+ldjgpQBEjEkVFlBAZXCzqkh\n",
       "4sSNUE29keHxGQL0V8PfOzoBGgldZLGaDksopAYk4/cEDxG3KrfdGXTQQBKwqqHNxhwkeQKdD2Fi\n",
       "tt2Ozu8GKkt+oPeFToRu5wwk47JQrRSaC03GqX0PxJQu+t1Qb0EAAAEfQZ4WRRUsEf8AAwitNsHI\n",
       "H/BAARB9Kv67g7+J7VyCEP26zQlSRbIoHf5GOocLMD3/gM1os0dllQUJB6GdzIYHaZ5g33kSSsX1\n",
       "3dt07UGfJm7R1O33AWQ4w10cz4/l6lYivWqndQqJv+8TPKWsSN7mlKbkKOwBIgvSW8s7L/Uop/lw\n",
       "gPzJ8EjnjW7DOpRdqTVbt95XFcqhDqYHs1huySD7vTIqeVxK8rbApM9nxiA3vLwHGg/NldQTrGV9\n",
       "805yno5hmRSKnklaiQGcxxmV9zzK+9MNLHPSG3m/ZqD1YRjpQ3fwl2SlJ4fg8bIBmQR6km97+HEh\n",
       "f0k6GJBwdjBoAeut9iWwOA7wlxs1QGcQg4bZnjadIquacd6F6z3ZjwyQwpIAAAD3AZ41dEEPAAXN\n",
       "kbRfsAAP33yHU088qogNayRVaIP0INxMgusbpbl4oTOdenrKf+5ZmcTpshJ95rmC2pkGBU0DkOvF\n",
       "bcrnmPMOdBMAK19xf+GYtlyFKoG1k2+/552Atkbxd9swjwwOHUaUjXhYHUkRrFIJXk/f57f6mKkW\n",
       "Lb07+1L+LzoTvICSy4ocFFO7/RFTm/rKc61Mmu5yV6bXZodAOTZGuebDtKE/r38sWtLbSf2e4mhW\n",
       "GLtCsJHQ6ubO2frhlw8EARzs2dGRtn+kXVv0weeSIAoLi81BBbp4bAAxmQihOSaVCz22jt7haz5Y\n",
       "zKguIvW6lTIb0QAAAQsBnjdqQQ8ABcwPQjDFQABNNtkqkSHIVt4VahJmAPAPSxR281Oj8OThjuHk\n",
       "+wi++GxMiEd5XcDAPDz5UgaYfTXnhNuYQffUO/0NAdygGLEZuf+UOsxtgJroyRmCNFx0f/ZCLygh\n",
       "B/WowqxOeFgIp0p2Mmvf6rK1/+h81baHGS0H1dWWWSbcW3wK1j4aQ600fxJ+313eLUNMCSUW1n0x\n",
       "XoRlg0HpGDE44rtEpSQEp4rNvVHyxTlWDLDYVjJCn7paY7tqdEGHEp1rRw5gdlRZhnikKX6WuJ5Y\n",
       "f7Lz6dumG/YskxSbjjGin8BRJ0pBxtD2x2uzfJdu2vMWZuu+21u8y47ZVm+sTe/3wr/sYRcAAAME\n",
       "QZo8SahBbJlMCCn//taMsAE4SoxR77IAK2dg0HEyxPqjRNEJohmI9wrluqBD6qSCNVn/X2Di+Osy\n",
       "UMgTEGxtkHlo04gJ4ZKarhA8ZYonv3PZ9EsZpubiTSvhXjXvPWq1cYdFYVsVaVMoK2btXbffPrnH\n",
       "f1IkcX14/17A/Eu8l+4L+WWRQ96JGRBLiJ3EP0Dra0BobQR1GVniCDcUWShQdR9f5izAFlTtRveA\n",
       "GT9w8cmg20Nggj8gXzCrzLIUDNSt02Aocrpvgt/sILcV9wsn5DJ/iYW0isRdhufcawCIgFc++QgJ\n",
       "gInmHctQPwCO2g6LhrR1yKPSv7M2ym4bcvkCgl3/IYMhnPZ2OM4A8FzCjvNcyU7wxq4nhQ4bxTgl\n",
       "5OMFkZKRvvttm/ONs6iKqnbUJBjPTG9oFL4svOlSC9Dw3KDCQ8gTGUqaVIuQjYQICMMlsETS2v65\n",
       "mUhCJ+HRpb2ED6FemqP/0SUW6uKYGhDBtaZ/AAmwCP5EZlT28BDLB3h5FXHs/6DwyxLm8+4Ho2hJ\n",
       "nbI1ED22TDzFKF4fBu2zLQ3MwuwY/a4LYXz2DO9hgFQb0axRH5CbvKJOnulyNEh4sfUnuod0ClB3\n",
       "OMfNQSt17r1ZHZGAEz1aT113HHRGbCQZcLmg2M3Wsuebtc0cNqGpfES7zs4X/zGQabWjQlybZLJS\n",
       "q4+1kSaDQ8PGKwIKsTkfaU1DWXWn06RwPJ4InD020y3F3aN0wdJ4PUA8pNoVxYvGEu0kGsRikYdM\n",
       "OKE9LtWiG83aRghu6KbbfWICoNM1iIWB++im8vxSRb+Z0X1ipDtgcTvBWpQKQOFIPrwjayW7l8Nm\n",
       "L2T4DdSc+AkBgSB0Yg9l3O1ZLWfewLspWatmOHn0kN9TzR9lQvEMvGeGmBPhJ16t/TW8AVdKDuvK\n",
       "jY/S7woFke2ZTKPJPcwxTkiOBZEWTwzlKuvNYNpYpWjzrp9eoFDkTVhj75hz3EqDIbOdVoTRSOJs\n",
       "nQn0Y11MLPP6qCL0XJBRDyo4cC2gsa83kRYAq/ddwAAAATxBnlpFFSwR/wADIyQp6sKb3yBnABOs\n",
       "EfutXLGimH9svf6F2sTGd4x9E15mvhnc3MA3UUYSYBO2SPxjpqW9RPIsPGkHlnFS5oz92jPOWq/s\n",
       "6L6HIg4KmhdMLZrmQfoz+7duufuVJ1v3w/rmsBvZQlMwOLOkn5gcST/WjesTjwe8WFZE+q0xOg2f\n",
       "1FiomnqianpTHY400sKcznN+aps4wm4XNwjU/9c5et3tzQaTiOancPL6R/1reSCJD8g02lUVd+TM\n",
       "1yZx69RbTi83uyQ74MaCXb8oPyWAwvnTIBWbMI5pmD276Zv+O6syFzG9SmFhQv4RFQDZ3zlbnWlD\n",
       "fpd7Jv7FMAGV1lYj4JyIloO9zenQ+ZtpFnUHaBAyP+ym5WFrS+VCdN+1zf8HKjRS2t/H9T6UepPi\n",
       "GZI7Is77GK0TAAAAwQGeeXRBDwAFw8+1QE3v/rwACdJ68WeVWu+n84PU8QWSknHYGNn7KvTpS1WZ\n",
       "jXNbfn/xp4LY+bqJHCgoI2b+ZuxoVY2/OVkuQdurLIYElZdFZfOxGv6hc6FiY1HX+WfwX/Du2vUI\n",
       "FErmptH3HzBb0kkMcfhZdzEp+aAW3nmntmZV3HBmmuMJ/96cu7aup3ozZt0LaBcrDsFJzhBTpefB\n",
       "yEbRMPRiPxGKotg+Ug7ONv+3XQtGRcfm9tpGFESJ3BQ3GLAAAADIAZ57akEPAAX2/YCEZzbSWkgA\n",
       "Pi8Koni+2l0JGyX2LJRdz8eLuQ1q4LiWmosG9JawElczsgb4qhTxUGvy7PEUAgo35Z75BEmkK1Bl\n",
       "3Ovr/rfxGPzM4bYoju/7V4TIdmR8kinNoLf2nY/8LKn1bOqvK4Fu6WLH4phiwfC2S9Ca5dFmhE4j\n",
       "c0qUdhUaHZOhMVyHljJI2zkgq0BQvm3POrZeuoJsea/D5byGuW94jDxNTNQwKevkLQqtLK0IHQB1\n",
       "/Dk2pJZc+nTeLiEAAAL+QZpgSahBbJlMCCn//taMsAEx5ycQNEH/q0AF9GbhSWdP9OHZm6JQpfay\n",
       "h0oEKLQUwNHrCquQFIbZ8cr3Uvld0qQsersYiYXfpWmcvyd8JVcEQB7RBUtyOdldapM5OYD1tTaw\n",
       "AAo7QW8bcz082sZHruVuY0wgwE7nuINHermUA6pvg2HIWWG1y0mkBI67B5K7HXhRmtOa4F7qhMjN\n",
       "Ia9y1VRbFAU+lCUgCI5FcymULa7/O/6xPaZ6yu3FHH3IpZGP7/f32+G5OJP23XbotDTgR5KI48bq\n",
       "9t9C/Tzvr8h08GUXR4QSql3AwSf0NwcrWjDNFNJf20X7EbjOVuQ4uCUCOjtTNwkdItOL+YLXK7Mn\n",
       "d6dFYNk8t89mT4kQVliqtEJDmvkYcqBdfZ5Ldvj1jwqYr636Sa57WOA7APaaYSkPYEPQe3bcFjKL\n",
       "c6K2HfoCteJUhBq2OzscrJ/GwoG0FhWHfIzLAHUteOVkREsfakNDe5WDkK2Z9WagrkHqKlykjORO\n",
       "SVt6xzW/xpVkx+TAEGO2hyV3eGxY5ZrLnCXdHJiH11wECIGk6WPyw8QLn67vHTwr+GqNNkBTRRwv\n",
       "LQRl6t/1raBjNprvQHN4q+Bm/ztNbBQ3Wuex72IZe0gCIf4GHlcTKJCF4MI59dxAznVwWqZG23O3\n",
       "3xFP4oB99esOUFTuxMlbzYr4G0GPilQsVFVedVnGITTMQHk6Y6iEM6lboVxK0VL6SHHLT/F7sPSD\n",
       "yYvpg5k+RoORUARyAryzwz4+2JPxN4gKGnEsnlO1bKtz1X5r2LH4YUOLKkbnBEGo6yAtAGtymlgZ\n",
       "2kNzNvDrelB/m7AvFDQ6DdYMGAHw8N3HVt4M4f4fCdCQeMnvmDts8K8NDk+gn/SLk4bOmEX+94Rj\n",
       "/HmjHWPXSrQxwp9la5/oIwsGGBPUwWuKoFi9wrBjtLUm/q6axRLvhmLA0P6I7Jvf6ZjwEFnYsgr4\n",
       "9oX2dlgHwrTxbeHS14XXTCapwjB6jAUsa3yiJZaNNJnJF6Vx8VXCPwAAAXFBnp5FFSwR/wADDW34\n",
       "OFvAAmigxYdStTwGh0Qak9kG5R+j2rGC88eJdIxnn1gl1WPuf/xqEBUXmXSxg8LbRXXG+aZEU+Z+\n",
       "c4oktcv9n2/mblXDwEkOMWBhAorapgM1LRn3DfgMtHTxCc7dml1KWf0XMJeHOf/gmfaj6//FjjH3\n",
       "LEtVi0zLbcHIDm47m3ak5tcsgcl2/vqa+Okqhk3u4INu9G1zjUp+/k4TsN+HIIXEd/J58h2U6b2g\n",
       "ZJsJvQ14Ko1sN74fxGR5RpsacanJU8G0s0sh4a9PjSc4bqnqIuVzmSoy8iwVtAzUauTl8BM+NJx4\n",
       "YW7SHSdkKzZdhegBehDKS8yeuwedDBSrC5gDIQc1wtRuO+sTYHwkHhqZYSNzlObFdM3uAuaOQgbM\n",
       "qNuRft1wpqBAcz2bTHGlRdogxtnai9NXtVOawEnf1aZ7XZgGyaNl81OTjomaByKCUo0cMLE+8YGo\n",
       "U6z7aDTMpwq3hWI+EXAAAADUAZ69dEEPAAXDz7U+vxL90IATTbZKKc8q5e96b3tf6yD6mTKOVcJN\n",
       "Vi/kPhmxECwsbpJZbgOKkqdsHd59XeqhVuHWiwcvPF2YFTCaFWNvzmJJlobS/kTDWyRPO6fd6FRR\n",
       "uty4bTCadY7oXFKrIGkFzmoq8E4e3PyBuL0TVULRBP1TuWkzt+nFcFG6jSRtLAF7ciZY/Cg2zZPl\n",
       "mZdPcEymtyxkg71Pcmwum+tVprizkJGLAgS/PIQzURzFLeZ/bQQHXOLZDvGprwn1zPYJKP32QdTE\n",
       "xYAAAADWAZ6/akEPAAW+tfBW2fdsAAP33oK5e201RfUXE0UrgeNKUfYl96g1ng4GnlxmB77n11M5\n",
       "7MrcZIxf/O1Dbeu1Q7+z8lZ4eXLC8gZpsTYgIBb4OcLcIqnfYo0IgDQHroCjMlXGhmvjG+rRuz60\n",
       "Zs6e0On7cJSzENv0TerFQF7yKwQUmqtuoJuJca9k7g2xFt09NjFTNCraGjEl6U4Hb73wsqwM7dgh\n",
       "1vhJPQIs1Li2Gd3DvBPASWsPaCefBYc9jsvkAjJ+4FAFkVNIdEg5YmZMgnnt5bko2QAABHZBmqRJ\n",
       "qEFsmUwIJ//+tSqABKWhqvlgAQjQF6QmLCjo0URoOI3RAHVqDAlit2YhiWZpnH1qitVdJLLsFsCs\n",
       "Ykpr0MedPqx/ILo4u5aWm0nxRxSPjQKUT3/99EAN07sK21CM3XtggGqFadaKJ8FPQH78dSZuDFXy\n",
       "xIIbSKHdXankStgJhBMjpH0FZzQ8rSJ9B2l3qQRvdRNcpC/OdWpzpRNCDltm4LoYT7JWeDXAP4FS\n",
       "mltvzE3IB5Q1qkH/YfG8tgjevYQQvJYBqcCgXnRG4SQ8Uw6wgmLRAqTpTfdX42VKnu/vrHIsuxNL\n",
       "cndg02TblAtTuGyeT1/3CrAaAVDfocNwhi/vBi+34u4+x8Ml94+AEMxjEoXGKvAz/vJp+EH0dz8d\n",
       "PfsG6YD7z+ib+MQnMfiXQ7KSvXH6L19/oaUp6+LBsHJNjXD2HbaeBagkS32OBdW85qqgAQbD3GBP\n",
       "j8cIunrRFTPHJHiW9/w4p657wVqTT4B0BFe7dgvMbAHOsd1sB/mkIhDp82qgf6FMmUPfyOsO9gA+\n",
       "cmhVnCCeCEGp6xLi3sbE/bLb3EYeYovyv3rYr673ObxjijUSYHCztofQhO6w/R4DMAeLb5sKrlqG\n",
       "cGfhBx18wWVatEQpqiDyzvYLISx4eF76F9GI+2iWoZF/LXFPgVdZhrjnGBsshM0nmDx4KVpXFkLn\n",
       "rN1ARa7QItM8OHrNv4C8MTr73YnrjSQU1LSpIjpKrgm9WrdFbeChNnOr1IbxTeL2gqwMlHHhVzk7\n",
       "Q6dSj9Fbc/PneInh3/oj1mNQ8oQ/ZJNIBEP73LVMxom5KPTb6++EIv8CO7M/1alLFGEBiNbjgqIW\n",
       "iYwpkTUez10uh1JdUFT2FIiZxvs2gFfX+c06yw0GAPRL2A8/wQ2Iz6qQ2uspxLWiebGpp/seIX2S\n",
       "13rAdAT+PEezKuYkd0xQTjb5y20ZyYblOSPLKM3cjsAqCESCEFxUo9oEpzn515XMX/hDOskSBsv3\n",
       "9+3FdjoR7ioHQs1lCtjh4wDAYV2PUWoEhYN1FdHQJfVi+xaRin4HGQoaNSvgFCbgRlbltWvUJaxX\n",
       "6gv0IH9GyzVPcqQl7lxd2kwVogoJZ1FnCEJNM1Ns2I7HYS2yQcUOCkBJMMvsk0gRbpwQNjpok+pn\n",
       "H2OOTGh6xqqsXxCMwsRVX35ePa6GhENvAUC3Z3Zad7pIqd15BpZBIRkDmRh/1mUaCKCIJFv0lQLZ\n",
       "EUVyzs3swvttU8ktkytO16sIAzggnllyGz7yKhBr2nhFY/NKGKHI8Pls2mvznDrvjWatNDJoQidN\n",
       "trbkmeodIOMqF3pF3xsjuwHH8Ol8aiZbtmkLqiN8/ymuj9o6IF9ccofraJtF9dRfwNhZgEcdJWeM\n",
       "A3PzkHrrLjjfJyrkT6y4KPKLFH9dBzNQhuNZJXTEkWO6TMt2FxPb+kQwj8wWH16vAPUD4+cp5QmK\n",
       "COL3DG8sAP5t/9znuTjcRJdLwt1w8hAfqwIauEBI4ur5yVX5H0GwRF9c9CeEXel9biVWZ6hrQAAA\n",
       "AZVBnsJFFSwR/wADBbDJOgw9TvAAml/gUKOIBS305GlDHjNEYD0p8KK0W4vVPUbcAMAoNMLBfHyO\n",
       "+Spw4V5NP7odRUSAfzN1LQnYO/Tl7jtzg+OZ87TSd4nttUPki7ZoihX3UX3sdLaviBxvQZNBZm04\n",
       "9Ccvo7eJ58bifjDwD7rJvAQREirh1i+inuyWLv+hoMqIu5htOT/vqxfkcotfyiEKTfUlb58G9aVr\n",
       "Yv5W23cJc+R9n7yxDLK6kX5VL1ZtwXd6itE2O4cuoRlochGof6MqZjM5b6pmf7fPhWXlkIF4OQA2\n",
       "5maUdcTUgqmjRhg7hXL1ZBoL0pWVRV44lyjWRpfvfd8NIHIHWttAH7jihMojdzECDd3ksh4cUJeq\n",
       "68yF82nt6ApViOIJ6J4AR42fydjt2+4fusd7E0JzzSX9mPKpHJc6xTHzkU02nkFFeBtjXdP7EEk3\n",
       "Lq2ApdQA6C8PpcwTPA+AL87h8cZr1sQc15LUtwUk8t43+gXuHKpkGMwPnGB3iApq7G482Y5+dzGW\n",
       "03FPMazomzEAAAFZAZ7hdEEPAAW/3BGNYAAfwj4GrvEU+PEOWb5n6JdCzgbBa3BQ9nSY3VlK4XWm\n",
       "UZ369zSk7wNVDOg4ghfLMWa0fl1m7R1VdcBEjotx4rmIaYMtk+Rwh0ovbTQQvvfH4I5B0yRCcOQx\n",
       "ZiQ0BMElpqlamz63OpDCLcFw/2waZfxrw9rWlamcZkjByG0nhXU2JHOsFH5ehGr5/NVYwnUx6lsk\n",
       "6ojvlCzhQvYtFdXENn5PqFGEeEqJxsnXEtNZ8+jWOtOysrDzPV1zPqKnnt4wYASzB77zTZbCjcBM\n",
       "iyCRWV/V6BR4JBneEuAPGQQLIBIj6hhCpoVOSAKVngEZkk1DQI/6fguLaxTUBN3LtJ4MQaKY/j7p\n",
       "VNf6VcPIJZeFBKIJS+2O4kCJgVBz1yL28oJbZ07T1KJjkNoPBhcoVcj9d41rz44kuAgdBUg7mzoI\n",
       "4IB2rhmws8/xKRVqHzUgAAABBwGe42pBDwAFw8+1QGgf90IATTbLxexVTGO58NJybxBZMzv+OQNO\n",
       "GsYkSIv6p6mWUFxRUVUYIbzIot50zW//nxsguUtH8zeyLYDVh/3kpLNkFCyRDtBjuaX9J07aFC55\n",
       "G5K6Xc8AMHYeWg8FTKpsNb9zL8Y4u+HmVheWPLLXx2JXlAdcCKIdYntjpaIlllgS/ChucSOKIVCr\n",
       "lO/pqETzGyXgrdnmASdE/vq0IdlxUpIF279/QeLIJ9yDCADVanrHZibFikX6bFp6r7S3vLYiA5Yl\n",
       "ditCzt9Wv4RVuPULCztQpqVMQ0pDPNDuZfd/H7PwJJGz/WAaTz8b6DsIReMHQaDHzTdFoCqZAAAB\n",
       "uUGa5UmoQWyZTAgp//7WjLABMGYKQABzOYK3ty3QZjleR5tiXQpSfHcn626e49O6g88NKXvKgxfP\n",
       "2GGY/SBQe3q+pvxjgUjGNN/J0hIdCQ98iLXYTtmgAEX4MAIBNoAXOgObh717vD43ue+dW1TKv+KD\n",
       "Af/uoHD7HKHOvYzBZO77bc8u56sbo8maxSjV4FTJ2ZOwjhpMkJMP1lflh5q36OOKuWIF4P7RLD6K\n",
       "dLFQs7C4uX8rtp/PTO+PIt/3T3QEsCAr9Kkvnl4lydpYZav1vffYYb7zU+ZXk4J/gfeqCMz5ca6P\n",
       "OCkheEGZnGmghNHBUoO6UbVXyuGTQhtOqsXIoidcy/boxoN1JrAUxnlqh5o3u3yNYT6MP0WUe+n7\n",
       "qGOMVmOcwDe6+jNgyUaK02YjGuEEIMBQt9n0N15lNKAe/7aiktgA2w0Ce0VWtlNHp7Yh6GB1Wmj5\n",
       "KbVJozmPqu3/+EROcnQZ9hxBA6gAI6Pi96fRutuvlZJPJDWqKjHb8vLg3BlLW5t+Q3KvEgu5RHh7\n",
       "UJn0XqiP0w8oyXLU+AUf38a1oO+xjMS+nFeMoCpNcbTHjf5//57f95WCtwAAA11BmwlJ4QpSZTAg\n",
       "p//+1oywATk8eKwAcZwuYs+Yx0t31mSZLi8uQinAmMwGdmIM0ub1L+sfl9Tadzro+yo3Kc22L0Mr\n",
       "Zh6WWLZCw9tk+SO07CbbHXcMQwb5j7RciDOmluYmo+OfmAOIsE/nZMXp5LESsHkMYEAPKWsh9mAf\n",
       "hm5rJT/IijFTHfx1PSyfuaNCzlajuAVi2iBLOZaXxSIsdhT5yddmSKUHHn3cDK0WYAs1U6HJc7c9\n",
       "zdymeR8wMieczKuqn4qDRuDx/3mEvBhQBkhVKlfjpKvnJzCEGF+i9gMMBqKRm2IiD+i6vKt4IW93\n",
       "u5aCvL79NM4s4g6RfZQ/qRBVFJGq8NHvMQp/gFYIT/E4xqpbG9V606rBIeRPLYHkHK3mFG06b4md\n",
       "W9eLyduIIxu3jaXGFXMfCipJo9sprl2zyrp8aQLOOpZa4SmLyrMO5H2URwQMsqAkpbfktZ2TcnMm\n",
       "b7ITRWJs9X/tIJ1E7X9WcnG8GmP/RxG5VjpxWqh7iEzaGHUYAuKj5QZ0W0panxqetXSseck9HRZn\n",
       "6hln2WPCBrBRQgjA/uuaQoSN4SP+FxD/BkA6PO08fa8zq+rJal48uLKJga7Z0GbuxAeTSh2Xp/fd\n",
       "/ltSCrTgdM9V4vaYg0wUpUVzCB74Pmd+j8Q9vpvKeWcHfKL52qmsaMb3BwAJDY+n6aytw49Z9I/l\n",
       "c2TVBfspOuTTHs5+BOQa2R3fF587UV9CsXPwj8NzeAA3VTO/m11Y7/mlwbH0S1ohZOmb/Hvk5o2S\n",
       "sXeo1J8MR3ORP+tw7SiPfo1DVADF0TAkTCMQbZP1XUr5OBPQE40uS/YnW8viPso+z4/pHzWR/IKG\n",
       "mWeACOLgcXJ1e8tIyd9jQ1lcno3Yg8Xa7uXJ97PkIh+SsnUUmY2OCZm56pR6yAHmdnKKMpv6KvgV\n",
       "5TYOCnxVWDKXfrTKF4TX2MsLjLPKdWTVUUrGqhRW9CktwccvXl0CwI+RHGtj35DWrqvyX7oHewSJ\n",
       "EZUt35kImXOKa3bEfKF6MCkHfajyOSmsW/cdprtGmEv1tmOTXMP8BCLwJq/s5Cl/99e6IgK7z6/a\n",
       "vUc4JFSiYHmnbZEXNz0FOsKRZ4bH4E0bCVQRrvgYSIUr7vG3VKGVuhY33h2AoIuMDeVZN6EAAAG/\n",
       "QZ8nRTRMEf8AAyLWWckT3NKP8AQAhO3vhn2eEXxg+C0xWeWILgd7DkSXRv8/8HVcEiR3tgrISlxU\n",
       "/xPYSGyil9g4M0ElHmjP3B985NyizGojV+ilRnIPLJ/Hg5z3lqHPYoiY84V8NVYHCBxY3eUrAwy3\n",
       "bUDY4xzxKFv/P49EixqVHd44gEU91F1cheuelvFE83Pb5+2elk8IgC5Pmxom3ruN21Ymwnvierkm\n",
       "lLgTdniqk9npA9UNiwq8cP/Mm9QjxdcuVaZGqw3YhQtKS1iSYqOGeUgYJPe9khX5J5rQpRGDouma\n",
       "/SD4uRElotURtXVLzWTNadj+5lpKvWADcYAC2fU7lHc56xIjjzSbZcwRBzcBa4G2bTBIBXiQcUGD\n",
       "Mw3tjAu6JymAKSf5B0Iv1oxNGbC2X9gLl959/J+PMPUMp1273fdzaxsfwe/OkE/I8vclZ+zH949n\n",
       "z42qAmUrk1fW3yGdG2A5rWyUqn5QD/CIHUO6auHJcp96+AgHjJPmAMP8kOzEn7G+qL5Agxe5uXXT\n",
       "rQVHxwlNu2SHDEBKbV4IOEvcS1N7335PfqV5SXTklnrIXbG0TlWopqUQxei+ZQH/AAABBAGfRnRB\n",
       "DwAF9rvzzCvc6izAABOp6GEhojA6ECf9jeSjDOr191QfPhZkHwYugNJFTAuTcRswJO1mmVb978RY\n",
       "6fZkVLKCbwFd0aD41SbjYLLSOZDbfqFhym+kicCWc3AULlaROO0JRc23nSywY3zGYoBcCEQWEflc\n",
       "QlTZvs6kKH1tEx3xubMSjHcSjV6bGGFoxMNRBvfKNJ2mJN9tBvCyrkMIAEcwTI6H1H5kzcDG/h6m\n",
       "CHnBhZbvGgpS1smaLhL+mvtHm8lAO+YoEyfYMRCG2yHVABxWjLeHf1mZC0BtvPUty2F0B/iW+Xf2\n",
       "u34GWZe0NdVOppTu9KXkG1aZ7kc7o8h/vwoOAAAA8QGfSGpBDwAF1/AMAE61fVPLDsW5KqHm+YeH\n",
       "HpOIJfLTVfILOcn/8GrXTtOV7qkfAYi9NHw2HbUe+7Xo4EcCpZ54ddI85U/6L9/GYqPi0uDNCTCR\n",
       "sty1MJvLS2aDyHtdvZjmr3GbsQu25xG01VYMJqfxEUFKvDtIF/EkdURpjMVYUq3ExUuMO0yUrh0n\n",
       "ljDCfgddV0a2LIZBADg3CI5wN+9xAlzSUi45bA4CrqqArQCJaiOwgPAc0LBM5Umbq8MPHiCGgp8k\n",
       "btdEwsSARQ6QnEjHJDwQAFUea8n0ONodNUcOC7oo0KaE2aN27qFSkMRwJOAAAAJ2QZtNSahBaJlM\n",
       "CCf//rUqgASnmhrbE//+IoAL6OOxOPnKsu0C2wZEOI4a4hhsy50SfHMVbP/DN7s08idr2bVIabgo\n",
       "oPoykbfDYAAzbVTBKIA37gdWg6SQseZxge1CfGbp0eq6MljvcdzrfbSb+BIrQ0Fu2b1G9aUSapTw\n",
       "s668j4BzIpdJxDHnGhc+eBDv4uocQFNr7Z2Na3BGz3lokWTgcl6BnJpmwKsLy4SJaIWzHRXcdS3e\n",
       "b/rBvTgMaevMY4XH7+HAJnkqQxSD1yFiivxDIg79Z+MvxUnaZS3+3pKkaTGqfLGSc2yN6DwWI0/F\n",
       "f3wfr5QByanNvjFP1mHgBbgVEgB20CmUonJfaNNqQYedHuZcCYh/SMtB0e9WyNNaprLU4hZSOpBm\n",
       "K4LnGMkGn2GMZK/KU1TsSbXgph2OpGPqmp5RfG3cd8Un3WTYjftJFOxw8zRWUaslpeI4YFEIa18C\n",
       "YIfNPIoJivn0sTKXNBujG8I0NO5HTCk1jOHnB/bvS5bdXAtyKf47JbuZFGuy/ILfl9JJeQl9Fipp\n",
       "C2+lSoddpqKmWsbGgLFICu33Dl3yTXp1iFcr3n7xKwnYZyC/BST+9OB7i1V5qOhoYcXdwtHAqbIt\n",
       "A/8oGHwiUNZcYdaU+/VtKM/Ma84PPMUIzAUZ4EZ8cCRx/rh9WCLSbfJmQoHYgH5HgyjmCPQ+pO8G\n",
       "htUKd9pN/g42dVHRs17+TKwOEmf3wv0Tsv+KiUXaVno7Dibd8pBaPnBQyUguwPwUXW4rFx7yRVqa\n",
       "Dcn6hFox3tPXWyoi4aUd6f5C4uLVfX7fggnEnWgmbMFYGU1TekbTBAmqYFH5lRfadCpJAAABfkGf\n",
       "a0URLBH/AAMN70fiAA/hJWVr22wAOdW8cAbgQ/dF08UsWXhuMPFq7tslWRekulqLyD/pYK9fOAG6\n",
       "pFFN/M3azrgLFy0rxgTQiT4bnsWcD+QhgHiZQmSUZ3/QZqm6LeX/8FlrfvvEmGMX+TPEzW2PxEsy\n",
       "RWZ0lc1Jjcu7eWSsHNqC6LZRuhMl5S66GbfqJDG6gasAOxQ4Rp+0QravBUiXjz0W+Qo3RBQKPBFF\n",
       "kGxajRc7pP6TxL9zgtPL5a41YmsWMlxLgkRuEYLawOuANLKYteZPMDJx2y9Xds0ixyTjWLr2QB7I\n",
       "O00+khfFNEGdM+rfAwVSECMBmbq9AOKiSFe8KOTRr2fMFAeOymAdQh3b95CXI9U8fCeMogbjtEI6\n",
       "mo6sKdgUo43czUK4He0N0oPbrBk9KegqygErjFJROGqSfUBsroG5pa0AwqTeCRnqkWgPDEyN0Ido\n",
       "LgMrQZ+foAE74fmLIHjJv9ssg4Eb/LJnmzHIp02V8xMDjmMwDmgAAAEhAZ+KdEEPAAXDxuc7mi9l\n",
       "gA/hHwNXWwViZSspHvrumEKHo/ijEPw3QYn1Nwi2bpjcJuTkeBeI7DS1YXAJz/HFNNssZZyXlc6v\n",
       "V3XlDHfvFrRDgXrUO/TEKsbfnLBURbFfZO8KkP/t3nlQ2Cvbj0mSP5omsv0/M29WBNH6It5fvZbn\n",
       "UfEjVTUE9CI1N1OtqNV2mLblfvQdPQDFzuFjojYFivcaAMTfDFpYwqC5GIRfsT573+V8RkqKJgjV\n",
       "JOrxXeHVMi3mxTjQ0QhSZlzKwVl/0NaG16qUtvUDNWxvxFN8OUdue8E08OGu3+NDZZw/qkfMbQRj\n",
       "k+hADSP26S3SLh7zwv0zl9+WyjvikHf/MAmT04q4/73M0jmTjjc3WPDrjYgz4AAAAPwBn4xqQQ8A\n",
       "Bc8nBFWAAH8GLob/ItRacfHKUoapL/OimAnTnd7+XPyzCko/yR6Ep7+wyG3fb2QSp0Tn2T3vxNHB\n",
       "s7Jc9v8CpmOBgNtpVcbRvIZhkeq06LS8VKbr1n7KLZNeU6n7GLk0+8qnDHgQygsDFqVeJS5DyHwr\n",
       "wGD/gCLdAnsiN6Z7KVkWWENej90cIFcLBnef31jE3I1FH3T1PlbZunPHOX6ZfeQaX0CgdEhiTT3G\n",
       "/iwFTpHLrZgpSStNFmIwwqp5xe67ktx0mstUl2Mo9+6fTcYmxIJHpv5dbaokasiRYK1b8Tol5Wql\n",
       "rtYLaCk/F+3mjTpBCJgAC2kAAAJpQZuOSahBbJlMCCf//rUqgAShQw64ANn8hN1XPnObRnsinw8b\n",
       "PS4KF4w4yQUtVr7dCDy1VaDBWRPL1glLNTybtLKvge27UdL33ErSfN2FE6ziBV+MrWUtnGXbPbog\n",
       "gHZ6IALEblJ0ujiPpyoaLTN4A9sKQNkGvWMPoy6uLTn/GsnxsM0CtXqQdCsoQIq28qtDCULYLcgv\n",
       "JN0tDQ2ziHAy9zO2vqxV5TSVKBELwdKCJva4hST5R7HPVVb40vt9n5RnhP7SzgT5IRSKq5CtYfuf\n",
       "7ysSc58QIS0WajCiY3d7Ysy517GVS1FRZNXIb/Q2bKt+gW2IMSCDiY3HFkXePuC/R4KsDXpfPlou\n",
       "xsEwIAMlFd6IKWwYN6gam69tvR0XuUGjfCK6Ova0QUp3ZUspbfxLDvEqRwu5/OQOp1y+fkIncDxv\n",
       "z+4aFP7X3tn72J+Kp8/YZSuHZoI75nXg89zNcRz7cGO2XHF8//zDXIewoSbNzL/Pw58JtLWmlkah\n",
       "D4VWv375BLhdMk/ZxsNgOfduWmmo+QfNG44Q7WsQg9LXFe9EZnIFIESFjlR0Zob8S4srMA9aobun\n",
       "5XRkAEYsUUsLxr847bFrR4+EKwAkyLu/N1ZZVYwsdhygmbTrG7ZEE3or6KOjBe+XnaeXHTFRJ5RW\n",
       "r66aBefW/RstMFQbxBkAzF7/uKwdsiVkjAfuNkQ2o7KRHdLx+5MPbarHbIhjhlQl6fAi6FDPxfSM\n",
       "bG+NsLUp9WTpd3XBdSQg5FLWZg+jkq/dH37QShUVqCs+CBTqgA168eX+3I1D3Ru85Fp3QwVO+gs4\n",
       "uDKpZZrE62mADjkAAAMNQZuvSeEKUmUwIJ///rUqgASmx6iYAAQmhg1iJiRpWGXRROSP+8Z1Bg62\n",
       "GMht1AeUrI+9OFlavK5FKLE8cwOp8WBhJ1zvz0AsaX7BlVSWCVlB+7Fgl3/fRAIskXQrj7Ri51rs\n",
       "grvW4lxmOGoNBaUY/oOnF/nLzyKz1jz5gm2WbsfPNpazNQBPbVrtT97HUn4zXtjJhQ/wWrULiixF\n",
       "bOM6u9LFyGoxKXdmuQKZL/DBi7X+J91z8RyBMdHq1FxzTAJjeqA/nHkeOz3YYrxh6fn9ZvN5UF6k\n",
       "TcEz/belCH8NMPnFjfUBMZgoc09YVnfODDEQjRRw1I9cL3rkBAvxZMlv7ZDCf2wpREW3s7ripKa4\n",
       "i3d5ZQ3la4VIA1Wuhuf1rLrHbr+GnuU8ZNZhI3hdzuUlQ8y+nowGAm0unajOQYHack1TaMzXyJUg\n",
       "jfj3s0DgcY3fC1K3GGczh//PdMEFfCERBFOAqUzfNa2CxpMIqo92cb0Y6qbrew1ShHNnszFFEggG\n",
       "v7muqFyzwTmuSKPbAnKo8OvsTc9wBGs0O+ztlzWYDSG61KwRat5t/N+57sSHJXlccKOhxIioJmv2\n",
       "g1i4qfEO6TU/7mMFpU1rL9u3+LpQUgwlk0ByF/OIzv1eY9gVisN0uXdP1T1su6beujLFEfngxDnA\n",
       "i1yxUbdPmdEtJjqa90cqBE5MkbO762X/nxYcrOEaN9TWNDFUmn7PnuI2LQimEusmZMd59cKmT6RT\n",
       "ssppU3eWFAeeWQvNjQRLOZbzrrkHkNKTHK+lSeKbHiguzFPumL5Rl9VAb2Kycyu4kTyRne6qS5RZ\n",
       "VvBgAQsTUGQqjTvpBohHjHvgPQsml0HmoebGyjQttlCvfL2UgzM8WWh2Mk1jVoYMZWQVOPkSPAV0\n",
       "OLac29EVXLZLqxMB7lAoYFY5GN34vkrxi3eU5BlbZyh6p8xhWhFgrBfpsOlpzMv+UogtIp3lvnLB\n",
       "tQ5KArXwsyeXp53hV8CREsO/UKeAe7ME2xeyVnZ5EbIw64qtsfiGwmmrGoThF6edjjXO/sQxYQAA\n",
       "AeBBm9BJ4Q6JlMCCn/7WjLABOEqIz9IgA4qaJxZ1BUIDwpQsHeTycrRAhrRbapRrbI59BUwmwlCT\n",
       "lcpj5w87Bu90P7W6aov7xvCLQrsHRcH0yCRu5DLk7RG/wF1CtweW4u6gXXgAVdgICxjkdjkR4qH2\n",
       "uQtv6Rl9hYWthJ4QjaAUbtRdF1ejQC6lZDizgy6eFHd4yMdwGwU4tZEikWubYokWjlaHZ2g/3PGA\n",
       "UNJywybR9GGGXaR4feV9/p9Ddu3J99wOOZrvzIvTy23GnsdlAIZLk0gosUM5KBEI8pa6Af+XfD2B\n",
       "ivqe6zQ5JizEyQUdipzMTvSgZDKmt03H+skJUta/VBFGkNp4U5OiK13gG1J6cFIe/otk+ZbJdWzG\n",
       "jQtg+QtkxmAjRYOKFvUxsbCaJW2eIzGEVIV9Oep84QF7Xt2RYfA3rCTDW3VLuUUncRFCi/TS6S8T\n",
       "6EXUUj+NfHOD0KNNPedpCWsLuiM73LzTLuDKmWpXgbg0+3NLLG66L9BOAEI7Ld/MLB9AkJXbWtsH\n",
       "POGxJLyEFcVhrdmq7axsXuDtEm0QPFemd4ZCnVyuWkp4bxXeTHCpNMpF9NtqUcScTqRpzQb11evY\n",
       "ejAn6MDPHIp1EyFghRJquMkC2UR0ANVeDUgAAAN8QZv0SeEPJlMCCn/+1oywATHnQDlRHf9WgAvo\n",
       "6/OrKYz6LAj9XRKFL7WUOlAVI6hC9DVGQ83r2nZsW6Nzb2PPgc6LYd71jvA/tg/1nLjBwwNBdD/N\n",
       "9Rxqv1llvCEP1yRfrAAGcrTngUsB8JYT03Qjd39YQxHqAMMfNzXGO8EgPY2H8pR+2WwrUqEzjUPR\n",
       "/7/AiG/K3S5QtHc+Uh2mUMPS9jmXTKKo6Glm/ryPzsvW+SkcW1mryrV5FpcRhezXHpp6CS9wPnO2\n",
       "mN7UgW89W/PzMFlt/1cMOYOlgibVjKZxqnSf5N++j9KjRrOtzxRb0FvP79tSQQN75BFBdJoiE2Xe\n",
       "lbCBxeQnze2AVenv1uNfmJEuhzzTXe3F5FGyqEIhIVBIlo1+V+af0VyFN0zjgL/nrXLknv1ifHet\n",
       "iOQTQqMzOjKD8ze8BbXAJToHA7Zjz251fupit8Ye9n/t0GBECVuN1JNdpzTyg3ZytUU6ZhpsEP14\n",
       "fHfe8QwtAGIvBu6InrrKsOomMJwDu8gaRbb3zis53tVpr/FIbcUfi+jm4dodyOWv/OG7IZpfgJ/f\n",
       "lLIE9KbdBSJMjYXx9QMOJhtnnL+VqMZHSFe+epVl/+bxN4Qp+RD141YhIoUK7tH+aDNMTil7ZlLT\n",
       "AAAk4o8+x1S5Q9LCvep+loVDhDLR+h0eHhhnnrfcFPDs3Dheby7ACamrdMFCKF/l6ljFPgXad2W1\n",
       "0O+ZEvccgHVKAmCMATTWW4ctqJ1JgBUaJPiL6wCi7wauQsNWKYJXovHStDorXB2lgrsI8KwwhlaQ\n",
       "LfIvt8ThY13iBcBA2dQojZIQgibWQzbQjk5L87nLZaD29QqDwkXUrxUL7FQne4K8mfl0N+bS3EkL\n",
       "4+X6gzz801KE8VZn060wWgo1YivM7N0cYSaABBR2YRn0wbnxDNbPW1r0UhZeI5k+1RY6DtUxzSYN\n",
       "+30JgXg0whaiZKuDIrRypUeTK+coCEzdRvWxctXnOT8y+qdUpt9OWGE9G19Hbzy1xJQ7QWAAAQi8\n",
       "UjN3v6MooGVgsiZg6ZJ9jJxByIK0CkAGr0UmvoTbfrnu22cRlE4CKdjwLhq1IxXKalyMZ6+q7edw\n",
       "Vok5DT5lQeLnalpzQ6R5VPUXbQMi9gO5VZF3Ulzc9VX/cDDn2eTVjaYogjUZOvJjJjJH6nK2rlcT\n",
       "PjOew3WsWtBdwAAAAWVBnhJFETwR/wADDWwTOHRuAE6UGLCCG8/ztvQAWfW9gIXT0o6EQxSe5GWT\n",
       "MlAObyv5JI4C4ghLzKatzsNeVDexAptI9STdpktah3tf9euAI+H2kfql6EQwKhN0kk9eyWPwNOsB\n",
       "77ZMMk7FMY1oJ9+1eQhjoLgJqTfmkr/mS7RnwJ2HRplTU3EXGiwwOyyLTgL8EW8NWVBA0VwmSjYZ\n",
       "ksInv2yO8P9av2UIHBk8SocEmS/g/yj2ZpVuYVqoPHdiRaglZhWbt/h1CKLh1dD079FMEwPzAtLg\n",
       "RQP5hW2uHLfjDTJa8jrh5Ipuw74zbFYDXE9RFGmCHptJVaQxNe4dr7qAaFFK9LZbAbE9oY56oCSt\n",
       "I4FHGtlZ28Nv2CTcG+KGDQ1Gwy+fwoeWeNYTwUySmb+aI3r9zA5rHiJPmDl6vDGhsMojLRakvl84\n",
       "md2ruTdN5AnNDNo72lm24K2SCIVVHd8wVCIQHpEAAAEAAZ4xdEEPAAXDz7U8WlfrwACdavwQp3gu\n",
       "w6zW+Hd6zj8ZgFdZUi82Sdbn9ivXb4yNdGBWYYaxaIA/5jX/cOrGLKTgrOWd5uMTUv5peIPvmOz2\n",
       "NQJzJ3ZH/I0PDo9/XLsC9UXLPeA78iLgRknmuk0mlOX5PSQuncTCYjByCQeH8kXzk1Iv88gwZVvg\n",
       "U0wzZn4oH8mqc/WU/f4o8OsJNT8wp1B0XFlyzeF1RR5MJvUJjtGGjq/zp8DBOqLFrQN+LUGcEFBx\n",
       "Ec5uJPeE5mEIFD4u6KibCoOzDuUsbet5q9DBUhF6zqfMztNz8BPxYgSENpcjj+OMsv0gqA/P+6A0\n",
       "yZOxDwAAAQUBnjNqQQ8ABdBx9QABNNtQItIodHcQnISUKrNxlwnzexZOAKAEkgPEdP3FzqZU3gJ/\n",
       "iXMA6XTdjQpbKAlb+aWMV5JaqngGIdtOeCjUrxaYlPqhYPhQssr7z03SHBwQ4AK2cC1MOtdEurkI\n",
       "+Bmk9sAbimfYd6kP3xZof5St38gTpRtR30uAI2mD1k6Ta2+CpueSft+VZyteJFwZ9nvsh3QwdGaV\n",
       "GqVfukaM7kvYRVXELm02tkHFcS9wnRa/5UZNxJkgQL81BSW7dgo+3OO9IvHr6t64r5Y6i+YQsa3d\n",
       "pT4iIsZ0eMTfPW6gBRMCd2WsAlc3752ZjhSt05Bu9WBeP99vVRb5A9IAAALYQZo4SahBaJlMCCf/\n",
       "/rUqgASloZ2XwAbO9Dk3Y2MLX+KOlKJSCJLVwZP9IhRPswEjR4YR3F7ZW99Ctjz+dnAgeZipevWt\n",
       "bNoa0F1qwFIq/NzCKgyWaN3+sAAZuiR9VZct/CWJakBeemsMMmV2s8mLQ9gTUJSKYQB6sicujOp9\n",
       "htEeWJVNJkQIkHVdNfHnkVQThLgdmzYmU+4WxNMg2O9/+qIUg3mp5R/q+qactUCJGj0sxAbiAAt0\n",
       "nzNdgMm/MH9vVqq8pYr4sNE+lZttCcJOoRyZMqTnzobjnpvr0n6jOf/5adFFfuIuS5bhIKZEPlUE\n",
       "3Km2B0EsWPL/DnnH7acHr3JPtB9EQ+Y9z/o7VOO1WikryyRN53S3Bjmir3PcDxeZ05pUacCzbnjy\n",
       "9pgsnRqWZixKVb5Js5D6WnSySdqZdejDt1VwWaxosbTbvs1KiTwFbFUPqdeURhbdD0JRnqIlkdRz\n",
       "nsvrrzaJUIvh+23ZoEKxRN3crREnZNVL6+2WGSbgeqsC5hioSDSP7mwuYZHcOJdJPT+5YYLKk+et\n",
       "uWEQyOqudXw76ytyjwaO4oVLOSruSwyz4tP04mgAeo71cw8N3ob0LYINiUV+p9ZueD+NcfEMJHLX\n",
       "XoO6TJNFtOKjNCIEyiQ5M6ZUoUZIB9WpISq3v9sJsnqheD4zPREuGqt5ONAl+TbB+jMAZ0rJDviq\n",
       "UrC7Su/YB2dfBZiuNysw3isUDe8MGO+EcYHwN7PT9OeImyQGejx1otkM905YRTIGErjREnREGcjk\n",
       "hVWsS6tW6LAr25tjYN/rmALaPQcpA+G7wkJuiKI400/JLSC+an42s1/aJMTtwSIvdP4uhX/RVTBw\n",
       "44DzQayElmgsxKqJif+KqEFWw+HZoynzEUY5bdTo10NLchNzaADKDuAs2Gni6n0leFRygyxg+Bu2\n",
       "2Q5FQDg4oAnymZIyAPWKzSd25goB2sifkSnX34dmwTMAAAEmQZ5WRREsEf8AAwWwyToMPU7wAJpr\n",
       "KX5/2uXufvqNJx5U1uFE9iZRmeWC2jaUzy933zkcsju5/b/c2AGk8DrKkLOXibtHVJoTsHfupoj8\n",
       "8PjCfQ89DDI8zpjTPYnYztk7zzor2FvmyENKfqVjkG2sH75SxhcLo5Dpj2Y4l3xSsh45NYMr6RO3\n",
       "cEfB9LrcjcPQ/ugXxKARwiCwenOjN8k4SLMo/6xJ208KcCMT1p26qIFMGAfun9oP91UZzBSoJF8H\n",
       "7ZYAiogQC/0t0cF6qGq+KIDG4K5yaVI84WaNWhpyBm7k+zj1zrQf5OoPHzFUuKro9aKsEv1pKxUk\n",
       "LF97hJSYhBOTJjnQ4LtdfJlftuog+x9x+gZO93ns4f3ovmlzAu3fNpQEgE3AAAABQQGedXRBDwAF\n",
       "v9wRjWAAH8IVOFdOQL3djiAOIpawhDWGIvFuk+CpbCKNdBUL1aqmZwL+38IFx0Mey0PcSeBjmrVk\n",
       "hip//M3agqsdUqm+PCndRZitgvmOwjNfyuLenNKnTaE7WaCjkmv+xRUxd8NsUN2ppDbKQLLhIvxR\n",
       "dsTW5BvldAQrqNDnXm7x3YoHzYo9qncH3DS/RCCgeJI12gXJxGa0PVwoDVuDeL0zzLb4IbrxGidJ\n",
       "juftLD/eQLEgGGBeJCEsj95D6/9S1+yaZa/qgG5OzmlQlHiIxlBh4qZnQjLSBQ/kH9RYU+42dJ2d\n",
       "piKRMB/Gx/WKb5Dlc8mhTUxUgW/q2IEqno8hWl/mrO9gIzkPGhIx/537pJFQYNINhP2jv7FK1SUp\n",
       "fdoqNPs581eXRNRGpkxJ86UzdBjqOvu5loBvQQAAAJkBnndqQQ8ABcPPtTjZP/dCAE022SovKSp7\n",
       "Wzh7OD+tiVlVrHp37zNCUiyBgbFMmEgUeyS3vP3ajkKvzd5HIa7HKHznPGJaHf16FWcAijT/ias5\n",
       "h5NM9b4T7qR4uKdScMc6+7snla6+nYdPqsBHbIUho+WUVKA3s2ii+zyAkhJFetwck+2HUfZWMoui\n",
       "vIDIFUxUcJ1fdn+gAV8AAAGfQZp5SahBbJlMCCf//rUqgAShA0E91BfABs9/gGw79gUHNl/fEEnD\n",
       "2DNYhN8mPKcH0hcJsDpypJE5HuCVV5CbfZInfmp1oBsZhjA2GVIw4MpU7BC0ey/7gwBSo2HTA3af\n",
       "8CnMYJuX/FXLXb4yPlnmX2uWOPvEta4denssAajZ6f9s5K6ilLHMcSJcNl4zkq6GXXhGqNrhAhxQ\n",
       "ekmn3F0nZ91nPQcpJRqqh1x1XzLlCgviPdJSqZpWONd6b++y4ZiNJ2yCrBcSXw4XEh/EEESPbqV4\n",
       "cCDAzONfTI+R4Jw+ybjGnPs3WP9V9H18ryW/msdXpsYINSbeVMf3t4hSnTr8qpSd2tcKAKxEAm6O\n",
       "C5RJJelZLwRhE2orlNyEcvGb4pbADxiYjvMvl+01Z+TGKISwxkTWa20dx/UuCu6jj9akC5QMBvV7\n",
       "P1+o2E1X5PSXjF9l09r83iS7Snghqqvpq3FBsbl9PQfUF8bcREuGJSODhX6vmZEqCl/mTn8WANDc\n",
       "MzCIWC30gmPqGuBVj99FxDDSnNzkDgN3FHIh/oXwjL4BJwAAAp5Bmp1J4QpSZTAgl//+tSqABMDY\n",
       "dD97ADifVgkexwisYhGeDRadkEblfh8ydH9wMcNFyMTbJ6dNAfN07xa9jLbHSXE3Omkk9Fpk+H5r\n",
       "KBcU8agM4pV+ZNRE8ZfhVSSDsjsnBUoqGpDjKqusAHTztbIwNSWh0bi1dLl2QqpM/KgZLYo95K7A\n",
       "YPCfWFi/5gFC6MZNwV0W0R0dO+3hSc1A7x2KLJkexgBJf2txoeSdU0OZQh0DoXCuY2h+9ALSttXC\n",
       "LoojzM8BYwJNmaUt5DmjZxunuaElJ1WH4tloksYe8Uf6Bdr7F52UWn+ikDe8mKfupwyDJ5Tv+x5l\n",
       "j2Wbb7qjTtpy7TYIXagNkMDc7qVFk+oQNeaSa92neRswydOXGwoBJOl/e31fqr7RN/7jRMzlwpxt\n",
       "qC8a2SQ344zrwIi4IPAqdWMyHygkg+s9+UOSd/Q13rcdBv3sjsgK7R5XzSDnnDFGf0rBhwqcn/gY\n",
       "n9aYawzV9eJls3fSXJacOZhZMO8d6XyVzhY8mYf0j075FWX5aGdGTWfgaD6Kb626YN+tndoe4r3n\n",
       "tKVC2I2HMo4PGVrBm78cwoP7COn+1+8gziu/lQ/7d0L04r1ktqC1sP3RtDMMHSf8H7OnPPlGaauA\n",
       "clupI7pRd5xQKXeMwSdA25Hm3VMlg7//8vX55+K9gR0QKb71p3RSPUV7LOEBkH2+GEmZ35jS5rtx\n",
       "fc4lJAeBf6fDe+S61fD+7HN1hU9w6L9yNZM+i94RD7gjn47D5XG/dWt0l9b/ItPAEtUQuiWbm/gu\n",
       "dVrTcMI58bzv/gIaU7NbXFk126M9ghCMqboGCWjtjNZjhfl6YkpGNaJLw0i/ya2CnzTaJME5iOfn\n",
       "le6Qx/WamBxtN6jYjnI1Q4XlDDgjAMaBAAABE0Geu0U0TBH/AAMi1tCA8QAGy9dEHjKc4My2pVvg\n",
       "XUE6u7+Rcd+c1nQcD/04RX7vAYuBqesSJFKYEWNyxyDdG/Dvoj5W/mjP2yn5yS+RXqF5d8l/iPVf\n",
       "/QLaHL6faYPol/+uugcIrXtxiuf060r9wkX3hWAx60l7q8pLuVDetVRbRYsfjnBQUXKWcNiCXZri\n",
       "b0jxJBHozQgtfCiF5qj9Lgl33TJetLS67C1NErkVVypnymrV+9WkLt0oSTjCgOuFf94zK13piYK0\n",
       "I8Qy7IT8R1PV1RAn4bLotnCFjVJPmowbNG5DH+Mfyf+PnFKAx/YPgYxtettKGTC5rxLE8LS4dRbQ\n",
       "E4Xqo3uiQ6P0oN03h3WaABMwAAABAQGe2nRBDwAF9k+jnFhf+LMAAE61ISNIusuL+vznE3izcNNc\n",
       "wzDAbqmKglP2Ijyjfj271g0+doOJ20i8ubRtwIfCaWTWkgJXvKxsF4vukOaQUs+LmjACeuPQ6DU6\n",
       "oLvUt61KceEnz7TtZ9kJ9EdjS2poYuV0Z3vSZ74ZIwns3t8+NaOg8YOSPnP2QD66LjVAhzeWJ6uM\n",
       "BWVLUI1qoB2rBglHPj9om4AXeQ6FU00jLHrSTT5LoHR/NAm4cxmlx997k9n+6Pwt2sekUuBqmVsC\n",
       "1IUus59/J6aXYmpzcv8YP9f4tj1KqTepJbgNuxblNd3jtjrrqT9yppcF2HtGjfJ+AAbNAAAA1gGe\n",
       "3GpBDwAFvtbGmdV9I5WAAH8IxhuVu/jKkyklh84KhrtU0TWqbCAUXlUDmcY3Jo51acR3Pq3/LKKh\n",
       "auR1Dv7LAdjlomeeN/NX7x3/4z3tjEO+XA/i+QW5prT0wcXILWSQJotzH4IBP/f3arMDo8lV+wSj\n",
       "U5eShsGfHBU9pSPFLsA6Ba5mktqFQAo/rzstCwZT/0OF3jMIircJmbHq82GUd+FmJDhvyYumUQjv\n",
       "anhoReALVwCzwMwER4pk/BEs2BkWI9+1jh5EDrrg39rcp5IwbbIADUkAAAFoQZreSahBaJlMCCf/\n",
       "/rUqgASnl4DkP/B/ggAGjqWYxR2Lr3XVcghGgjXMYQSu/bjaFv5sQxEBHAq0FNM7k+meGI3ZLh53\n",
       "9zjQFuvuc30K8NfGThMUibl1376IBFfMqPksX9aoTi2yewSlTvbfOR9HyA7B5JqpXszmZNmMdpCq\n",
       "tLx8kG89G1glwfr+pxTKwJKyah+h/vONa8mxpK7Jzg684/3PlRfA81j9WN0nSHY/6OjmyubOTrsq\n",
       "2iGhhSVD2OJyiPfd0Lpfx76L0wkxlyVPkc3WbNRdYWQ/i8rW0a7eC1+ymOspOkpq5I//gJVUlcpP\n",
       "hLoPg026He66arH/2wjS9Kmd/rpOrwCPGTv21ZpHxBaHIVIbgMMwiqqwO+wiNuA9z0+7ss2VX+Q5\n",
       "vHpxAhPtUXxkK1zXM56X9sRBA/MJ52J2IrIosAcB9V5rCJ9fPU56BK1Y9UbZLvN0NXP0xRMR05g2\n",
       "r45D0Az4AAABekGa/0nhClJlMCCf//61KoAEoOJt4VV8CoAIgMU0/i9d2H9s1vc4rkRXo1b6Gnp9\n",
       "paZyz9piTP4ePCrvppNA3HYgfh2rOmqHesAAZ2AiH2fpZ8qmNhx9MlWkSwFHZn7mgHwrM0Qvl/8d\n",
       "afbrs976BkbQkS4JhqFMvjH+GK1zCGE+V82clW5/kqQJs2C+INXn62PyzvuUBOhmUJ7FoOcDDYRF\n",
       "wImH96qB54RWcr6cGTraoPiBMLDf7Cr0ieAWlKWmmzbsJQQcy7s9eG2wJdWMrfsAKR8S3xOxyIzq\n",
       "UsPpsTfj6fZX2yA1lIrgMYO3Zdk+x/uCDNeKhI14F17MZnUCp/O9x5rblfDex54v04VkHHC4RuqB\n",
       "DG+IijP//2AOfs/FNqk58WZIJA3af19iQKmqrdGLpi7D3GAo4F53lvpzcwQE3A316kStq86FvG2O\n",
       "K/kxm/BEyj4sOscMGOB/novcjRk0Dg94voyqsGkFiyW461k/dgfC8vAsaXAtoAAAAVlBmwBJ4Q6J\n",
       "lMCCf/61KoAEoQ+3kt0kABCfmZu9DbqzybiH+V9IJkeFQpdcroCEn9wLtSKfUnCzQwCN6WxmlUQ+\n",
       "uuhgnB8WBVpQRP/WSD8QEe1GWxaAQE2/uYBjzY3KlIKapwdNGq1b3NMKUFFAeMWCj/jI16Q+vcmt\n",
       "0EBtg0F97hXqLsSLKYsjVoctpb3MrvllJos1X/eHXuxdqHYGD+VndmkN45JYeOG7ttQZERav1aqv\n",
       "f/vQgfnrj5D6sHgHk40jE8GaRXL9gFW7ucKjB0cAie9Q5PjeM8Fr2LGamYFHmRhPbLRTic2jaWGE\n",
       "1sfwtoNWm66J7g8r/pCnTULaIp7kSvCfgYGd2heIElhUPGcFm+J76Ugv5C6B4nqujUC+aka/BVkH\n",
       "TRWLD6d7GPW/e4lg6nsIV5PmD78oIrBR8NCzjWuuVDNt/Yvy1dxpXDDPL67mwktN6s1wLaEAAAJi\n",
       "QZskSeEPJlMCCP/+tSqABMC3HpHTHRGgAfwkrK9hV1E0xSBdX4NhhDHhH3e63l8SBpxlVyKJe4UK\n",
       "zxAhKjJ4psUU2gn/CxmBTLc3yp6E7AR6nVM1YGoIxwB2YSW0Ak/SJU0ra2G43d8vFN2YP0ZVMRkh\n",
       "WCN88Wg994U+zOf0noNe7vSFoDWXqJQroIWYUmuDJZQIgcXi9Yh5NDAqP2+ZKY7xAReWzWTUDp/j\n",
       "AICxKkpDBOdhnk62cs2JSP18ChVw/Ksd0miCaOf+HOWP7IOkjKli9gB3YqVfe3bq4lDV9rs0RK6G\n",
       "vJIGvQjkRmMoZkenOdWR+VA7L++EvRgSSc5zPCZ7JiA/v2gzSuPSULRTEagttp3f/aW4R0Iemc+J\n",
       "md2yjkR8NteZi7yqtST0OMcKltyEmncgHQLJTVLnYnBNePsl3KIplwoJBW1SkDPJyifgimRTVlhW\n",
       "rTke3Vbo3GF68ojEP2Bpg442ZbWNYRZ8LwRubBdHXmLPNGH3jD/96auKVomQrk3ETht2qvwEafSp\n",
       "8FyRGNuShJSxZD2TOb4Q3EIr2psP9x4xMkiCdlzvRmlO6YHL8n/ucjjJ8yrSu6b9WgFK/Qz8TrMR\n",
       "THEWwSfuqdag8AkSynIQpOGaQm1IpwIqUTGgBNY3PBP9wsLgn2hL8XMF8a2pej8l0RhpEQ8DoLvi\n",
       "DOn84PW9tXRNNR9WbuScrP4nnLdNTM7aQN4XLx1TyDgQAmNuw6vYu5xipv7txeXwcFpd1eZ/91W0\n",
       "6OGyxWu2unf5my7h0uCAKdO+hAuYprrNGIuGMK6M39aukKBMVAAk4AAAAXtBn0JFETwR/wADIyRd\n",
       "/RLIAAfwmNKQrxagNo5fSfPgsHx4cZni1gc8CEqm91bO3gvTtDIsSHrHnLIgbFOAy37Ssg1Fusl1\n",
       "ZNLDZ/smXtfrPPPq2fuiddr6pkuAYZr7UokFDkNJ8t0lEFb7EJOm1FqTxWPHQIIJYLDaNdRlp/Mu\n",
       "aH9yH8cKfRdHi7D3jwkeGJYElWQ8QnnDcOvbMDVa0yAs8RgjjaYLtkXuwp28AFfDqWRuqNENoPy7\n",
       "99nRsiZbsxvpEsRGnC+cVfXY5iYPBC3Y5fmoE5j1nXYYD52BcN+ptCWj/H4VZhPejkVJgE2F+F06\n",
       "sOPeQeXt5kzhiyuFKrzqwjJVLLm87WVfQE2dEQz5MiRT3QB70Rvg2GJ8piYcw4tIqWyRj/oXE4rS\n",
       "TyK2N+Fb/sxuZbD9wxPsyUDz65jXk/ucyNHhH2mg8bexUUODviZ4TVRJv+e7bkcKBgs3wdYDk2in\n",
       "JHawvnlFjZi141JvUitkRRyGewHAAGhBAAABDQGfYXRBDwAFw8+1OLJ7/uhACabZeLPKrXfYJx3h\n",
       "D4gslJj44tSelP0RlrwM/xSydmw4eOvOxVZnHC7JzXhS4dS8XvtzgwK4dB98x2expevibXdYL6x+\n",
       "2jilVjyLNo4RksJkI6e6RpO3GDqnjRjbmTUO5piPlumVlNy+nd1c83NVi0GTBvSEgLWHGUeX4m1p\n",
       "v+P0QapGnEUe06ujY6oEcGueAVfJLgdyt3xTZp+3mIOpNSQisxMnVmvt4lWJ+Rdx/Z8O4NCtwgOd\n",
       "MTpJ/GydrR2pdzwM3C/fEkGtcJerQHeFjP9nKA6bsvfZ9uyrh2WhGUWzI/sUd9wMbtGDYeuuwiRC\n",
       "bmyylx6TIvnkAAd0AAABLgGfY2pBDwAF91SMFhxAAeMZVB41k+U7/Z2DgYhvr0QlYSAF98GfhH0s\n",
       "yr3qj/TcKUMpNzUQk6v8BUtvc1gj/URM9xhWvM6Qd2tF/ugBVvwA9KSEPSx2KYgoh8BdKaxWFqer\n",
       "DLZoBRD3M6TF/0HbbHyA/DtogNaChmPJ+CU9/gMAbgl0gQdIqm8PRflGE5Uavh5PB3Dd06KEk3HT\n",
       "DA45hPv3kY5vBpxdj7WW0MM96YrOw8EINUecDCm1XMOTqb8+vq80ZyglFZOVxurijG4WQ3kPYXUJ\n",
       "ZJCWTX2ZZZ9nKrfU1nT14gQrr+jEyudEw6uHbi4EV/xZsNc1DXgo/I3UTdao129HBUvujW11kf/Y\n",
       "XdGdtB1tWunQouJOjozm55HlGXP3UGUPf2s7NnvsAAGBAAABNkGbZUmoQWiZTAgh//6qVQAJTy1r\n",
       "ZudH7oQAmm2yVIawD+nSFu3LBf6iVmE+mAEDzxvQYjqXWqIGPU4HfTp0F/xrd9FEAHa+wToxBA3n\n",
       "JyudjSZAMPgPiruWyHgegjwSKtWD+9fXFbm1iEteUIdj+R/HiStzLXMueylbZItZPoko1dllY8za\n",
       "A6hGkI9jiZum/XBR5kJ1hhL5BBtqv4zB0DUm5PyPgH0ouASSZgtrT2Unc1bSGylI6k6wqIrM+IB4\n",
       "++ojxQ6GHB69wXafoXilAPYY7jizq9epHr+7KQqSxGT7uoKNMh1rqWIBwXo0XFzqNQi9hMZnZQER\n",
       "DN/glvl3UzN0RljvVD/y7B7Qp/OOYu4ddiDWV/OUdntLwtbsPeCY223Y2B7osRY45J5RE7BmxQIw\n",
       "MgAAhYEAAAenbW9vdgAAAGxtdmhkAAAAAAAAAAAAAAAAAAAD6AAAY5wAAQAAAQAAAAAAAAAAAAAA\n",
       "AAEAAAAAAAAAAAAAAAAAAAABAAAAAAAAAAAAAAAAAABAAAAAAAAAAAAAAAAAAAAAAAAAAAAAAAAA\n",
       "AAAAAAAAAgAABtF0cmFrAAAAXHRraGQAAAADAAAAAAAAAAAAAAABAAAAAAAAY5wAAAAAAAAAAAAA\n",
       "AAAAAAAAAAEAAAAAAAAAAAAAAAAAAAABAAAAAAAAAAAAAAAAAABAAAAAAkAAAAJAAAAAAAAkZWR0\n",
       "cwAAABxlbHN0AAAAAAAAAAEAAGOcAAAgAAABAAAAAAZJbWRpYQAAACBtZGhkAAAAAAAAAAAAAAAA\n",
       "AABAAAAGYABVxAAAAAAALWhkbHIAAAAAAAAAAHZpZGUAAAAAAAAAAAAAAABWaWRlb0hhbmRsZXIA\n",
       "AAAF9G1pbmYAAAAUdm1oZAAAAAEAAAAAAAAAAAAAACRkaW5mAAAAHGRyZWYAAAAAAAAAAQAAAAx1\n",
       "cmwgAAAAAQAABbRzdGJsAAAAtHN0c2QAAAAAAAAAAQAAAKRhdmMxAAAAAAAAAAEAAAAAAAAAAAAA\n",
       "AAAAAAAAAkACQABIAAAASAAAAAAAAAABAAAAAAAAAAAAAAAAAAAAAAAAAAAAAAAAAAAAAAAAAAAA\n",
       "GP//AAAAMmF2Y0MBZAAW/+EAGWdkABas2UCQEmhAAAADAEAAAAMCA8WLZYABAAZo6+PLIsAAAAAc\n",
       "dXVpZGtoQPJfJE/FujmlG88DI/MAAAAAAAAAGHN0dHMAAAAAAAAAAQAAAGYAABAAAAAAFHN0c3MA\n",
       "AAAAAAAAAQAAAAEAAALwY3R0cwAAAAAAAABcAAAAAQAAIAAAAAABAABQAAAAAAEAACAAAAAAAQAA\n",
       "AAAAAAABAAAQAAAAAAEAAFAAAAAAAQAAIAAAAAABAAAAAAAAAAEAABAAAAAAAQAAUAAAAAABAAAg\n",
       "AAAAAAEAAAAAAAAAAQAAEAAAAAABAABQAAAAAAEAACAAAAAAAQAAAAAAAAABAAAQAAAAAAEAAFAA\n",
       "AAAAAQAAIAAAAAABAAAAAAAAAAEAABAAAAAAAQAAIAAAAAABAABQAAAAAAEAACAAAAAAAQAAAAAA\n",
       "AAABAAAQAAAAAAEAAFAAAAAAAQAAIAAAAAABAAAAAAAAAAEAABAAAAAABwAAIAAAAAABAABQAAAA\n",
       "AAEAACAAAAAAAQAAAAAAAAABAAAQAAAAAAEAAFAAAAAAAQAAIAAAAAABAAAAAAAAAAEAABAAAAAA\n",
       "AQAAUAAAAAABAAAgAAAAAAEAAAAAAAAAAQAAEAAAAAABAABQAAAAAAEAACAAAAAAAQAAAAAAAAAB\n",
       "AAAQAAAAAAEAAFAAAAAAAQAAIAAAAAABAAAAAAAAAAEAABAAAAAAAQAAUAAAAAABAAAgAAAAAAEA\n",
       "AAAAAAAAAQAAEAAAAAABAABQAAAAAAEAACAAAAAAAQAAAAAAAAABAAAQAAAAAAEAAFAAAAAAAQAA\n",
       "IAAAAAABAAAAAAAAAAEAABAAAAAAAQAAIAAAAAABAABQAAAAAAEAACAAAAAAAQAAAAAAAAABAAAQ\n",
       "AAAAAAEAAFAAAAAAAQAAIAAAAAABAAAAAAAAAAEAABAAAAAAAwAAIAAAAAABAABQAAAAAAEAACAA\n",
       "AAAAAQAAAAAAAAABAAAQAAAAAAEAAFAAAAAAAQAAIAAAAAABAAAAAAAAAAEAABAAAAAAAQAAIAAA\n",
       "AAABAABQAAAAAAEAACAAAAAAAQAAAAAAAAABAAAQAAAAAAMAACAAAAAAAQAAUAAAAAABAAAgAAAA\n",
       "AAEAAAAAAAAAAQAAEAAAAAABAAAgAAAAABxzdHNjAAAAAAAAAAEAAAABAAAAZgAAAAEAAAGsc3Rz\n",
       "egAAAAAAAAAAAAAAZgAAID8AAAGtAAACRwAAAQ8AAAB6AAAEEwAAAq8AAAGZAAADTwAABfwAAATL\n",
       "AAAC9QAAA1sAAAU9AAAEjgAAAzUAAAMTAAAGJQAABIgAAANPAAABxAAAA1wAAAURAAADMgAAAjgA\n",
       "AAIGAAAErgAAAiYAAAHuAAABhwAAAkoAAAIEAAAB6wAAAc4AAAFWAAABXwAAAcUAAAKrAAABMQAA\n",
       "AR4AAADJAAACVQAAAXgAAADpAAABBAAAAucAAAFTAAABFgAAANoAAANpAAABmwAAAPIAAAD4AAAB\n",
       "3AAAASMAAAD7AAABDwAAAwgAAAFAAAAAxQAAAMwAAAMCAAABdQAAANgAAADaAAAEegAAAZkAAAFd\n",
       "AAABCwAAAb0AAANhAAABwwAAAQgAAAD1AAACegAAAYIAAAElAAABAAAAAm0AAAMRAAAB5AAAA4AA\n",
       "AAFpAAABBAAAAQkAAALcAAABKgAAAUUAAACdAAABowAAAqIAAAEXAAABBQAAANoAAAFsAAABfgAA\n",
       "AV0AAAJmAAABfwAAAREAAAEyAAABOgAAABRzdGNvAAAAAAAAAAEAAAAsAAAAYnVkdGEAAABabWV0\n",
       "YQAAAAAAAAAhaGRscgAAAAAAAAAAbWRpcmFwcGwAAAAAAAAAAAAAAAAtaWxzdAAAACWpdG9vAAAA\n",
       "HWRhdGEAAAABAAAAAExhdmY1Ny41Ni4xMDE=\n",
       "\">\n",
       "  Your browser does not support the video tag.\n",
       "</video>"
      ],
      "text/plain": [
       "<matplotlib.animation.FuncAnimation at 0x7f295db1d240>"
      ]
     },
     "execution_count": 432,
     "metadata": {},
     "output_type": "execute_result"
    },
    {
     "data": {
      "image/png": "[encoded data removed]",
      "text/plain": [
       "<matplotlib.figure.Figure at 0x7f295bcaf3c8>"
      ]
     },
     "metadata": {},
     "output_type": "display_data"
    }
   ],
   "source": [
    "fig, ax = plt.subplots(figsize = (8,8))\n",
    "def animate30(i):\n",
    "    ax.clear()\n",
    "    ax.plot(0.2,list_for_U24W[i],'o', color='purple' )\n",
    "    ax.plot(0.2,list_for_U48W[i],'o', color='green')\n",
    "    ax.plot(0.2,list_for_U72W[i],'o', color='blue')\n",
    "    ax.plot(0.1,list_for_U24W1[i],'o', color='purple')\n",
    "    ax.plot(0.1,list_for_U48W1[i],'o', color='green')\n",
    "    ax.plot(0.1,list_for_U72W1[i],'o', color='blue')\n",
    "    ax.plot(0.3,list_for_U24W3[i],'o', color='purple', label = '24 hours, winter')\n",
    "    ax.plot(0.3,list_for_U48W3[i],'o', color='green', label = '12 hours, winter')\n",
    "    ax.plot(0.3,list_for_U72W3[i],'o', color='blue', label = '40 seconds, winter')\n",
    "    ax.plot(0.2,list_for_U24S[i],'o', color='yellow' )\n",
    "    ax.plot(0.2,list_for_U48S[i],'o', color='orange')\n",
    "    ax.plot(0.2,list_for_U72S[i],'o', color='red')\n",
    "    ax.plot(0.1,list_for_U24S1[i],'o', color='yellow', label = '24 hours, summer')\n",
    "    ax.plot(0.1,list_for_U48S1[i],'o', color='orange', label = '12 hours, summer')\n",
    "    ax.plot(0.1,list_for_U72S1[i],'o', color='red', label = '40 seconds, summer')\n",
    "    ax.plot(0.3,list_for_U24S3[i],'o', color='yellow')\n",
    "    ax.plot(0.3,list_for_U48S3[i],'o', color='orange')\n",
    "    ax.plot(0.3,list_for_U72S3[i],'o', color='red')\n",
    "    ax.set_title('hour = %03d'%(i)) \n",
    "    ax.set_ylabel('delta PE')\n",
    "    ax.set_xlabel('vtau')\n",
    "    ax.grid('on')\n",
    "    ax.set_ylim(220000, 230000)\n",
    "    return ax\n",
    "interval = 0.25#in seconds\n",
    "ani40 = animation.FuncAnimation(fig,animate30,frames=102,interval=interval*1e+3, repeat=False)\n",
    "ani40"
   ]
  },
  {
   "cell_type": "code",
   "execution_count": 436,
   "metadata": {
    "collapsed": false
   },
   "outputs": [
    {
     "data": {
      "text/plain": [
       "222.5"
      ]
     },
     "execution_count": 436,
     "metadata": {},
     "output_type": "execute_result"
    }
   ],
   "source": [
    "nc.Dataset('/data/vdo/MEOPAR/NEMO-forcing/grid/lake_bathy201702.nc').variables['Bathymetry'][200,136]"
   ]
  },
  {
   "cell_type": "code",
   "execution_count": null,
   "metadata": {
    "collapsed": true
   },
   "outputs": [],
   "source": []
  }
 ],
 "metadata": {
  "kernelspec": {
   "display_name": "Python 3",
   "language": "python",
   "name": "python3"
  },
  "language_info": {
   "codemirror_mode": {
    "name": "ipython",
    "version": 3
   },
   "file_extension": ".py",
   "mimetype": "text/x-python",
   "name": "python",
   "nbconvert_exporter": "python",
   "pygments_lexer": "ipython3",
   "version": "3.6.0"
  }
 },
 "nbformat": 4,
 "nbformat_minor": 2
}
