{
 "cells": [
  {
   "cell_type": "markdown",
   "metadata": {},
   "source": [
    "Looking for cross basin tilt along different wind scenerios."
   ]
  },
  {
   "cell_type": "code",
   "execution_count": 1,
   "metadata": {
    "collapsed": true
   },
   "outputs": [],
   "source": [
    "import numpy as np\n",
    "import netCDF4 as nc\n",
    "import matplotlib.pyplot as plt\n",
    "from salishsea_tools import (nc_tools, viz_tools, gsw_calls)\n",
    "import numpy.ma as ma\n",
    "from matplotlib import animation, rc\n",
    "from scipy.optimize import curve_fit\n",
    "from visualisations import *\n",
    "%matplotlib inline"
   ]
  },
  {
   "cell_type": "code",
   "execution_count": 2,
   "metadata": {
    "collapsed": true
   },
   "outputs": [],
   "source": [
    "rc('animation', html='html5')"
   ]
  },
  {
   "cell_type": "code",
   "execution_count": 4,
   "metadata": {
    "collapsed": true
   },
   "outputs": [],
   "source": [
    "def calc_rho(Sal, TempC, P):\n",
    "    sqrSal = np.sqrt(Sal)\n",
    "    R1 = ((((6.536332e-9 * TempC - 1.120083e-6) * TempC + 1.001685e-4)\n",
    "           * TempC - 9.095290e-3) * TempC + 6.793952e-2) * TempC - 28.263737\n",
    "    R2 = (((5.3875e-9 * TempC - 8.2467e-7) * TempC + 7.6438e-5)\n",
    "          * TempC - 4.0899e-3) * TempC + 8.24493e-1\n",
    "    R3 = (-1.6546e-6 * TempC + 1.0227e-4) * TempC - 5.72466e-3\n",
    "    SIG = (4.8314e-4 * Sal + R3 * sqrSal + R2) * Sal + R1\n",
    "    V350P = 1.0 / 1028.1063\n",
    "    SVA   = -SIG * V350P / (1028.1063 + SIG)\n",
    "    rho = 28.106331 - SVA / (V350P * (V350P + SVA)) + 1000\n",
    "    return rho\n",
    "def func(x,m,b):\n",
    "    return m*x + b"
   ]
  },
  {
   "cell_type": "code",
   "execution_count": 5,
   "metadata": {
    "collapsed": true
   },
   "outputs": [],
   "source": [
    "lake_meshmask = nc.Dataset('/home/vdo/MEOPAR/NEMO-forcing/grid/lake_meshmask201702.nc')\n",
    "U24W = nc.Dataset('/ocean/vdo/MEOPAR/completed-runs/SalishSeaLake/24UW/SalishSea_1h_20170101_20170105_grid_T.nc')\n",
    "U24S = nc.Dataset('/ocean/vdo/MEOPAR/completed-runs/SalishSeaLake/24US/SalishSea_1h_20160601_20160605_grid_T.nc')\n",
    "U48W = nc.Dataset('/ocean/vdo/MEOPAR/completed-runs/SalishSeaLake/48UW/SalishSea_1h_20170101_20170105_grid_T.nc')\n",
    "U48S = nc.Dataset('/ocean/vdo/MEOPAR/completed-runs/SalishSeaLake/48US/SalishSea_1h_20160601_20160605_grid_T.nc')\n",
    "U72W = nc.Dataset('/ocean/vdo/MEOPAR/completed-runs/SalishSeaLake/72UW/SalishSea_1h_20170101_20170105_grid_T.nc')\n",
    "U72S = nc.Dataset('/ocean/vdo/MEOPAR/completed-runs/SalishSeaLake/72US/SalishSea_1h_20160601_20160605_grid_T.nc')"
   ]
  },
  {
   "cell_type": "code",
   "execution_count": 15,
   "metadata": {
    "collapsed": false
   },
   "outputs": [
    {
     "data": {
      "text/plain": [
       "[<matplotlib.lines.Line2D at 0x7f29637719e8>]"
      ]
     },
     "execution_count": 15,
     "metadata": {},
     "output_type": "execute_result"
    },
    {
     "data": {
      "image/png": "[encoded data removed]",
      "text/plain": [
       "<matplotlib.figure.Figure at 0x7f29637abc88>"
      ]
     },
     "metadata": {},
     "output_type": "display_data"
    }
   ],
   "source": [
    "fig, ax = plt.subplots(figsize=(8,8))\n",
    "ax.pcolormesh(lake_meshmask.variables['tmask'][0,0,...])\n",
    "ax.plot([0,200], [200,200], 'r-')"
   ]
  },
  {
   "cell_type": "code",
   "execution_count": 94,
   "metadata": {
    "collapsed": false
   },
   "outputs": [],
   "source": [
    "file2 = U24W\n",
    "yslice = 200\n",
    "deptht = file2.variables['deptht'][:]\n",
    "yslicemask = 1 - lake_meshmask.variables['tmask'][0,:,yslice,:]\n",
    "pressure1 = gsw_calls.generic_gsw_caller('gsw_p_from_z.m',\n",
    "                                        [-np.expand_dims(file2.variables['deptht'][:], 1) * np.ones(284),\n",
    "                                         (np.ones([284,40]) *np.expand_dims(file2.variables['nav_lat'][yslice,:][:],1)).T])             "
   ]
  },
  {
   "cell_type": "code",
   "execution_count": 97,
   "metadata": {
    "collapsed": false
   },
   "outputs": [
    {
     "name": "stdout",
     "output_type": "stream",
     "text": [
      "28.2299156189\n",
      "11.509311676\n",
      "0.204864947553\n"
     ]
    },
    {
     "data": {
      "image/png": "[encoded data removed]",
      "text/plain": [
       "<matplotlib.figure.Figure at 0x7f29640276a0>"
      ]
     },
     "metadata": {},
     "output_type": "display_data"
    }
   ],
   "source": [
    "i = 30\n",
    "density1 = calc_rho(file2.variables['vosaline'][i,:,yslice,68:137],\n",
    "                    file2.variables['votemper'][i,:,yslice,68:137],\n",
    "                    pressure1[:, 68:137])\n",
    "rho = 1023.3\n",
    "index1 = (np.abs(density1 - rho)).argmin(axis=0)\n",
    "list_of_depths1 = np.zeros((69))\n",
    "for x in range(69):\n",
    "    list_of_depths1[x] = deptht[index1[x]]\n",
    "popt, pcov = curve_fit(func, np.arange(0,69), list_of_depths1)\n",
    "plt.plot(np.arange(0,69), list_of_depths1, 'r.')\n",
    "plt.grid('on')\n",
    "plt.ylim(50,0)\n",
    "plt.plot(np.arange(0,69), func(np.arange(0,69), *popt), 'b-')\n",
    "print(list_of_depths1.max())\n",
    "print(list_of_depths1.min())\n",
    "print(popt[0])"
   ]
  },
  {
   "cell_type": "code",
   "execution_count": 34,
   "metadata": {
    "collapsed": true
   },
   "outputs": [],
   "source": [
    "file2 = U48W\n",
    "yslice = 200\n",
    "deptht = file2.variables['deptht'][:]\n",
    "yslicemask = 1 - lake_meshmask.variables['tmask'][0,:,yslice,:]\n",
    "pressure1 = gsw_calls.generic_gsw_caller('gsw_p_from_z.m',\n",
    "                                        [-np.expand_dims(file2.variables['deptht'][:], 1) * np.ones(284),\n",
    "                                         (np.ones([284,40]) *np.expand_dims(file2.variables['nav_lat'][yslice,:][:],1)).T])  "
   ]
  },
  {
   "cell_type": "code",
   "execution_count": 38,
   "metadata": {
    "collapsed": false
   },
   "outputs": [
    {
     "name": "stdout",
     "output_type": "stream",
     "text": [
      "28.2299156189\n",
      "10.5047655106\n",
      "0.213468427451\n"
     ]
    },
    {
     "data": {
      "image/png": "[encoded data removed]",
      "text/plain": [
       "<matplotlib.figure.Figure at 0x7f2963187198>"
      ]
     },
     "metadata": {},
     "output_type": "display_data"
    }
   ],
   "source": [
    "i = 24\n",
    "density1 = calc_rho(file2.variables['vosaline'][i,:,yslice,68:137],\n",
    "                    file2.variables['votemper'][i,:,yslice,68:137],\n",
    "                    pressure1[:, 68:137])\n",
    "rho = 1023.3\n",
    "index1 = (np.abs(density1 - rho)).argmin(axis=0)\n",
    "list_of_depths1 = np.zeros((69))\n",
    "for x in range(69):\n",
    "    list_of_depths1[x] = deptht[index1[x]]\n",
    "popt, pcov = curve_fit(func, np.arange(0,69), list_of_depths1)\n",
    "plt.plot(np.arange(0,69), list_of_depths1, 'r.')\n",
    "plt.grid('on')\n",
    "plt.ylim(50,0)\n",
    "plt.plot(np.arange(0,69), func(np.arange(0,69), *popt), 'b-')\n",
    "print(list_of_depths1.max())\n",
    "print(list_of_depths1.min())\n",
    "print(popt[0])"
   ]
  },
  {
   "cell_type": "code",
   "execution_count": 39,
   "metadata": {
    "collapsed": true
   },
   "outputs": [],
   "source": [
    "file2 = U72W\n",
    "yslice = 200\n",
    "deptht = file2.variables['deptht'][:]\n",
    "yslicemask = 1 - lake_meshmask.variables['tmask'][0,:,yslice,:]\n",
    "pressure1 = gsw_calls.generic_gsw_caller('gsw_p_from_z.m',\n",
    "                                        [-np.expand_dims(file2.variables['deptht'][:], 1) * np.ones(284),\n",
    "                                         (np.ones([284,40]) *np.expand_dims(file2.variables['nav_lat'][yslice,:][:],1)).T])  "
   ]
  },
  {
   "cell_type": "code",
   "execution_count": 44,
   "metadata": {
    "collapsed": false
   },
   "outputs": [
    {
     "name": "stdout",
     "output_type": "stream",
     "text": [
      "28.2299156189\n",
      "11.509311676\n",
      "0.228863143153\n"
     ]
    },
    {
     "data": {
      "image/png": "[encoded data removed]",
      "text/plain": [
       "<matplotlib.figure.Figure at 0x7f2963fd6400>"
      ]
     },
     "metadata": {},
     "output_type": "display_data"
    }
   ],
   "source": [
    "i = 17\n",
    "density1 = calc_rho(file2.variables['vosaline'][i,:,yslice,68:137],\n",
    "                    file2.variables['votemper'][i,:,yslice,68:137],\n",
    "                    pressure1[:, 68:137])\n",
    "rho = 1023.3\n",
    "index1 = (np.abs(density1 - rho)).argmin(axis=0)\n",
    "list_of_depths1 = np.zeros((69))\n",
    "for x in range(69):\n",
    "    list_of_depths1[x] = deptht[index1[x]]\n",
    "popt, pcov = curve_fit(func, np.arange(0,69), list_of_depths1)\n",
    "plt.plot(np.arange(0,69), list_of_depths1, 'r.')\n",
    "plt.grid('on')\n",
    "plt.ylim(50,0)\n",
    "plt.plot(np.arange(0,69), func(np.arange(0,69), *popt), 'b-')\n",
    "print(list_of_depths1.max())\n",
    "print(list_of_depths1.min())\n",
    "print(popt[0])"
   ]
  },
  {
   "cell_type": "code",
   "execution_count": 45,
   "metadata": {
    "collapsed": true
   },
   "outputs": [],
   "source": [
    "file2 = nc.Dataset('/ocean/vdo/MEOPAR/completed-runs/SalishSeaLake/24UW0.1/SalishSea_1h_20170101_20170105_grid_T.nc')\n",
    "yslice = 200\n",
    "deptht = file2.variables['deptht'][:]\n",
    "yslicemask = 1 - lake_meshmask.variables['tmask'][0,:,yslice,:]\n",
    "pressure1 = gsw_calls.generic_gsw_caller('gsw_p_from_z.m',\n",
    "                                        [-np.expand_dims(file2.variables['deptht'][:], 1) * np.ones(284),\n",
    "                                         (np.ones([284,40]) *np.expand_dims(file2.variables['nav_lat'][yslice,:][:],1)).T])  "
   ]
  },
  {
   "cell_type": "code",
   "execution_count": 50,
   "metadata": {
    "collapsed": false
   },
   "outputs": [
    {
     "name": "stdout",
     "output_type": "stream",
     "text": [
      "28.2299156189\n",
      "7.50062322617\n",
      "0.197451324029\n"
     ]
    },
    {
     "data": {
      "image/png": "[encoded data removed]",
      "text/plain": [
       "<matplotlib.figure.Figure at 0x7f2963fd6e10>"
      ]
     },
     "metadata": {},
     "output_type": "display_data"
    }
   ],
   "source": [
    "i = 47\n",
    "density1 = calc_rho(file2.variables['vosaline'][i,:,yslice,68:137],\n",
    "                    file2.variables['votemper'][i,:,yslice,68:137],\n",
    "                    pressure1[:, 68:137])\n",
    "rho = 1023.3\n",
    "index1 = (np.abs(density1 - rho)).argmin(axis=0)\n",
    "list_of_depths1 = np.zeros((69))\n",
    "for x in range(69):\n",
    "    list_of_depths1[x] = deptht[index1[x]]\n",
    "popt, pcov = curve_fit(func, np.arange(0,69), list_of_depths1)\n",
    "plt.plot(np.arange(0,69), list_of_depths1, 'r.')\n",
    "plt.grid('on')\n",
    "plt.ylim(50,0)\n",
    "plt.plot(np.arange(0,69), func(np.arange(0,69), *popt), 'b-')\n",
    "print(list_of_depths1.max())\n",
    "print(list_of_depths1.min())\n",
    "print(popt[0])"
   ]
  },
  {
   "cell_type": "code",
   "execution_count": 51,
   "metadata": {
    "collapsed": true
   },
   "outputs": [],
   "source": [
    "file2 = nc.Dataset('/ocean/vdo/MEOPAR/completed-runs/SalishSeaLake/48UW0.1/SalishSea_1h_20170101_20170105_grid_T.nc')\n",
    "yslice = 200\n",
    "deptht = file2.variables['deptht'][:]\n",
    "yslicemask = 1 - lake_meshmask.variables['tmask'][0,:,yslice,:]\n",
    "pressure1 = gsw_calls.generic_gsw_caller('gsw_p_from_z.m',\n",
    "                                        [-np.expand_dims(file2.variables['deptht'][:], 1) * np.ones(284),\n",
    "                                         (np.ones([284,40]) *np.expand_dims(file2.variables['nav_lat'][yslice,:][:],1)).T])  "
   ]
  },
  {
   "cell_type": "code",
   "execution_count": 59,
   "metadata": {
    "collapsed": false
   },
   "outputs": [
    {
     "name": "stdout",
     "output_type": "stream",
     "text": [
      "28.2299156189\n",
      "6.50031042099\n",
      "0.215303846287\n"
     ]
    },
    {
     "data": {
      "image/png": "[encoded data removed]",
      "text/plain": [
       "<matplotlib.figure.Figure at 0x7f2963105e80>"
      ]
     },
     "metadata": {},
     "output_type": "display_data"
    }
   ],
   "source": [
    "i = 40\n",
    "density1 = calc_rho(file2.variables['vosaline'][i,:,yslice,68:137],\n",
    "                    file2.variables['votemper'][i,:,yslice,68:137],\n",
    "                    pressure1[:, 68:137])\n",
    "rho = 1023.3\n",
    "index1 = (np.abs(density1 - rho)).argmin(axis=0)\n",
    "list_of_depths1 = np.zeros((69))\n",
    "for x in range(69):\n",
    "    list_of_depths1[x] = deptht[index1[x]]\n",
    "popt, pcov = curve_fit(func, np.arange(0,69), list_of_depths1)\n",
    "plt.plot(np.arange(0,69), list_of_depths1, 'r.')\n",
    "plt.grid('on')\n",
    "plt.ylim(50,0)\n",
    "plt.plot(np.arange(0,69), func(np.arange(0,69), *popt), 'b-')\n",
    "print(list_of_depths1.max())\n",
    "print(list_of_depths1.min())\n",
    "print(popt[0])"
   ]
  },
  {
   "cell_type": "code",
   "execution_count": 60,
   "metadata": {
    "collapsed": true
   },
   "outputs": [],
   "source": [
    "file2 = nc.Dataset('/ocean/vdo/MEOPAR/completed-runs/SalishSeaLake/72UW0.1/SalishSea_1h_20170101_20170105_grid_T.nc')\n",
    "yslice = 200\n",
    "deptht = file2.variables['deptht'][:]\n",
    "yslicemask = 1 - lake_meshmask.variables['tmask'][0,:,yslice,:]\n",
    "pressure1 = gsw_calls.generic_gsw_caller('gsw_p_from_z.m',\n",
    "                                        [-np.expand_dims(file2.variables['deptht'][:], 1) * np.ones(284),\n",
    "                                         (np.ones([284,40]) *np.expand_dims(file2.variables['nav_lat'][yslice,:][:],1)).T])  "
   ]
  },
  {
   "cell_type": "code",
   "execution_count": 64,
   "metadata": {
    "collapsed": false
   },
   "outputs": [
    {
     "name": "stdout",
     "output_type": "stream",
     "text": [
      "28.2299156189\n",
      "7.50062322617\n",
      "0.198712917308\n"
     ]
    },
    {
     "data": {
      "image/png": "[encoded data removed]",
      "text/plain": [
       "<matplotlib.figure.Figure at 0x7f2962f28e80>"
      ]
     },
     "metadata": {},
     "output_type": "display_data"
    }
   ],
   "source": [
    "i = 34\n",
    "density1 = calc_rho(file2.variables['vosaline'][i,:,yslice,68:137],\n",
    "                    file2.variables['votemper'][i,:,yslice,68:137],\n",
    "                    pressure1[:, 68:137])\n",
    "rho = 1023.3\n",
    "index1 = (np.abs(density1 - rho)).argmin(axis=0)\n",
    "list_of_depths1 = np.zeros((69))\n",
    "for x in range(69):\n",
    "    list_of_depths1[x] = deptht[index1[x]]\n",
    "popt, pcov = curve_fit(func, np.arange(0,69), list_of_depths1)\n",
    "plt.plot(np.arange(0,69), list_of_depths1, 'r.')\n",
    "plt.grid('on')\n",
    "plt.ylim(50,0)\n",
    "plt.plot(np.arange(0,69), func(np.arange(0,69), *popt), 'b-')\n",
    "print(list_of_depths1.max())\n",
    "print(list_of_depths1.min())\n",
    "print(popt[0])"
   ]
  },
  {
   "cell_type": "code",
   "execution_count": 65,
   "metadata": {
    "collapsed": true
   },
   "outputs": [],
   "source": [
    "file2 = nc.Dataset('/ocean/vdo/MEOPAR/completed-runs/SalishSeaLake/24UW0.3/SalishSea_1h_20170101_20170105_grid_T.nc')\n",
    "yslice = 200\n",
    "deptht = file2.variables['deptht'][:]\n",
    "yslicemask = 1 - lake_meshmask.variables['tmask'][0,:,yslice,:]\n",
    "pressure1 = gsw_calls.generic_gsw_caller('gsw_p_from_z.m',\n",
    "                                        [-np.expand_dims(file2.variables['deptht'][:], 1) * np.ones(284),\n",
    "                                         (np.ones([284,40]) *np.expand_dims(file2.variables['nav_lat'][yslice,:][:],1)).T])  "
   ]
  },
  {
   "cell_type": "code",
   "execution_count": 70,
   "metadata": {
    "collapsed": false
   },
   "outputs": [
    {
     "name": "stdout",
     "output_type": "stream",
     "text": [
      "28.2299156189\n",
      "11.509311676\n",
      "0.213558681545\n"
     ]
    },
    {
     "data": {
      "image/png": "[encoded data removed]",
      "text/plain": [
       "<matplotlib.figure.Figure at 0x7f2964036630>"
      ]
     },
     "metadata": {},
     "output_type": "display_data"
    }
   ],
   "source": [
    "i = 26\n",
    "density1 = calc_rho(file2.variables['vosaline'][i,:,yslice,68:137],\n",
    "                    file2.variables['votemper'][i,:,yslice,68:137],\n",
    "                    pressure1[:, 68:137])\n",
    "rho = 1023.3\n",
    "index1 = (np.abs(density1 - rho)).argmin(axis=0)\n",
    "list_of_depths1 = np.zeros((69))\n",
    "for x in range(69):\n",
    "    list_of_depths1[x] = deptht[index1[x]]\n",
    "popt, pcov = curve_fit(func, np.arange(0,69), list_of_depths1)\n",
    "plt.plot(np.arange(0,69), list_of_depths1, 'r.')\n",
    "plt.grid('on')\n",
    "plt.ylim(50,0)\n",
    "plt.plot(np.arange(0,69), func(np.arange(0,69), *popt), 'b-')\n",
    "print(list_of_depths1.max())\n",
    "print(list_of_depths1.min())\n",
    "print(popt[0])"
   ]
  },
  {
   "cell_type": "code",
   "execution_count": 71,
   "metadata": {
    "collapsed": true
   },
   "outputs": [],
   "source": [
    "file2 = nc.Dataset('/ocean/vdo/MEOPAR/completed-runs/SalishSeaLake/48UW0.3/SalishSea_1h_20170101_20170105_grid_T.nc')\n",
    "yslice = 200\n",
    "deptht = file2.variables['deptht'][:]\n",
    "yslicemask = 1 - lake_meshmask.variables['tmask'][0,:,yslice,:]\n",
    "pressure1 = gsw_calls.generic_gsw_caller('gsw_p_from_z.m',\n",
    "                                        [-np.expand_dims(file2.variables['deptht'][:], 1) * np.ones(284),\n",
    "                                         (np.ones([284,40]) *np.expand_dims(file2.variables['nav_lat'][yslice,:][:],1)).T])  "
   ]
  },
  {
   "cell_type": "code",
   "execution_count": 77,
   "metadata": {
    "collapsed": false
   },
   "outputs": [
    {
     "name": "stdout",
     "output_type": "stream",
     "text": [
      "34.6857566833\n",
      "12.5181665421\n",
      "0.243318403763\n"
     ]
    },
    {
     "data": {
      "image/png": "[encoded data removed]",
      "text/plain": [
       "<matplotlib.figure.Figure at 0x7f2963366358>"
      ]
     },
     "metadata": {},
     "output_type": "display_data"
    }
   ],
   "source": [
    "i = 20\n",
    "density1 = calc_rho(file2.variables['vosaline'][i,:,yslice,68:137],\n",
    "                    file2.variables['votemper'][i,:,yslice,68:137],\n",
    "                    pressure1[:, 68:137])\n",
    "rho = 1023.3\n",
    "index1 = (np.abs(density1 - rho)).argmin(axis=0)\n",
    "list_of_depths1 = np.zeros((69))\n",
    "for x in range(69):\n",
    "    list_of_depths1[x] = deptht[index1[x]]\n",
    "popt, pcov = curve_fit(func, np.arange(0,69), list_of_depths1)\n",
    "plt.plot(np.arange(0,69), list_of_depths1, 'r.')\n",
    "plt.grid('on')\n",
    "plt.ylim(50,0)\n",
    "plt.plot(np.arange(0,69), func(np.arange(0,69), *popt), 'b-')\n",
    "print(list_of_depths1.max())\n",
    "print(list_of_depths1.min())\n",
    "print(popt[0])"
   ]
  },
  {
   "cell_type": "code",
   "execution_count": 78,
   "metadata": {
    "collapsed": true
   },
   "outputs": [],
   "source": [
    "file2 = nc.Dataset('/ocean/vdo/MEOPAR/completed-runs/SalishSeaLake/72UW0.3/SalishSea_1h_20170101_20170105_grid_T.nc')\n",
    "yslice = 200\n",
    "deptht = file2.variables['deptht'][:]\n",
    "yslicemask = 1 - lake_meshmask.variables['tmask'][0,:,yslice,:]\n",
    "pressure1 = gsw_calls.generic_gsw_caller('gsw_p_from_z.m',\n",
    "                                        [-np.expand_dims(file2.variables['deptht'][:], 1) * np.ones(284),\n",
    "                                         (np.ones([284,40]) *np.expand_dims(file2.variables['nav_lat'][yslice,:][:],1)).T])  "
   ]
  },
  {
   "cell_type": "code",
   "execution_count": 84,
   "metadata": {
    "collapsed": false
   },
   "outputs": [
    {
     "name": "stdout",
     "output_type": "stream",
     "text": [
      "34.6857566833\n",
      "10.5047655106\n",
      "0.289675441743\n"
     ]
    },
    {
     "data": {
      "image/png": "[encoded data removed]",
      "text/plain": [
       "<matplotlib.figure.Figure at 0x7f2962fc2518>"
      ]
     },
     "metadata": {},
     "output_type": "display_data"
    }
   ],
   "source": [
    "i = 15\n",
    "density1 = calc_rho(file2.variables['vosaline'][i,:,yslice,68:137],\n",
    "                    file2.variables['votemper'][i,:,yslice,68:137],\n",
    "                    pressure1[:, 68:137])\n",
    "rho = 1023.3\n",
    "index1 = (np.abs(density1 - rho)).argmin(axis=0)\n",
    "list_of_depths1 = np.zeros((69))\n",
    "for x in range(69):\n",
    "    list_of_depths1[x] = deptht[index1[x]]\n",
    "popt, pcov = curve_fit(func, np.arange(0,69), list_of_depths1)\n",
    "plt.plot(np.arange(0,69), list_of_depths1, 'r.')\n",
    "plt.grid('on')\n",
    "plt.ylim(50,0)\n",
    "plt.plot(np.arange(0,69), func(np.arange(0,69), *popt), 'b-')\n",
    "print(list_of_depths1.max())\n",
    "print(list_of_depths1.min())\n",
    "print(popt[0])"
   ]
  },
  {
   "cell_type": "code",
   "execution_count": 98,
   "metadata": {
    "collapsed": true
   },
   "outputs": [],
   "source": [
    "file2 = nc.Dataset('/ocean/vdo/MEOPAR/completed-runs/SalishSeaLake/24US/SalishSea_1h_20160601_20160605_grid_T.nc')\n",
    "yslice = 200\n",
    "deptht = file2.variables['deptht'][:]\n",
    "yslicemask = 1 - lake_meshmask.variables['tmask'][0,:,yslice,:]\n",
    "pressure1 = gsw_calls.generic_gsw_caller('gsw_p_from_z.m',\n",
    "                                        [-np.expand_dims(file2.variables['deptht'][:], 1) * np.ones(284),\n",
    "                                         (np.ones([284,40]) *np.expand_dims(file2.variables['nav_lat'][yslice,:][:],1)).T])  "
   ]
  },
  {
   "cell_type": "code",
   "execution_count": 105,
   "metadata": {
    "collapsed": false
   },
   "outputs": [
    {
     "name": "stdout",
     "output_type": "stream",
     "text": [
      "15.6342878342\n",
      "6.50031042099\n",
      "0.0967518569326\n"
     ]
    },
    {
     "data": {
      "image/png": "[encoded data removed]",
      "text/plain": [
       "<matplotlib.figure.Figure at 0x7f2963fb2668>"
      ]
     },
     "metadata": {},
     "output_type": "display_data"
    }
   ],
   "source": [
    "i = 25\n",
    "density1 = calc_rho(file2.variables['vosaline'][i,:,yslice,68:137],\n",
    "                    file2.variables['votemper'][i,:,yslice,68:137],\n",
    "                    pressure1[:, 68:137])\n",
    "rho = 1022\n",
    "index1 = (np.abs(density1 - rho)).argmin(axis=0)\n",
    "list_of_depths1 = np.zeros((69))\n",
    "for x in range(69):\n",
    "    list_of_depths1[x] = deptht[index1[x]]\n",
    "popt, pcov = curve_fit(func, np.arange(0,69), list_of_depths1)\n",
    "plt.plot(np.arange(0,69), list_of_depths1, 'r.')\n",
    "plt.grid('on')\n",
    "plt.ylim(50,0)\n",
    "plt.plot(np.arange(0,69), func(np.arange(0,69), *popt), 'b-')\n",
    "print(list_of_depths1.max())\n",
    "print(list_of_depths1.min())\n",
    "print(popt[0])"
   ]
  },
  {
   "cell_type": "code",
   "execution_count": 106,
   "metadata": {
    "collapsed": true
   },
   "outputs": [],
   "source": [
    "file2 = nc.Dataset('/ocean/vdo/MEOPAR/completed-runs/SalishSeaLake/48US/SalishSea_1h_20160601_20160605_grid_T.nc')\n",
    "yslice = 200\n",
    "deptht = file2.variables['deptht'][:]\n",
    "yslicemask = 1 - lake_meshmask.variables['tmask'][0,:,yslice,:]\n",
    "pressure1 = gsw_calls.generic_gsw_caller('gsw_p_from_z.m',\n",
    "                                        [-np.expand_dims(file2.variables['deptht'][:], 1) * np.ones(284),\n",
    "                                         (np.ones([284,40]) *np.expand_dims(file2.variables['nav_lat'][yslice,:][:],1)).T])  "
   ]
  },
  {
   "cell_type": "code",
   "execution_count": 110,
   "metadata": {
    "collapsed": false
   },
   "outputs": [
    {
     "name": "stdout",
     "output_type": "stream",
     "text": [
      "15.6342878342\n",
      "6.50031042099\n",
      "0.11439483872\n"
     ]
    },
    {
     "data": {
      "image/png": "[encoded data removed]",
      "text/plain": [
       "<matplotlib.figure.Figure at 0x7f29630d1d30>"
      ]
     },
     "metadata": {},
     "output_type": "display_data"
    }
   ],
   "source": [
    "i = 19\n",
    "density1 = calc_rho(file2.variables['vosaline'][i,:,yslice,68:137],\n",
    "                    file2.variables['votemper'][i,:,yslice,68:137],\n",
    "                    pressure1[:, 68:137])\n",
    "rho = 1022\n",
    "index1 = (np.abs(density1 - rho)).argmin(axis=0)\n",
    "list_of_depths1 = np.zeros((69))\n",
    "for x in range(69):\n",
    "    list_of_depths1[x] = deptht[index1[x]]\n",
    "popt, pcov = curve_fit(func, np.arange(0,69), list_of_depths1)\n",
    "plt.plot(np.arange(0,69), list_of_depths1, 'r.')\n",
    "plt.grid('on')\n",
    "plt.ylim(50,0)\n",
    "plt.plot(np.arange(0,69), func(np.arange(0,69), *popt), 'b-')\n",
    "print(list_of_depths1.max())\n",
    "print(list_of_depths1.min())\n",
    "print(popt[0])"
   ]
  },
  {
   "cell_type": "code",
   "execution_count": 158,
   "metadata": {
    "collapsed": true
   },
   "outputs": [],
   "source": [
    "file2 = nc.Dataset('/ocean/vdo/MEOPAR/completed-runs/SalishSeaLake/72US/SalishSea_1h_20160601_20160605_grid_T.nc')\n",
    "yslice = 200\n",
    "deptht = file2.variables['deptht'][:]\n",
    "yslicemask = 1 - lake_meshmask.variables['tmask'][0,:,yslice,:]\n",
    "pressure1 = gsw_calls.generic_gsw_caller('gsw_p_from_z.m',\n",
    "                                        [-np.expand_dims(file2.variables['deptht'][:], 1) * np.ones(284),\n",
    "                                         (np.ones([284,40]) *np.expand_dims(file2.variables['nav_lat'][yslice,:][:],1)).T])  "
   ]
  },
  {
   "cell_type": "code",
   "execution_count": 159,
   "metadata": {
    "collapsed": false
   },
   "outputs": [
    {
     "name": "stdout",
     "output_type": "stream",
     "text": [
      "14.5689821243\n",
      "4.5000705719\n",
      "0.0993047011578\n"
     ]
    },
    {
     "data": {
      "image/png": "[encoded data removed]",
      "text/plain": [
       "<matplotlib.figure.Figure at 0x7f296326b898>"
      ]
     },
     "metadata": {},
     "output_type": "display_data"
    }
   ],
   "source": [
    "i = 12\n",
    "density1 = calc_rho(file2.variables['vosaline'][i,:,yslice,68:137],\n",
    "                    file2.variables['votemper'][i,:,yslice,68:137],\n",
    "                    pressure1[:, 68:137])\n",
    "rho = 1022\n",
    "index1 = (np.abs(density1 - rho)).argmin(axis=0)\n",
    "list_of_depths1 = np.zeros((69))\n",
    "for x in range(69):\n",
    "    list_of_depths1[x] = deptht[index1[x]]\n",
    "popt, pcov = curve_fit(func, np.arange(0,69), list_of_depths1)\n",
    "plt.plot(np.arange(0,69), list_of_depths1, 'r.')\n",
    "plt.grid('on')\n",
    "plt.ylim(50,0)\n",
    "plt.plot(np.arange(0,69), func(np.arange(0,69), *popt), 'b-')\n",
    "print(list_of_depths1.max())\n",
    "print(list_of_depths1.min())\n",
    "print(popt[0])"
   ]
  },
  {
   "cell_type": "code",
   "execution_count": 120,
   "metadata": {
    "collapsed": true
   },
   "outputs": [],
   "source": [
    "file2 = nc.Dataset('/ocean/vdo/MEOPAR/completed-runs/SalishSeaLake/24US0.1/SalishSea_1h_20160601_20160605_grid_T.nc')\n",
    "yslice = 200\n",
    "deptht = file2.variables['deptht'][:]\n",
    "yslicemask = 1 - lake_meshmask.variables['tmask'][0,:,yslice,:]\n",
    "pressure1 = gsw_calls.generic_gsw_caller('gsw_p_from_z.m',\n",
    "                                        [-np.expand_dims(file2.variables['deptht'][:], 1) * np.ones(284),\n",
    "                                         (np.ones([284,40]) *np.expand_dims(file2.variables['nav_lat'][yslice,:][:],1)).T])  "
   ]
  },
  {
   "cell_type": "code",
   "execution_count": 128,
   "metadata": {
    "collapsed": false
   },
   "outputs": [
    {
     "name": "stdout",
     "output_type": "stream",
     "text": [
      "14.5689821243\n",
      "3.50003051758\n",
      "0.106664186399\n"
     ]
    },
    {
     "data": {
      "image/png": "[encoded data removed]",
      "text/plain": [
       "<matplotlib.figure.Figure at 0x7f296324c2b0>"
      ]
     },
     "metadata": {},
     "output_type": "display_data"
    }
   ],
   "source": [
    "i = 32\n",
    "density1 = calc_rho(file2.variables['vosaline'][i,:,yslice,68:137],\n",
    "                    file2.variables['votemper'][i,:,yslice,68:137],\n",
    "                    pressure1[:, 68:137])\n",
    "rho = 1022\n",
    "index1 = (np.abs(density1 - rho)).argmin(axis=0)\n",
    "list_of_depths1 = np.zeros((69))\n",
    "for x in range(69):\n",
    "    list_of_depths1[x] = deptht[index1[x]]\n",
    "popt, pcov = curve_fit(func, np.arange(0,69), list_of_depths1)\n",
    "plt.plot(np.arange(0,69), list_of_depths1, 'r.')\n",
    "plt.grid('on')\n",
    "plt.ylim(50,0)\n",
    "plt.plot(np.arange(0,69), func(np.arange(0,69), *popt), 'b-')\n",
    "print(list_of_depths1.max())\n",
    "print(list_of_depths1.min())\n",
    "print(popt[0])"
   ]
  },
  {
   "cell_type": "code",
   "execution_count": 160,
   "metadata": {
    "collapsed": true
   },
   "outputs": [],
   "source": [
    "file2 = nc.Dataset('/ocean/vdo/MEOPAR/completed-runs/SalishSeaLake/48US0.1/SalishSea_1h_20160601_20160605_grid_T.nc')\n",
    "yslice = 200\n",
    "deptht = file2.variables['deptht'][:]\n",
    "yslicemask = 1 - lake_meshmask.variables['tmask'][0,:,yslice,:]\n",
    "pressure1 = gsw_calls.generic_gsw_caller('gsw_p_from_z.m',\n",
    "                                        [-np.expand_dims(file2.variables['deptht'][:], 1) * np.ones(284),\n",
    "                                         (np.ones([284,40]) *np.expand_dims(file2.variables['nav_lat'][yslice,:][:],1)).T])  "
   ]
  },
  {
   "cell_type": "code",
   "execution_count": 161,
   "metadata": {
    "collapsed": false
   },
   "outputs": [
    {
     "name": "stdout",
     "output_type": "stream",
     "text": [
      "12.5181665421\n",
      "3.50003051758\n",
      "0.0733817162875\n"
     ]
    },
    {
     "data": {
      "image/png": "[encoded data removed]",
      "text/plain": [
       "<matplotlib.figure.Figure at 0x7f29636b6ef0>"
      ]
     },
     "metadata": {},
     "output_type": "display_data"
    }
   ],
   "source": [
    "i = 23\n",
    "density1 = calc_rho(file2.variables['vosaline'][i,:,yslice,68:137],\n",
    "                    file2.variables['votemper'][i,:,yslice,68:137],\n",
    "                    pressure1[:, 68:137])\n",
    "rho = 1022\n",
    "index1 = (np.abs(density1 - rho)).argmin(axis=0)\n",
    "list_of_depths1 = np.zeros((69))\n",
    "for x in range(69):\n",
    "    list_of_depths1[x] = deptht[index1[x]]\n",
    "popt, pcov = curve_fit(func, np.arange(0,69), list_of_depths1)\n",
    "plt.plot(np.arange(0,69), list_of_depths1, 'r.')\n",
    "plt.grid('on')\n",
    "plt.ylim(50,0)\n",
    "plt.plot(np.arange(0,69), func(np.arange(0,69), *popt), 'b-')\n",
    "print(list_of_depths1.max())\n",
    "print(list_of_depths1.min())\n",
    "print(popt[0])"
   ]
  },
  {
   "cell_type": "code",
   "execution_count": 135,
   "metadata": {
    "collapsed": true
   },
   "outputs": [],
   "source": [
    "file2 = nc.Dataset('/ocean/vdo/MEOPAR/completed-runs/SalishSeaLake/72US0.1/SalishSea_1h_20160601_20160605_grid_T.nc')\n",
    "yslice = 200\n",
    "deptht = file2.variables['deptht'][:]\n",
    "yslicemask = 1 - lake_meshmask.variables['tmask'][0,:,yslice,:]\n",
    "pressure1 = gsw_calls.generic_gsw_caller('gsw_p_from_z.m',\n",
    "                                        [-np.expand_dims(file2.variables['deptht'][:], 1) * np.ones(284),\n",
    "                                         (np.ones([284,40]) *np.expand_dims(file2.variables['nav_lat'][yslice,:][:],1)).T])  "
   ]
  },
  {
   "cell_type": "code",
   "execution_count": 138,
   "metadata": {
    "collapsed": false
   },
   "outputs": [
    {
     "name": "stdout",
     "output_type": "stream",
     "text": [
      "14.5689821243\n",
      "4.5000705719\n",
      "0.114811523367\n"
     ]
    },
    {
     "data": {
      "image/png": "[encoded data removed]",
      "text/plain": [
       "<matplotlib.figure.Figure at 0x7f296303af98>"
      ]
     },
     "metadata": {},
     "output_type": "display_data"
    }
   ],
   "source": [
    "i = 17\n",
    "density1 = calc_rho(file2.variables['vosaline'][i,:,yslice,68:137],\n",
    "                    file2.variables['votemper'][i,:,yslice,68:137],\n",
    "                    pressure1[:, 68:137])\n",
    "rho = 1022\n",
    "index1 = (np.abs(density1 - rho)).argmin(axis=0)\n",
    "list_of_depths1 = np.zeros((69))\n",
    "for x in range(69):\n",
    "    list_of_depths1[x] = deptht[index1[x]]\n",
    "popt, pcov = curve_fit(func, np.arange(0,69), list_of_depths1)\n",
    "plt.plot(np.arange(0,69), list_of_depths1, 'r.')\n",
    "plt.grid('on')\n",
    "plt.ylim(50,0)\n",
    "plt.plot(np.arange(0,69), func(np.arange(0,69), *popt), 'b-')\n",
    "print(list_of_depths1.max())\n",
    "print(list_of_depths1.min())\n",
    "print(popt[0])"
   ]
  },
  {
   "cell_type": "code",
   "execution_count": 139,
   "metadata": {
    "collapsed": true
   },
   "outputs": [],
   "source": [
    "file2 = nc.Dataset('/ocean/vdo/MEOPAR/completed-runs/SalishSeaLake/24US0.3/SalishSea_1h_20160601_20160605_grid_T.nc')\n",
    "yslice = 200\n",
    "deptht = file2.variables['deptht'][:]\n",
    "yslicemask = 1 - lake_meshmask.variables['tmask'][0,:,yslice,:]\n",
    "pressure1 = gsw_calls.generic_gsw_caller('gsw_p_from_z.m',\n",
    "                                        [-np.expand_dims(file2.variables['deptht'][:], 1) * np.ones(284),\n",
    "                                         (np.ones([284,40]) *np.expand_dims(file2.variables['nav_lat'][yslice,:][:],1)).T])  "
   ]
  },
  {
   "cell_type": "code",
   "execution_count": 145,
   "metadata": {
    "collapsed": false
   },
   "outputs": [
    {
     "name": "stdout",
     "output_type": "stream",
     "text": [
      "15.6342878342\n",
      "6.50031042099\n",
      "0.0858465881976\n"
     ]
    },
    {
     "data": {
      "image/png": "[encoded data removed]",
      "text/plain": [
       "<matplotlib.figure.Figure at 0x7f29646c6da0>"
      ]
     },
     "metadata": {},
     "output_type": "display_data"
    }
   ],
   "source": [
    "i = 23\n",
    "density1 = calc_rho(file2.variables['vosaline'][i,:,yslice,68:137],\n",
    "                    file2.variables['votemper'][i,:,yslice,68:137],\n",
    "                    pressure1[:, 68:137])\n",
    "rho = 1022\n",
    "index1 = (np.abs(density1 - rho)).argmin(axis=0)\n",
    "list_of_depths1 = np.zeros((69))\n",
    "for x in range(69):\n",
    "    list_of_depths1[x] = deptht[index1[x]]\n",
    "popt, pcov = curve_fit(func, np.arange(0,69), list_of_depths1)\n",
    "plt.plot(np.arange(0,69), list_of_depths1, 'r.')\n",
    "plt.grid('on')\n",
    "plt.ylim(50,0)\n",
    "plt.plot(np.arange(0,69), func(np.arange(0,69), *popt), 'b-')\n",
    "print(list_of_depths1.max())\n",
    "print(list_of_depths1.min())\n",
    "print(popt[0])"
   ]
  },
  {
   "cell_type": "code",
   "execution_count": 146,
   "metadata": {
    "collapsed": true
   },
   "outputs": [],
   "source": [
    "file2 = nc.Dataset('/ocean/vdo/MEOPAR/completed-runs/SalishSeaLake/48US0.3/SalishSea_1h_20160601_20160605_grid_T.nc')\n",
    "yslice = 200\n",
    "deptht = file2.variables['deptht'][:]\n",
    "yslicemask = 1 - lake_meshmask.variables['tmask'][0,:,yslice,:]\n",
    "pressure1 = gsw_calls.generic_gsw_caller('gsw_p_from_z.m',\n",
    "                                        [-np.expand_dims(file2.variables['deptht'][:], 1) * np.ones(284),\n",
    "                                         (np.ones([284,40]) *np.expand_dims(file2.variables['nav_lat'][yslice,:][:],1)).T])  "
   ]
  },
  {
   "cell_type": "code",
   "execution_count": 151,
   "metadata": {
    "collapsed": false
   },
   "outputs": [
    {
     "name": "stdout",
     "output_type": "stream",
     "text": [
      "18.0071353912\n",
      "7.50062322617\n",
      "0.112669013666\n"
     ]
    },
    {
     "data": {
      "image/png": "[encoded data removed]",
      "text/plain": [
       "<matplotlib.figure.Figure at 0x7f2964033b70>"
      ]
     },
     "metadata": {},
     "output_type": "display_data"
    }
   ],
   "source": [
    "i = 17\n",
    "density1 = calc_rho(file2.variables['vosaline'][i,:,yslice,68:137],\n",
    "                    file2.variables['votemper'][i,:,yslice,68:137],\n",
    "                    pressure1[:, 68:137])\n",
    "rho = 1022\n",
    "index1 = (np.abs(density1 - rho)).argmin(axis=0)\n",
    "list_of_depths1 = np.zeros((69))\n",
    "for x in range(69):\n",
    "    list_of_depths1[x] = deptht[index1[x]]\n",
    "popt, pcov = curve_fit(func, np.arange(0,69), list_of_depths1)\n",
    "plt.plot(np.arange(0,69), list_of_depths1, 'r.')\n",
    "plt.grid('on')\n",
    "plt.ylim(50,0)\n",
    "plt.plot(np.arange(0,69), func(np.arange(0,69), *popt), 'b-')\n",
    "print(list_of_depths1.max())\n",
    "print(list_of_depths1.min())\n",
    "print(popt[0])"
   ]
  },
  {
   "cell_type": "code",
   "execution_count": 152,
   "metadata": {
    "collapsed": true
   },
   "outputs": [],
   "source": [
    "file2 = nc.Dataset('/ocean/vdo/MEOPAR/completed-runs/SalishSeaLake/72US0.3/SalishSea_1h_20160601_20160605_grid_T.nc')\n",
    "yslice = 200\n",
    "deptht = file2.variables['deptht'][:]\n",
    "yslicemask = 1 - lake_meshmask.variables['tmask'][0,:,yslice,:]\n",
    "pressure1 = gsw_calls.generic_gsw_caller('gsw_p_from_z.m',\n",
    "                                        [-np.expand_dims(file2.variables['deptht'][:], 1) * np.ones(284),\n",
    "                                         (np.ones([284,40]) *np.expand_dims(file2.variables['nav_lat'][yslice,:][:],1)).T])  "
   ]
  },
  {
   "cell_type": "code",
   "execution_count": 157,
   "metadata": {
    "collapsed": false
   },
   "outputs": [
    {
     "name": "stdout",
     "output_type": "stream",
     "text": [
      "19.4817848206\n",
      "7.50062322617\n",
      "0.121091605361\n"
     ]
    },
    {
     "data": {
      "image/png": "[encoded data removed]",
      "text/plain": [
       "<matplotlib.figure.Figure at 0x7f2963373d30>"
      ]
     },
     "metadata": {},
     "output_type": "display_data"
    }
   ],
   "source": [
    "i = 11\n",
    "density1 = calc_rho(file2.variables['vosaline'][i,:,yslice,68:137],\n",
    "                    file2.variables['votemper'][i,:,yslice,68:137],\n",
    "                    pressure1[:, 68:137])\n",
    "rho = 1022\n",
    "index1 = (np.abs(density1 - rho)).argmin(axis=0)\n",
    "list_of_depths1 = np.zeros((69))\n",
    "for x in range(69):\n",
    "    list_of_depths1[x] = deptht[index1[x]]\n",
    "popt, pcov = curve_fit(func, np.arange(0,69), list_of_depths1)\n",
    "plt.plot(np.arange(0,69), list_of_depths1, 'r.')\n",
    "plt.grid('on')\n",
    "plt.ylim(50,0)\n",
    "plt.plot(np.arange(0,69), func(np.arange(0,69), *popt), 'b-')\n",
    "print(list_of_depths1.max())\n",
    "print(list_of_depths1.min())\n",
    "print(popt[0])"
   ]
  },
  {
   "cell_type": "code",
   "execution_count": 217,
   "metadata": {
    "collapsed": false
   },
   "outputs": [
    {
     "data": {
      "text/plain": [
       "<matplotlib.text.Text at 0x7f29601d1da0>"
      ]
     },
     "execution_count": 217,
     "metadata": {},
     "output_type": "execute_result"
    },
    {
     "data": {
      "image/png": "[encoded data removed]",
      "text/plain": [
       "<matplotlib.figure.Figure at 0x7f296026ab38>"
      ]
     },
     "metadata": {},
     "output_type": "display_data"
    }
   ],
   "source": [
    "fig, ax = plt.subplots(figsize = (8,8))\n",
    "ax.set_ylabel('Displacement (m)')\n",
    "ax.set_xlabel('vtau')\n",
    "ax.grid('on')\n",
    "ax.plot(0.2,4.129659653,'o', color='purple', markersize = 25 )\n",
    "ax.plot(0.2,4.129659653,'o', color='green', markersize = 19)\n",
    "ax.plot(0.2,4.129659653,'o', color='blue', markersize = 15)\n",
    "ax.plot(0.1,4.129659653,'o', color='purple', markersize = 25)\n",
    "ax.plot(0.1,4.129659653,'o', color='green', markersize = 19)\n",
    "ax.plot(0.1,4.129659653,'o', color='blue', markersize = 14)\n",
    "ax.plot(0.3,4.129659653,'o', color='purple', markersize = 15)\n",
    "ax.plot(0.3,10.58550072,'o', color='green', markersize = 15)\n",
    "ax.plot(0.3,10.58550072,'o', color='blue', label = '40 seconds, winter')\n",
    "ax.plot(0.2,5.129522324,'o', color='orange', markersize = 15 )\n",
    "ax.plot(0.2,5.129522324,'o', color='yellow')\n",
    "ax.plot(0.2,4.129659653,'o', color='red', label = '40 seconds, summer')\n",
    "ax.plot(0.1,4.129659653,'o', color='yellow', label = '24 hours, summer')\n",
    "ax.plot(0.1,2.013401032,'o', color='orange', label = '12 hours, summer')\n",
    "ax.plot(0.1,4.129659653,'.', color='red')\n",
    "ax.plot(0.3,5.129522324,'o', color='yellow')\n",
    "ax.plot(0.3,7.502369881,'o', color='orange')\n",
    "ax.plot(0.3,8.97701931,'o', color='red')\n",
    "ax.plot(0.2,12.59094429,'*', color='purple', markersize = 15)\n",
    "ax.plot(0.2,13.59549046,'*', color='green')\n",
    "ax.plot(0.2,12.59094429,'*', color='blue')\n",
    "ax.plot(0.1,16.59963274,'*', color='purple', markersize = 15)\n",
    "ax.plot(0.1,17.59994555,'*', color='green')\n",
    "ax.plot(0.1,16.59963274,'*', color='blue')\n",
    "ax.plot(0.3,12.59094429,'*', color='purple', label = '24 hours, winter')\n",
    "ax.plot(0.3,11.58208942,'*', color='green', label = '12 hours, winter')\n",
    "ax.plot(0.3,13.59549046,'*', color='blue')\n",
    "ax.plot(0.2,4.129659653,'*', color='yellow')\n",
    "ax.plot(0.2,4.00445509,'*', color='orange')\n",
    "ax.plot(0.2,6.004694939,'*', color='red')\n",
    "ax.plot(0.1,7.004734993,'*', color='orange', markersize = 15)\n",
    "ax.plot(0.1,7.004734993,'*', color='yellow')\n",
    "ax.plot(0.1,6.004694939,'*', color='red')\n",
    "ax.plot(0.3,4.00445509,'*', color='yellow')\n",
    "ax.plot(0.3,3.004142284,'*', color='red', markersize=15)\n",
    "ax.plot(0.3,3.004142284,'*', color='orange')\n",
    "plt.legend(bbox_to_anchor=(1.05, 1), loc=2, borderaxespad=0.)\n",
    "plt.title('Vtau vs Displacement')"
   ]
  },
  {
   "cell_type": "markdown",
   "metadata": {},
   "source": [
    "A plot of vtau vs displacement. The colours indicate the type of wind event (specifically the ramp up time), stars = max upward displacement, circles = max downward displacement, warm colours indicate summer stratification, cool colours show winter stratification."
   ]
  },
  {
   "cell_type": "markdown",
   "metadata": {},
   "source": [
    "Notes:\n",
    "* tracking 1023.3. in winter and 1022 in summer\n",
    "* upward displacement is generally more than downward (maybe because of chosen density to track?)"
   ]
  },
  {
   "cell_type": "code",
   "execution_count": null,
   "metadata": {
    "collapsed": true
   },
   "outputs": [],
   "source": []
  }
 ],
 "metadata": {
  "kernelspec": {
   "display_name": "Python 3",
   "language": "python",
   "name": "python3"
  },
  "language_info": {
   "codemirror_mode": {
    "name": "ipython",
    "version": 3
   },
   "file_extension": ".py",
   "mimetype": "text/x-python",
   "name": "python",
   "nbconvert_exporter": "python",
   "pygments_lexer": "ipython3",
   "version": "3.6.0"
  }
 },
 "nbformat": 4,
 "nbformat_minor": 2
}
