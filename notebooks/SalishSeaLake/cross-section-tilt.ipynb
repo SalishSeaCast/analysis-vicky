{
 "cells": [
  {
   "cell_type": "markdown",
   "metadata": {},
   "source": [
    "Looking at qualities of tilt and things fom model runs with uniform vwinds (vtau = 0.2) and varying time scales."
   ]
  },
  {
   "cell_type": "code",
   "execution_count": 4,
   "metadata": {
    "collapsed": true
   },
   "outputs": [],
   "source": [
    "import numpy as np\n",
    "import netCDF4 as nc\n",
    "import matplotlib.pyplot as plt\n",
    "from salishsea_tools import (nc_tools, viz_tools, gsw_calls)\n",
    "import numpy.ma as ma\n",
    "from matplotlib import animation, rc\n",
    "from scipy.optimize import curve_fit\n",
    "from visualisations import *\n",
    "%matplotlib inline"
   ]
  },
  {
   "cell_type": "code",
   "execution_count": 2,
   "metadata": {
    "collapsed": true
   },
   "outputs": [],
   "source": [
    "rc('animation', html='html5')"
   ]
  },
  {
   "cell_type": "code",
   "execution_count": 3,
   "metadata": {
    "collapsed": true
   },
   "outputs": [],
   "source": [
    "mesh_mask = nc.Dataset('/home/vdo/MEOPAR/NEMO-forcing/grid/mesh_mask201702.nc')\n",
    "new_domain = mesh_mask.variables['tmask'][0,:,334:,114:]   \n",
    "lakebathy = nc.Dataset('/home/vdo/MEOPAR/NEMO-forcing/grid/lake_bathy201702.nc')\n",
    "lake_meshmask = nc.Dataset('/home/vdo/MEOPAR/NEMO-forcing/grid/lake_meshmask201702.nc')\n",
    "U24W = nc.Dataset('/ocean/vdo/MEOPAR/completed-runs/SalishSeaLake/24UW/SalishSea_1h_20170101_20170105_grid_T.nc')\n",
    "U24S = nc.Dataset('/ocean/vdo/MEOPAR/completed-runs/SalishSeaLake/24US/SalishSea_1h_20160601_20160605_grid_T.nc')\n",
    "U48W = nc.Dataset('/ocean/vdo/MEOPAR/completed-runs/SalishSeaLake/48UW/SalishSea_1h_20170101_20170105_grid_T.nc')\n",
    "U48S = nc.Dataset('/ocean/vdo/MEOPAR/completed-runs/SalishSeaLake/48US/SalishSea_1h_20160601_20160605_grid_T.nc')\n",
    "U72W = nc.Dataset('/ocean/vdo/MEOPAR/completed-runs/SalishSeaLake/72UW/SalishSea_1h_20170101_20170105_grid_T.nc')\n",
    "U72S = nc.Dataset('/ocean/vdo/MEOPAR/completed-runs/SalishSeaLake/72US/SalishSea_1h_20160601_20160605_grid_T.nc')"
   ]
  },
  {
   "cell_type": "code",
   "execution_count": 10,
   "metadata": {
    "collapsed": true
   },
   "outputs": [],
   "source": [
    "def calc_rho(Sal, TempC, P):\n",
    "    sqrSal = np.sqrt(Sal)\n",
    "    R1 = ((((6.536332e-9 * TempC - 1.120083e-6) * TempC + 1.001685e-4)\n",
    "           * TempC - 9.095290e-3) * TempC + 6.793952e-2) * TempC - 28.263737\n",
    "    R2 = (((5.3875e-9 * TempC - 8.2467e-7) * TempC + 7.6438e-5)\n",
    "          * TempC - 4.0899e-3) * TempC + 8.24493e-1\n",
    "    R3 = (-1.6546e-6 * TempC + 1.0227e-4) * TempC - 5.72466e-3\n",
    "    SIG = (4.8314e-4 * Sal + R3 * sqrSal + R2) * Sal + R1\n",
    "    V350P = 1.0 / 1028.1063\n",
    "    SVA   = -SIG * V350P / (1028.1063 + SIG)\n",
    "    rho = 28.106331 - SVA / (V350P * (V350P + SVA)) + 1000\n",
    "    return rho"
   ]
  },
  {
   "cell_type": "code",
   "execution_count": 5,
   "metadata": {
    "collapsed": true
   },
   "outputs": [],
   "source": [
    "file1 = U24W"
   ]
  },
  {
   "cell_type": "code",
   "execution_count": 8,
   "metadata": {
    "collapsed": true
   },
   "outputs": [],
   "source": [
    "deptht = file1.variables['deptht'][:]\n",
    "yslicemask = 1 - new_domain[:,yslice,:]"
   ]
  },
  {
   "cell_type": "code",
   "execution_count": null,
   "metadata": {
    "collapsed": true
   },
   "outputs": [],
   "source": []
  },
  {
   "cell_type": "code",
   "execution_count": 56,
   "metadata": {
    "collapsed": true
   },
   "outputs": [],
   "source": [
    "def func(x,m,b):\n",
    "    return m*x + b"
   ]
  },
  {
   "cell_type": "code",
   "execution_count": 63,
   "metadata": {
    "collapsed": false
   },
   "outputs": [
    {
     "data": {
      "text/plain": [
       "[<matplotlib.lines.Line2D at 0x7f5eaef95390>]"
      ]
     },
     "execution_count": 63,
     "metadata": {},
     "output_type": "execute_result"
    },
    {
     "data": {
      "image/png": "[encoded data removed]",
      "text/plain": [
       "<matplotlib.figure.Figure at 0x7f5eae9bb358>"
      ]
     },
     "metadata": {},
     "output_type": "display_data"
    }
   ],
   "source": [
    "yslice=200\n",
    "pressure1 = gsw_calls.generic_gsw_caller('gsw_p_from_z.m',\n",
    "                                        [-np.expand_dims(file1.variables['deptht'][:], 1) * np.ones(284),\n",
    "                                        (np.ones([284,40]) *np.expand_dims(file1.variables['nav_lat'][yslice,:][:],1)).T])\n",
    "deptht = file1.variables['deptht'][:]\n",
    "i = 0\n",
    "density1 = calc_rho(file1.variables['vosaline'][i,:,yslice,68:149],\n",
    "                    file1.variables['votemper'][i,:,yslice,68:149],\n",
    "                    pressure1[:, 68:149])\n",
    "rho = 1023.3\n",
    "index1 = (np.abs(density1 - rho)).argmin(axis=0)\n",
    "list_of_depths1 = np.zeros((81))\n",
    "for x in range(81):\n",
    "    list_of_depths1[x] = deptht[index1[x]]\n",
    "popt, pcov = curve_fit(func, np.arange(0,81), list_of_depths1)\n",
    "plt.plot(np.arange(0,81), list_of_depths1, 'r.')\n",
    "plt.grid('on')\n",
    "plt.ylim(20,25)\n",
    "plt.plot(np.arange(0,81), func(np.arange(0,81), *popt), 'b-')"
   ]
  },
  {
   "cell_type": "code",
   "execution_count": 141,
   "metadata": {
    "collapsed": false
   },
   "outputs": [
    {
     "data": {
      "text/plain": [
       "(102, 40, 81)"
      ]
     },
     "execution_count": 141,
     "metadata": {},
     "output_type": "execute_result"
    }
   ],
   "source": [
    "density1 = calc_rho(file1.variables['vosaline'][:,:,yslice,68:149],\n",
    "                    file1.variables['votemper'][:,:,yslice,68:149],\n",
    "                    pressure1[:, 68:149])\n",
    "rho = 1023.3\n",
    "density1.shape"
   ]
  },
  {
   "cell_type": "code",
   "execution_count": 142,
   "metadata": {
    "collapsed": false
   },
   "outputs": [],
   "source": [
    "index1 = (np.abs(density1 - rho)).argmin(axis=1)\n",
    "list_of_depths1 = np.zeros((102, 81))\n",
    "for t in range(102):\n",
    "    for x in range(81):\n",
    "        list_of_depths1[t,x] = deptht[index1[t,x]]"
   ]
  },
  {
   "cell_type": "code",
   "execution_count": 136,
   "metadata": {
    "collapsed": false
   },
   "outputs": [
    {
     "data": {
      "text/plain": [
       "34.685756683349609"
      ]
     },
     "execution_count": 136,
     "metadata": {},
     "output_type": "execute_result"
    }
   ],
   "source": [
    "list_of_depths1.max()"
   ]
  },
  {
   "cell_type": "code",
   "execution_count": 147,
   "metadata": {
    "collapsed": false
   },
   "outputs": [
    {
     "data": {
      "text/plain": [
       "24.100255966186523"
      ]
     },
     "execution_count": 147,
     "metadata": {},
     "output_type": "execute_result"
    }
   ],
   "source": [
    "list_of_depths1[0,0]"
   ]
  },
  {
   "cell_type": "code",
   "execution_count": 143,
   "metadata": {
    "collapsed": false
   },
   "outputs": [
    {
     "data": {
      "text/plain": [
       "array([ 11.50931168,  12.51816654,  13.53541183,  12.51816654,\n",
       "        13.53541183,  14.56898212,  16.76117325,  16.76117325,\n",
       "        16.76117325,  16.76117325,  16.76117325,  18.00713539,\n",
       "        18.00713539,  19.48178482,  19.48178482,  19.48178482,\n",
       "        19.48178482,  21.38997841,  21.38997841,  21.38997841,\n",
       "        21.38997841,  21.38997841,  21.38997841,  21.38997841,\n",
       "        21.38997841,  21.38997841,  21.38997841,  21.38997841,\n",
       "        21.38997841,  21.38997841,  21.38997841,  21.38997841,\n",
       "        21.38997841,  21.38997841,  24.10025597,  24.10025597,\n",
       "        24.10025597,  24.10025597,  24.10025597,  24.10025597,\n",
       "        24.10025597,  24.10025597,  24.10025597,  24.10025597,\n",
       "        24.10025597,  24.10025597,  24.10025597,  24.10025597,\n",
       "        24.10025597,  24.10025597,  24.10025597,  24.10025597,\n",
       "        24.10025597,  24.10025597,  24.10025597,  24.10025597,\n",
       "        28.22991562,  28.22991562,  28.22991562,  28.22991562,\n",
       "        28.22991562,  28.22991562,  28.22991562,  28.22991562,\n",
       "        28.22991562,  28.22991562,  28.22991562,  28.22991562,\n",
       "        28.22991562,  28.22991562,  28.22991562,  28.22991562,\n",
       "        28.22991562,  28.22991562,  34.68575668,  34.68575668,\n",
       "        34.68575668,  34.68575668,  34.68575668,  34.68575668,  28.22991562])"
      ]
     },
     "execution_count": 143,
     "metadata": {},
     "output_type": "execute_result"
    }
   ],
   "source": [
    "list_of_depths1[30,:]"
   ]
  },
  {
   "cell_type": "code",
   "execution_count": 222,
   "metadata": {
    "collapsed": false
   },
   "outputs": [
    {
     "ename": "IndexError",
     "evalue": "too many indices for array",
     "output_type": "error",
     "traceback": [
      "\u001b[0;31m---------------------------------------------------------------------------\u001b[0m",
      "\u001b[0;31mIndexError\u001b[0m                                Traceback (most recent call last)",
      "\u001b[0;32m<ipython-input-222-881a2e1d1707>\u001b[0m in \u001b[0;36m<module>\u001b[0;34m()\u001b[0m\n\u001b[1;32m      1\u001b[0m \u001b[0mi\u001b[0m \u001b[0;34m=\u001b[0m \u001b[0;36m31\u001b[0m\u001b[0;34m\u001b[0m\u001b[0m\n\u001b[0;32m----> 2\u001b[0;31m \u001b[0mpopt\u001b[0m\u001b[0;34m,\u001b[0m \u001b[0mpcov\u001b[0m \u001b[0;34m=\u001b[0m \u001b[0mcurve_fit\u001b[0m\u001b[0;34m(\u001b[0m\u001b[0mfunc\u001b[0m\u001b[0;34m,\u001b[0m \u001b[0mnp\u001b[0m\u001b[0;34m.\u001b[0m\u001b[0marange\u001b[0m\u001b[0;34m(\u001b[0m\u001b[0;36m0\u001b[0m\u001b[0;34m,\u001b[0m\u001b[0;36m81\u001b[0m\u001b[0;34m)\u001b[0m\u001b[0;34m,\u001b[0m \u001b[0mlist_of_depths1\u001b[0m\u001b[0;34m[\u001b[0m\u001b[0mi\u001b[0m\u001b[0;34m,\u001b[0m\u001b[0;34m:\u001b[0m\u001b[0;34m]\u001b[0m\u001b[0;34m)\u001b[0m\u001b[0;34m\u001b[0m\u001b[0m\n\u001b[0m\u001b[1;32m      3\u001b[0m \u001b[0mplt\u001b[0m\u001b[0;34m.\u001b[0m\u001b[0mplot\u001b[0m\u001b[0;34m(\u001b[0m\u001b[0mnp\u001b[0m\u001b[0;34m.\u001b[0m\u001b[0marange\u001b[0m\u001b[0;34m(\u001b[0m\u001b[0;36m0\u001b[0m\u001b[0;34m,\u001b[0m\u001b[0;36m81\u001b[0m\u001b[0;34m)\u001b[0m\u001b[0;34m,\u001b[0m \u001b[0mlist_of_depths1\u001b[0m\u001b[0;34m[\u001b[0m\u001b[0mi\u001b[0m\u001b[0;34m,\u001b[0m\u001b[0;34m:\u001b[0m\u001b[0;34m]\u001b[0m\u001b[0;34m,\u001b[0m \u001b[0;34m'r.'\u001b[0m\u001b[0;34m)\u001b[0m\u001b[0;34m\u001b[0m\u001b[0m\n\u001b[1;32m      4\u001b[0m \u001b[0mplt\u001b[0m\u001b[0;34m.\u001b[0m\u001b[0mgrid\u001b[0m\u001b[0;34m(\u001b[0m\u001b[0;34m'on'\u001b[0m\u001b[0;34m)\u001b[0m\u001b[0;34m\u001b[0m\u001b[0m\n\u001b[1;32m      5\u001b[0m \u001b[0mplt\u001b[0m\u001b[0;34m.\u001b[0m\u001b[0mylim\u001b[0m\u001b[0;34m(\u001b[0m\u001b[0;36m35\u001b[0m\u001b[0;34m,\u001b[0m\u001b[0;36m0\u001b[0m\u001b[0;34m)\u001b[0m\u001b[0;34m\u001b[0m\u001b[0m\n",
      "\u001b[0;31mIndexError\u001b[0m: too many indices for array"
     ]
    }
   ],
   "source": [
    "i = 31\n",
    "popt, pcov = curve_fit(func, np.arange(0,81), list_of_depths1[i,:])\n",
    "plt.plot(np.arange(0,81), list_of_depths1[i,:], 'r.')\n",
    "plt.grid('on')\n",
    "plt.ylim(35,0)\n",
    "plt.plot(np.arange(0,81), func(np.arange(0,81), *popt), 'b-')\n",
    "print(popt[0])"
   ]
  },
  {
   "cell_type": "code",
   "execution_count": null,
   "metadata": {
    "collapsed": true
   },
   "outputs": [],
   "source": []
  },
  {
   "cell_type": "code",
   "execution_count": 193,
   "metadata": {
    "collapsed": true
   },
   "outputs": [],
   "source": [
    "file2 = U48S\n",
    "yslice=200\n",
    "pressure2 = gsw_calls.generic_gsw_caller('gsw_p_from_z.m',\n",
    "                                        [-np.expand_dims(file2.variables['deptht'][:], 1) * np.ones(284),\n",
    "                                        (np.ones([284,40]) *np.expand_dims(file2.variables['nav_lat'][yslice,:][:],1)).T])\n",
    "deptht = file2.variables['deptht'][:]\n",
    "density2 = calc_rho(file2.variables['vosaline'][:,:,yslice,68:149],\n",
    "                    file2.variables['votemper'][:,:,yslice,68:149],\n",
    "                    pressure2[:, 68:149])\n",
    "rho = 1023.3\n",
    "index2 = (np.abs(density2 - rho)).argmin(axis=1)\n",
    "list_of_depths2 = np.zeros((102, 81))\n",
    "for t in range(102):\n",
    "    for x in range(81):\n",
    "        list_of_depths2[t,x] = deptht[index2[t,x]]"
   ]
  },
  {
   "cell_type": "code",
   "execution_count": 166,
   "metadata": {
    "collapsed": false
   },
   "outputs": [
    {
     "data": {
      "text/plain": [
       "array([ 11.50931168,  10.50476551,  11.50931168,  11.50931168,\n",
       "        11.50931168,  13.53541183,  14.56898212,  16.76117325,\n",
       "        15.63428783,  15.63428783,  16.76117325,  18.00713539,\n",
       "        18.00713539,  19.48178482,  19.48178482,  21.38997841,\n",
       "        21.38997841,  21.38997841,  21.38997841,  21.38997841,\n",
       "        21.38997841,  21.38997841,  21.38997841,  21.38997841,\n",
       "        21.38997841,  24.10025597,  24.10025597,  24.10025597,\n",
       "        21.38997841,  21.38997841,  21.38997841,  21.38997841,\n",
       "        21.38997841,  21.38997841,  21.38997841,  21.38997841,\n",
       "        24.10025597,  21.38997841,  21.38997841,  24.10025597,\n",
       "        24.10025597,  24.10025597,  24.10025597,  24.10025597,\n",
       "        24.10025597,  24.10025597,  24.10025597,  24.10025597,\n",
       "        24.10025597,  24.10025597,  24.10025597,  28.22991562,\n",
       "        28.22991562,  28.22991562,  28.22991562,  24.10025597,\n",
       "        24.10025597,  24.10025597,  24.10025597,  28.22991562,\n",
       "        28.22991562,  28.22991562,  28.22991562,  28.22991562,\n",
       "        28.22991562,  28.22991562,  28.22991562,  28.22991562,\n",
       "        28.22991562,  28.22991562,  28.22991562,  28.22991562,\n",
       "        28.22991562,  28.22991562,  34.68575668,  34.68575668,\n",
       "        34.68575668,  34.68575668,  34.68575668,  34.68575668,  28.22991562])"
      ]
     },
     "execution_count": 166,
     "metadata": {},
     "output_type": "execute_result"
    }
   ],
   "source": [
    "list_of_depths2[24,:]"
   ]
  },
  {
   "cell_type": "code",
   "execution_count": 165,
   "metadata": {
    "collapsed": false
   },
   "outputs": [
    {
     "name": "stdout",
     "output_type": "stream",
     "text": [
      "0.220573917549\n"
     ]
    },
    {
     "data": {
      "image/png": "[encoded data removed]",
      "text/plain": [
       "<matplotlib.figure.Figure at 0x7f5ead5709b0>"
      ]
     },
     "metadata": {},
     "output_type": "display_data"
    }
   ],
   "source": [
    "i = 24\n",
    "popt, pcov = curve_fit(func, np.arange(0,81), list_of_depths2[i,:])\n",
    "plt.plot(np.arange(0,81), list_of_depths2[i,:], 'r.')\n",
    "plt.grid('on')\n",
    "plt.ylim(35,0)\n",
    "plt.plot(np.arange(0,81), func(np.arange(0,81), *popt), 'b-')\n",
    "print(popt[0])"
   ]
  },
  {
   "cell_type": "code",
   "execution_count": null,
   "metadata": {
    "collapsed": true
   },
   "outputs": [],
   "source": []
  },
  {
   "cell_type": "code",
   "execution_count": 173,
   "metadata": {
    "collapsed": false
   },
   "outputs": [],
   "source": [
    "file3 = U72S\n",
    "yslice=200\n",
    "pressure3 = gsw_calls.generic_gsw_caller('gsw_p_from_z.m',\n",
    "                                        [-np.expand_dims(file3.variables['deptht'][:], 1) * np.ones(284),\n",
    "                                        (np.ones([284,40]) *np.expand_dims(file3.variables['nav_lat'][yslice,:][:],1)).T])\n",
    "deptht = file3.variables['deptht'][:]\n",
    "density3 = calc_rho(file3.variables['vosaline'][:,:,yslice,68:149],\n",
    "                    file3.variables['votemper'][:,:,yslice,68:149],\n",
    "                    pressure3[:, 68:149])\n",
    "rho = 1023.3\n",
    "index3 = (np.abs(density3 - rho)).argmin(axis=1)\n",
    "list_of_depths3 = np.zeros((102, 81))\n",
    "for t in range(102):\n",
    "    for x in range(81):\n",
    "        list_of_depths3[t,x] = deptht[index3[t,x]]"
   ]
  },
  {
   "cell_type": "code",
   "execution_count": 195,
   "metadata": {
    "collapsed": false
   },
   "outputs": [
    {
     "data": {
      "text/plain": [
       "array([  0.5000003 ,   0.5000003 ,   0.5000003 ,   0.5000003 ,\n",
       "         0.5000003 ,   0.5000003 ,   0.5000003 ,   0.5000003 ,\n",
       "         0.5000003 ,   0.5000003 ,   0.5000003 ,   0.5000003 ,\n",
       "         1.5000031 ,   1.5000031 ,   1.5000031 ,   1.5000031 ,\n",
       "         1.5000031 ,   1.5000031 ,   3.50003052,   3.50003052,\n",
       "         2.50001144,   2.50001144,   2.50001144,   1.5000031 ,\n",
       "         0.5000003 ,   0.5000003 ,   0.5000003 ,   1.5000031 ,\n",
       "         1.5000031 ,   2.50001144,   5.50015068,  11.50931168,\n",
       "        14.56898212,  16.76117325,  19.48178482,  21.38997841,\n",
       "        24.10025597,  24.10025597,  24.10025597,  28.22991562,\n",
       "        28.22991562,  28.22991562,  28.22991562,  28.22991562,\n",
       "        28.22991562,  28.22991562,  28.22991562,  28.22991562,\n",
       "        28.22991562,  28.22991562,  34.68575668,  34.68575668,\n",
       "        34.68575668,  34.68575668,  34.68575668,  34.68575668,\n",
       "        34.68575668,  34.68575668,  34.68575668,  34.68575668,\n",
       "        34.68575668,  34.68575668,  34.68575668,  34.68575668,\n",
       "        34.68575668,  34.68575668,  34.68575668,  34.68575668,\n",
       "        34.68575668,  34.68575668,  34.68575668,  44.51772308,\n",
       "        44.51772308,  44.51772308,  44.51772308,  44.51772308,\n",
       "        44.51772308,  44.51772308,  44.51772308,  44.51772308,  24.10025597])"
      ]
     },
     "execution_count": 195,
     "metadata": {},
     "output_type": "execute_result"
    }
   ],
   "source": [
    "list_of_depths3[87, :]"
   ]
  },
  {
   "cell_type": "code",
   "execution_count": 225,
   "metadata": {
    "collapsed": false
   },
   "outputs": [
    {
     "name": "stdout",
     "output_type": "stream",
     "text": [
      "0.214865763937\n"
     ]
    },
    {
     "data": {
      "image/png": "[encoded data removed]",
      "text/plain": [
       "<matplotlib.figure.Figure at 0x7f5ead5ce7b8>"
      ]
     },
     "metadata": {},
     "output_type": "display_data"
    }
   ],
   "source": [
    "i = 17\n",
    "popt, pcov = curve_fit(func, np.arange(0,81), list_of_depths3[i,:])\n",
    "plt.plot(np.arange(0,81), list_of_depths3[i,:], 'r.')\n",
    "plt.grid('on')\n",
    "plt.ylim(45,0)\n",
    "plt.plot(np.arange(0,81), func(np.arange(0,81), *popt), 'b-')\n",
    "print(popt[0])"
   ]
  },
  {
   "cell_type": "code",
   "execution_count": 231,
   "metadata": {
    "collapsed": false
   },
   "outputs": [
    {
     "data": {
      "text/plain": [
       "(57, 137)"
      ]
     },
     "execution_count": 231,
     "metadata": {},
     "output_type": "execute_result"
    },
    {
     "data": {
      "image/png": "[encoded data removed]",
      "text/plain": [
       "<matplotlib.figure.Figure at 0x7f5eacad1ef0>"
      ]
     },
     "metadata": {},
     "output_type": "display_data"
    }
   ],
   "source": [
    "plt.contourf(lake_meshmask.variables['tmask'][0,:,210,:])\n",
    "plt.xlim(57,137)"
   ]
  },
  {
   "cell_type": "code",
   "execution_count": 237,
   "metadata": {
    "collapsed": false
   },
   "outputs": [
    {
     "name": "stdout",
     "output_type": "stream",
     "text": [
      "0.22120710873\n"
     ]
    },
    {
     "data": {
      "image/png": "[encoded data removed]",
      "text/plain": [
       "<matplotlib.figure.Figure at 0x7f5eac55b780>"
      ]
     },
     "metadata": {},
     "output_type": "display_data"
    }
   ],
   "source": [
    "yslice = 210\n",
    "deptht = file1.variables['deptht'][:]\n",
    "yslicemask = 1 - new_domain[:,yslice,:]\n",
    "pressure1 = gsw_calls.generic_gsw_caller('gsw_p_from_z.m',\n",
    "                                        [-np.expand_dims(file1.variables['deptht'][:], 1) * np.ones(284),\n",
    "                                        (np.ones([284,40]) *np.expand_dims(file1.variables['nav_lat'][yslice,:][:],1)).T])\n",
    "i = 30\n",
    "density1 = calc_rho(file1.variables['vosaline'][i,:,yslice,60:137],\n",
    "                    file1.variables['votemper'][i,:,yslice,60:137],\n",
    "                    pressure1[:, 60:137])\n",
    "rho = 1023.3\n",
    "index1 = (np.abs(density1 - rho)).argmin(axis=0)\n",
    "list_of_depths1 = np.zeros((77))\n",
    "for x in range(77):\n",
    "    list_of_depths1[x] = deptht[index1[x]]\n",
    "popt, pcov = curve_fit(func, np.arange(0,77), list_of_depths1)\n",
    "plt.plot(np.arange(0,77), list_of_depths1, 'r.')\n",
    "plt.grid('on')\n",
    "plt.ylim(50,0)\n",
    "plt.plot(np.arange(0,77), func(np.arange(0,77), *popt), 'b-')\n",
    "print(popt[0])"
   ]
  },
  {
   "cell_type": "code",
   "execution_count": 241,
   "metadata": {
    "collapsed": false
   },
   "outputs": [
    {
     "name": "stdout",
     "output_type": "stream",
     "text": [
      "0.205390441908\n"
     ]
    },
    {
     "data": {
      "image/png": "[encoded data removed]",
      "text/plain": [
       "<matplotlib.figure.Figure at 0x7f5eac741cc0>"
      ]
     },
     "metadata": {},
     "output_type": "display_data"
    }
   ],
   "source": [
    "yslice = 210\n",
    "deptht = file2.variables['deptht'][:]\n",
    "yslicemask = 1 - new_domain[:,yslice,:]\n",
    "pressure1 = gsw_calls.generic_gsw_caller('gsw_p_from_z.m',\n",
    "                                        [-np.expand_dims(file2.variables['deptht'][:], 1) * np.ones(284),\n",
    "                                        (np.ones([284,40]) *np.expand_dims(file2.variables['nav_lat'][yslice,:][:],1)).T])\n",
    "i = 24\n",
    "density1 = calc_rho(file2.variables['vosaline'][i,:,yslice,60:137],\n",
    "                    file2.variables['votemper'][i,:,yslice,60:137],\n",
    "                    pressure1[:, 60:137])\n",
    "rho = 1023.3\n",
    "index1 = (np.abs(density1 - rho)).argmin(axis=0)\n",
    "list_of_depths1 = np.zeros((77))\n",
    "for x in range(77):\n",
    "    list_of_depths1[x] = deptht[index1[x]]\n",
    "popt, pcov = curve_fit(func, np.arange(0,77), list_of_depths1)\n",
    "plt.plot(np.arange(0,77), list_of_depths1, 'r.')\n",
    "plt.grid('on')\n",
    "plt.ylim(50,0)\n",
    "plt.plot(np.arange(0,77), func(np.arange(0,77), *popt), 'b-')\n",
    "print(popt[0])"
   ]
  },
  {
   "cell_type": "code",
   "execution_count": 248,
   "metadata": {
    "collapsed": false
   },
   "outputs": [
    {
     "name": "stdout",
     "output_type": "stream",
     "text": [
      "0.217622892644\n"
     ]
    },
    {
     "data": {
      "image/png": "[encoded data removed]",
      "text/plain": [
       "<matplotlib.figure.Figure at 0x7f5eac99da20>"
      ]
     },
     "metadata": {},
     "output_type": "display_data"
    }
   ],
   "source": [
    "file3 = U72S\n",
    "yslice = 210\n",
    "deptht = file3.variables['deptht'][:]\n",
    "yslicemask = 1 - new_domain[:,yslice,:]\n",
    "pressure1 = gsw_calls.generic_gsw_caller('gsw_p_from_z.m',\n",
    "                                        [-np.expand_dims(file3.variables['deptht'][:], 1) * np.ones(284),\n",
    "                                        (np.ones([284,40]) *np.expand_dims(file3.variables['nav_lat'][yslice,:][:],1)).T])\n",
    "i = 18\n",
    "density1 = calc_rho(file3.variables['vosaline'][i,:,yslice,60:137],\n",
    "                    file3.variables['votemper'][i,:,yslice,60:137],\n",
    "                    pressure1[:, 60:137])\n",
    "rho = 1023.3\n",
    "index1 = (np.abs(density1 - rho)).argmin(axis=0)\n",
    "list_of_depths1 = np.zeros((77))\n",
    "for x in range(77):\n",
    "    list_of_depths1[x] = deptht[index1[x]]\n",
    "popt, pcov = curve_fit(func, np.arange(0,77), list_of_depths1)\n",
    "plt.plot(np.arange(0,77), list_of_depths1, 'r.')\n",
    "plt.grid('on')\n",
    "plt.ylim(50,0)\n",
    "plt.plot(np.arange(0,77), func(np.arange(0,77), *popt), 'b-')\n",
    "print(popt[0])"
   ]
  },
  {
   "cell_type": "code",
   "execution_count": 254,
   "metadata": {
    "collapsed": false
   },
   "outputs": [
    {
     "data": {
      "text/plain": [
       "(78, 159)"
      ]
     },
     "execution_count": 254,
     "metadata": {},
     "output_type": "execute_result"
    },
    {
     "data": {
      "image/png": "[encoded data removed]",
      "text/plain": [
       "<matplotlib.figure.Figure at 0x7f5ead3c52b0>"
      ]
     },
     "metadata": {},
     "output_type": "display_data"
    }
   ],
   "source": [
    "plt.contourf(lake_meshmask.variables['tmask'][0,:,190,:])\n",
    "plt.xlim(78,159)"
   ]
  },
  {
   "cell_type": "code",
   "execution_count": 258,
   "metadata": {
    "collapsed": false
   },
   "outputs": [
    {
     "name": "stdout",
     "output_type": "stream",
     "text": [
      "0.176430320264\n"
     ]
    },
    {
     "data": {
      "image/png": "[encoded data removed]",
      "text/plain": [
       "<matplotlib.figure.Figure at 0x7f5eac15bf28>"
      ]
     },
     "metadata": {},
     "output_type": "display_data"
    }
   ],
   "source": [
    "file1 = U24S\n",
    "yslice = 190\n",
    "deptht = file1.variables['deptht'][:]\n",
    "yslicemask = 1 - new_domain[:,yslice,:]\n",
    "pressure1 = gsw_calls.generic_gsw_caller('gsw_p_from_z.m',\n",
    "                                        [-np.expand_dims(file1.variables['deptht'][:], 1) * np.ones(284),\n",
    "                                        (np.ones([284,40]) *np.expand_dims(file1.variables['nav_lat'][yslice,:][:],1)).T])\n",
    "i = 28\n",
    "density1 = calc_rho(file1.variables['vosaline'][i,:,yslice,78:159],\n",
    "                    file1.variables['votemper'][i,:,yslice,78:159],\n",
    "                    pressure1[:, 78:159])\n",
    "rho = 1023.3\n",
    "index1 = (np.abs(density1 - rho)).argmin(axis=0)\n",
    "list_of_depths1 = np.zeros((81))\n",
    "for x in range(81):\n",
    "    list_of_depths1[x] = deptht[index1[x]]\n",
    "popt, pcov = curve_fit(func, np.arange(0,81), list_of_depths1)\n",
    "plt.plot(np.arange(0,81), list_of_depths1, 'r.')\n",
    "plt.grid('on')\n",
    "plt.ylim(50,0)\n",
    "plt.plot(np.arange(0,81), func(np.arange(0,81), *popt), 'b-')\n",
    "print(popt[0])"
   ]
  },
  {
   "cell_type": "code",
   "execution_count": 266,
   "metadata": {
    "collapsed": false
   },
   "outputs": [
    {
     "name": "stdout",
     "output_type": "stream",
     "text": [
      "0.219928277\n"
     ]
    },
    {
     "data": {
      "image/png": "[encoded data removed]",
      "text/plain": [
       "<matplotlib.figure.Figure at 0x7f5eabecba58>"
      ]
     },
     "metadata": {},
     "output_type": "display_data"
    }
   ],
   "source": [
    "file1 = U48S\n",
    "yslice = 190\n",
    "deptht = file1.variables['deptht'][:]\n",
    "yslicemask = 1 - new_domain[:,yslice,:]\n",
    "pressure1 = gsw_calls.generic_gsw_caller('gsw_p_from_z.m',\n",
    "                                        [-np.expand_dims(file1.variables['deptht'][:], 1) * np.ones(284),\n",
    "                                        (np.ones([284,40]) *np.expand_dims(file1.variables['nav_lat'][yslice,:][:],1)).T])\n",
    "i = 23\n",
    "density1 = calc_rho(file1.variables['vosaline'][i,:,yslice,78:159],\n",
    "                    file1.variables['votemper'][i,:,yslice,78:159],\n",
    "                    pressure1[:, 78:159])\n",
    "rho = 1023.3\n",
    "index1 = (np.abs(density1 - rho)).argmin(axis=0)\n",
    "list_of_depths1 = np.zeros((81))\n",
    "for x in range(81):\n",
    "    list_of_depths1[x] = deptht[index1[x]]\n",
    "popt, pcov = curve_fit(func, np.arange(0,81), list_of_depths1)\n",
    "plt.plot(np.arange(0,81), list_of_depths1, 'r.')\n",
    "plt.grid('on')\n",
    "plt.ylim(50,0)\n",
    "plt.plot(np.arange(0,81), func(np.arange(0,81), *popt), 'b-')\n",
    "print(popt[0])"
   ]
  },
  {
   "cell_type": "code",
   "execution_count": 270,
   "metadata": {
    "collapsed": false
   },
   "outputs": [
    {
     "name": "stdout",
     "output_type": "stream",
     "text": [
      "0.192798937461\n"
     ]
    },
    {
     "data": {
      "image/png": "[encoded data removed]",
      "text/plain": [
       "<matplotlib.figure.Figure at 0x7f5eac1382b0>"
      ]
     },
     "metadata": {},
     "output_type": "display_data"
    }
   ],
   "source": [
    "file1 = U72S\n",
    "yslice = 190\n",
    "deptht = file1.variables['deptht'][:]\n",
    "yslicemask = 1 - new_domain[:,yslice,:]\n",
    "pressure1 = gsw_calls.generic_gsw_caller('gsw_p_from_z.m',\n",
    "                                        [-np.expand_dims(file1.variables['deptht'][:], 1) * np.ones(284),\n",
    "                                        (np.ones([284,40]) *np.expand_dims(file1.variables['nav_lat'][yslice,:][:],1)).T])\n",
    "i = 18\n",
    "density1 = calc_rho(file1.variables['vosaline'][i,:,yslice,78:159],\n",
    "                    file1.variables['votemper'][i,:,yslice,78:159],\n",
    "                    pressure1[:, 78:159])\n",
    "rho = 1023.3\n",
    "index1 = (np.abs(density1 - rho)).argmin(axis=0)\n",
    "list_of_depths1 = np.zeros((81))\n",
    "for x in range(81):\n",
    "    list_of_depths1[x] = deptht[index1[x]]\n",
    "popt, pcov = curve_fit(func, np.arange(0,81), list_of_depths1)\n",
    "plt.plot(np.arange(0,81), list_of_depths1, 'r.')\n",
    "plt.grid('on')\n",
    "plt.ylim(50,0)\n",
    "plt.plot(np.arange(0,81), func(np.arange(0,81), *popt), 'b-')\n",
    "print(popt[0])"
   ]
  },
  {
   "cell_type": "code",
   "execution_count": 283,
   "metadata": {
    "collapsed": false
   },
   "outputs": [
    {
     "data": {
      "text/plain": [
       "(55, 124)"
      ]
     },
     "execution_count": 283,
     "metadata": {},
     "output_type": "execute_result"
    },
    {
     "data": {
      "image/png": "[encoded data removed]",
      "text/plain": [
       "<matplotlib.figure.Figure at 0x7f5eabfe65c0>"
      ]
     },
     "metadata": {},
     "output_type": "display_data"
    }
   ],
   "source": [
    "plt.contourf(lake_meshmask.variables['tmask'][0,:,220,:])\n",
    "plt.xlim(55,124)"
   ]
  },
  {
   "cell_type": "code",
   "execution_count": 289,
   "metadata": {
    "collapsed": false
   },
   "outputs": [
    {
     "name": "stdout",
     "output_type": "stream",
     "text": [
      "0.0994924732031\n"
     ]
    },
    {
     "data": {
      "image/png": "[encoded data removed]",
      "text/plain": [
       "<matplotlib.figure.Figure at 0x7f5eac4f7390>"
      ]
     },
     "metadata": {},
     "output_type": "display_data"
    }
   ],
   "source": [
    "file1 = U24S\n",
    "yslice = 220\n",
    "deptht = file1.variables['deptht'][:]\n",
    "yslicemask = 1 - new_domain[:,yslice,:]\n",
    "pressure1 = gsw_calls.generic_gsw_caller('gsw_p_from_z.m',\n",
    "                                        [-np.expand_dims(file1.variables['deptht'][:], 1) * np.ones(284),\n",
    "                                        (np.ones([284,40]) *np.expand_dims(file1.variables['nav_lat'][yslice,:][:],1)).T])\n",
    "i = 34\n",
    "density1 = calc_rho(file1.variables['vosaline'][i,:,yslice,55:124],\n",
    "                    file1.variables['votemper'][i,:,yslice,55:124],\n",
    "                    pressure1[:, 55:124])\n",
    "rho = 1023.3\n",
    "index1 = (np.abs(density1 - rho)).argmin(axis=0)\n",
    "list_of_depths1 = np.zeros((69))\n",
    "for x in range(69):\n",
    "    list_of_depths1[x] = deptht[index1[x]]\n",
    "popt, pcov = curve_fit(func, np.arange(0,69), list_of_depths1)\n",
    "plt.plot(np.arange(0,69), list_of_depths1, 'r.')\n",
    "plt.grid('on')\n",
    "plt.ylim(50,0)\n",
    "plt.plot(np.arange(0,69), func(np.arange(0,69), *popt), 'b-')\n",
    "print(popt[0])"
   ]
  },
  {
   "cell_type": "code",
   "execution_count": 299,
   "metadata": {
    "collapsed": false
   },
   "outputs": [
    {
     "name": "stdout",
     "output_type": "stream",
     "text": [
      "0.110232567362\n"
     ]
    },
    {
     "data": {
      "image/png": "[encoded data removed]",
      "text/plain": [
       "<matplotlib.figure.Figure at 0x7f5eabdbb8d0>"
      ]
     },
     "metadata": {},
     "output_type": "display_data"
    }
   ],
   "source": [
    "file1 = U48S\n",
    "yslice = 220\n",
    "deptht = file1.variables['deptht'][:]\n",
    "yslicemask = 1 - new_domain[:,yslice,:]\n",
    "pressure1 = gsw_calls.generic_gsw_caller('gsw_p_from_z.m',\n",
    "                                        [-np.expand_dims(file1.variables['deptht'][:], 1) * np.ones(284),\n",
    "                                        (np.ones([284,40]) *np.expand_dims(file1.variables['nav_lat'][yslice,:][:],1)).T])\n",
    "i = 30\n",
    "density1 = calc_rho(file1.variables['vosaline'][i,:,yslice,55:124],\n",
    "                    file1.variables['votemper'][i,:,yslice,55:124],\n",
    "                    pressure1[:, 55:124])\n",
    "rho = 1023.3\n",
    "index1 = (np.abs(density1 - rho)).argmin(axis=0)\n",
    "list_of_depths1 = np.zeros((69))\n",
    "for x in range(69):\n",
    "    list_of_depths1[x] = deptht[index1[x]]\n",
    "popt, pcov = curve_fit(func, np.arange(0,69), list_of_depths1)\n",
    "plt.plot(np.arange(0,69), list_of_depths1, 'r.')\n",
    "plt.grid('on')\n",
    "plt.ylim(50,0)\n",
    "plt.plot(np.arange(0,69), func(np.arange(0,69), *popt), 'b-')\n",
    "print(popt[0])"
   ]
  },
  {
   "cell_type": "code",
   "execution_count": 310,
   "metadata": {
    "collapsed": false
   },
   "outputs": [
    {
     "name": "stdout",
     "output_type": "stream",
     "text": [
      "0.104066641258\n"
     ]
    },
    {
     "data": {
      "image/png": "[encoded data removed]",
      "text/plain": [
       "<matplotlib.figure.Figure at 0x7f5eabd7ae10>"
      ]
     },
     "metadata": {},
     "output_type": "display_data"
    }
   ],
   "source": [
    "file1 = U72S\n",
    "yslice = 220\n",
    "deptht = file1.variables['deptht'][:]\n",
    "yslicemask = 1 - new_domain[:,yslice,:]\n",
    "pressure1 = gsw_calls.generic_gsw_caller('gsw_p_from_z.m',\n",
    "                                        [-np.expand_dims(file1.variables['deptht'][:], 1) * np.ones(284),\n",
    "                                        (np.ones([284,40]) *np.expand_dims(file1.variables['nav_lat'][yslice,:][:],1)).T])\n",
    "i = 23\n",
    "density1 = calc_rho(file1.variables['vosaline'][i,:,yslice,55:124],\n",
    "                    file1.variables['votemper'][i,:,yslice,55:124],\n",
    "                    pressure1[:, 55:124])\n",
    "rho = 1023.3\n",
    "index1 = (np.abs(density1 - rho)).argmin(axis=0)\n",
    "list_of_depths1 = np.zeros((69))\n",
    "for x in range(69):\n",
    "    list_of_depths1[x] = deptht[index1[x]]\n",
    "popt, pcov = curve_fit(func, np.arange(0,69), list_of_depths1)\n",
    "plt.plot(np.arange(0,69), list_of_depths1, 'r.')\n",
    "plt.grid('on')\n",
    "plt.ylim(50,0)\n",
    "plt.plot(np.arange(0,69), func(np.arange(0,69), *popt), 'b-')\n",
    "print(popt[0])"
   ]
  },
  {
   "cell_type": "code",
   "execution_count": 302,
   "metadata": {
    "collapsed": false
   },
   "outputs": [
    {
     "data": {
      "text/plain": [
       "10.56484414"
      ]
     },
     "execution_count": 302,
     "metadata": {},
     "output_type": "execute_result"
    }
   ],
   "source": [
    "28.22991562 - 4.12965965 - 13.53541183"
   ]
  },
  {
   "cell_type": "code",
   "execution_count": 322,
   "metadata": {
    "collapsed": false
   },
   "outputs": [
    {
     "data": {
      "text/plain": [
       "(82, 165)"
      ]
     },
     "execution_count": 322,
     "metadata": {},
     "output_type": "execute_result"
    },
    {
     "data": {
      "image/png": "[encoded data removed]",
      "text/plain": [
       "<matplotlib.figure.Figure at 0x7f5eababd7f0>"
      ]
     },
     "metadata": {},
     "output_type": "display_data"
    }
   ],
   "source": [
    "plt.contourf(lake_meshmask.variables['tmask'][0,:,180,:])\n",
    "plt.xlim(82,165)"
   ]
  },
  {
   "cell_type": "code",
   "execution_count": 329,
   "metadata": {
    "collapsed": false
   },
   "outputs": [
    {
     "name": "stdout",
     "output_type": "stream",
     "text": [
      "0.189358095762\n"
     ]
    },
    {
     "data": {
      "image/png": "[encoded data removed]",
      "text/plain": [
       "<matplotlib.figure.Figure at 0x7f5eac690320>"
      ]
     },
     "metadata": {},
     "output_type": "display_data"
    }
   ],
   "source": [
    "file1 = U24S\n",
    "yslice = 180\n",
    "deptht = file1.variables['deptht'][:]\n",
    "yslicemask = 1 - new_domain[:,yslice,:]\n",
    "pressure1 = gsw_calls.generic_gsw_caller('gsw_p_from_z.m',\n",
    "                                        [-np.expand_dims(file1.variables['deptht'][:], 1) * np.ones(284),\n",
    "                                        (np.ones([284,40]) *np.expand_dims(file1.variables['nav_lat'][yslice,:][:],1)).T])\n",
    "i = 31\n",
    "density1 = calc_rho(file1.variables['vosaline'][i,:,yslice,82:165],\n",
    "                    file1.variables['votemper'][i,:,yslice,82:165],\n",
    "                    pressure1[:, 82:165])\n",
    "rho = 1023.3\n",
    "index1 = (np.abs(density1 - rho)).argmin(axis=0)\n",
    "list_of_depths1 = np.zeros((83))\n",
    "for x in range(83):\n",
    "    list_of_depths1[x] = deptht[index1[x]]\n",
    "popt, pcov = curve_fit(func, np.arange(0,83), list_of_depths1)\n",
    "plt.plot(np.arange(0,83), list_of_depths1, 'r.')\n",
    "plt.grid('on')\n",
    "plt.ylim(50,0)\n",
    "plt.plot(np.arange(0,83), func(np.arange(0,83), *popt), 'b-')\n",
    "print(popt[0])"
   ]
  },
  {
   "cell_type": "code",
   "execution_count": 335,
   "metadata": {
    "collapsed": false
   },
   "outputs": [
    {
     "name": "stdout",
     "output_type": "stream",
     "text": [
      "0.19253433918\n"
     ]
    },
    {
     "data": {
      "image/png": "[encoded data removed]",
      "text/plain": [
       "<matplotlib.figure.Figure at 0x7f5eaba74198>"
      ]
     },
     "metadata": {},
     "output_type": "display_data"
    }
   ],
   "source": [
    "file1 = U48S\n",
    "yslice = 180\n",
    "deptht = file1.variables['deptht'][:]\n",
    "yslicemask = 1 - new_domain[:,yslice,:]\n",
    "pressure1 = gsw_calls.generic_gsw_caller('gsw_p_from_z.m',\n",
    "                                        [-np.expand_dims(file1.variables['deptht'][:], 1) * np.ones(284),\n",
    "                                        (np.ones([284,40]) *np.expand_dims(file1.variables['nav_lat'][yslice,:][:],1)).T])\n",
    "i = 25\n",
    "density1 = calc_rho(file1.variables['vosaline'][i,:,yslice,82:165],\n",
    "                    file1.variables['votemper'][i,:,yslice,82:165],\n",
    "                    pressure1[:, 82:165])\n",
    "rho = 1023.3\n",
    "index1 = (np.abs(density1 - rho)).argmin(axis=0)\n",
    "list_of_depths1 = np.zeros((83))\n",
    "for x in range(83):\n",
    "    list_of_depths1[x] = deptht[index1[x]]\n",
    "popt, pcov = curve_fit(func, np.arange(0,83), list_of_depths1)\n",
    "plt.plot(np.arange(0,83), list_of_depths1, 'r.')\n",
    "plt.grid('on')\n",
    "plt.ylim(50,0)\n",
    "plt.plot(np.arange(0,83), func(np.arange(0,83), *popt), 'b-')\n",
    "print(popt[0])"
   ]
  },
  {
   "cell_type": "code",
   "execution_count": 339,
   "metadata": {
    "collapsed": false
   },
   "outputs": [
    {
     "name": "stdout",
     "output_type": "stream",
     "text": [
      "0.16143727174\n"
     ]
    },
    {
     "data": {
      "image/png": "[encoded data removed]",
      "text/plain": [
       "<matplotlib.figure.Figure at 0x7f5eabd32630>"
      ]
     },
     "metadata": {},
     "output_type": "display_data"
    }
   ],
   "source": [
    "file1 = U72S\n",
    "yslice = 180\n",
    "deptht = file1.variables['deptht'][:]\n",
    "yslicemask = 1 - new_domain[:,yslice,:]\n",
    "pressure1 = gsw_calls.generic_gsw_caller('gsw_p_from_z.m',\n",
    "                                        [-np.expand_dims(file1.variables['deptht'][:], 1) * np.ones(284),\n",
    "                                        (np.ones([284,40]) *np.expand_dims(file1.variables['nav_lat'][yslice,:][:],1)).T])\n",
    "i = 21\n",
    "density1 = calc_rho(file1.variables['vosaline'][i,:,yslice,82:165],\n",
    "                    file1.variables['votemper'][i,:,yslice,82:165],\n",
    "                    pressure1[:, 82:165])\n",
    "rho = 1023.3\n",
    "index1 = (np.abs(density1 - rho)).argmin(axis=0)\n",
    "list_of_depths1 = np.zeros((83))\n",
    "for x in range(83):\n",
    "    list_of_depths1[x] = deptht[index1[x]]\n",
    "popt, pcov = curve_fit(func, np.arange(0,83), list_of_depths1)\n",
    "plt.plot(np.arange(0,83), list_of_depths1, 'r.')\n",
    "plt.grid('on')\n",
    "plt.ylim(50,0)\n",
    "plt.plot(np.arange(0,83), func(np.arange(0,83), *popt), 'b-')\n",
    "print(popt[0])"
   ]
  },
  {
   "cell_type": "code",
   "execution_count": 346,
   "metadata": {
    "collapsed": false
   },
   "outputs": [
    {
     "data": {
      "text/plain": [
       "(95, 176)"
      ]
     },
     "execution_count": 346,
     "metadata": {},
     "output_type": "execute_result"
    },
    {
     "data": {
      "image/png": "[encoded data removed]",
      "text/plain": [
       "<matplotlib.figure.Figure at 0x7f5eab9d3908>"
      ]
     },
     "metadata": {},
     "output_type": "display_data"
    }
   ],
   "source": [
    "plt.contourf(lake_meshmask.variables['tmask'][0,:,170,:])\n",
    "plt.xlim(95,176)"
   ]
  },
  {
   "cell_type": "code",
   "execution_count": 349,
   "metadata": {
    "collapsed": false
   },
   "outputs": [
    {
     "name": "stdout",
     "output_type": "stream",
     "text": [
      "0.168350073508\n"
     ]
    },
    {
     "data": {
      "image/png": "[encoded data removed]",
      "text/plain": [
       "<matplotlib.figure.Figure at 0x7f5eac1eff28>"
      ]
     },
     "metadata": {},
     "output_type": "display_data"
    }
   ],
   "source": [
    "file1 = U24S\n",
    "yslice = 170\n",
    "deptht = file1.variables['deptht'][:]\n",
    "yslicemask = 1 - new_domain[:,yslice,:]\n",
    "pressure1 = gsw_calls.generic_gsw_caller('gsw_p_from_z.m',\n",
    "                                        [-np.expand_dims(file1.variables['deptht'][:], 1) * np.ones(284),\n",
    "                                        (np.ones([284,40]) *np.expand_dims(file1.variables['nav_lat'][yslice,:][:],1)).T])\n",
    "i = 29\n",
    "density1 = calc_rho(file1.variables['vosaline'][i,:,yslice,95:176],\n",
    "                    file1.variables['votemper'][i,:,yslice,95:176],\n",
    "                    pressure1[:, 95:176])\n",
    "rho = 1023.3\n",
    "index1 = (np.abs(density1 - rho)).argmin(axis=0)\n",
    "list_of_depths1 = np.zeros((81))\n",
    "for x in range(81):\n",
    "    list_of_depths1[x] = deptht[index1[x]]\n",
    "popt, pcov = curve_fit(func, np.arange(0,81), list_of_depths1)\n",
    "plt.plot(np.arange(0,81), list_of_depths1, 'r.')\n",
    "plt.grid('on')\n",
    "plt.ylim(50,0)\n",
    "plt.plot(np.arange(0,81), func(np.arange(0,81), *popt), 'b-')\n",
    "print(popt[0])"
   ]
  },
  {
   "cell_type": "code",
   "execution_count": 356,
   "metadata": {
    "collapsed": false
   },
   "outputs": [
    {
     "name": "stdout",
     "output_type": "stream",
     "text": [
      "0.167833407977\n"
     ]
    },
    {
     "data": {
      "image/png": "[encoded data removed]",
      "text/plain": [
       "<matplotlib.figure.Figure at 0x7f5eabcc8898>"
      ]
     },
     "metadata": {},
     "output_type": "display_data"
    }
   ],
   "source": [
    "file1 = U48S\n",
    "yslice = 170\n",
    "deptht = file1.variables['deptht'][:]\n",
    "yslicemask = 1 - new_domain[:,yslice,:]\n",
    "pressure1 = gsw_calls.generic_gsw_caller('gsw_p_from_z.m',\n",
    "                                        [-np.expand_dims(file1.variables['deptht'][:], 1) * np.ones(284),\n",
    "                                        (np.ones([284,40]) *np.expand_dims(file1.variables['nav_lat'][yslice,:][:],1)).T])\n",
    "i = 23\n",
    "density1 = calc_rho(file1.variables['vosaline'][i,:,yslice,95:176],\n",
    "                    file1.variables['votemper'][i,:,yslice,95:176],\n",
    "                    pressure1[:, 95:176])\n",
    "rho = 1023.3\n",
    "index1 = (np.abs(density1 - rho)).argmin(axis=0)\n",
    "list_of_depths1 = np.zeros((81))\n",
    "for x in range(81):\n",
    "    list_of_depths1[x] = deptht[index1[x]]\n",
    "popt, pcov = curve_fit(func, np.arange(0,81), list_of_depths1)\n",
    "plt.plot(np.arange(0,81), list_of_depths1, 'r.')\n",
    "plt.grid('on')\n",
    "plt.ylim(50,0)\n",
    "plt.plot(np.arange(0,81), func(np.arange(0,81), *popt), 'b-')\n",
    "print(popt[0])"
   ]
  },
  {
   "cell_type": "code",
   "execution_count": 362,
   "metadata": {
    "collapsed": false
   },
   "outputs": [
    {
     "name": "stdout",
     "output_type": "stream",
     "text": [
      "0.196921154195\n"
     ]
    },
    {
     "data": {
      "image/png": "[encoded data removed]",
      "text/plain": [
       "<matplotlib.figure.Figure at 0x7f5eac965b38>"
      ]
     },
     "metadata": {},
     "output_type": "display_data"
    }
   ],
   "source": [
    "file1 = U72S\n",
    "yslice = 170\n",
    "deptht = file1.variables['deptht'][:]\n",
    "yslicemask = 1 - new_domain[:,yslice,:]\n",
    "pressure1 = gsw_calls.generic_gsw_caller('gsw_p_from_z.m',\n",
    "                                        [-np.expand_dims(file1.variables['deptht'][:], 1) * np.ones(284),\n",
    "                                        (np.ones([284,40]) *np.expand_dims(file1.variables['nav_lat'][yslice,:][:],1)).T])\n",
    "i = 17\n",
    "density1 = calc_rho(file1.variables['vosaline'][i,:,yslice,95:176],\n",
    "                    file1.variables['votemper'][i,:,yslice,95:176],\n",
    "                    pressure1[:, 95:176])\n",
    "rho = 1023.3\n",
    "index1 = (np.abs(density1 - rho)).argmin(axis=0)\n",
    "list_of_depths1 = np.zeros((81))\n",
    "for x in range(81):\n",
    "    list_of_depths1[x] = deptht[index1[x]]\n",
    "popt, pcov = curve_fit(func, np.arange(0,81), list_of_depths1)\n",
    "plt.plot(np.arange(0,81), list_of_depths1, 'r.')\n",
    "plt.grid('on')\n",
    "plt.ylim(50,0)\n",
    "plt.plot(np.arange(0,81), func(np.arange(0,81), *popt), 'b-')\n",
    "print(popt[0])"
   ]
  },
  {
   "cell_type": "code",
   "execution_count": 370,
   "metadata": {
    "collapsed": false
   },
   "outputs": [
    {
     "data": {
      "text/plain": [
       "(100, 194)"
      ]
     },
     "execution_count": 370,
     "metadata": {},
     "output_type": "execute_result"
    },
    {
     "data": {
      "image/png": "[encoded data removed]",
      "text/plain": [
       "<matplotlib.figure.Figure at 0x7f5eabc5a240>"
      ]
     },
     "metadata": {},
     "output_type": "display_data"
    }
   ],
   "source": [
    "plt.contourf(lake_meshmask.variables['tmask'][0,:,160,:])\n",
    "plt.xlim(100,194)"
   ]
  },
  {
   "cell_type": "code",
   "execution_count": 377,
   "metadata": {
    "collapsed": false
   },
   "outputs": [
    {
     "name": "stdout",
     "output_type": "stream",
     "text": [
      "0.0947285231267\n"
     ]
    },
    {
     "data": {
      "image/png": "[encoded data removed]",
      "text/plain": [
       "<matplotlib.figure.Figure at 0x7f5eacfefcc0>"
      ]
     },
     "metadata": {},
     "output_type": "display_data"
    }
   ],
   "source": [
    "file1 = U24S\n",
    "yslice = 160\n",
    "deptht = file1.variables['deptht'][:]\n",
    "yslicemask = 1 - new_domain[:,yslice,:]\n",
    "pressure1 = gsw_calls.generic_gsw_caller('gsw_p_from_z.m',\n",
    "                                        [-np.expand_dims(file1.variables['deptht'][:], 1) * np.ones(284),\n",
    "                                        (np.ones([284,40]) *np.expand_dims(file1.variables['nav_lat'][yslice,:][:],1)).T])\n",
    "i = 38\n",
    "density1 = calc_rho(file1.variables['vosaline'][i,:,yslice,100:194],\n",
    "                    file1.variables['votemper'][i,:,yslice,100:194],\n",
    "                    pressure1[:, 100:194])\n",
    "rho = 1023.3\n",
    "index1 = (np.abs(density1 - rho)).argmin(axis=0)\n",
    "list_of_depths1 = np.zeros((94))\n",
    "for x in range(94):\n",
    "    list_of_depths1[x] = deptht[index1[x]]\n",
    "popt, pcov = curve_fit(func, np.arange(0,94), list_of_depths1)\n",
    "plt.plot(np.arange(0,94), list_of_depths1, 'r.')\n",
    "plt.grid('on')\n",
    "plt.ylim(50,0)\n",
    "plt.plot(np.arange(0,94), func(np.arange(0,94), *popt), 'b-')\n",
    "print(popt[0])"
   ]
  },
  {
   "cell_type": "code",
   "execution_count": 385,
   "metadata": {
    "collapsed": false
   },
   "outputs": [
    {
     "name": "stdout",
     "output_type": "stream",
     "text": [
      "0.140963722067\n"
     ]
    },
    {
     "data": {
      "image/png": "[encoded data removed]",
      "text/plain": [
       "<matplotlib.figure.Figure at 0x7f5eacd09c18>"
      ]
     },
     "metadata": {},
     "output_type": "display_data"
    }
   ],
   "source": [
    "file1 = U48S\n",
    "yslice = 160\n",
    "deptht = file1.variables['deptht'][:]\n",
    "yslicemask = 1 - new_domain[:,yslice,:]\n",
    "pressure1 = gsw_calls.generic_gsw_caller('gsw_p_from_z.m',\n",
    "                                        [-np.expand_dims(file1.variables['deptht'][:], 1) * np.ones(284),\n",
    "                                        (np.ones([284,40]) *np.expand_dims(file1.variables['nav_lat'][yslice,:][:],1)).T])\n",
    "i = 33\n",
    "density1 = calc_rho(file1.variables['vosaline'][i,:,yslice,100:194],\n",
    "                    file1.variables['votemper'][i,:,yslice,100:194],\n",
    "                    pressure1[:, 100:194])\n",
    "rho = 1023.3\n",
    "index1 = (np.abs(density1 - rho)).argmin(axis=0)\n",
    "list_of_depths1 = np.zeros((94))\n",
    "for x in range(94):\n",
    "    list_of_depths1[x] = deptht[index1[x]]\n",
    "popt, pcov = curve_fit(func, np.arange(0,94), list_of_depths1)\n",
    "plt.plot(np.arange(0,94), list_of_depths1, 'r.')\n",
    "plt.grid('on')\n",
    "plt.ylim(50,0)\n",
    "plt.plot(np.arange(0,94), func(np.arange(0,94), *popt), 'b-')\n",
    "print(popt[0])"
   ]
  },
  {
   "cell_type": "code",
   "execution_count": 393,
   "metadata": {
    "collapsed": false
   },
   "outputs": [
    {
     "name": "stdout",
     "output_type": "stream",
     "text": [
      "0.150079157736\n"
     ]
    },
    {
     "data": {
      "image/png": "[encoded data removed]",
      "text/plain": [
       "<matplotlib.figure.Figure at 0x7f5eab85b828>"
      ]
     },
     "metadata": {},
     "output_type": "display_data"
    }
   ],
   "source": [
    "file1 = U72S\n",
    "yslice = 160\n",
    "deptht = file1.variables['deptht'][:]\n",
    "yslicemask = 1 - new_domain[:,yslice,:]\n",
    "pressure1 = gsw_calls.generic_gsw_caller('gsw_p_from_z.m',\n",
    "                                        [-np.expand_dims(file1.variables['deptht'][:], 1) * np.ones(284),\n",
    "                                        (np.ones([284,40]) *np.expand_dims(file1.variables['nav_lat'][yslice,:][:],1)).T])\n",
    "i = 28\n",
    "density1 = calc_rho(file1.variables['vosaline'][i,:,yslice,100:194],\n",
    "                    file1.variables['votemper'][i,:,yslice,100:194],\n",
    "                    pressure1[:, 100:194])\n",
    "rho = 1023.3\n",
    "index1 = (np.abs(density1 - rho)).argmin(axis=0)\n",
    "list_of_depths1 = np.zeros((94))\n",
    "for x in range(94):\n",
    "    list_of_depths1[x] = deptht[index1[x]]\n",
    "popt, pcov = curve_fit(func, np.arange(0,94), list_of_depths1)\n",
    "plt.plot(np.arange(0,94), list_of_depths1, 'r.')\n",
    "plt.grid('on')\n",
    "plt.ylim(50,0)\n",
    "plt.plot(np.arange(0,94), func(np.arange(0,94), *popt), 'b-')\n",
    "print(popt[0])"
   ]
  },
  {
   "cell_type": "code",
   "execution_count": 401,
   "metadata": {
    "collapsed": false
   },
   "outputs": [
    {
     "data": {
      "text/plain": [
       "(112, 191)"
      ]
     },
     "execution_count": 401,
     "metadata": {},
     "output_type": "execute_result"
    },
    {
     "data": {
      "image/png": "[encoded data removed]",
      "text/plain": [
       "<matplotlib.figure.Figure at 0x7f5eac3c2b00>"
      ]
     },
     "metadata": {},
     "output_type": "display_data"
    }
   ],
   "source": [
    "plt.contourf(lake_meshmask.variables['tmask'][0,:,150,:])\n",
    "plt.xlim(112,191)"
   ]
  },
  {
   "cell_type": "code",
   "execution_count": 406,
   "metadata": {
    "collapsed": false
   },
   "outputs": [
    {
     "name": "stdout",
     "output_type": "stream",
     "text": [
      "0.0937413592174\n",
      "24.1002559662\n",
      "14.5689821243\n"
     ]
    },
    {
     "data": {
      "image/png": "[encoded data removed]",
      "text/plain": [
       "<matplotlib.figure.Figure at 0x7f5eac2d0cc0>"
      ]
     },
     "metadata": {},
     "output_type": "display_data"
    }
   ],
   "source": [
    "file1 = U24S\n",
    "yslice = 150\n",
    "deptht = file1.variables['deptht'][:]\n",
    "yslicemask = 1 - new_domain[:,yslice,:]\n",
    "pressure1 = gsw_calls.generic_gsw_caller('gsw_p_from_z.m',\n",
    "                                        [-np.expand_dims(file1.variables['deptht'][:], 1) * np.ones(284),\n",
    "                                        (np.ones([284,40]) *np.expand_dims(file1.variables['nav_lat'][yslice,:][:],1)).T])\n",
    "i = 36\n",
    "density1 = calc_rho(file1.variables['vosaline'][i,:,yslice,112:191],\n",
    "                    file1.variables['votemper'][i,:,yslice,112:191],\n",
    "                    pressure1[:, 112:191])\n",
    "rho = 1023.3\n",
    "index1 = (np.abs(density1 - rho)).argmin(axis=0)\n",
    "list_of_depths1 = np.zeros((79))\n",
    "for x in range(79):\n",
    "    list_of_depths1[x] = deptht[index1[x]]\n",
    "popt, pcov = curve_fit(func, np.arange(0,79), list_of_depths1)\n",
    "plt.plot(np.arange(0,79), list_of_depths1, 'r.')\n",
    "plt.grid('on')\n",
    "plt.ylim(50,0)\n",
    "plt.plot(np.arange(0,79), func(np.arange(0,79), *popt), 'b-')\n",
    "print(popt[0])\n",
    "print(list_of_depths1.max())\n",
    "print(list_of_depths1.min())"
   ]
  },
  {
   "cell_type": "code",
   "execution_count": 414,
   "metadata": {
    "collapsed": false
   },
   "outputs": [
    {
     "name": "stdout",
     "output_type": "stream",
     "text": [
      "0.120969018173\n",
      "28.2299156189\n",
      "13.5354118347\n"
     ]
    },
    {
     "data": {
      "image/png": "[encoded data removed]",
      "text/plain": [
       "<matplotlib.figure.Figure at 0x7f5eabec1400>"
      ]
     },
     "metadata": {},
     "output_type": "display_data"
    }
   ],
   "source": [
    "file1 = U48S\n",
    "yslice = 150\n",
    "deptht = file1.variables['deptht'][:]\n",
    "yslicemask = 1 - new_domain[:,yslice,:]\n",
    "pressure1 = gsw_calls.generic_gsw_caller('gsw_p_from_z.m',\n",
    "                                        [-np.expand_dims(file1.variables['deptht'][:], 1) * np.ones(284),\n",
    "                                        (np.ones([284,40]) *np.expand_dims(file1.variables['nav_lat'][yslice,:][:],1)).T])\n",
    "i = 31\n",
    "density1 = calc_rho(file1.variables['vosaline'][i,:,yslice,112:191],\n",
    "                    file1.variables['votemper'][i,:,yslice,112:191],\n",
    "                    pressure1[:, 112:191])\n",
    "rho = 1023.3\n",
    "index1 = (np.abs(density1 - rho)).argmin(axis=0)\n",
    "list_of_depths1 = np.zeros((79))\n",
    "for x in range(79):\n",
    "    list_of_depths1[x] = deptht[index1[x]]\n",
    "popt, pcov = curve_fit(func, np.arange(0,79), list_of_depths1)\n",
    "plt.plot(np.arange(0,79), list_of_depths1, 'r.')\n",
    "plt.grid('on')\n",
    "plt.ylim(50,0)\n",
    "plt.plot(np.arange(0,79), func(np.arange(0,79), *popt), 'b-')\n",
    "print(popt[0])\n",
    "print(list_of_depths1.max())\n",
    "print(list_of_depths1.min())"
   ]
  },
  {
   "cell_type": "code",
   "execution_count": 421,
   "metadata": {
    "collapsed": false
   },
   "outputs": [
    {
     "name": "stdout",
     "output_type": "stream",
     "text": [
      "0.153638220362\n",
      "28.2299156189\n",
      "13.5354118347\n"
     ]
    },
    {
     "data": {
      "image/png": "[encoded data removed]",
      "text/plain": [
       "<matplotlib.figure.Figure at 0x7f5eac134240>"
      ]
     },
     "metadata": {},
     "output_type": "display_data"
    }
   ],
   "source": [
    "file1 = U72S\n",
    "yslice = 150\n",
    "deptht = file1.variables['deptht'][:]\n",
    "yslicemask = 1 - new_domain[:,yslice,:]\n",
    "pressure1 = gsw_calls.generic_gsw_caller('gsw_p_from_z.m',\n",
    "                                        [-np.expand_dims(file1.variables['deptht'][:], 1) * np.ones(284),\n",
    "                                        (np.ones([284,40]) *np.expand_dims(file1.variables['nav_lat'][yslice,:][:],1)).T])\n",
    "i = 27\n",
    "density1 = calc_rho(file1.variables['vosaline'][i,:,yslice,112:191],\n",
    "                    file1.variables['votemper'][i,:,yslice,112:191],\n",
    "                    pressure1[:, 112:191])\n",
    "rho = 1023.3\n",
    "index1 = (np.abs(density1 - rho)).argmin(axis=0)\n",
    "list_of_depths1 = np.zeros((79))\n",
    "for x in range(79):\n",
    "    list_of_depths1[x] = deptht[index1[x]]\n",
    "popt, pcov = curve_fit(func, np.arange(0,79), list_of_depths1)\n",
    "plt.plot(np.arange(0,79), list_of_depths1, 'r.')\n",
    "plt.grid('on')\n",
    "plt.ylim(50,0)\n",
    "plt.plot(np.arange(0,79), func(np.arange(0,79), *popt), 'b-')\n",
    "print(popt[0])\n",
    "print(list_of_depths1.max())\n",
    "print(list_of_depths1.min())"
   ]
  },
  {
   "cell_type": "code",
   "execution_count": 430,
   "metadata": {
    "collapsed": false
   },
   "outputs": [
    {
     "data": {
      "text/plain": [
       "(121, 213)"
      ]
     },
     "execution_count": 430,
     "metadata": {},
     "output_type": "execute_result"
    },
    {
     "data": {
      "image/png": "[encoded data removed]",
      "text/plain": [
       "<matplotlib.figure.Figure at 0x7f5eabc425f8>"
      ]
     },
     "metadata": {},
     "output_type": "display_data"
    }
   ],
   "source": [
    "plt.contourf(lake_meshmask.variables['tmask'][0,:,140,:])\n",
    "plt.xlim(121,213)"
   ]
  },
  {
   "cell_type": "code",
   "execution_count": 433,
   "metadata": {
    "collapsed": false
   },
   "outputs": [
    {
     "name": "stdout",
     "output_type": "stream",
     "text": [
      "0.133079013342\n",
      "28.2299156189\n",
      "12.5181665421\n"
     ]
    },
    {
     "data": {
      "image/png": "[encoded data removed]",
      "text/plain": [
       "<matplotlib.figure.Figure at 0x7f5eab75ec18>"
      ]
     },
     "metadata": {},
     "output_type": "display_data"
    }
   ],
   "source": [
    "file1 = U24S\n",
    "yslice = 140\n",
    "deptht = file1.variables['deptht'][:]\n",
    "yslicemask = 1 - new_domain[:,yslice,:]\n",
    "pressure1 = gsw_calls.generic_gsw_caller('gsw_p_from_z.m',\n",
    "                                        [-np.expand_dims(file1.variables['deptht'][:], 1) * np.ones(284),\n",
    "                                        (np.ones([284,40]) *np.expand_dims(file1.variables['nav_lat'][yslice,:][:],1)).T])\n",
    "i = 33\n",
    "density1 = calc_rho(file1.variables['vosaline'][i,:,yslice,121:213],\n",
    "                    file1.variables['votemper'][i,:,yslice,121:213],\n",
    "                    pressure1[:, 121:213])\n",
    "rho = 1023.3\n",
    "index1 = (np.abs(density1 - rho)).argmin(axis=0)\n",
    "list_of_depths1 = np.zeros((92))\n",
    "for x in range(92):\n",
    "    list_of_depths1[x] = deptht[index1[x]]\n",
    "popt, pcov = curve_fit(func, np.arange(0,92), list_of_depths1)\n",
    "plt.plot(np.arange(0,92), list_of_depths1, 'r.')\n",
    "plt.grid('on')\n",
    "plt.ylim(50,0)\n",
    "plt.plot(np.arange(0,92), func(np.arange(0,92), *popt), 'b-')\n",
    "print(popt[0])\n",
    "print(list_of_depths1.max())\n",
    "print(list_of_depths1.min())"
   ]
  },
  {
   "cell_type": "code",
   "execution_count": 438,
   "metadata": {
    "collapsed": false
   },
   "outputs": [
    {
     "name": "stdout",
     "output_type": "stream",
     "text": [
      "0.125304531609\n",
      "28.2299156189\n",
      "12.5181665421\n"
     ]
    },
    {
     "data": {
      "image/png": "[encoded data removed]",
      "text/plain": [
       "<matplotlib.figure.Figure at 0x7f5eab7854e0>"
      ]
     },
     "metadata": {},
     "output_type": "display_data"
    }
   ],
   "source": [
    "file1 = U48S\n",
    "yslice = 140\n",
    "deptht = file1.variables['deptht'][:]\n",
    "yslicemask = 1 - new_domain[:,yslice,:]\n",
    "pressure1 = gsw_calls.generic_gsw_caller('gsw_p_from_z.m',\n",
    "                                        [-np.expand_dims(file1.variables['deptht'][:], 1) * np.ones(284),\n",
    "                                        (np.ones([284,40]) *np.expand_dims(file1.variables['nav_lat'][yslice,:][:],1)).T])\n",
    "i = 27\n",
    "density1 = calc_rho(file1.variables['vosaline'][i,:,yslice,121:213],\n",
    "                    file1.variables['votemper'][i,:,yslice,121:213],\n",
    "                    pressure1[:, 121:213])\n",
    "rho = 1023.3\n",
    "index1 = (np.abs(density1 - rho)).argmin(axis=0)\n",
    "list_of_depths1 = np.zeros((92))\n",
    "for x in range(92):\n",
    "    list_of_depths1[x] = deptht[index1[x]]\n",
    "popt, pcov = curve_fit(func, np.arange(0,92), list_of_depths1)\n",
    "plt.plot(np.arange(0,92), list_of_depths1, 'r.')\n",
    "plt.grid('on')\n",
    "plt.ylim(50,0)\n",
    "plt.plot(np.arange(0,92), func(np.arange(0,92), *popt), 'b-')\n",
    "print(popt[0])\n",
    "print(list_of_depths1.max())\n",
    "print(list_of_depths1.min())"
   ]
  },
  {
   "cell_type": "code",
   "execution_count": 445,
   "metadata": {
    "collapsed": false
   },
   "outputs": [
    {
     "name": "stdout",
     "output_type": "stream",
     "text": [
      "0.119954322235\n",
      "34.6857566833\n",
      "11.509311676\n"
     ]
    },
    {
     "data": {
      "image/png": "[encoded data removed]",
      "text/plain": [
       "<matplotlib.figure.Figure at 0x7f5ead4282e8>"
      ]
     },
     "metadata": {},
     "output_type": "display_data"
    }
   ],
   "source": [
    "file1 = U72S\n",
    "yslice = 140\n",
    "deptht = file1.variables['deptht'][:]\n",
    "yslicemask = 1 - new_domain[:,yslice,:]\n",
    "pressure1 = gsw_calls.generic_gsw_caller('gsw_p_from_z.m',\n",
    "                                        [-np.expand_dims(file1.variables['deptht'][:], 1) * np.ones(284),\n",
    "                                        (np.ones([284,40]) *np.expand_dims(file1.variables['nav_lat'][yslice,:][:],1)).T])\n",
    "i = 21\n",
    "density1 = calc_rho(file1.variables['vosaline'][i,:,yslice,121:213],\n",
    "                    file1.variables['votemper'][i,:,yslice,121:213],\n",
    "                    pressure1[:, 121:213])\n",
    "rho = 1023.3\n",
    "index1 = (np.abs(density1 - rho)).argmin(axis=0)\n",
    "list_of_depths1 = np.zeros((92))\n",
    "for x in range(92):\n",
    "    list_of_depths1[x] = deptht[index1[x]]\n",
    "popt, pcov = curve_fit(func, np.arange(0,92), list_of_depths1)\n",
    "plt.plot(np.arange(0,92), list_of_depths1, 'r.')\n",
    "plt.grid('on')\n",
    "plt.ylim(50,0)\n",
    "plt.plot(np.arange(0,92), func(np.arange(0,92), *popt), 'b-')\n",
    "print(popt[0])\n",
    "print(list_of_depths1.max())\n",
    "print(list_of_depths1.min())"
   ]
  },
  {
   "cell_type": "code",
   "execution_count": 454,
   "metadata": {
    "collapsed": false
   },
   "outputs": [
    {
     "data": {
      "text/plain": [
       "(130, 222)"
      ]
     },
     "execution_count": 454,
     "metadata": {},
     "output_type": "execute_result"
    },
    {
     "data": {
      "image/png": "[encoded data removed]",
      "text/plain": [
       "<matplotlib.figure.Figure at 0x7f5eab98d048>"
      ]
     },
     "metadata": {},
     "output_type": "display_data"
    }
   ],
   "source": [
    "plt.contourf(lake_meshmask.variables['tmask'][0,:,130,:])\n",
    "plt.xlim(130,222)"
   ]
  },
  {
   "cell_type": "code",
   "execution_count": 467,
   "metadata": {
    "collapsed": false
   },
   "outputs": [
    {
     "name": "stdout",
     "output_type": "stream",
     "text": [
      "0.30990020178\n",
      "44.5177230835\n",
      "9.50243282318\n"
     ]
    },
    {
     "data": {
      "image/png": "[encoded data removed]",
      "text/plain": [
       "<matplotlib.figure.Figure at 0x7f5ead420a90>"
      ]
     },
     "metadata": {},
     "output_type": "display_data"
    }
   ],
   "source": [
    "file1 = U24S\n",
    "yslice = 130\n",
    "deptht = file1.variables['deptht'][:]\n",
    "yslicemask = 1 - new_domain[:,yslice,:]\n",
    "pressure1 = gsw_calls.generic_gsw_caller('gsw_p_from_z.m',\n",
    "                                        [-np.expand_dims(file1.variables['deptht'][:], 1) * np.ones(284),\n",
    "                                        (np.ones([284,40]) *np.expand_dims(file1.variables['nav_lat'][yslice,:][:],1)).T])\n",
    "i = 40\n",
    "density1 = calc_rho(file1.variables['vosaline'][i,:,yslice,130:221],\n",
    "                    file1.variables['votemper'][i,:,yslice,130:221],\n",
    "                    pressure1[:, 130:221])\n",
    "rho = 1023.3\n",
    "index1 = (np.abs(density1 - rho)).argmin(axis=0)\n",
    "list_of_depths1 = np.zeros((91))\n",
    "for x in range(91):\n",
    "    list_of_depths1[x] = deptht[index1[x]]\n",
    "popt, pcov = curve_fit(func, np.arange(0,91), list_of_depths1)\n",
    "plt.plot(np.arange(0,91), list_of_depths1, 'r.')\n",
    "plt.grid('on')\n",
    "plt.ylim(50,0)\n",
    "plt.plot(np.arange(0,91), func(np.arange(0,91), *popt), 'b-')\n",
    "print(popt[0])\n",
    "print(list_of_depths1.max())\n",
    "print(list_of_depths1.min())"
   ]
  },
  {
   "cell_type": "code",
   "execution_count": 468,
   "metadata": {
    "collapsed": false
   },
   "outputs": [
    {
     "name": "stdout",
     "output_type": "stream",
     "text": [
      "0.321790116226\n",
      "44.5177230835\n",
      "9.50243282318\n"
     ]
    },
    {
     "data": {
      "image/png": "[encoded data removed]",
      "text/plain": [
       "<matplotlib.figure.Figure at 0x7f5eac504ac8>"
      ]
     },
     "metadata": {},
     "output_type": "display_data"
    }
   ],
   "source": [
    "file1 = U48S\n",
    "yslice = 130\n",
    "deptht = file1.variables['deptht'][:]\n",
    "yslicemask = 1 - new_domain[:,yslice,:]\n",
    "pressure1 = gsw_calls.generic_gsw_caller('gsw_p_from_z.m',\n",
    "                                        [-np.expand_dims(file1.variables['deptht'][:], 1) * np.ones(284),\n",
    "                                        (np.ones([284,40]) *np.expand_dims(file1.variables['nav_lat'][yslice,:][:],1)).T])\n",
    "i = 35\n",
    "density1 = calc_rho(file1.variables['vosaline'][i,:,yslice,130:221],\n",
    "                    file1.variables['votemper'][i,:,yslice,130:221],\n",
    "                    pressure1[:, 130:221])\n",
    "rho = 1023.3\n",
    "index1 = (np.abs(density1 - rho)).argmin(axis=0)\n",
    "list_of_depths1 = np.zeros((91))\n",
    "for x in range(91):\n",
    "    list_of_depths1[x] = deptht[index1[x]]\n",
    "popt, pcov = curve_fit(func, np.arange(0,91), list_of_depths1)\n",
    "plt.plot(np.arange(0,91), list_of_depths1, 'r.')\n",
    "plt.grid('on')\n",
    "plt.ylim(50,0)\n",
    "plt.plot(np.arange(0,91), func(np.arange(0,91), *popt), 'b-')\n",
    "print(popt[0])\n",
    "print(list_of_depths1.max())\n",
    "print(list_of_depths1.min())"
   ]
  },
  {
   "cell_type": "code",
   "execution_count": 474,
   "metadata": {
    "collapsed": false
   },
   "outputs": [
    {
     "name": "stdout",
     "output_type": "stream",
     "text": [
      "0.341672648507\n",
      "44.5177230835\n",
      "9.50243282318\n"
     ]
    },
    {
     "data": {
      "image/png": "[encoded data removed]",
      "text/plain": [
       "<matplotlib.figure.Figure at 0x7f5ead20f898>"
      ]
     },
     "metadata": {},
     "output_type": "display_data"
    }
   ],
   "source": [
    "file1 = U72S\n",
    "yslice = 130\n",
    "deptht = file1.variables['deptht'][:]\n",
    "yslicemask = 1 - new_domain[:,yslice,:]\n",
    "pressure1 = gsw_calls.generic_gsw_caller('gsw_p_from_z.m',\n",
    "                                        [-np.expand_dims(file1.variables['deptht'][:], 1) * np.ones(284),\n",
    "                                        (np.ones([284,40]) *np.expand_dims(file1.variables['nav_lat'][yslice,:][:],1)).T])\n",
    "i = 29\n",
    "density1 = calc_rho(file1.variables['vosaline'][i,:,yslice,130:221],\n",
    "                    file1.variables['votemper'][i,:,yslice,130:221],\n",
    "                    pressure1[:, 130:221])\n",
    "rho = 1023.3\n",
    "index1 = (np.abs(density1 - rho)).argmin(axis=0)\n",
    "list_of_depths1 = np.zeros((91))\n",
    "for x in range(91):\n",
    "    list_of_depths1[x] = deptht[index1[x]]\n",
    "popt, pcov = curve_fit(func, np.arange(0,91), list_of_depths1)\n",
    "plt.plot(np.arange(0,91), list_of_depths1, 'r.')\n",
    "plt.grid('on')\n",
    "plt.ylim(50,0)\n",
    "plt.plot(np.arange(0,91), func(np.arange(0,91), *popt), 'b-')\n",
    "print(popt[0])\n",
    "print(list_of_depths1.max())\n",
    "print(list_of_depths1.min())"
   ]
  },
  {
   "cell_type": "code",
   "execution_count": 480,
   "metadata": {
    "collapsed": false
   },
   "outputs": [
    {
     "data": {
      "text/plain": [
       "(126, 199)"
      ]
     },
     "execution_count": 480,
     "metadata": {},
     "output_type": "execute_result"
    },
    {
     "data": {
      "image/png": "[encoded data removed]",
      "text/plain": [
       "<matplotlib.figure.Figure at 0x7f5eab727470>"
      ]
     },
     "metadata": {},
     "output_type": "display_data"
    }
   ],
   "source": [
    "plt.contourf(lake_meshmask.variables['tmask'][0,:,120,:])\n",
    "plt.xlim(126,199)"
   ]
  },
  {
   "cell_type": "code",
   "execution_count": 487,
   "metadata": {
    "collapsed": false
   },
   "outputs": [
    {
     "name": "stdout",
     "output_type": "stream",
     "text": [
      "0.262344801496\n",
      "34.6857566833\n",
      "9.50243282318\n"
     ]
    },
    {
     "data": {
      "image/png": "[encoded data removed]",
      "text/plain": [
       "<matplotlib.figure.Figure at 0x7f5eac8db240>"
      ]
     },
     "metadata": {},
     "output_type": "display_data"
    }
   ],
   "source": [
    "file1 = U24S\n",
    "yslice = 120\n",
    "deptht = file1.variables['deptht'][:]\n",
    "yslicemask = 1 - new_domain[:,yslice,:]\n",
    "pressure1 = gsw_calls.generic_gsw_caller('gsw_p_from_z.m',\n",
    "                                        [-np.expand_dims(file1.variables['deptht'][:], 1) * np.ones(284),\n",
    "                                        (np.ones([284,40]) *np.expand_dims(file1.variables['nav_lat'][yslice,:][:],1)).T])\n",
    "i = 34\n",
    "density1 = calc_rho(file1.variables['vosaline'][i,:,yslice,126:199],\n",
    "                    file1.variables['votemper'][i,:,yslice,126:199],\n",
    "                    pressure1[:, 126:199])\n",
    "rho = 1023.3\n",
    "index1 = (np.abs(density1 - rho)).argmin(axis=0)\n",
    "list_of_depths1 = np.zeros((73))\n",
    "for x in range(73):\n",
    "    list_of_depths1[x] = deptht[index1[x]]\n",
    "popt, pcov = curve_fit(func, np.arange(0,73), list_of_depths1)\n",
    "plt.plot(np.arange(0,73), list_of_depths1, 'r.')\n",
    "plt.grid('on')\n",
    "plt.ylim(50,0)\n",
    "plt.plot(np.arange(0,73), func(np.arange(0,73), *popt), 'b-')\n",
    "print(popt[0])\n",
    "print(list_of_depths1.max())\n",
    "print(list_of_depths1.min())"
   ]
  },
  {
   "cell_type": "code",
   "execution_count": 495,
   "metadata": {
    "collapsed": false
   },
   "outputs": [
    {
     "name": "stdout",
     "output_type": "stream",
     "text": [
      "0.252267943271\n",
      "34.6857566833\n",
      "9.50243282318\n"
     ]
    },
    {
     "data": {
      "image/png": "[encoded data removed]",
      "text/plain": [
       "<matplotlib.figure.Figure at 0x7f5eabc89588>"
      ]
     },
     "metadata": {},
     "output_type": "display_data"
    }
   ],
   "source": [
    "file1 = U48S\n",
    "yslice = 120\n",
    "deptht = file1.variables['deptht'][:]\n",
    "yslicemask = 1 - new_domain[:,yslice,:]\n",
    "pressure1 = gsw_calls.generic_gsw_caller('gsw_p_from_z.m',\n",
    "                                        [-np.expand_dims(file1.variables['deptht'][:], 1) * np.ones(284),\n",
    "                                        (np.ones([284,40]) *np.expand_dims(file1.variables['nav_lat'][yslice,:][:],1)).T])\n",
    "i = 29\n",
    "density1 = calc_rho(file1.variables['vosaline'][i,:,yslice,126:199],\n",
    "                    file1.variables['votemper'][i,:,yslice,126:199],\n",
    "                    pressure1[:, 126:199])\n",
    "rho = 1023.3\n",
    "index1 = (np.abs(density1 - rho)).argmin(axis=0)\n",
    "list_of_depths1 = np.zeros((73))\n",
    "for x in range(73):\n",
    "    list_of_depths1[x] = deptht[index1[x]]\n",
    "popt, pcov = curve_fit(func, np.arange(0,73), list_of_depths1)\n",
    "plt.plot(np.arange(0,73), list_of_depths1, 'r.')\n",
    "plt.grid('on')\n",
    "plt.ylim(50,0)\n",
    "plt.plot(np.arange(0,73), func(np.arange(0,73), *popt), 'b-')\n",
    "print(popt[0])\n",
    "print(list_of_depths1.max())\n",
    "print(list_of_depths1.min())"
   ]
  },
  {
   "cell_type": "code",
   "execution_count": 502,
   "metadata": {
    "collapsed": false
   },
   "outputs": [
    {
     "name": "stdout",
     "output_type": "stream",
     "text": [
      "0.216079292873\n",
      "34.6857566833\n",
      "8.50123596191\n"
     ]
    },
    {
     "data": {
      "image/png": "[encoded data removed]",
      "text/plain": [
       "<matplotlib.figure.Figure at 0x7f5eab824128>"
      ]
     },
     "metadata": {},
     "output_type": "display_data"
    }
   ],
   "source": [
    "file1 = U72S\n",
    "yslice = 120\n",
    "deptht = file1.variables['deptht'][:]\n",
    "yslicemask = 1 - new_domain[:,yslice,:]\n",
    "pressure1 = gsw_calls.generic_gsw_caller('gsw_p_from_z.m',\n",
    "                                        [-np.expand_dims(file1.variables['deptht'][:], 1) * np.ones(284),\n",
    "                                        (np.ones([284,40]) *np.expand_dims(file1.variables['nav_lat'][yslice,:][:],1)).T])\n",
    "i = 24\n",
    "density1 = calc_rho(file1.variables['vosaline'][i,:,yslice,126:199],\n",
    "                    file1.variables['votemper'][i,:,yslice,126:199],\n",
    "                    pressure1[:, 126:199])\n",
    "rho = 1023.3\n",
    "index1 = (np.abs(density1 - rho)).argmin(axis=0)\n",
    "list_of_depths1 = np.zeros((73))\n",
    "for x in range(73):\n",
    "    list_of_depths1[x] = deptht[index1[x]]\n",
    "popt, pcov = curve_fit(func, np.arange(0,73), list_of_depths1)\n",
    "plt.plot(np.arange(0,73), list_of_depths1, 'r.')\n",
    "plt.grid('on')\n",
    "plt.ylim(50,0)\n",
    "plt.plot(np.arange(0,73), func(np.arange(0,73), *popt), 'b-')\n",
    "print(popt[0])\n",
    "print(list_of_depths1.max())\n",
    "print(list_of_depths1.min())"
   ]
  },
  {
   "cell_type": "code",
   "execution_count": 508,
   "metadata": {
    "collapsed": false
   },
   "outputs": [
    {
     "data": {
      "text/plain": [
       "(126, 192)"
      ]
     },
     "execution_count": 508,
     "metadata": {},
     "output_type": "execute_result"
    },
    {
     "data": {
      "image/png": "[encoded data removed]",
      "text/plain": [
       "<matplotlib.figure.Figure at 0x7f5eabfa9eb8>"
      ]
     },
     "metadata": {},
     "output_type": "display_data"
    }
   ],
   "source": [
    "plt.contourf(lake_meshmask.variables['tmask'][0,:,110,:])\n",
    "plt.xlim(126,192)"
   ]
  },
  {
   "cell_type": "code",
   "execution_count": 524,
   "metadata": {
    "collapsed": false
   },
   "outputs": [
    {
     "name": "stdout",
     "output_type": "stream",
     "text": [
      "0.277936502877\n",
      "34.6857566833\n",
      "8.50123596191\n"
     ]
    },
    {
     "data": {
      "image/png": "[encoded data removed]",
      "text/plain": [
       "<matplotlib.figure.Figure at 0x7f5eab68d5f8>"
      ]
     },
     "metadata": {},
     "output_type": "display_data"
    }
   ],
   "source": [
    "file1 = U24S\n",
    "yslice = 110\n",
    "deptht = file1.variables['deptht'][:]\n",
    "yslicemask = 1 - new_domain[:,yslice,:]\n",
    "pressure1 = gsw_calls.generic_gsw_caller('gsw_p_from_z.m',\n",
    "                                        [-np.expand_dims(file1.variables['deptht'][:], 1) * np.ones(284),\n",
    "                                        (np.ones([284,40]) *np.expand_dims(file1.variables['nav_lat'][yslice,:][:],1)).T])\n",
    "i = 31\n",
    "density1 = calc_rho(file1.variables['vosaline'][i,:,yslice,126:191],\n",
    "                    file1.variables['votemper'][i,:,yslice,126:191],\n",
    "                    pressure1[:, 126:191])\n",
    "rho = 1023.3\n",
    "index1 = (np.abs(density1 - rho)).argmin(axis=0)\n",
    "list_of_depths1 = np.zeros((65))\n",
    "for x in range(65):\n",
    "    list_of_depths1[x] = deptht[index1[x]]\n",
    "popt, pcov = curve_fit(func, np.arange(0,65), list_of_depths1)\n",
    "plt.plot(np.arange(0,65), list_of_depths1, 'r.')\n",
    "plt.grid('on')\n",
    "plt.ylim(50,0)\n",
    "plt.plot(np.arange(0,65), func(np.arange(0,65), *popt), 'b-')\n",
    "print(popt[0])\n",
    "print(list_of_depths1.max())\n",
    "print(list_of_depths1.min())"
   ]
  },
  {
   "cell_type": "code",
   "execution_count": 526,
   "metadata": {
    "collapsed": false
   },
   "outputs": [
    {
     "name": "stdout",
     "output_type": "stream",
     "text": [
      "0.328394329832\n",
      "34.6857566833\n",
      "3.50003051758\n"
     ]
    },
    {
     "data": {
      "image/png": "[encoded data removed]",
      "text/plain": [
       "<matplotlib.figure.Figure at 0x7f5eab584048>"
      ]
     },
     "metadata": {},
     "output_type": "display_data"
    }
   ],
   "source": [
    "file1 = U48S\n",
    "yslice = 110\n",
    "deptht = file1.variables['deptht'][:]\n",
    "yslicemask = 1 - new_domain[:,yslice,:]\n",
    "pressure1 = gsw_calls.generic_gsw_caller('gsw_p_from_z.m',\n",
    "                                        [-np.expand_dims(file1.variables['deptht'][:], 1) * np.ones(284),\n",
    "                                        (np.ones([284,40]) *np.expand_dims(file1.variables['nav_lat'][yslice,:][:],1)).T])\n",
    "i = 27\n",
    "density1 = calc_rho(file1.variables['vosaline'][i,:,yslice,126:191],\n",
    "                    file1.variables['votemper'][i,:,yslice,126:191],\n",
    "                    pressure1[:, 126:191])\n",
    "rho = 1023.3\n",
    "index1 = (np.abs(density1 - rho)).argmin(axis=0)\n",
    "list_of_depths1 = np.zeros((65))\n",
    "for x in range(65):\n",
    "    list_of_depths1[x] = deptht[index1[x]]\n",
    "popt, pcov = curve_fit(func, np.arange(0,65), list_of_depths1)\n",
    "plt.plot(np.arange(0,65), list_of_depths1, 'r.')\n",
    "plt.grid('on')\n",
    "plt.ylim(50,0)\n",
    "plt.plot(np.arange(0,65), func(np.arange(0,65), *popt), 'b-')\n",
    "print(popt[0])\n",
    "print(list_of_depths1.max())\n",
    "print(list_of_depths1.min())"
   ]
  },
  {
   "cell_type": "code",
   "execution_count": 527,
   "metadata": {
    "collapsed": false
   },
   "outputs": [
    {
     "name": "stdout",
     "output_type": "stream",
     "text": [
      "0.30016347103\n",
      "34.6857566833\n",
      "7.50062322617\n"
     ]
    },
    {
     "data": {
      "image/png": "[encoded data removed]",
      "text/plain": [
       "<matplotlib.figure.Figure at 0x7f5eaba42898>"
      ]
     },
     "metadata": {},
     "output_type": "display_data"
    }
   ],
   "source": [
    "file1 = U72S\n",
    "yslice = 110\n",
    "deptht = file1.variables['deptht'][:]\n",
    "yslicemask = 1 - new_domain[:,yslice,:]\n",
    "pressure1 = gsw_calls.generic_gsw_caller('gsw_p_from_z.m',\n",
    "                                        [-np.expand_dims(file1.variables['deptht'][:], 1) * np.ones(284),\n",
    "                                        (np.ones([284,40]) *np.expand_dims(file1.variables['nav_lat'][yslice,:][:],1)).T])\n",
    "i = 21\n",
    "density1 = calc_rho(file1.variables['vosaline'][i,:,yslice,126:191],\n",
    "                    file1.variables['votemper'][i,:,yslice,126:191],\n",
    "                    pressure1[:, 126:191])\n",
    "rho = 1023.3\n",
    "index1 = (np.abs(density1 - rho)).argmin(axis=0)\n",
    "list_of_depths1 = np.zeros((65))\n",
    "for x in range(65):\n",
    "    list_of_depths1[x] = deptht[index1[x]]\n",
    "popt, pcov = curve_fit(func, np.arange(0,65), list_of_depths1)\n",
    "plt.plot(np.arange(0,65), list_of_depths1, 'r.')\n",
    "plt.grid('on')\n",
    "plt.ylim(50,0)\n",
    "plt.plot(np.arange(0,65), func(np.arange(0,65), *popt), 'b-')\n",
    "print(popt[0])\n",
    "print(list_of_depths1.max())\n",
    "print(list_of_depths1.min())"
   ]
  },
  {
   "cell_type": "code",
   "execution_count": 534,
   "metadata": {
    "collapsed": false
   },
   "outputs": [
    {
     "data": {
      "text/plain": [
       "(126, 185)"
      ]
     },
     "execution_count": 534,
     "metadata": {},
     "output_type": "execute_result"
    },
    {
     "data": {
      "image/png": "[encoded data removed]",
      "text/plain": [
       "<matplotlib.figure.Figure at 0x7f5eac01e898>"
      ]
     },
     "metadata": {},
     "output_type": "display_data"
    }
   ],
   "source": [
    "plt.contourf(lake_meshmask.variables['tmask'][0,:,100,:])\n",
    "plt.xlim(126,185)"
   ]
  },
  {
   "cell_type": "code",
   "execution_count": 544,
   "metadata": {
    "collapsed": false
   },
   "outputs": [
    {
     "name": "stdout",
     "output_type": "stream",
     "text": [
      "0.527069445535\n",
      "44.5177230835\n",
      "6.50031042099\n"
     ]
    },
    {
     "data": {
      "image/png": "[encoded data removed]",
      "text/plain": [
       "<matplotlib.figure.Figure at 0x7f5eab601cf8>"
      ]
     },
     "metadata": {},
     "output_type": "display_data"
    }
   ],
   "source": [
    "file1 = U24S\n",
    "yslice = 100\n",
    "deptht = file1.variables['deptht'][:]\n",
    "yslicemask = 1 - new_domain[:,yslice,:]\n",
    "pressure1 = gsw_calls.generic_gsw_caller('gsw_p_from_z.m',\n",
    "                                        [-np.expand_dims(file1.variables['deptht'][:], 1) * np.ones(284),\n",
    "                                        (np.ones([284,40]) *np.expand_dims(file1.variables['nav_lat'][yslice,:][:],1)).T])\n",
    "i = 45\n",
    "density1 = calc_rho(file1.variables['vosaline'][i,:,yslice,126:185],\n",
    "                    file1.variables['votemper'][i,:,yslice,126:185],\n",
    "                    pressure1[:, 126:185])\n",
    "rho = 1023.3\n",
    "index1 = (np.abs(density1 - rho)).argmin(axis=0)\n",
    "list_of_depths1 = np.zeros((59))\n",
    "for x in range(59):\n",
    "    list_of_depths1[x] = deptht[index1[x]]\n",
    "popt, pcov = curve_fit(func, np.arange(0,59), list_of_depths1)\n",
    "plt.plot(np.arange(0,59), list_of_depths1, 'r.')\n",
    "plt.grid('on')\n",
    "plt.ylim(50,0)\n",
    "plt.plot(np.arange(0,59), func(np.arange(0,59), *popt), 'b-')\n",
    "print(popt[0])\n",
    "print(list_of_depths1.max())\n",
    "print(list_of_depths1.min())"
   ]
  },
  {
   "cell_type": "code",
   "execution_count": 549,
   "metadata": {
    "collapsed": false
   },
   "outputs": [
    {
     "name": "stdout",
     "output_type": "stream",
     "text": [
      "0.506463779056\n",
      "44.5177230835\n",
      "6.50031042099\n"
     ]
    },
    {
     "data": {
      "image/png": "[encoded data removed]",
      "text/plain": [
       "<matplotlib.figure.Figure at 0x7f5eab911208>"
      ]
     },
     "metadata": {},
     "output_type": "display_data"
    }
   ],
   "source": [
    "file1 = U48S\n",
    "yslice = 100\n",
    "deptht = file1.variables['deptht'][:]\n",
    "yslicemask = 1 - new_domain[:,yslice,:]\n",
    "pressure1 = gsw_calls.generic_gsw_caller('gsw_p_from_z.m',\n",
    "                                        [-np.expand_dims(file1.variables['deptht'][:], 1) * np.ones(284),\n",
    "                                        (np.ones([284,40]) *np.expand_dims(file1.variables['nav_lat'][yslice,:][:],1)).T])\n",
    "i = 37\n",
    "density1 = calc_rho(file1.variables['vosaline'][i,:,yslice,126:185],\n",
    "                    file1.variables['votemper'][i,:,yslice,126:185],\n",
    "                    pressure1[:, 126:185])\n",
    "rho = 1023.3\n",
    "index1 = (np.abs(density1 - rho)).argmin(axis=0)\n",
    "list_of_depths1 = np.zeros((59))\n",
    "for x in range(59):\n",
    "    list_of_depths1[x] = deptht[index1[x]]\n",
    "popt, pcov = curve_fit(func, np.arange(0,59), list_of_depths1)\n",
    "plt.plot(np.arange(0,59), list_of_depths1, 'r.')\n",
    "plt.grid('on')\n",
    "plt.ylim(50,0)\n",
    "plt.plot(np.arange(0,59), func(np.arange(0,59), *popt), 'b-')\n",
    "print(popt[0])\n",
    "print(list_of_depths1.max())\n",
    "print(list_of_depths1.min())"
   ]
  },
  {
   "cell_type": "code",
   "execution_count": 555,
   "metadata": {
    "collapsed": false
   },
   "outputs": [
    {
     "name": "stdout",
     "output_type": "stream",
     "text": [
      "0.542115173919\n",
      "44.5177230835\n",
      "6.50031042099\n"
     ]
    },
    {
     "data": {
      "image/png": "[encoded data removed]",
      "text/plain": [
       "<matplotlib.figure.Figure at 0x7f5eac5349b0>"
      ]
     },
     "metadata": {},
     "output_type": "display_data"
    }
   ],
   "source": [
    "file1 = U72S\n",
    "yslice = 100\n",
    "deptht = file1.variables['deptht'][:]\n",
    "yslicemask = 1 - new_domain[:,yslice,:]\n",
    "pressure1 = gsw_calls.generic_gsw_caller('gsw_p_from_z.m',\n",
    "                                        [-np.expand_dims(file1.variables['deptht'][:], 1) * np.ones(284),\n",
    "                                        (np.ones([284,40]) *np.expand_dims(file1.variables['nav_lat'][yslice,:][:],1)).T])\n",
    "i = 32\n",
    "density1 = calc_rho(file1.variables['vosaline'][i,:,yslice,126:185],\n",
    "                    file1.variables['votemper'][i,:,yslice,126:185],\n",
    "                    pressure1[:, 126:185])\n",
    "rho = 1023.3\n",
    "index1 = (np.abs(density1 - rho)).argmin(axis=0)\n",
    "list_of_depths1 = np.zeros((59))\n",
    "for x in range(59):\n",
    "    list_of_depths1[x] = deptht[index1[x]]\n",
    "popt, pcov = curve_fit(func, np.arange(0,59), list_of_depths1)\n",
    "plt.plot(np.arange(0,59), list_of_depths1, 'r.')\n",
    "plt.grid('on')\n",
    "plt.ylim(50,0)\n",
    "plt.plot(np.arange(0,59), func(np.arange(0,59), *popt), 'b-')\n",
    "print(popt[0])\n",
    "print(list_of_depths1.max())\n",
    "print(list_of_depths1.min())"
   ]
  },
  {
   "cell_type": "code",
   "execution_count": null,
   "metadata": {
    "collapsed": true
   },
   "outputs": [],
   "source": []
  },
  {
   "cell_type": "code",
   "execution_count": null,
   "metadata": {
    "collapsed": true
   },
   "outputs": [],
   "source": []
  },
  {
   "cell_type": "code",
   "execution_count": 179,
   "metadata": {
    "collapsed": true
   },
   "outputs": [],
   "source": [
    "density1 = calc_rho(file1.variables['vosaline'][:], file1.variables['votemper'][:], \n",
    "                    file1.variables['deptht'][:][np.newaxis, :, np.newaxis, np.newaxis])"
   ]
  },
  {
   "cell_type": "code",
   "execution_count": 96,
   "metadata": {
    "collapsed": true
   },
   "outputs": [],
   "source": [
    "thalweg_pts = np.loadtxt('salishsealakethalweg.txt', delimiter=' ', dtype=int)"
   ]
  },
  {
   "cell_type": "code",
   "execution_count": 98,
   "metadata": {
    "collapsed": true
   },
   "outputs": [],
   "source": [
    "depth = lake_meshmask.variables['gdept_0'][:]"
   ]
  },
  {
   "cell_type": "code",
   "execution_count": 180,
   "metadata": {
    "collapsed": true
   },
   "outputs": [],
   "source": [
    "var = density1[0,...]\n",
    "dep_thal, distance, var_thal = load_thalweg(\n",
    "        depth[0, ...], var, lakebathy['nav_lon'][:], lakebathy['nav_lat'][:],\n",
    "        thalweg_pts)"
   ]
  },
  {
   "cell_type": "code",
   "execution_count": 181,
   "metadata": {
    "collapsed": true
   },
   "outputs": [],
   "source": [
    "xx_thal = distance"
   ]
  },
  {
   "cell_type": "code",
   "execution_count": 102,
   "metadata": {
    "collapsed": true
   },
   "outputs": [],
   "source": [
    "def _fill_in_bathy(variable, mesh_mask, thalweg_pts):\n",
    "    \"\"\"For each horizontal point in variable, fill in first vertically masked\n",
    "    point with the value just above.\n",
    "    Use mbathy in mesh_mask file to determine level of vertical masking\n",
    "\n",
    "    :arg variable: the variable to be filled\n",
    "    :type variable: 2D numpy array\n",
    "\n",
    "    :arg mesh_mask: Salish Sea NEMO model mesh_mask data\n",
    "    :type mesh_mask: :py:class:`netCDF4.Dataset`\n",
    "\n",
    "    :arg thalweg_pts: Salish Sea NEMO model grid indices along thalweg\n",
    "    :type thalweg_pts: 2D numpy array\n",
    "\n",
    "    :returns: newvar, the filled numpy array\n",
    "    \"\"\"\n",
    "    mbathy = mesh_mask.variables['mbathy'][0, :, :]\n",
    "    newvar = np.copy(variable)\n",
    "\n",
    "    mbathy = mbathy[thalweg_pts[:, 0], thalweg_pts[:, 1]]\n",
    "    for i, level in enumerate(mbathy):\n",
    "        newvar[level, i] = variable[level-1, i]\n",
    "    return newvar"
   ]
  },
  {
   "cell_type": "code",
   "execution_count": 182,
   "metadata": {
    "collapsed": false
   },
   "outputs": [],
   "source": [
    "var_plot = _fill_in_bathy(var_thal, lake_meshmask, thalweg_pts)"
   ]
  },
  {
   "cell_type": "code",
   "execution_count": 190,
   "metadata": {
    "collapsed": false
   },
   "outputs": [
    {
     "data": {
      "text/plain": [
       "<matplotlib.colorbar.Colorbar at 0x7f5ead4fda90>"
      ]
     },
     "execution_count": 190,
     "metadata": {},
     "output_type": "execute_result"
    },
    {
     "data": {
      "image/png": "[encoded data removed]",
      "text/plain": [
       "<matplotlib.figure.Figure at 0x7f5eacec6588>"
      ]
     },
     "metadata": {},
     "output_type": "display_data"
    }
   ],
   "source": [
    "plt.contourf(ma.masked_equal(var_plot, 999.84259))\n",
    "plt.colorbar()"
   ]
  },
  {
   "cell_type": "code",
   "execution_count": 199,
   "metadata": {
    "collapsed": false
   },
   "outputs": [
    {
     "data": {
      "text/plain": [
       "(40, 880)"
      ]
     },
     "execution_count": 199,
     "metadata": {},
     "output_type": "execute_result"
    }
   ],
   "source": [
    "fig, ax = plt.subplots()\n",
    "contour_thalweg(ax, density1, lakebathy, lake_meshmask, np.linspace())"
   ]
  },
  {
   "cell_type": "code",
   "execution_count": 220,
   "metadata": {
    "collapsed": false
   },
   "outputs": [],
   "source": [
    "rho = 1023.8\n",
    "index1 = (np.abs(var_plot - rho)).argmin(axis=0)\n",
    "list_of_depths1 = np.zeros((880))\n",
    "for x in range(880):\n",
    "    list_of_depths1[x] = deptht[index1[x]]"
   ]
  },
  {
   "cell_type": "code",
   "execution_count": 192,
   "metadata": {
    "collapsed": false
   },
   "outputs": [
    {
     "data": {
      "text/plain": [
       "(40, 880)"
      ]
     },
     "execution_count": 192,
     "metadata": {},
     "output_type": "execute_result"
    }
   ],
   "source": [
    "xx_thal.shape"
   ]
  },
  {
   "cell_type": "code",
   "execution_count": 221,
   "metadata": {
    "collapsed": false
   },
   "outputs": [
    {
     "data": {
      "text/plain": [
       "[<matplotlib.lines.Line2D at 0x7f5ead19aa58>]"
      ]
     },
     "execution_count": 221,
     "metadata": {},
     "output_type": "execute_result"
    },
    {
     "data": {
      "image/png": "[encoded data removed]",
      "text/plain": [
       "<matplotlib.figure.Figure at 0x7f5eacbc8f98>"
      ]
     },
     "metadata": {},
     "output_type": "display_data"
    }
   ],
   "source": [
    "plt.plot(range(880), list_of_depths1, 'r.')"
   ]
  },
  {
   "cell_type": "code",
   "execution_count": 556,
   "metadata": {
    "collapsed": false
   },
   "outputs": [
    {
     "data": {
      "text/plain": [
       "67.5"
      ]
     },
     "execution_count": 556,
     "metadata": {},
     "output_type": "execute_result"
    }
   ],
   "source": [
    "4.5*15"
   ]
  },
  {
   "cell_type": "markdown",
   "metadata": {
    "collapsed": true
   },
   "source": [
    "Full set up is when one of the density points is at surface (~0.5 m). Tilt slope is calculated at the hour before full set up. Did it for every 10 grid points as per Susan's suggestion. (first one was at y = 200)"
   ]
  },
  {
   "cell_type": "code",
   "execution_count": null,
   "metadata": {
    "collapsed": true
   },
   "outputs": [],
   "source": []
  }
 ],
 "metadata": {
  "kernelspec": {
   "display_name": "Python 3",
   "language": "python",
   "name": "python3"
  },
  "language_info": {
   "codemirror_mode": {
    "name": "ipython",
    "version": 3
   },
   "file_extension": ".py",
   "mimetype": "text/x-python",
   "name": "python",
   "nbconvert_exporter": "python",
   "pygments_lexer": "ipython3",
   "version": "3.6.0"
  }
 },
 "nbformat": 4,
 "nbformat_minor": 2
}
